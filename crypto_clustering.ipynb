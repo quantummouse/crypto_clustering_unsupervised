{
 "cells": [
  {
   "cell_type": "markdown",
   "metadata": {},
   "source": [
    "# Clustering Crypto"
   ]
  },
  {
   "cell_type": "code",
   "execution_count": 138,
   "metadata": {},
   "outputs": [],
   "source": [
    "# Initial imports\n",
    "import pandas as pd\n",
    "import hvplot.pandas\n",
    "from path import Path\n",
    "import plotly.express as px\n",
    "from sklearn.preprocessing import StandardScaler, MinMaxScaler\n",
    "from sklearn.decomposition import PCA\n",
    "from sklearn.cluster import KMeans\n"
   ]
  },
  {
   "cell_type": "markdown",
   "metadata": {},
   "source": [
    "### Deliverable 1: Preprocessing the Data for PCA"
   ]
  },
  {
   "cell_type": "code",
   "execution_count": 139,
   "metadata": {},
   "outputs": [
    {
     "data": {
      "text/html": [
       "<div>\n",
       "<style scoped>\n",
       "    .dataframe tbody tr th:only-of-type {\n",
       "        vertical-align: middle;\n",
       "    }\n",
       "\n",
       "    .dataframe tbody tr th {\n",
       "        vertical-align: top;\n",
       "    }\n",
       "\n",
       "    .dataframe thead th {\n",
       "        text-align: right;\n",
       "    }\n",
       "</style>\n",
       "<table border=\"1\" class=\"dataframe\">\n",
       "  <thead>\n",
       "    <tr style=\"text-align: right;\">\n",
       "      <th></th>\n",
       "      <th>CoinName</th>\n",
       "      <th>Algorithm</th>\n",
       "      <th>IsTrading</th>\n",
       "      <th>ProofType</th>\n",
       "      <th>TotalCoinsMined</th>\n",
       "      <th>TotalCoinSupply</th>\n",
       "    </tr>\n",
       "  </thead>\n",
       "  <tbody>\n",
       "    <tr>\n",
       "      <th>42</th>\n",
       "      <td>42 Coin</td>\n",
       "      <td>Scrypt</td>\n",
       "      <td>True</td>\n",
       "      <td>PoW/PoS</td>\n",
       "      <td>4.199995e+01</td>\n",
       "      <td>42</td>\n",
       "    </tr>\n",
       "    <tr>\n",
       "      <th>365</th>\n",
       "      <td>365Coin</td>\n",
       "      <td>X11</td>\n",
       "      <td>True</td>\n",
       "      <td>PoW/PoS</td>\n",
       "      <td>NaN</td>\n",
       "      <td>2300000000</td>\n",
       "    </tr>\n",
       "    <tr>\n",
       "      <th>404</th>\n",
       "      <td>404Coin</td>\n",
       "      <td>Scrypt</td>\n",
       "      <td>True</td>\n",
       "      <td>PoW/PoS</td>\n",
       "      <td>1.055185e+09</td>\n",
       "      <td>532000000</td>\n",
       "    </tr>\n",
       "    <tr>\n",
       "      <th>611</th>\n",
       "      <td>SixEleven</td>\n",
       "      <td>SHA-256</td>\n",
       "      <td>True</td>\n",
       "      <td>PoW</td>\n",
       "      <td>NaN</td>\n",
       "      <td>611000</td>\n",
       "    </tr>\n",
       "    <tr>\n",
       "      <th>808</th>\n",
       "      <td>808</td>\n",
       "      <td>SHA-256</td>\n",
       "      <td>True</td>\n",
       "      <td>PoW/PoS</td>\n",
       "      <td>0.000000e+00</td>\n",
       "      <td>0</td>\n",
       "    </tr>\n",
       "    <tr>\n",
       "      <th>1337</th>\n",
       "      <td>EliteCoin</td>\n",
       "      <td>X13</td>\n",
       "      <td>True</td>\n",
       "      <td>PoW/PoS</td>\n",
       "      <td>2.927942e+10</td>\n",
       "      <td>314159265359</td>\n",
       "    </tr>\n",
       "    <tr>\n",
       "      <th>2015</th>\n",
       "      <td>2015 coin</td>\n",
       "      <td>X11</td>\n",
       "      <td>True</td>\n",
       "      <td>PoW/PoS</td>\n",
       "      <td>NaN</td>\n",
       "      <td>0</td>\n",
       "    </tr>\n",
       "    <tr>\n",
       "      <th>BTC</th>\n",
       "      <td>Bitcoin</td>\n",
       "      <td>SHA-256</td>\n",
       "      <td>True</td>\n",
       "      <td>PoW</td>\n",
       "      <td>1.792718e+07</td>\n",
       "      <td>21000000</td>\n",
       "    </tr>\n",
       "    <tr>\n",
       "      <th>ETH</th>\n",
       "      <td>Ethereum</td>\n",
       "      <td>Ethash</td>\n",
       "      <td>True</td>\n",
       "      <td>PoW</td>\n",
       "      <td>1.076842e+08</td>\n",
       "      <td>0</td>\n",
       "    </tr>\n",
       "    <tr>\n",
       "      <th>LTC</th>\n",
       "      <td>Litecoin</td>\n",
       "      <td>Scrypt</td>\n",
       "      <td>True</td>\n",
       "      <td>PoW</td>\n",
       "      <td>6.303924e+07</td>\n",
       "      <td>84000000</td>\n",
       "    </tr>\n",
       "  </tbody>\n",
       "</table>\n",
       "</div>"
      ],
      "text/plain": [
       "       CoinName Algorithm  IsTrading ProofType  TotalCoinsMined  \\\n",
       "42      42 Coin    Scrypt       True   PoW/PoS     4.199995e+01   \n",
       "365     365Coin       X11       True   PoW/PoS              NaN   \n",
       "404     404Coin    Scrypt       True   PoW/PoS     1.055185e+09   \n",
       "611   SixEleven   SHA-256       True       PoW              NaN   \n",
       "808         808   SHA-256       True   PoW/PoS     0.000000e+00   \n",
       "1337  EliteCoin       X13       True   PoW/PoS     2.927942e+10   \n",
       "2015  2015 coin       X11       True   PoW/PoS              NaN   \n",
       "BTC     Bitcoin   SHA-256       True       PoW     1.792718e+07   \n",
       "ETH    Ethereum    Ethash       True       PoW     1.076842e+08   \n",
       "LTC    Litecoin    Scrypt       True       PoW     6.303924e+07   \n",
       "\n",
       "     TotalCoinSupply  \n",
       "42                42  \n",
       "365       2300000000  \n",
       "404        532000000  \n",
       "611           611000  \n",
       "808                0  \n",
       "1337    314159265359  \n",
       "2015               0  \n",
       "BTC         21000000  \n",
       "ETH                0  \n",
       "LTC         84000000  "
      ]
     },
     "execution_count": 139,
     "metadata": {},
     "output_type": "execute_result"
    }
   ],
   "source": [
    "# Load the crypto_data.csv dataset.\n",
    "file_path = \"crypto_data.csv\"\n",
    "crypto_df = pd.read_csv(file_path, index_col=0)\n",
    "crypto_df.head(10)\n"
   ]
  },
  {
   "cell_type": "code",
   "execution_count": 140,
   "metadata": {},
   "outputs": [
    {
     "data": {
      "text/html": [
       "<div>\n",
       "<style scoped>\n",
       "    .dataframe tbody tr th:only-of-type {\n",
       "        vertical-align: middle;\n",
       "    }\n",
       "\n",
       "    .dataframe tbody tr th {\n",
       "        vertical-align: top;\n",
       "    }\n",
       "\n",
       "    .dataframe thead th {\n",
       "        text-align: right;\n",
       "    }\n",
       "</style>\n",
       "<table border=\"1\" class=\"dataframe\">\n",
       "  <thead>\n",
       "    <tr style=\"text-align: right;\">\n",
       "      <th></th>\n",
       "      <th>CoinName</th>\n",
       "      <th>Algorithm</th>\n",
       "      <th>IsTrading</th>\n",
       "      <th>ProofType</th>\n",
       "      <th>TotalCoinsMined</th>\n",
       "      <th>TotalCoinSupply</th>\n",
       "    </tr>\n",
       "  </thead>\n",
       "  <tbody>\n",
       "    <tr>\n",
       "      <th>42</th>\n",
       "      <td>42 Coin</td>\n",
       "      <td>Scrypt</td>\n",
       "      <td>True</td>\n",
       "      <td>PoW/PoS</td>\n",
       "      <td>4.199995e+01</td>\n",
       "      <td>42</td>\n",
       "    </tr>\n",
       "    <tr>\n",
       "      <th>365</th>\n",
       "      <td>365Coin</td>\n",
       "      <td>X11</td>\n",
       "      <td>True</td>\n",
       "      <td>PoW/PoS</td>\n",
       "      <td>NaN</td>\n",
       "      <td>2300000000</td>\n",
       "    </tr>\n",
       "    <tr>\n",
       "      <th>404</th>\n",
       "      <td>404Coin</td>\n",
       "      <td>Scrypt</td>\n",
       "      <td>True</td>\n",
       "      <td>PoW/PoS</td>\n",
       "      <td>1.055185e+09</td>\n",
       "      <td>532000000</td>\n",
       "    </tr>\n",
       "    <tr>\n",
       "      <th>611</th>\n",
       "      <td>SixEleven</td>\n",
       "      <td>SHA-256</td>\n",
       "      <td>True</td>\n",
       "      <td>PoW</td>\n",
       "      <td>NaN</td>\n",
       "      <td>611000</td>\n",
       "    </tr>\n",
       "    <tr>\n",
       "      <th>808</th>\n",
       "      <td>808</td>\n",
       "      <td>SHA-256</td>\n",
       "      <td>True</td>\n",
       "      <td>PoW/PoS</td>\n",
       "      <td>0.000000e+00</td>\n",
       "      <td>0</td>\n",
       "    </tr>\n",
       "    <tr>\n",
       "      <th>...</th>\n",
       "      <td>...</td>\n",
       "      <td>...</td>\n",
       "      <td>...</td>\n",
       "      <td>...</td>\n",
       "      <td>...</td>\n",
       "      <td>...</td>\n",
       "    </tr>\n",
       "    <tr>\n",
       "      <th>SERO</th>\n",
       "      <td>Super Zero</td>\n",
       "      <td>Ethash</td>\n",
       "      <td>True</td>\n",
       "      <td>PoW</td>\n",
       "      <td>NaN</td>\n",
       "      <td>1000000000</td>\n",
       "    </tr>\n",
       "    <tr>\n",
       "      <th>UOS</th>\n",
       "      <td>UOS</td>\n",
       "      <td>SHA-256</td>\n",
       "      <td>True</td>\n",
       "      <td>DPoI</td>\n",
       "      <td>NaN</td>\n",
       "      <td>1000000000</td>\n",
       "    </tr>\n",
       "    <tr>\n",
       "      <th>BDX</th>\n",
       "      <td>Beldex</td>\n",
       "      <td>CryptoNight</td>\n",
       "      <td>True</td>\n",
       "      <td>PoW</td>\n",
       "      <td>9.802226e+08</td>\n",
       "      <td>1400222610</td>\n",
       "    </tr>\n",
       "    <tr>\n",
       "      <th>ZEN</th>\n",
       "      <td>Horizen</td>\n",
       "      <td>Equihash</td>\n",
       "      <td>True</td>\n",
       "      <td>PoW</td>\n",
       "      <td>7.296538e+06</td>\n",
       "      <td>21000000</td>\n",
       "    </tr>\n",
       "    <tr>\n",
       "      <th>XBC</th>\n",
       "      <td>BitcoinPlus</td>\n",
       "      <td>Scrypt</td>\n",
       "      <td>True</td>\n",
       "      <td>PoS</td>\n",
       "      <td>1.283270e+05</td>\n",
       "      <td>1000000</td>\n",
       "    </tr>\n",
       "  </tbody>\n",
       "</table>\n",
       "<p>1144 rows × 6 columns</p>\n",
       "</div>"
      ],
      "text/plain": [
       "         CoinName    Algorithm  IsTrading ProofType  TotalCoinsMined  \\\n",
       "42        42 Coin       Scrypt       True   PoW/PoS     4.199995e+01   \n",
       "365       365Coin          X11       True   PoW/PoS              NaN   \n",
       "404       404Coin       Scrypt       True   PoW/PoS     1.055185e+09   \n",
       "611     SixEleven      SHA-256       True       PoW              NaN   \n",
       "808           808      SHA-256       True   PoW/PoS     0.000000e+00   \n",
       "...           ...          ...        ...       ...              ...   \n",
       "SERO   Super Zero       Ethash       True       PoW              NaN   \n",
       "UOS           UOS      SHA-256       True      DPoI              NaN   \n",
       "BDX        Beldex  CryptoNight       True       PoW     9.802226e+08   \n",
       "ZEN       Horizen     Equihash       True       PoW     7.296538e+06   \n",
       "XBC   BitcoinPlus       Scrypt       True       PoS     1.283270e+05   \n",
       "\n",
       "     TotalCoinSupply  \n",
       "42                42  \n",
       "365       2300000000  \n",
       "404        532000000  \n",
       "611           611000  \n",
       "808                0  \n",
       "...              ...  \n",
       "SERO      1000000000  \n",
       "UOS       1000000000  \n",
       "BDX       1400222610  \n",
       "ZEN         21000000  \n",
       "XBC          1000000  \n",
       "\n",
       "[1144 rows x 6 columns]"
      ]
     },
     "execution_count": 140,
     "metadata": {},
     "output_type": "execute_result"
    }
   ],
   "source": [
    "# Keep all the cryptocurrencies that are being traded.\n",
    "crypto_df = crypto_df.loc[crypto_df['IsTrading']==True]\n",
    "crypto_df"
   ]
  },
  {
   "cell_type": "code",
   "execution_count": 141,
   "metadata": {
    "scrolled": false
   },
   "outputs": [
    {
     "data": {
      "text/html": [
       "<div>\n",
       "<style scoped>\n",
       "    .dataframe tbody tr th:only-of-type {\n",
       "        vertical-align: middle;\n",
       "    }\n",
       "\n",
       "    .dataframe tbody tr th {\n",
       "        vertical-align: top;\n",
       "    }\n",
       "\n",
       "    .dataframe thead th {\n",
       "        text-align: right;\n",
       "    }\n",
       "</style>\n",
       "<table border=\"1\" class=\"dataframe\">\n",
       "  <thead>\n",
       "    <tr style=\"text-align: right;\">\n",
       "      <th></th>\n",
       "      <th>CoinName</th>\n",
       "      <th>Algorithm</th>\n",
       "      <th>IsTrading</th>\n",
       "      <th>ProofType</th>\n",
       "      <th>TotalCoinsMined</th>\n",
       "      <th>TotalCoinSupply</th>\n",
       "    </tr>\n",
       "  </thead>\n",
       "  <tbody>\n",
       "    <tr>\n",
       "      <th>42</th>\n",
       "      <td>42 Coin</td>\n",
       "      <td>Scrypt</td>\n",
       "      <td>True</td>\n",
       "      <td>PoW/PoS</td>\n",
       "      <td>4.199995e+01</td>\n",
       "      <td>42</td>\n",
       "    </tr>\n",
       "    <tr>\n",
       "      <th>365</th>\n",
       "      <td>365Coin</td>\n",
       "      <td>X11</td>\n",
       "      <td>True</td>\n",
       "      <td>PoW/PoS</td>\n",
       "      <td>NaN</td>\n",
       "      <td>2300000000</td>\n",
       "    </tr>\n",
       "    <tr>\n",
       "      <th>404</th>\n",
       "      <td>404Coin</td>\n",
       "      <td>Scrypt</td>\n",
       "      <td>True</td>\n",
       "      <td>PoW/PoS</td>\n",
       "      <td>1.055185e+09</td>\n",
       "      <td>532000000</td>\n",
       "    </tr>\n",
       "    <tr>\n",
       "      <th>611</th>\n",
       "      <td>SixEleven</td>\n",
       "      <td>SHA-256</td>\n",
       "      <td>True</td>\n",
       "      <td>PoW</td>\n",
       "      <td>NaN</td>\n",
       "      <td>611000</td>\n",
       "    </tr>\n",
       "    <tr>\n",
       "      <th>808</th>\n",
       "      <td>808</td>\n",
       "      <td>SHA-256</td>\n",
       "      <td>True</td>\n",
       "      <td>PoW/PoS</td>\n",
       "      <td>0.000000e+00</td>\n",
       "      <td>0</td>\n",
       "    </tr>\n",
       "    <tr>\n",
       "      <th>...</th>\n",
       "      <td>...</td>\n",
       "      <td>...</td>\n",
       "      <td>...</td>\n",
       "      <td>...</td>\n",
       "      <td>...</td>\n",
       "      <td>...</td>\n",
       "    </tr>\n",
       "    <tr>\n",
       "      <th>SERO</th>\n",
       "      <td>Super Zero</td>\n",
       "      <td>Ethash</td>\n",
       "      <td>True</td>\n",
       "      <td>PoW</td>\n",
       "      <td>NaN</td>\n",
       "      <td>1000000000</td>\n",
       "    </tr>\n",
       "    <tr>\n",
       "      <th>UOS</th>\n",
       "      <td>UOS</td>\n",
       "      <td>SHA-256</td>\n",
       "      <td>True</td>\n",
       "      <td>DPoI</td>\n",
       "      <td>NaN</td>\n",
       "      <td>1000000000</td>\n",
       "    </tr>\n",
       "    <tr>\n",
       "      <th>BDX</th>\n",
       "      <td>Beldex</td>\n",
       "      <td>CryptoNight</td>\n",
       "      <td>True</td>\n",
       "      <td>PoW</td>\n",
       "      <td>9.802226e+08</td>\n",
       "      <td>1400222610</td>\n",
       "    </tr>\n",
       "    <tr>\n",
       "      <th>ZEN</th>\n",
       "      <td>Horizen</td>\n",
       "      <td>Equihash</td>\n",
       "      <td>True</td>\n",
       "      <td>PoW</td>\n",
       "      <td>7.296538e+06</td>\n",
       "      <td>21000000</td>\n",
       "    </tr>\n",
       "    <tr>\n",
       "      <th>XBC</th>\n",
       "      <td>BitcoinPlus</td>\n",
       "      <td>Scrypt</td>\n",
       "      <td>True</td>\n",
       "      <td>PoS</td>\n",
       "      <td>1.283270e+05</td>\n",
       "      <td>1000000</td>\n",
       "    </tr>\n",
       "  </tbody>\n",
       "</table>\n",
       "<p>1144 rows × 6 columns</p>\n",
       "</div>"
      ],
      "text/plain": [
       "         CoinName    Algorithm  IsTrading ProofType  TotalCoinsMined  \\\n",
       "42        42 Coin       Scrypt       True   PoW/PoS     4.199995e+01   \n",
       "365       365Coin          X11       True   PoW/PoS              NaN   \n",
       "404       404Coin       Scrypt       True   PoW/PoS     1.055185e+09   \n",
       "611     SixEleven      SHA-256       True       PoW              NaN   \n",
       "808           808      SHA-256       True   PoW/PoS     0.000000e+00   \n",
       "...           ...          ...        ...       ...              ...   \n",
       "SERO   Super Zero       Ethash       True       PoW              NaN   \n",
       "UOS           UOS      SHA-256       True      DPoI              NaN   \n",
       "BDX        Beldex  CryptoNight       True       PoW     9.802226e+08   \n",
       "ZEN       Horizen     Equihash       True       PoW     7.296538e+06   \n",
       "XBC   BitcoinPlus       Scrypt       True       PoS     1.283270e+05   \n",
       "\n",
       "     TotalCoinSupply  \n",
       "42                42  \n",
       "365       2300000000  \n",
       "404        532000000  \n",
       "611           611000  \n",
       "808                0  \n",
       "...              ...  \n",
       "SERO      1000000000  \n",
       "UOS       1000000000  \n",
       "BDX       1400222610  \n",
       "ZEN         21000000  \n",
       "XBC          1000000  \n",
       "\n",
       "[1144 rows x 6 columns]"
      ]
     },
     "execution_count": 141,
     "metadata": {},
     "output_type": "execute_result"
    }
   ],
   "source": [
    "# Keep all the cryptocurrencies that have a working algorithm.\n",
    "# this looks like I am getting rid of the first weird column, \n",
    "#as example output had 1144 rows and 6 columns, but that makes no sense...\n",
    "# checked for non null Algorithm - ask is not clear here \n",
    "\n",
    "\n",
    "crypto_df = crypto_df.dropna(axis=0, subset=['Algorithm'])\n",
    "crypto_df"
   ]
  },
  {
   "cell_type": "code",
   "execution_count": 142,
   "metadata": {
    "scrolled": true
   },
   "outputs": [
    {
     "data": {
      "text/html": [
       "<div>\n",
       "<style scoped>\n",
       "    .dataframe tbody tr th:only-of-type {\n",
       "        vertical-align: middle;\n",
       "    }\n",
       "\n",
       "    .dataframe tbody tr th {\n",
       "        vertical-align: top;\n",
       "    }\n",
       "\n",
       "    .dataframe thead th {\n",
       "        text-align: right;\n",
       "    }\n",
       "</style>\n",
       "<table border=\"1\" class=\"dataframe\">\n",
       "  <thead>\n",
       "    <tr style=\"text-align: right;\">\n",
       "      <th></th>\n",
       "      <th>CoinName</th>\n",
       "      <th>Algorithm</th>\n",
       "      <th>ProofType</th>\n",
       "      <th>TotalCoinsMined</th>\n",
       "      <th>TotalCoinSupply</th>\n",
       "    </tr>\n",
       "  </thead>\n",
       "  <tbody>\n",
       "    <tr>\n",
       "      <th>42</th>\n",
       "      <td>42 Coin</td>\n",
       "      <td>Scrypt</td>\n",
       "      <td>PoW/PoS</td>\n",
       "      <td>4.199995e+01</td>\n",
       "      <td>42</td>\n",
       "    </tr>\n",
       "    <tr>\n",
       "      <th>365</th>\n",
       "      <td>365Coin</td>\n",
       "      <td>X11</td>\n",
       "      <td>PoW/PoS</td>\n",
       "      <td>NaN</td>\n",
       "      <td>2300000000</td>\n",
       "    </tr>\n",
       "    <tr>\n",
       "      <th>404</th>\n",
       "      <td>404Coin</td>\n",
       "      <td>Scrypt</td>\n",
       "      <td>PoW/PoS</td>\n",
       "      <td>1.055185e+09</td>\n",
       "      <td>532000000</td>\n",
       "    </tr>\n",
       "    <tr>\n",
       "      <th>611</th>\n",
       "      <td>SixEleven</td>\n",
       "      <td>SHA-256</td>\n",
       "      <td>PoW</td>\n",
       "      <td>NaN</td>\n",
       "      <td>611000</td>\n",
       "    </tr>\n",
       "    <tr>\n",
       "      <th>808</th>\n",
       "      <td>808</td>\n",
       "      <td>SHA-256</td>\n",
       "      <td>PoW/PoS</td>\n",
       "      <td>0.000000e+00</td>\n",
       "      <td>0</td>\n",
       "    </tr>\n",
       "    <tr>\n",
       "      <th>...</th>\n",
       "      <td>...</td>\n",
       "      <td>...</td>\n",
       "      <td>...</td>\n",
       "      <td>...</td>\n",
       "      <td>...</td>\n",
       "    </tr>\n",
       "    <tr>\n",
       "      <th>SERO</th>\n",
       "      <td>Super Zero</td>\n",
       "      <td>Ethash</td>\n",
       "      <td>PoW</td>\n",
       "      <td>NaN</td>\n",
       "      <td>1000000000</td>\n",
       "    </tr>\n",
       "    <tr>\n",
       "      <th>UOS</th>\n",
       "      <td>UOS</td>\n",
       "      <td>SHA-256</td>\n",
       "      <td>DPoI</td>\n",
       "      <td>NaN</td>\n",
       "      <td>1000000000</td>\n",
       "    </tr>\n",
       "    <tr>\n",
       "      <th>BDX</th>\n",
       "      <td>Beldex</td>\n",
       "      <td>CryptoNight</td>\n",
       "      <td>PoW</td>\n",
       "      <td>9.802226e+08</td>\n",
       "      <td>1400222610</td>\n",
       "    </tr>\n",
       "    <tr>\n",
       "      <th>ZEN</th>\n",
       "      <td>Horizen</td>\n",
       "      <td>Equihash</td>\n",
       "      <td>PoW</td>\n",
       "      <td>7.296538e+06</td>\n",
       "      <td>21000000</td>\n",
       "    </tr>\n",
       "    <tr>\n",
       "      <th>XBC</th>\n",
       "      <td>BitcoinPlus</td>\n",
       "      <td>Scrypt</td>\n",
       "      <td>PoS</td>\n",
       "      <td>1.283270e+05</td>\n",
       "      <td>1000000</td>\n",
       "    </tr>\n",
       "  </tbody>\n",
       "</table>\n",
       "<p>1144 rows × 5 columns</p>\n",
       "</div>"
      ],
      "text/plain": [
       "         CoinName    Algorithm ProofType  TotalCoinsMined TotalCoinSupply\n",
       "42        42 Coin       Scrypt   PoW/PoS     4.199995e+01              42\n",
       "365       365Coin          X11   PoW/PoS              NaN      2300000000\n",
       "404       404Coin       Scrypt   PoW/PoS     1.055185e+09       532000000\n",
       "611     SixEleven      SHA-256       PoW              NaN          611000\n",
       "808           808      SHA-256   PoW/PoS     0.000000e+00               0\n",
       "...           ...          ...       ...              ...             ...\n",
       "SERO   Super Zero       Ethash       PoW              NaN      1000000000\n",
       "UOS           UOS      SHA-256      DPoI              NaN      1000000000\n",
       "BDX        Beldex  CryptoNight       PoW     9.802226e+08      1400222610\n",
       "ZEN       Horizen     Equihash       PoW     7.296538e+06        21000000\n",
       "XBC   BitcoinPlus       Scrypt       PoS     1.283270e+05         1000000\n",
       "\n",
       "[1144 rows x 5 columns]"
      ]
     },
     "execution_count": 142,
     "metadata": {},
     "output_type": "execute_result"
    }
   ],
   "source": [
    "# Remove the \"IsTrading\" column. \n",
    "crypto_df.drop(columns=[\"IsTrading\"], inplace=True)\n",
    "crypto_df"
   ]
  },
  {
   "cell_type": "code",
   "execution_count": 143,
   "metadata": {},
   "outputs": [
    {
     "data": {
      "text/html": [
       "<div>\n",
       "<style scoped>\n",
       "    .dataframe tbody tr th:only-of-type {\n",
       "        vertical-align: middle;\n",
       "    }\n",
       "\n",
       "    .dataframe tbody tr th {\n",
       "        vertical-align: top;\n",
       "    }\n",
       "\n",
       "    .dataframe thead th {\n",
       "        text-align: right;\n",
       "    }\n",
       "</style>\n",
       "<table border=\"1\" class=\"dataframe\">\n",
       "  <thead>\n",
       "    <tr style=\"text-align: right;\">\n",
       "      <th></th>\n",
       "      <th>CoinName</th>\n",
       "      <th>Algorithm</th>\n",
       "      <th>ProofType</th>\n",
       "      <th>TotalCoinsMined</th>\n",
       "      <th>TotalCoinSupply</th>\n",
       "    </tr>\n",
       "  </thead>\n",
       "  <tbody>\n",
       "    <tr>\n",
       "      <th>42</th>\n",
       "      <td>42 Coin</td>\n",
       "      <td>Scrypt</td>\n",
       "      <td>PoW/PoS</td>\n",
       "      <td>4.199995e+01</td>\n",
       "      <td>42</td>\n",
       "    </tr>\n",
       "    <tr>\n",
       "      <th>404</th>\n",
       "      <td>404Coin</td>\n",
       "      <td>Scrypt</td>\n",
       "      <td>PoW/PoS</td>\n",
       "      <td>1.055185e+09</td>\n",
       "      <td>532000000</td>\n",
       "    </tr>\n",
       "    <tr>\n",
       "      <th>808</th>\n",
       "      <td>808</td>\n",
       "      <td>SHA-256</td>\n",
       "      <td>PoW/PoS</td>\n",
       "      <td>0.000000e+00</td>\n",
       "      <td>0</td>\n",
       "    </tr>\n",
       "    <tr>\n",
       "      <th>1337</th>\n",
       "      <td>EliteCoin</td>\n",
       "      <td>X13</td>\n",
       "      <td>PoW/PoS</td>\n",
       "      <td>2.927942e+10</td>\n",
       "      <td>314159265359</td>\n",
       "    </tr>\n",
       "    <tr>\n",
       "      <th>BTC</th>\n",
       "      <td>Bitcoin</td>\n",
       "      <td>SHA-256</td>\n",
       "      <td>PoW</td>\n",
       "      <td>1.792718e+07</td>\n",
       "      <td>21000000</td>\n",
       "    </tr>\n",
       "    <tr>\n",
       "      <th>...</th>\n",
       "      <td>...</td>\n",
       "      <td>...</td>\n",
       "      <td>...</td>\n",
       "      <td>...</td>\n",
       "      <td>...</td>\n",
       "    </tr>\n",
       "    <tr>\n",
       "      <th>ZEPH</th>\n",
       "      <td>ZEPHYR</td>\n",
       "      <td>SHA-256</td>\n",
       "      <td>DPoS</td>\n",
       "      <td>2.000000e+09</td>\n",
       "      <td>2000000000</td>\n",
       "    </tr>\n",
       "    <tr>\n",
       "      <th>GAP</th>\n",
       "      <td>Gapcoin</td>\n",
       "      <td>Scrypt</td>\n",
       "      <td>PoW/PoS</td>\n",
       "      <td>1.493105e+07</td>\n",
       "      <td>250000000</td>\n",
       "    </tr>\n",
       "    <tr>\n",
       "      <th>BDX</th>\n",
       "      <td>Beldex</td>\n",
       "      <td>CryptoNight</td>\n",
       "      <td>PoW</td>\n",
       "      <td>9.802226e+08</td>\n",
       "      <td>1400222610</td>\n",
       "    </tr>\n",
       "    <tr>\n",
       "      <th>ZEN</th>\n",
       "      <td>Horizen</td>\n",
       "      <td>Equihash</td>\n",
       "      <td>PoW</td>\n",
       "      <td>7.296538e+06</td>\n",
       "      <td>21000000</td>\n",
       "    </tr>\n",
       "    <tr>\n",
       "      <th>XBC</th>\n",
       "      <td>BitcoinPlus</td>\n",
       "      <td>Scrypt</td>\n",
       "      <td>PoS</td>\n",
       "      <td>1.283270e+05</td>\n",
       "      <td>1000000</td>\n",
       "    </tr>\n",
       "  </tbody>\n",
       "</table>\n",
       "<p>685 rows × 5 columns</p>\n",
       "</div>"
      ],
      "text/plain": [
       "         CoinName    Algorithm ProofType  TotalCoinsMined TotalCoinSupply\n",
       "42        42 Coin       Scrypt   PoW/PoS     4.199995e+01              42\n",
       "404       404Coin       Scrypt   PoW/PoS     1.055185e+09       532000000\n",
       "808           808      SHA-256   PoW/PoS     0.000000e+00               0\n",
       "1337    EliteCoin          X13   PoW/PoS     2.927942e+10    314159265359\n",
       "BTC       Bitcoin      SHA-256       PoW     1.792718e+07        21000000\n",
       "...           ...          ...       ...              ...             ...\n",
       "ZEPH       ZEPHYR      SHA-256      DPoS     2.000000e+09      2000000000\n",
       "GAP       Gapcoin       Scrypt   PoW/PoS     1.493105e+07       250000000\n",
       "BDX        Beldex  CryptoNight       PoW     9.802226e+08      1400222610\n",
       "ZEN       Horizen     Equihash       PoW     7.296538e+06        21000000\n",
       "XBC   BitcoinPlus       Scrypt       PoS     1.283270e+05         1000000\n",
       "\n",
       "[685 rows x 5 columns]"
      ]
     },
     "execution_count": 143,
     "metadata": {},
     "output_type": "execute_result"
    }
   ],
   "source": [
    "# Remove rows that have at least 1 null value.\n",
    "crypto_df = crypto_df.dropna()\n",
    "crypto_df"
   ]
  },
  {
   "cell_type": "code",
   "execution_count": 144,
   "metadata": {},
   "outputs": [
    {
     "data": {
      "text/html": [
       "<div>\n",
       "<style scoped>\n",
       "    .dataframe tbody tr th:only-of-type {\n",
       "        vertical-align: middle;\n",
       "    }\n",
       "\n",
       "    .dataframe tbody tr th {\n",
       "        vertical-align: top;\n",
       "    }\n",
       "\n",
       "    .dataframe thead th {\n",
       "        text-align: right;\n",
       "    }\n",
       "</style>\n",
       "<table border=\"1\" class=\"dataframe\">\n",
       "  <thead>\n",
       "    <tr style=\"text-align: right;\">\n",
       "      <th></th>\n",
       "      <th>CoinName</th>\n",
       "      <th>Algorithm</th>\n",
       "      <th>ProofType</th>\n",
       "      <th>TotalCoinsMined</th>\n",
       "      <th>TotalCoinSupply</th>\n",
       "    </tr>\n",
       "  </thead>\n",
       "  <tbody>\n",
       "    <tr>\n",
       "      <th>42</th>\n",
       "      <td>42 Coin</td>\n",
       "      <td>Scrypt</td>\n",
       "      <td>PoW/PoS</td>\n",
       "      <td>4.199995e+01</td>\n",
       "      <td>42</td>\n",
       "    </tr>\n",
       "    <tr>\n",
       "      <th>404</th>\n",
       "      <td>404Coin</td>\n",
       "      <td>Scrypt</td>\n",
       "      <td>PoW/PoS</td>\n",
       "      <td>1.055185e+09</td>\n",
       "      <td>532000000</td>\n",
       "    </tr>\n",
       "    <tr>\n",
       "      <th>1337</th>\n",
       "      <td>EliteCoin</td>\n",
       "      <td>X13</td>\n",
       "      <td>PoW/PoS</td>\n",
       "      <td>2.927942e+10</td>\n",
       "      <td>314159265359</td>\n",
       "    </tr>\n",
       "    <tr>\n",
       "      <th>BTC</th>\n",
       "      <td>Bitcoin</td>\n",
       "      <td>SHA-256</td>\n",
       "      <td>PoW</td>\n",
       "      <td>1.792718e+07</td>\n",
       "      <td>21000000</td>\n",
       "    </tr>\n",
       "    <tr>\n",
       "      <th>ETH</th>\n",
       "      <td>Ethereum</td>\n",
       "      <td>Ethash</td>\n",
       "      <td>PoW</td>\n",
       "      <td>1.076842e+08</td>\n",
       "      <td>0</td>\n",
       "    </tr>\n",
       "    <tr>\n",
       "      <th>...</th>\n",
       "      <td>...</td>\n",
       "      <td>...</td>\n",
       "      <td>...</td>\n",
       "      <td>...</td>\n",
       "      <td>...</td>\n",
       "    </tr>\n",
       "    <tr>\n",
       "      <th>ZEPH</th>\n",
       "      <td>ZEPHYR</td>\n",
       "      <td>SHA-256</td>\n",
       "      <td>DPoS</td>\n",
       "      <td>2.000000e+09</td>\n",
       "      <td>2000000000</td>\n",
       "    </tr>\n",
       "    <tr>\n",
       "      <th>GAP</th>\n",
       "      <td>Gapcoin</td>\n",
       "      <td>Scrypt</td>\n",
       "      <td>PoW/PoS</td>\n",
       "      <td>1.493105e+07</td>\n",
       "      <td>250000000</td>\n",
       "    </tr>\n",
       "    <tr>\n",
       "      <th>BDX</th>\n",
       "      <td>Beldex</td>\n",
       "      <td>CryptoNight</td>\n",
       "      <td>PoW</td>\n",
       "      <td>9.802226e+08</td>\n",
       "      <td>1400222610</td>\n",
       "    </tr>\n",
       "    <tr>\n",
       "      <th>ZEN</th>\n",
       "      <td>Horizen</td>\n",
       "      <td>Equihash</td>\n",
       "      <td>PoW</td>\n",
       "      <td>7.296538e+06</td>\n",
       "      <td>21000000</td>\n",
       "    </tr>\n",
       "    <tr>\n",
       "      <th>XBC</th>\n",
       "      <td>BitcoinPlus</td>\n",
       "      <td>Scrypt</td>\n",
       "      <td>PoS</td>\n",
       "      <td>1.283270e+05</td>\n",
       "      <td>1000000</td>\n",
       "    </tr>\n",
       "  </tbody>\n",
       "</table>\n",
       "<p>532 rows × 5 columns</p>\n",
       "</div>"
      ],
      "text/plain": [
       "         CoinName    Algorithm ProofType  TotalCoinsMined TotalCoinSupply\n",
       "42        42 Coin       Scrypt   PoW/PoS     4.199995e+01              42\n",
       "404       404Coin       Scrypt   PoW/PoS     1.055185e+09       532000000\n",
       "1337    EliteCoin          X13   PoW/PoS     2.927942e+10    314159265359\n",
       "BTC       Bitcoin      SHA-256       PoW     1.792718e+07        21000000\n",
       "ETH      Ethereum       Ethash       PoW     1.076842e+08               0\n",
       "...           ...          ...       ...              ...             ...\n",
       "ZEPH       ZEPHYR      SHA-256      DPoS     2.000000e+09      2000000000\n",
       "GAP       Gapcoin       Scrypt   PoW/PoS     1.493105e+07       250000000\n",
       "BDX        Beldex  CryptoNight       PoW     9.802226e+08      1400222610\n",
       "ZEN       Horizen     Equihash       PoW     7.296538e+06        21000000\n",
       "XBC   BitcoinPlus       Scrypt       PoS     1.283270e+05         1000000\n",
       "\n",
       "[532 rows x 5 columns]"
      ]
     },
     "execution_count": 144,
     "metadata": {},
     "output_type": "execute_result"
    }
   ],
   "source": [
    "# Keep the rows where coins are mined.\n",
    "crypto_df = crypto_df.loc[crypto_df['TotalCoinsMined']> 0]\n",
    "crypto_df"
   ]
  },
  {
   "cell_type": "code",
   "execution_count": 145,
   "metadata": {},
   "outputs": [
    {
     "data": {
      "text/html": [
       "<div>\n",
       "<style scoped>\n",
       "    .dataframe tbody tr th:only-of-type {\n",
       "        vertical-align: middle;\n",
       "    }\n",
       "\n",
       "    .dataframe tbody tr th {\n",
       "        vertical-align: top;\n",
       "    }\n",
       "\n",
       "    .dataframe thead th {\n",
       "        text-align: right;\n",
       "    }\n",
       "</style>\n",
       "<table border=\"1\" class=\"dataframe\">\n",
       "  <thead>\n",
       "    <tr style=\"text-align: right;\">\n",
       "      <th></th>\n",
       "      <th>CoinName</th>\n",
       "    </tr>\n",
       "  </thead>\n",
       "  <tbody>\n",
       "    <tr>\n",
       "      <th>42</th>\n",
       "      <td>42 Coin</td>\n",
       "    </tr>\n",
       "    <tr>\n",
       "      <th>404</th>\n",
       "      <td>404Coin</td>\n",
       "    </tr>\n",
       "    <tr>\n",
       "      <th>1337</th>\n",
       "      <td>EliteCoin</td>\n",
       "    </tr>\n",
       "    <tr>\n",
       "      <th>BTC</th>\n",
       "      <td>Bitcoin</td>\n",
       "    </tr>\n",
       "    <tr>\n",
       "      <th>ETH</th>\n",
       "      <td>Ethereum</td>\n",
       "    </tr>\n",
       "    <tr>\n",
       "      <th>LTC</th>\n",
       "      <td>Litecoin</td>\n",
       "    </tr>\n",
       "    <tr>\n",
       "      <th>DASH</th>\n",
       "      <td>Dash</td>\n",
       "    </tr>\n",
       "    <tr>\n",
       "      <th>XMR</th>\n",
       "      <td>Monero</td>\n",
       "    </tr>\n",
       "    <tr>\n",
       "      <th>ETC</th>\n",
       "      <td>Ethereum Classic</td>\n",
       "    </tr>\n",
       "    <tr>\n",
       "      <th>ZEC</th>\n",
       "      <td>ZCash</td>\n",
       "    </tr>\n",
       "  </tbody>\n",
       "</table>\n",
       "</div>"
      ],
      "text/plain": [
       "              CoinName\n",
       "42             42 Coin\n",
       "404            404Coin\n",
       "1337         EliteCoin\n",
       "BTC            Bitcoin\n",
       "ETH           Ethereum\n",
       "LTC           Litecoin\n",
       "DASH              Dash\n",
       "XMR             Monero\n",
       "ETC   Ethereum Classic\n",
       "ZEC              ZCash"
      ]
     },
     "execution_count": 145,
     "metadata": {},
     "output_type": "execute_result"
    }
   ],
   "source": [
    "# Create a new DataFrame that holds only the cryptocurrencies names.\n",
    "#The example ouput here showed 2 columns, one contraction for a coin, and one name of a coin\n",
    "#\n",
    "cryptonames_df= pd.DataFrame(crypto_df.CoinName)\n",
    "cryptonames_df.head(10)"
   ]
  },
  {
   "cell_type": "code",
   "execution_count": 146,
   "metadata": {},
   "outputs": [
    {
     "data": {
      "text/html": [
       "<div>\n",
       "<style scoped>\n",
       "    .dataframe tbody tr th:only-of-type {\n",
       "        vertical-align: middle;\n",
       "    }\n",
       "\n",
       "    .dataframe tbody tr th {\n",
       "        vertical-align: top;\n",
       "    }\n",
       "\n",
       "    .dataframe thead th {\n",
       "        text-align: right;\n",
       "    }\n",
       "</style>\n",
       "<table border=\"1\" class=\"dataframe\">\n",
       "  <thead>\n",
       "    <tr style=\"text-align: right;\">\n",
       "      <th></th>\n",
       "      <th>Algorithm</th>\n",
       "      <th>ProofType</th>\n",
       "      <th>TotalCoinsMined</th>\n",
       "      <th>TotalCoinSupply</th>\n",
       "    </tr>\n",
       "  </thead>\n",
       "  <tbody>\n",
       "    <tr>\n",
       "      <th>42</th>\n",
       "      <td>Scrypt</td>\n",
       "      <td>PoW/PoS</td>\n",
       "      <td>4.199995e+01</td>\n",
       "      <td>42</td>\n",
       "    </tr>\n",
       "    <tr>\n",
       "      <th>404</th>\n",
       "      <td>Scrypt</td>\n",
       "      <td>PoW/PoS</td>\n",
       "      <td>1.055185e+09</td>\n",
       "      <td>532000000</td>\n",
       "    </tr>\n",
       "    <tr>\n",
       "      <th>1337</th>\n",
       "      <td>X13</td>\n",
       "      <td>PoW/PoS</td>\n",
       "      <td>2.927942e+10</td>\n",
       "      <td>314159265359</td>\n",
       "    </tr>\n",
       "    <tr>\n",
       "      <th>BTC</th>\n",
       "      <td>SHA-256</td>\n",
       "      <td>PoW</td>\n",
       "      <td>1.792718e+07</td>\n",
       "      <td>21000000</td>\n",
       "    </tr>\n",
       "    <tr>\n",
       "      <th>ETH</th>\n",
       "      <td>Ethash</td>\n",
       "      <td>PoW</td>\n",
       "      <td>1.076842e+08</td>\n",
       "      <td>0</td>\n",
       "    </tr>\n",
       "    <tr>\n",
       "      <th>...</th>\n",
       "      <td>...</td>\n",
       "      <td>...</td>\n",
       "      <td>...</td>\n",
       "      <td>...</td>\n",
       "    </tr>\n",
       "    <tr>\n",
       "      <th>ZEPH</th>\n",
       "      <td>SHA-256</td>\n",
       "      <td>DPoS</td>\n",
       "      <td>2.000000e+09</td>\n",
       "      <td>2000000000</td>\n",
       "    </tr>\n",
       "    <tr>\n",
       "      <th>GAP</th>\n",
       "      <td>Scrypt</td>\n",
       "      <td>PoW/PoS</td>\n",
       "      <td>1.493105e+07</td>\n",
       "      <td>250000000</td>\n",
       "    </tr>\n",
       "    <tr>\n",
       "      <th>BDX</th>\n",
       "      <td>CryptoNight</td>\n",
       "      <td>PoW</td>\n",
       "      <td>9.802226e+08</td>\n",
       "      <td>1400222610</td>\n",
       "    </tr>\n",
       "    <tr>\n",
       "      <th>ZEN</th>\n",
       "      <td>Equihash</td>\n",
       "      <td>PoW</td>\n",
       "      <td>7.296538e+06</td>\n",
       "      <td>21000000</td>\n",
       "    </tr>\n",
       "    <tr>\n",
       "      <th>XBC</th>\n",
       "      <td>Scrypt</td>\n",
       "      <td>PoS</td>\n",
       "      <td>1.283270e+05</td>\n",
       "      <td>1000000</td>\n",
       "    </tr>\n",
       "  </tbody>\n",
       "</table>\n",
       "<p>532 rows × 4 columns</p>\n",
       "</div>"
      ],
      "text/plain": [
       "        Algorithm ProofType  TotalCoinsMined TotalCoinSupply\n",
       "42         Scrypt   PoW/PoS     4.199995e+01              42\n",
       "404        Scrypt   PoW/PoS     1.055185e+09       532000000\n",
       "1337          X13   PoW/PoS     2.927942e+10    314159265359\n",
       "BTC       SHA-256       PoW     1.792718e+07        21000000\n",
       "ETH        Ethash       PoW     1.076842e+08               0\n",
       "...           ...       ...              ...             ...\n",
       "ZEPH      SHA-256      DPoS     2.000000e+09      2000000000\n",
       "GAP        Scrypt   PoW/PoS     1.493105e+07       250000000\n",
       "BDX   CryptoNight       PoW     9.802226e+08      1400222610\n",
       "ZEN      Equihash       PoW     7.296538e+06        21000000\n",
       "XBC        Scrypt       PoS     1.283270e+05         1000000\n",
       "\n",
       "[532 rows x 4 columns]"
      ]
     },
     "execution_count": 146,
     "metadata": {},
     "output_type": "execute_result"
    }
   ],
   "source": [
    "# Drop the 'CoinName' column since it's not going to be used on the clustering algorithm.\n",
    "crypto_df=crypto_df.drop(['CoinName'], axis=1)\n",
    "crypto_df"
   ]
  },
  {
   "cell_type": "code",
   "execution_count": 147,
   "metadata": {},
   "outputs": [
    {
     "data": {
      "text/html": [
       "<div>\n",
       "<style scoped>\n",
       "    .dataframe tbody tr th:only-of-type {\n",
       "        vertical-align: middle;\n",
       "    }\n",
       "\n",
       "    .dataframe tbody tr th {\n",
       "        vertical-align: top;\n",
       "    }\n",
       "\n",
       "    .dataframe thead th {\n",
       "        text-align: right;\n",
       "    }\n",
       "</style>\n",
       "<table border=\"1\" class=\"dataframe\">\n",
       "  <thead>\n",
       "    <tr style=\"text-align: right;\">\n",
       "      <th></th>\n",
       "      <th>TotalCoinsMined</th>\n",
       "      <th>TotalCoinSupply</th>\n",
       "      <th>Algorithm_1GB AES Pattern Search</th>\n",
       "      <th>Algorithm_536</th>\n",
       "      <th>Algorithm_Argon2d</th>\n",
       "      <th>Algorithm_BLAKE256</th>\n",
       "      <th>Algorithm_Blake</th>\n",
       "      <th>Algorithm_Blake2S</th>\n",
       "      <th>Algorithm_Blake2b</th>\n",
       "      <th>Algorithm_C11</th>\n",
       "      <th>...</th>\n",
       "      <th>ProofType_PoW/PoS</th>\n",
       "      <th>ProofType_PoW/PoS</th>\n",
       "      <th>ProofType_PoW/PoW</th>\n",
       "      <th>ProofType_PoW/nPoS</th>\n",
       "      <th>ProofType_Pos</th>\n",
       "      <th>ProofType_Proof of Authority</th>\n",
       "      <th>ProofType_Proof of Trust</th>\n",
       "      <th>ProofType_TPoS</th>\n",
       "      <th>ProofType_Zero-Knowledge Proof</th>\n",
       "      <th>ProofType_dPoW/PoW</th>\n",
       "    </tr>\n",
       "  </thead>\n",
       "  <tbody>\n",
       "    <tr>\n",
       "      <th>42</th>\n",
       "      <td>4.199995e+01</td>\n",
       "      <td>42</td>\n",
       "      <td>0</td>\n",
       "      <td>0</td>\n",
       "      <td>0</td>\n",
       "      <td>0</td>\n",
       "      <td>0</td>\n",
       "      <td>0</td>\n",
       "      <td>0</td>\n",
       "      <td>0</td>\n",
       "      <td>...</td>\n",
       "      <td>1</td>\n",
       "      <td>0</td>\n",
       "      <td>0</td>\n",
       "      <td>0</td>\n",
       "      <td>0</td>\n",
       "      <td>0</td>\n",
       "      <td>0</td>\n",
       "      <td>0</td>\n",
       "      <td>0</td>\n",
       "      <td>0</td>\n",
       "    </tr>\n",
       "    <tr>\n",
       "      <th>404</th>\n",
       "      <td>1.055185e+09</td>\n",
       "      <td>532000000</td>\n",
       "      <td>0</td>\n",
       "      <td>0</td>\n",
       "      <td>0</td>\n",
       "      <td>0</td>\n",
       "      <td>0</td>\n",
       "      <td>0</td>\n",
       "      <td>0</td>\n",
       "      <td>0</td>\n",
       "      <td>...</td>\n",
       "      <td>1</td>\n",
       "      <td>0</td>\n",
       "      <td>0</td>\n",
       "      <td>0</td>\n",
       "      <td>0</td>\n",
       "      <td>0</td>\n",
       "      <td>0</td>\n",
       "      <td>0</td>\n",
       "      <td>0</td>\n",
       "      <td>0</td>\n",
       "    </tr>\n",
       "    <tr>\n",
       "      <th>1337</th>\n",
       "      <td>2.927942e+10</td>\n",
       "      <td>314159265359</td>\n",
       "      <td>0</td>\n",
       "      <td>0</td>\n",
       "      <td>0</td>\n",
       "      <td>0</td>\n",
       "      <td>0</td>\n",
       "      <td>0</td>\n",
       "      <td>0</td>\n",
       "      <td>0</td>\n",
       "      <td>...</td>\n",
       "      <td>1</td>\n",
       "      <td>0</td>\n",
       "      <td>0</td>\n",
       "      <td>0</td>\n",
       "      <td>0</td>\n",
       "      <td>0</td>\n",
       "      <td>0</td>\n",
       "      <td>0</td>\n",
       "      <td>0</td>\n",
       "      <td>0</td>\n",
       "    </tr>\n",
       "    <tr>\n",
       "      <th>BTC</th>\n",
       "      <td>1.792718e+07</td>\n",
       "      <td>21000000</td>\n",
       "      <td>0</td>\n",
       "      <td>0</td>\n",
       "      <td>0</td>\n",
       "      <td>0</td>\n",
       "      <td>0</td>\n",
       "      <td>0</td>\n",
       "      <td>0</td>\n",
       "      <td>0</td>\n",
       "      <td>...</td>\n",
       "      <td>0</td>\n",
       "      <td>0</td>\n",
       "      <td>0</td>\n",
       "      <td>0</td>\n",
       "      <td>0</td>\n",
       "      <td>0</td>\n",
       "      <td>0</td>\n",
       "      <td>0</td>\n",
       "      <td>0</td>\n",
       "      <td>0</td>\n",
       "    </tr>\n",
       "    <tr>\n",
       "      <th>ETH</th>\n",
       "      <td>1.076842e+08</td>\n",
       "      <td>0</td>\n",
       "      <td>0</td>\n",
       "      <td>0</td>\n",
       "      <td>0</td>\n",
       "      <td>0</td>\n",
       "      <td>0</td>\n",
       "      <td>0</td>\n",
       "      <td>0</td>\n",
       "      <td>0</td>\n",
       "      <td>...</td>\n",
       "      <td>0</td>\n",
       "      <td>0</td>\n",
       "      <td>0</td>\n",
       "      <td>0</td>\n",
       "      <td>0</td>\n",
       "      <td>0</td>\n",
       "      <td>0</td>\n",
       "      <td>0</td>\n",
       "      <td>0</td>\n",
       "      <td>0</td>\n",
       "    </tr>\n",
       "    <tr>\n",
       "      <th>...</th>\n",
       "      <td>...</td>\n",
       "      <td>...</td>\n",
       "      <td>...</td>\n",
       "      <td>...</td>\n",
       "      <td>...</td>\n",
       "      <td>...</td>\n",
       "      <td>...</td>\n",
       "      <td>...</td>\n",
       "      <td>...</td>\n",
       "      <td>...</td>\n",
       "      <td>...</td>\n",
       "      <td>...</td>\n",
       "      <td>...</td>\n",
       "      <td>...</td>\n",
       "      <td>...</td>\n",
       "      <td>...</td>\n",
       "      <td>...</td>\n",
       "      <td>...</td>\n",
       "      <td>...</td>\n",
       "      <td>...</td>\n",
       "      <td>...</td>\n",
       "    </tr>\n",
       "    <tr>\n",
       "      <th>ZEPH</th>\n",
       "      <td>2.000000e+09</td>\n",
       "      <td>2000000000</td>\n",
       "      <td>0</td>\n",
       "      <td>0</td>\n",
       "      <td>0</td>\n",
       "      <td>0</td>\n",
       "      <td>0</td>\n",
       "      <td>0</td>\n",
       "      <td>0</td>\n",
       "      <td>0</td>\n",
       "      <td>...</td>\n",
       "      <td>0</td>\n",
       "      <td>0</td>\n",
       "      <td>0</td>\n",
       "      <td>0</td>\n",
       "      <td>0</td>\n",
       "      <td>0</td>\n",
       "      <td>0</td>\n",
       "      <td>0</td>\n",
       "      <td>0</td>\n",
       "      <td>0</td>\n",
       "    </tr>\n",
       "    <tr>\n",
       "      <th>GAP</th>\n",
       "      <td>1.493105e+07</td>\n",
       "      <td>250000000</td>\n",
       "      <td>0</td>\n",
       "      <td>0</td>\n",
       "      <td>0</td>\n",
       "      <td>0</td>\n",
       "      <td>0</td>\n",
       "      <td>0</td>\n",
       "      <td>0</td>\n",
       "      <td>0</td>\n",
       "      <td>...</td>\n",
       "      <td>1</td>\n",
       "      <td>0</td>\n",
       "      <td>0</td>\n",
       "      <td>0</td>\n",
       "      <td>0</td>\n",
       "      <td>0</td>\n",
       "      <td>0</td>\n",
       "      <td>0</td>\n",
       "      <td>0</td>\n",
       "      <td>0</td>\n",
       "    </tr>\n",
       "    <tr>\n",
       "      <th>BDX</th>\n",
       "      <td>9.802226e+08</td>\n",
       "      <td>1400222610</td>\n",
       "      <td>0</td>\n",
       "      <td>0</td>\n",
       "      <td>0</td>\n",
       "      <td>0</td>\n",
       "      <td>0</td>\n",
       "      <td>0</td>\n",
       "      <td>0</td>\n",
       "      <td>0</td>\n",
       "      <td>...</td>\n",
       "      <td>0</td>\n",
       "      <td>0</td>\n",
       "      <td>0</td>\n",
       "      <td>0</td>\n",
       "      <td>0</td>\n",
       "      <td>0</td>\n",
       "      <td>0</td>\n",
       "      <td>0</td>\n",
       "      <td>0</td>\n",
       "      <td>0</td>\n",
       "    </tr>\n",
       "    <tr>\n",
       "      <th>ZEN</th>\n",
       "      <td>7.296538e+06</td>\n",
       "      <td>21000000</td>\n",
       "      <td>0</td>\n",
       "      <td>0</td>\n",
       "      <td>0</td>\n",
       "      <td>0</td>\n",
       "      <td>0</td>\n",
       "      <td>0</td>\n",
       "      <td>0</td>\n",
       "      <td>0</td>\n",
       "      <td>...</td>\n",
       "      <td>0</td>\n",
       "      <td>0</td>\n",
       "      <td>0</td>\n",
       "      <td>0</td>\n",
       "      <td>0</td>\n",
       "      <td>0</td>\n",
       "      <td>0</td>\n",
       "      <td>0</td>\n",
       "      <td>0</td>\n",
       "      <td>0</td>\n",
       "    </tr>\n",
       "    <tr>\n",
       "      <th>XBC</th>\n",
       "      <td>1.283270e+05</td>\n",
       "      <td>1000000</td>\n",
       "      <td>0</td>\n",
       "      <td>0</td>\n",
       "      <td>0</td>\n",
       "      <td>0</td>\n",
       "      <td>0</td>\n",
       "      <td>0</td>\n",
       "      <td>0</td>\n",
       "      <td>0</td>\n",
       "      <td>...</td>\n",
       "      <td>0</td>\n",
       "      <td>0</td>\n",
       "      <td>0</td>\n",
       "      <td>0</td>\n",
       "      <td>0</td>\n",
       "      <td>0</td>\n",
       "      <td>0</td>\n",
       "      <td>0</td>\n",
       "      <td>0</td>\n",
       "      <td>0</td>\n",
       "    </tr>\n",
       "  </tbody>\n",
       "</table>\n",
       "<p>532 rows × 98 columns</p>\n",
       "</div>"
      ],
      "text/plain": [
       "      TotalCoinsMined TotalCoinSupply  Algorithm_1GB AES Pattern Search  \\\n",
       "42       4.199995e+01              42                                 0   \n",
       "404      1.055185e+09       532000000                                 0   \n",
       "1337     2.927942e+10    314159265359                                 0   \n",
       "BTC      1.792718e+07        21000000                                 0   \n",
       "ETH      1.076842e+08               0                                 0   \n",
       "...               ...             ...                               ...   \n",
       "ZEPH     2.000000e+09      2000000000                                 0   \n",
       "GAP      1.493105e+07       250000000                                 0   \n",
       "BDX      9.802226e+08      1400222610                                 0   \n",
       "ZEN      7.296538e+06        21000000                                 0   \n",
       "XBC      1.283270e+05         1000000                                 0   \n",
       "\n",
       "      Algorithm_536  Algorithm_Argon2d  Algorithm_BLAKE256  Algorithm_Blake  \\\n",
       "42                0                  0                   0                0   \n",
       "404               0                  0                   0                0   \n",
       "1337              0                  0                   0                0   \n",
       "BTC               0                  0                   0                0   \n",
       "ETH               0                  0                   0                0   \n",
       "...             ...                ...                 ...              ...   \n",
       "ZEPH              0                  0                   0                0   \n",
       "GAP               0                  0                   0                0   \n",
       "BDX               0                  0                   0                0   \n",
       "ZEN               0                  0                   0                0   \n",
       "XBC               0                  0                   0                0   \n",
       "\n",
       "      Algorithm_Blake2S  Algorithm_Blake2b  Algorithm_C11  ...  \\\n",
       "42                    0                  0              0  ...   \n",
       "404                   0                  0              0  ...   \n",
       "1337                  0                  0              0  ...   \n",
       "BTC                   0                  0              0  ...   \n",
       "ETH                   0                  0              0  ...   \n",
       "...                 ...                ...            ...  ...   \n",
       "ZEPH                  0                  0              0  ...   \n",
       "GAP                   0                  0              0  ...   \n",
       "BDX                   0                  0              0  ...   \n",
       "ZEN                   0                  0              0  ...   \n",
       "XBC                   0                  0              0  ...   \n",
       "\n",
       "      ProofType_PoW/PoS  ProofType_PoW/PoS   ProofType_PoW/PoW  \\\n",
       "42                    1                   0                  0   \n",
       "404                   1                   0                  0   \n",
       "1337                  1                   0                  0   \n",
       "BTC                   0                   0                  0   \n",
       "ETH                   0                   0                  0   \n",
       "...                 ...                 ...                ...   \n",
       "ZEPH                  0                   0                  0   \n",
       "GAP                   1                   0                  0   \n",
       "BDX                   0                   0                  0   \n",
       "ZEN                   0                   0                  0   \n",
       "XBC                   0                   0                  0   \n",
       "\n",
       "      ProofType_PoW/nPoS  ProofType_Pos  ProofType_Proof of Authority  \\\n",
       "42                     0              0                             0   \n",
       "404                    0              0                             0   \n",
       "1337                   0              0                             0   \n",
       "BTC                    0              0                             0   \n",
       "ETH                    0              0                             0   \n",
       "...                  ...            ...                           ...   \n",
       "ZEPH                   0              0                             0   \n",
       "GAP                    0              0                             0   \n",
       "BDX                    0              0                             0   \n",
       "ZEN                    0              0                             0   \n",
       "XBC                    0              0                             0   \n",
       "\n",
       "      ProofType_Proof of Trust  ProofType_TPoS  \\\n",
       "42                           0               0   \n",
       "404                          0               0   \n",
       "1337                         0               0   \n",
       "BTC                          0               0   \n",
       "ETH                          0               0   \n",
       "...                        ...             ...   \n",
       "ZEPH                         0               0   \n",
       "GAP                          0               0   \n",
       "BDX                          0               0   \n",
       "ZEN                          0               0   \n",
       "XBC                          0               0   \n",
       "\n",
       "      ProofType_Zero-Knowledge Proof  ProofType_dPoW/PoW  \n",
       "42                                 0                   0  \n",
       "404                                0                   0  \n",
       "1337                               0                   0  \n",
       "BTC                                0                   0  \n",
       "ETH                                0                   0  \n",
       "...                              ...                 ...  \n",
       "ZEPH                               0                   0  \n",
       "GAP                                0                   0  \n",
       "BDX                                0                   0  \n",
       "ZEN                                0                   0  \n",
       "XBC                                0                   0  \n",
       "\n",
       "[532 rows x 98 columns]"
      ]
     },
     "execution_count": 147,
     "metadata": {},
     "output_type": "execute_result"
    }
   ],
   "source": [
    "# Use get_dummies() to create variables for text features.\n",
    "X = pd.get_dummies(crypto_df, columns=['Algorithm', 'ProofType'])\n",
    "X"
   ]
  },
  {
   "cell_type": "code",
   "execution_count": 148,
   "metadata": {},
   "outputs": [
    {
     "data": {
      "text/plain": [
       "array([[-0.11710817, -0.1528703 , -0.0433963 , ..., -0.0433963 ,\n",
       "        -0.0433963 , -0.0433963 ],\n",
       "       [-0.09396955, -0.145009  , -0.0433963 , ..., -0.0433963 ,\n",
       "        -0.0433963 , -0.0433963 ],\n",
       "       [ 0.52494561,  4.48942416, -0.0433963 , ..., -0.0433963 ,\n",
       "        -0.0433963 , -0.0433963 ],\n",
       "       ...,\n",
       "       [-0.09561336, -0.13217937, -0.0433963 , ..., -0.0433963 ,\n",
       "        -0.0433963 , -0.0433963 ],\n",
       "       [-0.11694817, -0.15255998, -0.0433963 , ..., -0.0433963 ,\n",
       "        -0.0433963 , -0.0433963 ],\n",
       "       [-0.11710536, -0.15285552, -0.0433963 , ..., -0.0433963 ,\n",
       "        -0.0433963 , -0.0433963 ]])"
      ]
     },
     "execution_count": 148,
     "metadata": {},
     "output_type": "execute_result"
    }
   ],
   "source": [
    "# Standardize the data with StandardScaler().\n",
    "scaler= StandardScaler()\n",
    "crypto_scale = scaler.fit_transform(X)\n",
    "crypto_scale"
   ]
  },
  {
   "cell_type": "markdown",
   "metadata": {},
   "source": [
    "### Deliverable 2: Reducing Data Dimensions Using PCA"
   ]
  },
  {
   "cell_type": "code",
   "execution_count": 149,
   "metadata": {},
   "outputs": [
    {
     "data": {
      "text/plain": [
       "array([[-0.33951363,  1.08453331, -0.50017417],\n",
       "       [-0.32282769,  1.08458987, -0.50030625],\n",
       "       [ 2.30465119,  1.6070803 , -0.60908921],\n",
       "       ...,\n",
       "       [ 0.31248795, -2.31527457,  0.37401053],\n",
       "       [-0.14168045, -2.17471228,  0.18944285],\n",
       "       [-0.30134873,  0.93592844, -0.21097101]])"
      ]
     },
     "execution_count": 149,
     "metadata": {},
     "output_type": "execute_result"
    }
   ],
   "source": [
    "# Using PCA to reduce dimension to three principal components.\n",
    "pca = PCA(n_components=3)\n",
    "crypto_pca = pca.fit_transform(crypto_scale)\n",
    "crypto_pca"
   ]
  },
  {
   "cell_type": "code",
   "execution_count": 150,
   "metadata": {},
   "outputs": [
    {
     "data": {
      "text/html": [
       "<div>\n",
       "<style scoped>\n",
       "    .dataframe tbody tr th:only-of-type {\n",
       "        vertical-align: middle;\n",
       "    }\n",
       "\n",
       "    .dataframe tbody tr th {\n",
       "        vertical-align: top;\n",
       "    }\n",
       "\n",
       "    .dataframe thead th {\n",
       "        text-align: right;\n",
       "    }\n",
       "</style>\n",
       "<table border=\"1\" class=\"dataframe\">\n",
       "  <thead>\n",
       "    <tr style=\"text-align: right;\">\n",
       "      <th></th>\n",
       "      <th>PC1</th>\n",
       "      <th>PC2</th>\n",
       "      <th>PC3</th>\n",
       "    </tr>\n",
       "  </thead>\n",
       "  <tbody>\n",
       "    <tr>\n",
       "      <th>42</th>\n",
       "      <td>-0.339514</td>\n",
       "      <td>1.084533</td>\n",
       "      <td>-0.500174</td>\n",
       "    </tr>\n",
       "    <tr>\n",
       "      <th>404</th>\n",
       "      <td>-0.322828</td>\n",
       "      <td>1.084590</td>\n",
       "      <td>-0.500306</td>\n",
       "    </tr>\n",
       "    <tr>\n",
       "      <th>1337</th>\n",
       "      <td>2.304651</td>\n",
       "      <td>1.607080</td>\n",
       "      <td>-0.609089</td>\n",
       "    </tr>\n",
       "    <tr>\n",
       "      <th>BTC</th>\n",
       "      <td>-0.142310</td>\n",
       "      <td>-1.348964</td>\n",
       "      <td>0.180977</td>\n",
       "    </tr>\n",
       "    <tr>\n",
       "      <th>ETH</th>\n",
       "      <td>-0.156474</td>\n",
       "      <td>-2.050734</td>\n",
       "      <td>0.350499</td>\n",
       "    </tr>\n",
       "    <tr>\n",
       "      <th>...</th>\n",
       "      <td>...</td>\n",
       "      <td>...</td>\n",
       "      <td>...</td>\n",
       "    </tr>\n",
       "    <tr>\n",
       "      <th>ZEPH</th>\n",
       "      <td>2.464043</td>\n",
       "      <td>0.846845</td>\n",
       "      <td>0.162251</td>\n",
       "    </tr>\n",
       "    <tr>\n",
       "      <th>GAP</th>\n",
       "      <td>-0.337558</td>\n",
       "      <td>1.084406</td>\n",
       "      <td>-0.500188</td>\n",
       "    </tr>\n",
       "    <tr>\n",
       "      <th>BDX</th>\n",
       "      <td>0.312488</td>\n",
       "      <td>-2.315275</td>\n",
       "      <td>0.374011</td>\n",
       "    </tr>\n",
       "    <tr>\n",
       "      <th>ZEN</th>\n",
       "      <td>-0.141680</td>\n",
       "      <td>-2.174712</td>\n",
       "      <td>0.189443</td>\n",
       "    </tr>\n",
       "    <tr>\n",
       "      <th>XBC</th>\n",
       "      <td>-0.301349</td>\n",
       "      <td>0.935928</td>\n",
       "      <td>-0.210971</td>\n",
       "    </tr>\n",
       "  </tbody>\n",
       "</table>\n",
       "<p>532 rows × 3 columns</p>\n",
       "</div>"
      ],
      "text/plain": [
       "           PC1       PC2       PC3\n",
       "42   -0.339514  1.084533 -0.500174\n",
       "404  -0.322828  1.084590 -0.500306\n",
       "1337  2.304651  1.607080 -0.609089\n",
       "BTC  -0.142310 -1.348964  0.180977\n",
       "ETH  -0.156474 -2.050734  0.350499\n",
       "...        ...       ...       ...\n",
       "ZEPH  2.464043  0.846845  0.162251\n",
       "GAP  -0.337558  1.084406 -0.500188\n",
       "BDX   0.312488 -2.315275  0.374011\n",
       "ZEN  -0.141680 -2.174712  0.189443\n",
       "XBC  -0.301349  0.935928 -0.210971\n",
       "\n",
       "[532 rows x 3 columns]"
      ]
     },
     "execution_count": 150,
     "metadata": {},
     "output_type": "execute_result"
    }
   ],
   "source": [
    "# Create a DataFrame with the three principal components.\n",
    "pcs_df = pd.DataFrame(crypto_pca, columns=[\"PC1\", \"PC2\", \"PC3\"], index= X.index)\n",
    "pcs_df\n"
   ]
  },
  {
   "cell_type": "markdown",
   "metadata": {},
   "source": [
    "### Deliverable 3: Clustering Crytocurrencies Using K-Means\n",
    "\n",
    "#### Finding the Best Value for `k` Using the Elbow Curve"
   ]
  },
  {
   "cell_type": "code",
   "execution_count": 151,
   "metadata": {},
   "outputs": [
    {
     "name": "stderr",
     "output_type": "stream",
     "text": [
      "C:\\Users\\Alexandria\\anaconda3\\envs\\mlenv\\lib\\site-packages\\sklearn\\cluster\\_kmeans.py:1040: UserWarning:\n",
      "\n",
      "KMeans is known to have a memory leak on Windows with MKL, when there are less chunks than available threads. You can avoid it by setting the environment variable OMP_NUM_THREADS=3.\n",
      "\n"
     ]
    },
    {
     "data": {},
     "metadata": {},
     "output_type": "display_data"
    },
    {
     "data": {
      "application/vnd.holoviews_exec.v0+json": "",
      "text/html": [
       "<div id='1630'>\n",
       "  <div class=\"bk-root\" id=\"45282caf-a718-4021-9baa-aa9c3a378c2b\" data-root-id=\"1630\"></div>\n",
       "</div>\n",
       "<script type=\"application/javascript\">(function(root) {\n",
       "  function embed_document(root) {\n",
       "    var docs_json = {\"0fcd3447-813e-452f-820c-5cb93227cbf8\":{\"defs\":[{\"extends\":null,\"module\":null,\"name\":\"ReactiveHTML1\",\"overrides\":[],\"properties\":[]},{\"extends\":null,\"module\":null,\"name\":\"FlexBox1\",\"overrides\":[],\"properties\":[{\"default\":\"flex-start\",\"kind\":null,\"name\":\"align_content\"},{\"default\":\"flex-start\",\"kind\":null,\"name\":\"align_items\"},{\"default\":\"row\",\"kind\":null,\"name\":\"flex_direction\"},{\"default\":\"wrap\",\"kind\":null,\"name\":\"flex_wrap\"},{\"default\":\"flex-start\",\"kind\":null,\"name\":\"justify_content\"}]},{\"extends\":null,\"module\":null,\"name\":\"GridStack1\",\"overrides\":[],\"properties\":[{\"default\":\"warn\",\"kind\":null,\"name\":\"mode\"},{\"default\":null,\"kind\":null,\"name\":\"ncols\"},{\"default\":null,\"kind\":null,\"name\":\"nrows\"},{\"default\":true,\"kind\":null,\"name\":\"allow_resize\"},{\"default\":true,\"kind\":null,\"name\":\"allow_drag\"},{\"default\":[],\"kind\":null,\"name\":\"state\"}]},{\"extends\":null,\"module\":null,\"name\":\"click1\",\"overrides\":[],\"properties\":[{\"default\":\"\",\"kind\":null,\"name\":\"terminal_output\"},{\"default\":\"\",\"kind\":null,\"name\":\"debug_name\"},{\"default\":0,\"kind\":null,\"name\":\"clears\"}]},{\"extends\":null,\"module\":null,\"name\":\"NotificationAreaBase1\",\"overrides\":[],\"properties\":[{\"default\":\"bottom-right\",\"kind\":null,\"name\":\"position\"},{\"default\":0,\"kind\":null,\"name\":\"_clear\"}]},{\"extends\":null,\"module\":null,\"name\":\"NotificationArea1\",\"overrides\":[],\"properties\":[{\"default\":[],\"kind\":null,\"name\":\"notifications\"},{\"default\":\"bottom-right\",\"kind\":null,\"name\":\"position\"},{\"default\":0,\"kind\":null,\"name\":\"_clear\"},{\"default\":[{\"background\":\"#ffc107\",\"icon\":{\"className\":\"fas fa-exclamation-triangle\",\"color\":\"white\",\"tagName\":\"i\"},\"type\":\"warning\"},{\"background\":\"#007bff\",\"icon\":{\"className\":\"fas fa-info-circle\",\"color\":\"white\",\"tagName\":\"i\"},\"type\":\"info\"}],\"kind\":null,\"name\":\"types\"}]},{\"extends\":null,\"module\":null,\"name\":\"Notification\",\"overrides\":[],\"properties\":[{\"default\":null,\"kind\":null,\"name\":\"background\"},{\"default\":3000,\"kind\":null,\"name\":\"duration\"},{\"default\":null,\"kind\":null,\"name\":\"icon\"},{\"default\":\"\",\"kind\":null,\"name\":\"message\"},{\"default\":null,\"kind\":null,\"name\":\"notification_type\"},{\"default\":false,\"kind\":null,\"name\":\"_destroyed\"}]},{\"extends\":null,\"module\":null,\"name\":\"TemplateActions1\",\"overrides\":[],\"properties\":[{\"default\":0,\"kind\":null,\"name\":\"open_modal\"},{\"default\":0,\"kind\":null,\"name\":\"close_modal\"}]},{\"extends\":null,\"module\":null,\"name\":\"MaterialTemplateActions1\",\"overrides\":[],\"properties\":[{\"default\":0,\"kind\":null,\"name\":\"open_modal\"},{\"default\":0,\"kind\":null,\"name\":\"close_modal\"}]}],\"roots\":{\"references\":[{\"attributes\":{},\"id\":\"1653\",\"type\":\"PanTool\"},{\"attributes\":{\"line_color\":\"#30a2da\",\"line_width\":2,\"x\":{\"field\":\"k\"},\"y\":{\"field\":\"inertia\"}},\"id\":\"1668\",\"type\":\"Line\"},{\"attributes\":{},\"id\":\"1656\",\"type\":\"ResetTool\"},{\"attributes\":{},\"id\":\"1654\",\"type\":\"WheelZoomTool\"},{\"attributes\":{\"children\":[{\"id\":\"1631\"},{\"id\":\"1635\"},{\"id\":\"1692\"}],\"margin\":[0,0,0,0],\"name\":\"Row01546\",\"tags\":[\"embedded\"]},\"id\":\"1630\",\"type\":\"Row\"},{\"attributes\":{\"overlay\":{\"id\":\"1657\"}},\"id\":\"1655\",\"type\":\"BoxZoomTool\"},{\"attributes\":{\"margin\":[5,5,5,5],\"name\":\"HSpacer01551\",\"sizing_mode\":\"stretch_width\"},\"id\":\"1692\",\"type\":\"Spacer\"},{\"attributes\":{\"margin\":[5,5,5,5],\"name\":\"HSpacer01550\",\"sizing_mode\":\"stretch_width\"},\"id\":\"1631\",\"type\":\"Spacer\"},{\"attributes\":{},\"id\":\"1649\",\"type\":\"BasicTicker\"},{\"attributes\":{},\"id\":\"1640\",\"type\":\"LinearScale\"},{\"attributes\":{\"coordinates\":null,\"group\":null,\"text\":\"Elbow Curve\",\"text_color\":\"black\",\"text_font_size\":\"12pt\"},\"id\":\"1636\",\"type\":\"Title\"},{\"attributes\":{\"callback\":null,\"renderers\":[{\"id\":\"1671\"}],\"tags\":[\"hv_created\"],\"tooltips\":[[\"k\",\"@{k}\"],[\"inertia\",\"@{inertia}\"]]},\"id\":\"1634\",\"type\":\"HoverTool\"},{\"attributes\":{\"coordinates\":null,\"data_source\":{\"id\":\"1665\"},\"glyph\":{\"id\":\"1668\"},\"group\":null,\"hover_glyph\":null,\"muted_glyph\":{\"id\":\"1670\"},\"nonselection_glyph\":{\"id\":\"1669\"},\"selection_glyph\":{\"id\":\"1673\"},\"view\":{\"id\":\"1672\"}},\"id\":\"1671\",\"type\":\"GlyphRenderer\"},{\"attributes\":{\"axis\":{\"id\":\"1644\"},\"coordinates\":null,\"grid_line_color\":null,\"group\":null,\"ticker\":null},\"id\":\"1647\",\"type\":\"Grid\"},{\"attributes\":{\"ticks\":[1,2,3,4,5,6,7,8,9,10]},\"id\":\"1674\",\"type\":\"FixedTicker\"},{\"attributes\":{},\"id\":\"1642\",\"type\":\"LinearScale\"},{\"attributes\":{\"axis_label\":\"inertia\",\"coordinates\":null,\"formatter\":{\"id\":\"1681\"},\"group\":null,\"major_label_policy\":{\"id\":\"1682\"},\"ticker\":{\"id\":\"1649\"}},\"id\":\"1648\",\"type\":\"LinearAxis\"},{\"attributes\":{\"line_alpha\":0.1,\"line_color\":\"#30a2da\",\"line_width\":2,\"x\":{\"field\":\"k\"},\"y\":{\"field\":\"inertia\"}},\"id\":\"1669\",\"type\":\"Line\"},{\"attributes\":{\"end\":10.0,\"reset_end\":10.0,\"reset_start\":1.0,\"start\":1.0,\"tags\":[[[\"k\",\"k\",null]]]},\"id\":\"1632\",\"type\":\"Range1d\"},{\"attributes\":{\"axis_label\":\"k\",\"coordinates\":null,\"formatter\":{\"id\":\"1676\"},\"group\":null,\"major_label_policy\":{\"id\":\"1677\"},\"ticker\":{\"id\":\"1674\"}},\"id\":\"1644\",\"type\":\"LinearAxis\"},{\"attributes\":{\"line_color\":\"#30a2da\",\"line_width\":2,\"x\":{\"field\":\"k\"},\"y\":{\"field\":\"inertia\"}},\"id\":\"1673\",\"type\":\"Line\"},{\"attributes\":{},\"id\":\"1682\",\"type\":\"AllLabels\"},{\"attributes\":{},\"id\":\"1676\",\"type\":\"BasicTickFormatter\"},{\"attributes\":{\"axis\":{\"id\":\"1648\"},\"coordinates\":null,\"dimension\":1,\"grid_line_color\":null,\"group\":null,\"ticker\":null},\"id\":\"1651\",\"type\":\"Grid\"},{\"attributes\":{\"bottom_units\":\"screen\",\"coordinates\":null,\"fill_alpha\":0.5,\"fill_color\":\"lightgrey\",\"group\":null,\"left_units\":\"screen\",\"level\":\"overlay\",\"line_alpha\":1.0,\"line_color\":\"black\",\"line_dash\":[4,4],\"line_width\":2,\"right_units\":\"screen\",\"syncable\":false,\"top_units\":\"screen\"},\"id\":\"1657\",\"type\":\"BoxAnnotation\"},{\"attributes\":{\"end\":3993.747179214014,\"reset_end\":3993.747179214014,\"reset_start\":-262.43360364721525,\"start\":-262.43360364721525,\"tags\":[[[\"inertia\",\"inertia\",null]]]},\"id\":\"1633\",\"type\":\"Range1d\"},{\"attributes\":{},\"id\":\"1666\",\"type\":\"Selection\"},{\"attributes\":{\"below\":[{\"id\":\"1644\"}],\"center\":[{\"id\":\"1647\"},{\"id\":\"1651\"}],\"height\":300,\"left\":[{\"id\":\"1648\"}],\"margin\":[5,5,5,5],\"min_border_bottom\":10,\"min_border_left\":10,\"min_border_right\":10,\"min_border_top\":10,\"renderers\":[{\"id\":\"1671\"}],\"sizing_mode\":\"fixed\",\"title\":{\"id\":\"1636\"},\"toolbar\":{\"id\":\"1658\"},\"width\":700,\"x_range\":{\"id\":\"1632\"},\"x_scale\":{\"id\":\"1640\"},\"y_range\":{\"id\":\"1633\"},\"y_scale\":{\"id\":\"1642\"}},\"id\":\"1635\",\"subtype\":\"Figure\",\"type\":\"Plot\"},{\"attributes\":{\"line_alpha\":0.2,\"line_color\":\"#30a2da\",\"line_width\":2,\"x\":{\"field\":\"k\"},\"y\":{\"field\":\"inertia\"}},\"id\":\"1670\",\"type\":\"Line\"},{\"attributes\":{\"source\":{\"id\":\"1665\"}},\"id\":\"1672\",\"type\":\"CDSView\"},{\"attributes\":{},\"id\":\"1681\",\"type\":\"BasicTickFormatter\"},{\"attributes\":{},\"id\":\"1677\",\"type\":\"AllLabels\"},{\"attributes\":{\"tools\":[{\"id\":\"1634\"},{\"id\":\"1652\"},{\"id\":\"1653\"},{\"id\":\"1654\"},{\"id\":\"1655\"},{\"id\":\"1656\"}]},\"id\":\"1658\",\"type\":\"Toolbar\"},{\"attributes\":{},\"id\":\"1689\",\"type\":\"UnionRenderers\"},{\"attributes\":{\"data\":{\"inertia\":{\"__ndarray__\":\"xkZPgiFurEDIpwlSF0+jQAGdm/HaJpdAv49d6tWrfUDZBlaxDRxyQK7gEUkP12tAL3z7+TJ0ZUC0pB2P3+phQCWt3/b5Hl1AsDVYVeEPV0A=\",\"dtype\":\"float64\",\"order\":\"little\",\"shape\":[10]},\"k\":[1,2,3,4,5,6,7,8,9,10]},\"selected\":{\"id\":\"1666\"},\"selection_policy\":{\"id\":\"1689\"}},\"id\":\"1665\",\"type\":\"ColumnDataSource\"},{\"attributes\":{},\"id\":\"1652\",\"type\":\"SaveTool\"}],\"root_ids\":[\"1630\"]},\"title\":\"Bokeh Application\",\"version\":\"2.4.3\"}};\n",
       "    var render_items = [{\"docid\":\"0fcd3447-813e-452f-820c-5cb93227cbf8\",\"root_ids\":[\"1630\"],\"roots\":{\"1630\":\"45282caf-a718-4021-9baa-aa9c3a378c2b\"}}];\n",
       "    root.Bokeh.embed.embed_items_notebook(docs_json, render_items);\n",
       "    for (const render_item of render_items) {\n",
       "      for (const root_id of render_item.root_ids) {\n",
       "\tconst id_el = document.getElementById(root_id)\n",
       "\tif (id_el.children.length && (id_el.children[0].className === 'bk-root')) {\n",
       "\t  const root_el = id_el.children[0]\n",
       "\t  root_el.id = root_el.id + '-rendered'\n",
       "\t}\n",
       "      }\n",
       "    }\n",
       "  }\n",
       "  if (root.Bokeh !== undefined && root.Bokeh.Panel !== undefined) {\n",
       "    embed_document(root);\n",
       "  } else {\n",
       "    var attempts = 0;\n",
       "    var timer = setInterval(function(root) {\n",
       "      if (root.Bokeh !== undefined && root.Bokeh.Panel !== undefined) {\n",
       "        clearInterval(timer);\n",
       "        embed_document(root);\n",
       "      } else if (document.readyState == \"complete\") {\n",
       "        attempts++;\n",
       "        if (attempts > 200) {\n",
       "          clearInterval(timer);\n",
       "          console.log(\"Bokeh: ERROR: Unable to run BokehJS code because BokehJS library is missing\");\n",
       "        }\n",
       "      }\n",
       "    }, 25, root)\n",
       "  }\n",
       "})(window);</script>"
      ],
      "text/plain": [
       ":Curve   [k]   (inertia)"
      ]
     },
     "execution_count": 151,
     "metadata": {
      "application/vnd.holoviews_exec.v0+json": {
       "id": "1630"
      }
     },
     "output_type": "execute_result"
    }
   ],
   "source": [
    "# Create an elbow curve to find the best value for K.\n",
    "\n",
    "\n",
    "inertia = []\n",
    "\n",
    "k = list(range(1,11))\n",
    "\n",
    "for i in k:\n",
    "    km = KMeans(n_clusters=i, random_state=0)\n",
    "    km.fit(pcs_df)\n",
    "    inertia.append(km.inertia_)\n",
    "\n",
    "# Elbow Curve using hvPlot\n",
    "elbow_data = {\"k\": k, \"inertia\": inertia}\n",
    "elbow_df = pd.DataFrame(elbow_data)\n",
    "elbow_df.hvplot.line(x=\"k\", y=\"inertia\", title=\"Elbow Curve\", xticks=k)\n",
    "#Crook at the 4 implies k=4 as optimal"
   ]
  },
  {
   "cell_type": "markdown",
   "metadata": {},
   "source": [
    "Running K-Means with `k=4`"
   ]
  },
  {
   "cell_type": "code",
   "execution_count": 152,
   "metadata": {},
   "outputs": [
    {
     "data": {
      "text/plain": [
       "array([0, 0, 0, 1, 1, 1, 0, 1, 1, 1, 0, 1, 0, 0, 1, 0, 1, 1, 0, 0, 1, 1,\n",
       "       1, 1, 1, 0, 1, 1, 1, 0, 1, 0, 1, 1, 0, 0, 1, 1, 1, 1, 1, 1, 0, 0,\n",
       "       1, 1, 1, 1, 1, 0, 0, 1, 0, 1, 1, 1, 1, 0, 1, 1, 0, 1, 0, 0, 0, 1,\n",
       "       1, 1, 0, 0, 0, 0, 0, 1, 1, 1, 0, 0, 1, 0, 1, 0, 0, 1, 1, 1, 1, 0,\n",
       "       0, 1, 0, 1, 1, 0, 0, 1, 0, 0, 1, 1, 0, 0, 1, 0, 0, 1, 0, 1, 0, 1,\n",
       "       0, 1, 0, 0, 1, 1, 0, 1, 1, 1, 0, 1, 1, 1, 1, 1, 0, 0, 1, 1, 1, 0,\n",
       "       1, 0, 1, 1, 0, 1, 0, 1, 0, 0, 1, 1, 0, 1, 1, 0, 0, 1, 0, 1, 0, 0,\n",
       "       0, 1, 1, 1, 1, 0, 0, 0, 0, 0, 1, 1, 0, 0, 0, 0, 0, 1, 0, 0, 0, 0,\n",
       "       0, 1, 0, 1, 0, 0, 1, 0, 1, 0, 0, 1, 0, 1, 0, 1, 0, 1, 0, 0, 0, 0,\n",
       "       1, 0, 0, 0, 0, 0, 1, 1, 0, 0, 1, 1, 0, 0, 0, 0, 0, 1, 0, 0, 0, 0,\n",
       "       0, 0, 0, 0, 1, 0, 0, 0, 0, 0, 0, 1, 1, 1, 0, 0, 0, 0, 1, 0, 1, 0,\n",
       "       0, 1, 0, 1, 1, 0, 1, 1, 0, 1, 0, 0, 0, 1, 0, 0, 1, 0, 0, 0, 0, 0,\n",
       "       0, 0, 1, 0, 1, 0, 0, 0, 0, 1, 0, 1, 0, 1, 1, 1, 1, 0, 1, 0, 0, 1,\n",
       "       0, 1, 1, 1, 0, 1, 0, 1, 1, 1, 0, 1, 0, 1, 0, 0, 0, 1, 0, 1, 1, 1,\n",
       "       1, 1, 0, 0, 1, 0, 0, 0, 1, 0, 1, 0, 1, 0, 1, 0, 0, 0, 0, 1, 0, 0,\n",
       "       1, 0, 0, 0, 1, 1, 1, 1, 0, 0, 0, 0, 1, 0, 1, 1, 1, 0, 0, 1, 1, 0,\n",
       "       0, 1, 0, 1, 1, 1, 0, 1, 1, 0, 0, 0, 1, 1, 1, 0, 0, 0, 1, 1, 0, 1,\n",
       "       1, 1, 1, 0, 3, 3, 1, 1, 1, 0, 3, 0, 0, 0, 0, 1, 1, 1, 1, 0, 0, 0,\n",
       "       1, 0, 1, 0, 0, 0, 0, 1, 0, 0, 1, 0, 0, 1, 1, 0, 1, 0, 1, 1, 1, 1,\n",
       "       0, 0, 1, 0, 1, 0, 0, 0, 0, 0, 0, 1, 1, 1, 0, 0, 0, 0, 0, 0, 1, 0,\n",
       "       1, 1, 1, 1, 0, 0, 0, 0, 1, 0, 0, 1, 0, 0, 1, 3, 1, 0, 1, 1, 0, 0,\n",
       "       1, 0, 1, 1, 1, 1, 1, 0, 1, 0, 1, 0, 0, 1, 0, 0, 0, 0, 0, 1, 1, 1,\n",
       "       0, 0, 0, 1, 0, 1, 0, 1, 0, 0, 0, 0, 1, 0, 0, 0, 1, 0, 1, 0, 1, 0,\n",
       "       0, 0, 1, 1, 0, 0, 0, 0, 0, 0, 1, 0, 1, 0, 1, 0, 0, 3, 0, 2, 0, 0,\n",
       "       0, 1, 1, 0])"
      ]
     },
     "execution_count": 152,
     "metadata": {},
     "output_type": "execute_result"
    }
   ],
   "source": [
    "# Initialize the K-Means model.\n",
    "km_model = KMeans(n_clusters=4, random_state=0)\n",
    "km_model.fit(pcs_df)\n",
    "\n",
    "\n",
    "# Predict clusters\n",
    "predictions = km_model.predict(pcs_df)\n",
    "predictions"
   ]
  },
  {
   "cell_type": "code",
   "execution_count": 153,
   "metadata": {},
   "outputs": [
    {
     "name": "stdout",
     "output_type": "stream",
     "text": [
      "(532, 9)\n"
     ]
    },
    {
     "data": {
      "text/html": [
       "<div>\n",
       "<style scoped>\n",
       "    .dataframe tbody tr th:only-of-type {\n",
       "        vertical-align: middle;\n",
       "    }\n",
       "\n",
       "    .dataframe tbody tr th {\n",
       "        vertical-align: top;\n",
       "    }\n",
       "\n",
       "    .dataframe thead th {\n",
       "        text-align: right;\n",
       "    }\n",
       "</style>\n",
       "<table border=\"1\" class=\"dataframe\">\n",
       "  <thead>\n",
       "    <tr style=\"text-align: right;\">\n",
       "      <th></th>\n",
       "      <th>Algorithm</th>\n",
       "      <th>ProofType</th>\n",
       "      <th>TotalCoinsMined</th>\n",
       "      <th>TotalCoinSupply</th>\n",
       "      <th>PC1</th>\n",
       "      <th>PC2</th>\n",
       "      <th>PC3</th>\n",
       "      <th>CoinName</th>\n",
       "      <th>Class</th>\n",
       "    </tr>\n",
       "  </thead>\n",
       "  <tbody>\n",
       "    <tr>\n",
       "      <th>42</th>\n",
       "      <td>Scrypt</td>\n",
       "      <td>PoW/PoS</td>\n",
       "      <td>4.199995e+01</td>\n",
       "      <td>42</td>\n",
       "      <td>-0.339514</td>\n",
       "      <td>1.084533</td>\n",
       "      <td>-0.500174</td>\n",
       "      <td>42 Coin</td>\n",
       "      <td>0</td>\n",
       "    </tr>\n",
       "    <tr>\n",
       "      <th>404</th>\n",
       "      <td>Scrypt</td>\n",
       "      <td>PoW/PoS</td>\n",
       "      <td>1.055185e+09</td>\n",
       "      <td>532000000</td>\n",
       "      <td>-0.322828</td>\n",
       "      <td>1.084590</td>\n",
       "      <td>-0.500306</td>\n",
       "      <td>404Coin</td>\n",
       "      <td>0</td>\n",
       "    </tr>\n",
       "    <tr>\n",
       "      <th>1337</th>\n",
       "      <td>X13</td>\n",
       "      <td>PoW/PoS</td>\n",
       "      <td>2.927942e+10</td>\n",
       "      <td>314159265359</td>\n",
       "      <td>2.304651</td>\n",
       "      <td>1.607080</td>\n",
       "      <td>-0.609089</td>\n",
       "      <td>EliteCoin</td>\n",
       "      <td>0</td>\n",
       "    </tr>\n",
       "    <tr>\n",
       "      <th>BTC</th>\n",
       "      <td>SHA-256</td>\n",
       "      <td>PoW</td>\n",
       "      <td>1.792718e+07</td>\n",
       "      <td>21000000</td>\n",
       "      <td>-0.142310</td>\n",
       "      <td>-1.348964</td>\n",
       "      <td>0.180977</td>\n",
       "      <td>Bitcoin</td>\n",
       "      <td>1</td>\n",
       "    </tr>\n",
       "    <tr>\n",
       "      <th>ETH</th>\n",
       "      <td>Ethash</td>\n",
       "      <td>PoW</td>\n",
       "      <td>1.076842e+08</td>\n",
       "      <td>0</td>\n",
       "      <td>-0.156474</td>\n",
       "      <td>-2.050734</td>\n",
       "      <td>0.350499</td>\n",
       "      <td>Ethereum</td>\n",
       "      <td>1</td>\n",
       "    </tr>\n",
       "    <tr>\n",
       "      <th>LTC</th>\n",
       "      <td>Scrypt</td>\n",
       "      <td>PoW</td>\n",
       "      <td>6.303924e+07</td>\n",
       "      <td>84000000</td>\n",
       "      <td>-0.175454</td>\n",
       "      <td>-1.043715</td>\n",
       "      <td>0.007717</td>\n",
       "      <td>Litecoin</td>\n",
       "      <td>1</td>\n",
       "    </tr>\n",
       "    <tr>\n",
       "      <th>DASH</th>\n",
       "      <td>X11</td>\n",
       "      <td>PoW/PoS</td>\n",
       "      <td>9.031294e+06</td>\n",
       "      <td>22000000</td>\n",
       "      <td>-0.379791</td>\n",
       "      <td>1.129097</td>\n",
       "      <td>-0.486735</td>\n",
       "      <td>Dash</td>\n",
       "      <td>0</td>\n",
       "    </tr>\n",
       "    <tr>\n",
       "      <th>XMR</th>\n",
       "      <td>CryptoNight-V7</td>\n",
       "      <td>PoW</td>\n",
       "      <td>1.720114e+07</td>\n",
       "      <td>0</td>\n",
       "      <td>-0.151678</td>\n",
       "      <td>-2.246435</td>\n",
       "      <td>0.363884</td>\n",
       "      <td>Monero</td>\n",
       "      <td>1</td>\n",
       "    </tr>\n",
       "    <tr>\n",
       "      <th>ETC</th>\n",
       "      <td>Ethash</td>\n",
       "      <td>PoW</td>\n",
       "      <td>1.133597e+08</td>\n",
       "      <td>210000000</td>\n",
       "      <td>-0.154916</td>\n",
       "      <td>-2.050843</td>\n",
       "      <td>0.350487</td>\n",
       "      <td>Ethereum Classic</td>\n",
       "      <td>1</td>\n",
       "    </tr>\n",
       "    <tr>\n",
       "      <th>ZEC</th>\n",
       "      <td>Equihash</td>\n",
       "      <td>PoW</td>\n",
       "      <td>7.383056e+06</td>\n",
       "      <td>21000000</td>\n",
       "      <td>-0.141679</td>\n",
       "      <td>-2.174712</td>\n",
       "      <td>0.189443</td>\n",
       "      <td>ZCash</td>\n",
       "      <td>1</td>\n",
       "    </tr>\n",
       "  </tbody>\n",
       "</table>\n",
       "</div>"
      ],
      "text/plain": [
       "           Algorithm ProofType  TotalCoinsMined TotalCoinSupply       PC1  \\\n",
       "42            Scrypt   PoW/PoS     4.199995e+01              42 -0.339514   \n",
       "404           Scrypt   PoW/PoS     1.055185e+09       532000000 -0.322828   \n",
       "1337             X13   PoW/PoS     2.927942e+10    314159265359  2.304651   \n",
       "BTC          SHA-256       PoW     1.792718e+07        21000000 -0.142310   \n",
       "ETH           Ethash       PoW     1.076842e+08               0 -0.156474   \n",
       "LTC           Scrypt       PoW     6.303924e+07        84000000 -0.175454   \n",
       "DASH             X11   PoW/PoS     9.031294e+06        22000000 -0.379791   \n",
       "XMR   CryptoNight-V7       PoW     1.720114e+07               0 -0.151678   \n",
       "ETC           Ethash       PoW     1.133597e+08       210000000 -0.154916   \n",
       "ZEC         Equihash       PoW     7.383056e+06        21000000 -0.141679   \n",
       "\n",
       "           PC2       PC3          CoinName  Class  \n",
       "42    1.084533 -0.500174           42 Coin      0  \n",
       "404   1.084590 -0.500306           404Coin      0  \n",
       "1337  1.607080 -0.609089         EliteCoin      0  \n",
       "BTC  -1.348964  0.180977           Bitcoin      1  \n",
       "ETH  -2.050734  0.350499          Ethereum      1  \n",
       "LTC  -1.043715  0.007717          Litecoin      1  \n",
       "DASH  1.129097 -0.486735              Dash      0  \n",
       "XMR  -2.246435  0.363884            Monero      1  \n",
       "ETC  -2.050843  0.350487  Ethereum Classic      1  \n",
       "ZEC  -2.174712  0.189443             ZCash      1  "
      ]
     },
     "execution_count": 153,
     "metadata": {},
     "output_type": "execute_result"
    }
   ],
   "source": [
    "# Create a new DataFrame including predicted clusters and cryptocurrencies features.\n",
    "# Concatentate the crypto_df and pcs_df DataFrames on the same columns.\n",
    "clustered_df = pd.concat([crypto_df, pcs_df], axis=1, join='inner')\n",
    "\n",
    "#  Add a new column, \"CoinName\" to the clustered_df DataFrame that holds the names of the cryptocurrencies. \n",
    "clustered_df[\"CoinName\"] = cryptonames_df.CoinName\n",
    "\n",
    "#  Add a new column, \"Class\" to the clustered_df DataFrame that holds the predictions.\n",
    "clustered_df[\"Class\"] = km_model.labels_\n",
    "\n",
    "# Print the shape of the clustered_df\n",
    "print(clustered_df.shape)\n",
    "clustered_df.head(10)"
   ]
  },
  {
   "cell_type": "markdown",
   "metadata": {},
   "source": [
    "### Deliverable 4: Visualizing Cryptocurrencies Results\n",
    "\n",
    "#### 3D-Scatter with Clusters"
   ]
  },
  {
   "cell_type": "code",
   "execution_count": 154,
   "metadata": {
    "scrolled": true
   },
   "outputs": [
    {
     "data": {
      "application/vnd.plotly.v1+json": {
       "config": {
        "plotlyServerURL": "https://plot.ly"
       },
       "data": [
        {
         "customdata": [
          [
           "Scrypt"
          ],
          [
           "Scrypt"
          ],
          [
           "X13"
          ],
          [
           "SHA-256"
          ],
          [
           "Ethash"
          ],
          [
           "Scrypt"
          ],
          [
           "X11"
          ],
          [
           "CryptoNight-V7"
          ],
          [
           "Ethash"
          ],
          [
           "Equihash"
          ],
          [
           "SHA-512"
          ],
          [
           "Multiple"
          ],
          [
           "SHA-256"
          ],
          [
           "SHA-256"
          ],
          [
           "Scrypt"
          ],
          [
           "X15"
          ],
          [
           "X11"
          ],
          [
           "Scrypt"
          ],
          [
           "Scrypt"
          ],
          [
           "Scrypt"
          ],
          [
           "Multiple"
          ],
          [
           "Scrypt"
          ],
          [
           "SHA-256"
          ],
          [
           "Scrypt"
          ],
          [
           "Scrypt"
          ],
          [
           "Scrypt"
          ],
          [
           "Quark"
          ],
          [
           "Groestl"
          ],
          [
           "Scrypt"
          ],
          [
           "Scrypt"
          ],
          [
           "Scrypt"
          ],
          [
           "Scrypt"
          ],
          [
           "Scrypt"
          ],
          [
           "X11"
          ],
          [
           "Scrypt"
          ],
          [
           "Groestl"
          ],
          [
           "Multiple"
          ],
          [
           "SHA-256"
          ],
          [
           "Scrypt"
          ],
          [
           "Scrypt"
          ],
          [
           "Scrypt"
          ],
          [
           "Scrypt"
          ],
          [
           "PoS"
          ],
          [
           "Scrypt"
          ],
          [
           "Scrypt"
          ],
          [
           "NeoScrypt"
          ],
          [
           "Scrypt"
          ],
          [
           "Scrypt"
          ],
          [
           "Scrypt"
          ],
          [
           "Scrypt"
          ],
          [
           "X11"
          ],
          [
           "Scrypt"
          ],
          [
           "X11"
          ],
          [
           "SHA-256"
          ],
          [
           "Scrypt"
          ],
          [
           "Scrypt"
          ],
          [
           "Scrypt"
          ],
          [
           "SHA3"
          ],
          [
           "Scrypt"
          ],
          [
           "HybridScryptHash256"
          ],
          [
           "Scrypt"
          ],
          [
           "Scrypt"
          ],
          [
           "SHA-256"
          ],
          [
           "Scrypt"
          ],
          [
           "X13"
          ],
          [
           "Scrypt"
          ],
          [
           "SHA-256"
          ],
          [
           "Scrypt"
          ],
          [
           "X13"
          ],
          [
           "NeoScrypt"
          ],
          [
           "Scrypt"
          ],
          [
           "Scrypt"
          ],
          [
           "Scrypt"
          ],
          [
           "Scrypt"
          ],
          [
           "Scrypt"
          ],
          [
           "Scrypt"
          ],
          [
           "X11"
          ],
          [
           "X11"
          ],
          [
           "SHA-256"
          ],
          [
           "Multiple"
          ],
          [
           "SHA-256"
          ],
          [
           "PHI1612"
          ],
          [
           "X11"
          ],
          [
           "SHA-256"
          ],
          [
           "SHA-256"
          ],
          [
           "SHA-256"
          ],
          [
           "X11"
          ],
          [
           "Scrypt"
          ],
          [
           "Scrypt"
          ],
          [
           "Scrypt"
          ],
          [
           "Scrypt"
          ],
          [
           "Lyra2REv2"
          ],
          [
           "Scrypt"
          ],
          [
           "X11"
          ],
          [
           "Multiple"
          ],
          [
           "SHA-256"
          ],
          [
           "X13"
          ],
          [
           "Scrypt"
          ],
          [
           "CryptoNight"
          ],
          [
           "CryptoNight"
          ],
          [
           "Shabal256"
          ],
          [
           "Counterparty"
          ],
          [
           "Scrypt"
          ],
          [
           "SHA-256"
          ],
          [
           "Groestl"
          ],
          [
           "Scrypt"
          ],
          [
           "Scrypt"
          ],
          [
           "Scrypt"
          ],
          [
           "X13"
          ],
          [
           "Scrypt"
          ],
          [
           "Scrypt"
          ],
          [
           "Scrypt"
          ],
          [
           "Scrypt"
          ],
          [
           "X13"
          ],
          [
           "Scrypt"
          ],
          [
           "Stanford Folding"
          ],
          [
           "X11"
          ],
          [
           "Multiple"
          ],
          [
           "QuBit"
          ],
          [
           "Scrypt"
          ],
          [
           "Scrypt"
          ],
          [
           "Scrypt"
          ],
          [
           "M7 POW"
          ],
          [
           "Scrypt"
          ],
          [
           "SHA-256"
          ],
          [
           "Scrypt"
          ],
          [
           "X11"
          ],
          [
           "SHA3"
          ],
          [
           "X11"
          ],
          [
           "Lyra2RE"
          ],
          [
           "SHA-256"
          ],
          [
           "QUAIT"
          ],
          [
           "X11"
          ],
          [
           "X11"
          ],
          [
           "Scrypt"
          ],
          [
           "Scrypt"
          ],
          [
           "Scrypt"
          ],
          [
           "Ethash"
          ],
          [
           "X13"
          ],
          [
           "Blake2b"
          ],
          [
           "SHA-256"
          ],
          [
           "X15"
          ],
          [
           "X11"
          ],
          [
           "SHA-256"
          ],
          [
           "BLAKE256"
          ],
          [
           "Scrypt"
          ],
          [
           "1GB AES Pattern Search"
          ],
          [
           "SHA-256"
          ],
          [
           "X11"
          ],
          [
           "Scrypt"
          ],
          [
           "SHA-256"
          ],
          [
           "SHA-256"
          ],
          [
           "NIST5"
          ],
          [
           "Scrypt"
          ],
          [
           "Scrypt"
          ],
          [
           "X11"
          ],
          [
           "Dagger"
          ],
          [
           "Scrypt"
          ],
          [
           "X11GOST"
          ],
          [
           "X11"
          ],
          [
           "Scrypt"
          ],
          [
           "SHA-256"
          ],
          [
           "Scrypt"
          ],
          [
           "PoS"
          ],
          [
           "Scrypt"
          ],
          [
           "X11"
          ],
          [
           "X11"
          ],
          [
           "SHA-256"
          ],
          [
           "SHA-256"
          ],
          [
           "NIST5"
          ],
          [
           "X11"
          ],
          [
           "Scrypt"
          ],
          [
           "POS 3.0"
          ],
          [
           "Scrypt"
          ],
          [
           "Scrypt"
          ],
          [
           "Scrypt"
          ],
          [
           "X13"
          ],
          [
           "X11"
          ],
          [
           "X11"
          ],
          [
           "Equihash"
          ],
          [
           "X11"
          ],
          [
           "Scrypt"
          ],
          [
           "CryptoNight"
          ],
          [
           "SHA-256"
          ],
          [
           "SHA-256"
          ],
          [
           "X11"
          ],
          [
           "Scrypt"
          ],
          [
           "Multiple"
          ],
          [
           "Scrypt"
          ],
          [
           "Scrypt"
          ],
          [
           "Scrypt"
          ],
          [
           "SHA-256"
          ],
          [
           "Scrypt"
          ],
          [
           "Scrypt"
          ],
          [
           "SHA-256D"
          ],
          [
           "PoS"
          ],
          [
           "Scrypt"
          ],
          [
           "X11"
          ],
          [
           "Lyra2Z"
          ],
          [
           "PoS"
          ],
          [
           "X13"
          ],
          [
           "X14"
          ],
          [
           "PoS"
          ],
          [
           "SHA-256D"
          ],
          [
           "Ethash"
          ],
          [
           "Equihash"
          ],
          [
           "DPoS"
          ],
          [
           "X11"
          ],
          [
           "Scrypt"
          ],
          [
           "X11"
          ],
          [
           "X13"
          ],
          [
           "X11"
          ],
          [
           "PoS"
          ],
          [
           "Scrypt"
          ],
          [
           "Scrypt"
          ],
          [
           "X11"
          ],
          [
           "PoS"
          ],
          [
           "X11"
          ],
          [
           "SHA-256"
          ],
          [
           "Scrypt"
          ],
          [
           "X11"
          ],
          [
           "Scrypt"
          ],
          [
           "Scrypt"
          ],
          [
           "X11"
          ],
          [
           "CryptoNight"
          ],
          [
           "Scrypt"
          ],
          [
           "Scrypt"
          ],
          [
           "Scrypt"
          ],
          [
           "Scrypt"
          ],
          [
           "Quark"
          ],
          [
           "QuBit"
          ],
          [
           "Scrypt"
          ],
          [
           "CryptoNight"
          ],
          [
           "Lyra2RE"
          ],
          [
           "Scrypt"
          ],
          [
           "SHA-256"
          ],
          [
           "X11"
          ],
          [
           "Scrypt"
          ],
          [
           "X11"
          ],
          [
           "Scrypt"
          ],
          [
           "CryptoNight-V7"
          ],
          [
           "Scrypt"
          ],
          [
           "Scrypt"
          ],
          [
           "Scrypt"
          ],
          [
           "X13"
          ],
          [
           "X11"
          ],
          [
           "Equihash"
          ],
          [
           "Scrypt"
          ],
          [
           "Scrypt"
          ],
          [
           "Lyra2RE"
          ],
          [
           "Scrypt"
          ],
          [
           "Dagger-Hashimoto"
          ],
          [
           "X11"
          ],
          [
           "Blake2S"
          ],
          [
           "X11"
          ],
          [
           "Scrypt"
          ],
          [
           "PoS"
          ],
          [
           "X11"
          ],
          [
           "NIST5"
          ],
          [
           "PoS"
          ],
          [
           "X11"
          ],
          [
           "Scrypt"
          ],
          [
           "Scrypt"
          ],
          [
           "Scrypt"
          ],
          [
           "SHA-256"
          ],
          [
           "X11"
          ],
          [
           "Scrypt"
          ],
          [
           "Scrypt"
          ],
          [
           "SHA-256"
          ],
          [
           "PoS"
          ],
          [
           "Scrypt"
          ],
          [
           "X15"
          ],
          [
           "SHA-256"
          ],
          [
           "Scrypt"
          ],
          [
           "POS 3.0"
          ],
          [
           "CryptoNight-V7"
          ],
          [
           "536"
          ],
          [
           "Argon2d"
          ],
          [
           "Blake2b"
          ],
          [
           "Cloverhash"
          ],
          [
           "CryptoNight"
          ],
          [
           "NIST5"
          ],
          [
           "X11"
          ],
          [
           "NIST5"
          ],
          [
           "Skein"
          ],
          [
           "Scrypt"
          ],
          [
           "X13"
          ],
          [
           "Scrypt"
          ],
          [
           "X11"
          ],
          [
           "X11"
          ],
          [
           "Scrypt"
          ],
          [
           "CryptoNight"
          ],
          [
           "X13"
          ],
          [
           "Time Travel"
          ],
          [
           "Scrypt"
          ],
          [
           "Keccak"
          ],
          [
           "SkunkHash v2 Raptor"
          ],
          [
           "X11"
          ],
          [
           "Skein"
          ],
          [
           "SHA-256"
          ],
          [
           "X11"
          ],
          [
           "Scrypt"
          ],
          [
           "VeChainThor Authority"
          ],
          [
           "Scrypt"
          ],
          [
           "PoS"
          ],
          [
           "Scrypt"
          ],
          [
           "Scrypt"
          ],
          [
           "Scrypt"
          ],
          [
           "Scrypt"
          ],
          [
           "Scrypt"
          ],
          [
           "Scrypt"
          ],
          [
           "Scrypt"
          ],
          [
           "CryptoNight"
          ],
          [
           "SHA-512"
          ],
          [
           "Ouroboros"
          ],
          [
           "X11"
          ],
          [
           "Equihash"
          ],
          [
           "NeoScrypt"
          ],
          [
           "X11"
          ],
          [
           "Scrypt"
          ],
          [
           "NeoScrypt"
          ],
          [
           "Lyra2REv2"
          ],
          [
           "Equihash"
          ],
          [
           "Scrypt"
          ],
          [
           "SHA-256"
          ],
          [
           "NIST5"
          ],
          [
           "PHI1612"
          ],
          [
           "Dagger"
          ],
          [
           "Scrypt"
          ],
          [
           "Quark"
          ],
          [
           "Scrypt"
          ],
          [
           "POS 2.0"
          ],
          [
           "Scrypt"
          ],
          [
           "SHA-256"
          ],
          [
           "X11"
          ],
          [
           "NeoScrypt"
          ],
          [
           "Ethash"
          ],
          [
           "NeoScrypt"
          ],
          [
           "X11"
          ],
          [
           "DPoS"
          ],
          [
           "NIST5"
          ],
          [
           "X13"
          ],
          [
           "Multiple"
          ],
          [
           "Scrypt"
          ],
          [
           "CryptoNight"
          ],
          [
           "CryptoNight"
          ],
          [
           "Ethash"
          ],
          [
           "NIST5"
          ],
          [
           "Quark"
          ],
          [
           "X11"
          ],
          [
           "CryptoNight-V7"
          ],
          [
           "Scrypt"
          ],
          [
           "Scrypt"
          ],
          [
           "Scrypt"
          ],
          [
           "X11"
          ],
          [
           "BLAKE256"
          ],
          [
           "X11"
          ],
          [
           "NeoScrypt"
          ],
          [
           "Quark"
          ],
          [
           "NeoScrypt"
          ],
          [
           "Scrypt"
          ],
          [
           "Scrypt"
          ],
          [
           "Scrypt"
          ],
          [
           "X11"
          ],
          [
           "X11"
          ],
          [
           "SHA-256"
          ],
          [
           "C11"
          ],
          [
           "POS 3.0"
          ],
          [
           "Ethash"
          ],
          [
           "Scrypt"
          ],
          [
           "CryptoNight"
          ],
          [
           "SkunkHash"
          ],
          [
           "Scrypt"
          ],
          [
           "CryptoNight"
          ],
          [
           "Scrypt"
          ],
          [
           "Dagger"
          ],
          [
           "Lyra2REv2"
          ],
          [
           "X13"
          ],
          [
           "Proof-of-BibleHash"
          ],
          [
           "SHA-256 + Hive"
          ],
          [
           "Scrypt"
          ],
          [
           "Scrypt"
          ],
          [
           "X11"
          ],
          [
           "C11"
          ],
          [
           "Proof-of-Authority"
          ],
          [
           "X11"
          ],
          [
           "XEVAN"
          ],
          [
           "Scrypt"
          ],
          [
           "VBFT"
          ],
          [
           "Ethash"
          ],
          [
           "CryptoNight"
          ],
          [
           "Scrypt"
          ],
          [
           "IMesh"
          ],
          [
           "NIST5"
          ],
          [
           "Scrypt"
          ],
          [
           "Scrypt"
          ],
          [
           "Equihash"
          ],
          [
           "Scrypt"
          ],
          [
           "Lyra2Z"
          ],
          [
           "Green Protocol"
          ],
          [
           "PoS"
          ],
          [
           "Scrypt"
          ],
          [
           "Semux BFT consensus"
          ],
          [
           "X11"
          ],
          [
           "Quark"
          ],
          [
           "PoS"
          ],
          [
           "CryptoNight"
          ],
          [
           "X16R"
          ],
          [
           "Scrypt"
          ],
          [
           "NIST5"
          ],
          [
           "Lyra2RE"
          ],
          [
           "XEVAN"
          ],
          [
           "Tribus"
          ],
          [
           "Scrypt"
          ],
          [
           "Lyra2Z"
          ],
          [
           "CryptoNight"
          ],
          [
           "CryptoNight Heavy"
          ],
          [
           "CryptoNight"
          ],
          [
           "Scrypt"
          ],
          [
           "Scrypt"
          ],
          [
           "Jump Consistent Hash"
          ],
          [
           "SHA-256D"
          ],
          [
           "CryptoNight"
          ],
          [
           "Scrypt"
          ],
          [
           "X15"
          ],
          [
           "Scrypt"
          ],
          [
           "Quark"
          ],
          [
           "SHA-256"
          ],
          [
           "DPoS"
          ],
          [
           "X16R"
          ],
          [
           "HMQ1725"
          ],
          [
           "X11"
          ],
          [
           "X16R"
          ],
          [
           "Quark"
          ],
          [
           "Quark"
          ],
          [
           "Scrypt"
          ],
          [
           "Lyra2REv2"
          ],
          [
           "Quark"
          ],
          [
           "Scrypt"
          ],
          [
           "Scrypt"
          ],
          [
           "CryptoNight-V7"
          ],
          [
           "Cryptonight-GPU"
          ],
          [
           "XEVAN"
          ],
          [
           "CryptoNight Heavy"
          ],
          [
           "X11"
          ],
          [
           "X11"
          ],
          [
           "Scrypt"
          ],
          [
           "PoS"
          ],
          [
           "SHA-256"
          ],
          [
           "Keccak"
          ],
          [
           "X11"
          ],
          [
           "X11"
          ],
          [
           "Scrypt"
          ],
          [
           "SHA-512"
          ],
          [
           "X16R"
          ],
          [
           "ECC 256K1"
          ],
          [
           "Equihash"
          ],
          [
           "XEVAN"
          ],
          [
           "Lyra2Z"
          ],
          [
           "SHA-256"
          ],
          [
           "XEVAN"
          ],
          [
           "X11"
          ],
          [
           "CryptoNight"
          ],
          [
           "Quark"
          ],
          [
           "Blake"
          ],
          [
           "Blake"
          ],
          [
           "Equihash"
          ],
          [
           "Exosis"
          ],
          [
           "Scrypt"
          ],
          [
           "Scrypt"
          ],
          [
           "Equihash"
          ],
          [
           "Quark"
          ],
          [
           "Equihash"
          ],
          [
           "Quark"
          ],
          [
           "Scrypt"
          ],
          [
           "QuBit"
          ],
          [
           "X11"
          ],
          [
           "Scrypt"
          ],
          [
           "XEVAN"
          ],
          [
           "SHA-256D"
          ],
          [
           "X11"
          ],
          [
           "SHA-256"
          ],
          [
           "X13"
          ],
          [
           "SHA-256"
          ],
          [
           "X11"
          ],
          [
           "DPoS"
          ],
          [
           "Scrypt"
          ],
          [
           "Scrypt"
          ],
          [
           "X11"
          ],
          [
           "NeoScrypt"
          ],
          [
           "Scrypt"
          ],
          [
           "Blake"
          ],
          [
           "Scrypt"
          ],
          [
           "SHA-256"
          ],
          [
           "Scrypt"
          ],
          [
           "X11"
          ],
          [
           "Scrypt"
          ],
          [
           "Scrypt"
          ],
          [
           "SHA-256"
          ],
          [
           "X11"
          ],
          [
           "SHA-256"
          ],
          [
           "Scrypt"
          ],
          [
           "Scrypt"
          ],
          [
           "Scrypt"
          ],
          [
           "Groestl"
          ],
          [
           "X11"
          ],
          [
           "Scrypt"
          ],
          [
           "PoS"
          ],
          [
           "Scrypt"
          ],
          [
           "Scrypt"
          ],
          [
           "X11"
          ],
          [
           "SHA-256"
          ],
          [
           "DPoS"
          ],
          [
           "Scrypt"
          ],
          [
           "Scrypt"
          ],
          [
           "NeoScrypt"
          ],
          [
           "Multiple"
          ],
          [
           "X13"
          ],
          [
           "Equihash+Scrypt"
          ],
          [
           "DPoS"
          ],
          [
           "Ethash"
          ],
          [
           "DPoS"
          ],
          [
           "SHA-256"
          ],
          [
           "Leased POS"
          ],
          [
           "PoS"
          ],
          [
           "TRC10"
          ],
          [
           "PoS"
          ],
          [
           "SHA-256"
          ],
          [
           "Scrypt"
          ],
          [
           "CryptoNight"
          ],
          [
           "Equihash"
          ],
          [
           "Scrypt"
          ]
         ],
         "hovertemplate": "<b>%{hovertext}</b><br><br>PC1=%{x}<br>PC2=%{y}<br>PC3=%{z}<br>Algorithm=%{customdata[0]}<br>Class=%{marker.color}<extra></extra>",
         "hovertext": [
          "42 Coin",
          "404Coin",
          "EliteCoin",
          "Bitcoin",
          "Ethereum",
          "Litecoin",
          "Dash",
          "Monero",
          "Ethereum Classic",
          "ZCash",
          "Bitshares",
          "DigiByte",
          "BitcoinDark",
          "PayCoin",
          "ProsperCoin",
          "KoboCoin",
          "Spreadcoin",
          "Argentum",
          "Aurora Coin",
          "BlueCoin",
          "MyriadCoin",
          "MoonCoin",
          "ZetaCoin",
          "SexCoin",
          "Quatloo",
          "EnergyCoin",
          "QuarkCoin",
          "Riecoin",
          "Digitalcoin ",
          "BitBar",
          "Catcoin",
          "CryptoBullion",
          "CannaCoin",
          "CryptCoin",
          "CasinoCoin",
          "Diamond",
          "Verge",
          "DevCoin",
          "EarthCoin",
          "E-Gulden",
          "Einsteinium",
          "Emerald",
          "Exclusive Coin",
          "FlutterCoin",
          "Franko",
          "FeatherCoin",
          "GrandCoin",
          "GlobalCoin",
          "GoldCoin",
          "HoboNickels",
          "HyperStake",
          "Infinite Coin",
          "IOCoin",
          "IXcoin",
          "KrugerCoin",
          "LuckyCoin",
          "Litebar ",
          "MaxCoin",
          "MegaCoin",
          "MediterraneanCoin",
          "MintCoin",
          "MinCoin",
          "MazaCoin",
          "Nautilus Coin",
          "NavCoin",
          "NobleCoin",
          "Namecoin",
          "NyanCoin",
          "OpalCoin",
          "Orbitcoin",
          "PotCoin",
          "PhoenixCoin",
          "Reddcoin",
          "RonPaulCoin",
          "StableCoin",
          "SmartCoin",
          "SuperCoin",
          "SyncCoin",
          "SysCoin",
          "TeslaCoin",
          "TigerCoin",
          "TittieCoin",
          "TorCoin",
          "TerraCoin",
          "UnbreakableCoin",
          "Unobtanium",
          "UroCoin",
          "UnitaryStatus Dollar",
          "UltraCoin",
          "ViaCoin",
          "VeriCoin",
          "Vertcoin",
          "WorldCoin",
          "X11 Coin",
          "Crypti",
          "JouleCoin",
          "StealthCoin",
          "ZCC Coin",
          "ByteCoin",
          "DigitalNote ",
          "BurstCoin",
          "StorjCoin",
          "MonaCoin",
          "Neutron",
          "FairCoin",
          "Gulden",
          "RubyCoin",
          "PesetaCoin",
          "Kore",
          "Wild Beast Coin",
          "Dnotes",
          "Flo",
          "8BIT Coin",
          "Sativa Coin",
          "ArtByte",
          "Folding Coin",
          "Ucoin",
          "Unitus",
          "CypherPunkCoin",
          "OmniCron",
          "Vtorrent",
          "GreenCoin",
          "Cryptonite",
          "MasterCoin",
          "SoonCoin",
          "1Credit",
          "IslaCoin",
          "Nexus",
          "MarsCoin ",
          "Crypto",
          "Anarchists Prime",
          "Droidz",
          "BowsCoin",
          "Squall Coin",
          "Song Coin",
          "BitZeny",
          "Diggits",
          "Expanse",
          "Paycon",
          "Siacoin",
          "Emercoin",
          "EverGreenCoin",
          "MindCoin",
          "I0coin",
          "Decred",
          "Revolution VR",
          "HOdlcoin",
          "EDRCoin",
          "Hitcoin",
          "Gamecredits",
          "DubaiCoin",
          "CarpeDiemCoin",
          "PWR Coin",
          "BillaryCoin",
          "GPU Coin",
          "Adzcoin",
          "SoilCoin",
          "YoCoin",
          "SibCoin",
          "EuropeCoin",
          "ZeitCoin",
          "SwingCoin",
          "SafeExchangeCoin",
          "Nebuchadnezzar",
          "Francs",
          "BolivarCoin",
          "Ratecoin",
          "Revenu",
          "Clockcoin",
          "VIP Tokens",
          "BitSend",
          "Omni",
          "Let it Ride",
          "PutinCoin",
          "iBankCoin",
          "Frankywillcoin",
          "MudraCoin",
          "PizzaCoin",
          "Lutetium Coin",
          "Komodo",
          "GoldBlocks",
          "CarterCoin",
          "Karbo",
          "BitTokens",
          "ZayedCoin",
          "MustangCoin",
          "ZoneCoin",
          "Circuits of Value",
          "RootCoin",
          "DopeCoin",
          "BitCurrency",
          "DollarCoin",
          "Swiscoin",
          "Shilling",
          "BuzzCoin",
          "Opair",
          "PesoBit",
          "Halloween Coin",
          "ZCoin",
          "CoffeeCoin",
          "RoyalCoin",
          "GanjaCoin V2",
          "TeamUP",
          "LanaCoin",
          "Elementrem",
          "ZClassic",
          "ARK",
          "InsaneCoin",
          "KiloCoin",
          "ArtexCoin",
          "EmberCoin",
          "XenixCoin",
          "FreeCoin",
          "PLNCoin",
          "AquariusCoin",
          "Kurrent",
          "Creatio",
          "Eternity",
          "Eurocoin",
          "BitcoinFast",
          "Stakenet",
          "BitConnect Coin",
          "MoneyCoin",
          "Enigma",
          "Cannabis Industry Coin",
          "Russiacoin",
          "PandaCoin",
          "GameUnits",
          "GAKHcoin",
          "Allsafe",
          "LiteCreed",
          "OsmiumCoin",
          "Bikercoins",
          "HexxCoin",
          "Klingon Empire Darsek",
          "Internet of People",
          "KushCoin",
          "Printerium",
          "PacCoin",
          "Impeach",
          "Citadel",
          "Zilbercoin",
          "FirstCoin",
          "BeaverCoin",
          "FindCoin",
          "VaultCoin",
          "Zero",
          "OpenChat",
          "Canada eCoin",
          "Zoin",
          "RenosCoin",
          "DubaiCoin",
          "VirtacoinPlus",
          "TajCoin",
          "Impact",
          "EB3coin",
          "Atmos",
          "HappyCoin",
          "Coinonat",
          "MacronCoin",
          "Condensate",
          "Independent Money System",
          "ArgusCoin",
          "LomoCoin",
          "ProCurrency",
          "GoldReserve",
          "BenjiRolls",
          "GrowthCoin",
          "ILCoin",
          "Phreak",
          "Degas Coin",
          "HTML5 Coin",
          "Ultimate Secure Cash",
          "EquiTrader",
          "QTUM",
          "Quantum Resistant Ledger",
          "Espers",
          "Dynamic",
          "Nano",
          "ChanCoin",
          "Dinastycoin",
          "Denarius",
          "DigitalPrice",
          "Virta Unique Coin",
          "Bitcoin Planet",
          "Unify",
          "BritCoin",
          "SocialCoin",
          "ArcticCoin",
          "DAS",
          "Linda",
          "LeviarCoin",
          "DeepOnion",
          "Bitcore",
          "gCn Coin",
          "SmartCash",
          "Signatum",
          "Onix",
          "Cream",
          "Bitcoin Cash",
          "Monoeci",
          "Draftcoin",
          "Vechain",
          "Sojourn Coin",
          "Stakecoin",
          "NewYorkCoin",
          "FrazCoin",
          "Kronecoin",
          "AdCoin",
          "Linx",
          "CoinonatX",
          "Ethereum Dark",
          "Sumokoin",
          "Obsidian",
          "Cardano",
          "Regalcoin",
          "BitcoinZ",
          "TrezarCoin",
          "Elements",
          "TerraNovaCoin",
          "VIVO Coin",
          "Rupee",
          "Bitcoin Gold",
          "WomenCoin",
          "Theresa May Coin",
          "NamoCoin",
          "LUXCoin",
          "Pirl",
          "Xios",
          "Bitcloud 2.0",
          "eBoost",
          "KekCoin",
          "BlackholeCoin",
          "Infinity Economics",
          "Pura",
          "Innova",
          "Ellaism",
          "GoByte",
          "Magnet",
          "Lamden Tau",
          "Electra",
          "Bitcoin Diamond",
          "SHIELD",
          "Cash & Back Coin",
          "UltraNote",
          "BitCoal",
          "DaxxCoin",
          "Bulwark",
          "Kalkulus",
          "AC3",
          "Lethean",
          "GermanCoin",
          "LiteCoin Ultra",
          "PopularCoin",
          "PhantomX",
          "Photon",
          "Sucre",
          "SparksPay",
          "Digiwage",
          "GunCoin",
          "IrishCoin",
          "Trollcoin",
          "Litecoin Plus",
          "Monkey Project",
          "Pioneer Coin",
          "UnitedBitcoin",
          "Interzone",
          "TokenPay",
          "1717 Masonic Commemorative Token",
          "My Big Coin",
          "TurtleCoin",
          "MUNcoin",
          "Unified Society USDEX",
          "Niobio Cash",
          "ShareChain",
          "Travelflex",
          "KREDS",
          "Tokyo Coin",
          "BiblePay",
          "LitecoinCash",
          "BitFlip",
          "LottoCoin",
          "Crypto Improvement Fund",
          "Stipend",
          "Poa Network",
          "Pushi",
          "Ellerium",
          "Velox",
          "Ontology",
          "Callisto Network",
          "BitTube",
          "Poseidon",
          "Aidos Kuneen",
          "Bitspace",
          "Briacoin",
          "Ignition",
          "Bitrolium",
          "MedicCoin",
          "Alpenschillling",
          "Bitcoin Green",
          "Deviant Coin",
          "Abjcoin",
          "Semux",
          "FuturoCoin",
          "Carebit",
          "Zealium",
          "Monero Classic",
          "Proton",
          "iDealCash",
          "Jumpcoin",
          "Infinex",
          "Bitcoin Incognito",
          "KEYCO",
          "HollyWoodCoin",
          "GINcoin",
          "PlatinCoin",
          "Loki",
          "Newton Coin",
          "Swisscoin",
          "Xt3ch",
          "MassGrid",
          "TheVig",
          "PluraCoin",
          "EmaratCoin",
          "Dekado",
          "Lynx",
          "Poseidon Quark",
          "BitcoinWSpectrum",
          "Muse",
          "Motion",
          "PlusOneCoin",
          "Axe",
          "Trivechain",
          "Dystem",
          "Giant",
          "Peony Coin",
          "Absolute Coin",
          "Vitae",
          "HexCoin",
          "TPCash",
          "Webchain",
          "Ryo",
          "Urals Coin",
          "Qwertycoin",
          "ARENON",
          "EUNO",
          "MMOCoin",
          "Ketan",
          "Project Pai",
          "XDNA",
          "PAXEX",
          "Azart",
          "ThunderStake",
          "Kcash",
          "Xchange",
          "Acute Angle Cloud",
          "CrypticCoin",
          "Bettex coin",
          "Actinium",
          "Bitcoin SV",
          "BitMoney",
          "Junson Ming Chan Coin",
          "FREDEnergy",
          "HerbCoin",
          "Universal Molecule",
          "Lithium",
          "PirateCash",
          "Exosis",
          "Block-Logic",
          "Oduwa",
          "Beam",
          "Galilel",
          "Bithereum",
          "Crypto Sports",
          "Credit",
          "SLICE",
          "Dash Platinum",
          "Nasdacoin",
          "Beetle Coin",
          "Titan Coin",
          "Award",
          "BLAST",
          "Bitcoin Rhodium",
          "GlobalToken",
          "Insane Coin",
          "ALAX",
          "LiteDoge",
          "SolarCoin",
          "TruckCoin",
          "UFO Coin",
          "OrangeCoin",
          "BlakeCoin",
          "BitstarCoin",
          "NeosCoin",
          "HyperCoin",
          "PinkCoin",
          "Crypto Escudo",
          "AudioCoin",
          "IncaKoin",
          "Piggy Coin",
          "Crown Coin",
          "Genstake",
          "SmileyCoin",
          "XiaoMiCoin",
          "Groestlcoin",
          "CapriCoin",
          " ClubCoin",
          "Radium",
          "Bata",
          "Pakcoin",
          "Creditbit ",
          "OKCash",
          "Lisk",
          "HiCoin",
          "WhiteCoin",
          "FriendshipCoin",
          "JoinCoin",
          "Triangles Coin",
          "Vollar",
          "EOS",
          "Reality Clash",
          "Oxycoin",
          "TigerCash",
          "Waves",
          "Particl",
          "BitTorrent",
          "Nxt",
          "ZEPHYR",
          "Gapcoin",
          "Beldex",
          "Horizen",
          "BitcoinPlus"
         ],
         "legendgroup": "",
         "marker": {
          "color": [
           0,
           0,
           0,
           1,
           1,
           1,
           0,
           1,
           1,
           1,
           0,
           1,
           0,
           0,
           1,
           0,
           1,
           1,
           0,
           0,
           1,
           1,
           1,
           1,
           1,
           0,
           1,
           1,
           1,
           0,
           1,
           0,
           1,
           1,
           0,
           0,
           1,
           1,
           1,
           1,
           1,
           1,
           0,
           0,
           1,
           1,
           1,
           1,
           1,
           0,
           0,
           1,
           0,
           1,
           1,
           1,
           1,
           0,
           1,
           1,
           0,
           1,
           0,
           0,
           0,
           1,
           1,
           1,
           0,
           0,
           0,
           0,
           0,
           1,
           1,
           1,
           0,
           0,
           1,
           0,
           1,
           0,
           0,
           1,
           1,
           1,
           1,
           0,
           0,
           1,
           0,
           1,
           1,
           0,
           0,
           1,
           0,
           0,
           1,
           1,
           0,
           0,
           1,
           0,
           0,
           1,
           0,
           1,
           0,
           1,
           0,
           1,
           0,
           0,
           1,
           1,
           0,
           1,
           1,
           1,
           0,
           1,
           1,
           1,
           1,
           1,
           0,
           0,
           1,
           1,
           1,
           0,
           1,
           0,
           1,
           1,
           0,
           1,
           0,
           1,
           0,
           0,
           1,
           1,
           0,
           1,
           1,
           0,
           0,
           1,
           0,
           1,
           0,
           0,
           0,
           1,
           1,
           1,
           1,
           0,
           0,
           0,
           0,
           0,
           1,
           1,
           0,
           0,
           0,
           0,
           0,
           1,
           0,
           0,
           0,
           0,
           0,
           1,
           0,
           1,
           0,
           0,
           1,
           0,
           1,
           0,
           0,
           1,
           0,
           1,
           0,
           1,
           0,
           1,
           0,
           0,
           0,
           0,
           1,
           0,
           0,
           0,
           0,
           0,
           1,
           1,
           0,
           0,
           1,
           1,
           0,
           0,
           0,
           0,
           0,
           1,
           0,
           0,
           0,
           0,
           0,
           0,
           0,
           0,
           1,
           0,
           0,
           0,
           0,
           0,
           0,
           1,
           1,
           1,
           0,
           0,
           0,
           0,
           1,
           0,
           1,
           0,
           0,
           1,
           0,
           1,
           1,
           0,
           1,
           1,
           0,
           1,
           0,
           0,
           0,
           1,
           0,
           0,
           1,
           0,
           0,
           0,
           0,
           0,
           0,
           0,
           1,
           0,
           1,
           0,
           0,
           0,
           0,
           1,
           0,
           1,
           0,
           1,
           1,
           1,
           1,
           0,
           1,
           0,
           0,
           1,
           0,
           1,
           1,
           1,
           0,
           1,
           0,
           1,
           1,
           1,
           0,
           1,
           0,
           1,
           0,
           0,
           0,
           1,
           0,
           1,
           1,
           1,
           1,
           1,
           0,
           0,
           1,
           0,
           0,
           0,
           1,
           0,
           1,
           0,
           1,
           0,
           1,
           0,
           0,
           0,
           0,
           1,
           0,
           0,
           1,
           0,
           0,
           0,
           1,
           1,
           1,
           1,
           0,
           0,
           0,
           0,
           1,
           0,
           1,
           1,
           1,
           0,
           0,
           1,
           1,
           0,
           0,
           1,
           0,
           1,
           1,
           1,
           0,
           1,
           1,
           0,
           0,
           0,
           1,
           1,
           1,
           0,
           0,
           0,
           1,
           1,
           0,
           1,
           1,
           1,
           1,
           0,
           3,
           3,
           1,
           1,
           1,
           0,
           3,
           0,
           0,
           0,
           0,
           1,
           1,
           1,
           1,
           0,
           0,
           0,
           1,
           0,
           1,
           0,
           0,
           0,
           0,
           1,
           0,
           0,
           1,
           0,
           0,
           1,
           1,
           0,
           1,
           0,
           1,
           1,
           1,
           1,
           0,
           0,
           1,
           0,
           1,
           0,
           0,
           0,
           0,
           0,
           0,
           1,
           1,
           1,
           0,
           0,
           0,
           0,
           0,
           0,
           1,
           0,
           1,
           1,
           1,
           1,
           0,
           0,
           0,
           0,
           1,
           0,
           0,
           1,
           0,
           0,
           1,
           3,
           1,
           0,
           1,
           1,
           0,
           0,
           1,
           0,
           1,
           1,
           1,
           1,
           1,
           0,
           1,
           0,
           1,
           0,
           0,
           1,
           0,
           0,
           0,
           0,
           0,
           1,
           1,
           1,
           0,
           0,
           0,
           1,
           0,
           1,
           0,
           1,
           0,
           0,
           0,
           0,
           1,
           0,
           0,
           0,
           1,
           0,
           1,
           0,
           1,
           0,
           0,
           0,
           1,
           1,
           0,
           0,
           0,
           0,
           0,
           0,
           1,
           0,
           1,
           0,
           1,
           0,
           0,
           3,
           0,
           2,
           0,
           0,
           0,
           1,
           1,
           0
          ],
          "coloraxis": "coloraxis",
          "symbol": "circle"
         },
         "mode": "markers",
         "name": "",
         "scene": "scene",
         "showlegend": false,
         "type": "scatter3d",
         "x": [
          -0.33951363101691906,
          -0.32282769451854754,
          2.304651188549634,
          -0.14230977137746081,
          -0.15647414753885266,
          -0.1754542368096921,
          -0.3797914788585677,
          -0.1516775514378131,
          -0.15491586893616746,
          -0.14167939010996514,
          -0.30488456678218534,
          0.16534588362372601,
          -0.3051986551355334,
          -0.26697873366138336,
          -0.17660181326536267,
          -0.2248153337642829,
          -0.21708739149830172,
          -0.17621817270338094,
          -0.3391727961149172,
          -0.3317367635269531,
          -0.08829349626385125,
          2.5455872235140253,
          -0.13939116885036956,
          -0.1734708000885504,
          -0.17602228093802058,
          -0.33800748263095176,
          -0.22413101410417366,
          -0.18244931329246702,
          -0.17607051034763802,
          -0.33950956590142606,
          -0.17658404675581107,
          -0.3394938246132012,
          -0.17667056498725003,
          -0.21717687336833172,
          0.671148324067431,
          -0.3462721022902773,
          0.189192793205634,
          0.23597439045511032,
          0.07235171508107792,
          -0.17641649028237566,
          -0.17201713836745972,
          -0.1763558066155621,
          -0.3408807489401097,
          -0.29016798359427565,
          -0.17672764932923568,
          -0.1672186708649229,
          -0.15592903312739773,
          -0.17552126051119846,
          -0.17579924441191092,
          -0.33757035308091304,
          -0.32135856199430235,
          1.5742862957848316,
          -0.3796859844847641,
          -0.14227106995194366,
          -0.17308601621954292,
          -0.17644296820655422,
          -0.1767982056681557,
          -0.41782078514832977,
          -0.17605659189014025,
          -0.09771179538168827,
          -0.04074388277807785,
          -0.17667935961320566,
          -0.2684677023938274,
          -0.30104465951731485,
          -0.2801522083310194,
          -0.0415192402240259,
          -0.14234882284681127,
          -0.17033563398868304,
          -0.2807755427607131,
          -0.33478084625964755,
          -0.33381068066708997,
          -0.33791367279819556,
          0.019275681990686085,
          -0.17665889720624173,
          -0.1747525248031477,
          -0.17614506642242517,
          -0.34128114104818147,
          -0.38005796149144,
          -0.12948789096410956,
          -0.24597986969673127,
          -0.14181192400361328,
          -0.32056491597919434,
          -0.37996956269783405,
          -0.1420995947134276,
          -0.14208301098079254,
          -0.14267383006122294,
          -0.2173508676087443,
          -0.3147203289131469,
          -0.3381898492336869,
          -0.17637489095125494,
          -0.3366656723794412,
          -0.19465777439156934,
          -0.17347571040475113,
          -0.3799339198618325,
          -0.24644724069778648,
          -0.14187931772477155,
          -0.28055600979254247,
          -0.33061279355062984,
          3.851134844297299,
          0.445988969104024,
          0.0522256513399195,
          -0.36456892457286993,
          -0.17524140770246588,
          -0.30440950230089336,
          -0.34569256574908747,
          -0.1598312289103174,
          -0.3010246868453001,
          -0.17395862123737277,
          -0.28085121153692283,
          -0.17680043458860117,
          -0.29567512096263576,
          -0.17382333533238023,
          -0.33949566711862905,
          -0.28080328622164247,
          -0.16003192942700395,
          -0.09727196693686299,
          -0.3417270329921421,
          -0.12233811270060242,
          -0.1777455232729632,
          -0.17667328845731178,
          -0.3392298110748886,
          -0.04949989371980838,
          -0.09648000170148605,
          -0.1768093189940165,
          -0.14237665133674884,
          0.4754234937872821,
          -0.3800394569649703,
          -0.4333326431967781,
          -0.2167373311793319,
          -0.15184909577499753,
          -0.14211643519061484,
          -0.43559957510707914,
          -0.21702260660922196,
          -0.34455310588198673,
          -0.1749322115350644,
          -0.17412345540707203,
          -0.2994245469911477,
          -0.15754377037572667,
          -0.28032454385059036,
          0.39334572693626685,
          -0.29775379207749664,
          -0.2272572662561861,
          -0.21705800742533335,
          -0.14227219436272928,
          -0.0798658282197035,
          -0.17276231342938236,
          -0.13041297131334012,
          -0.3051695164768317,
          -0.05724648722445886,
          -0.17537105098772066,
          -0.3052331864910921,
          0.2767163472003223,
          -0.21235881757914796,
          -0.33910573397992494,
          -0.29929482512299094,
          -0.21621801761750004,
          -0.16291475844565714,
          -0.17561995867317154,
          -0.10839497517702355,
          -0.3772082012853231,
          0.8529995744849997,
          -0.305033245928778,
          -0.060482946756608445,
          -0.34056369265078557,
          -0.17659908120915885,
          -0.21702129308371337,
          -0.37787946260747096,
          -0.3037767364090661,
          -0.30144442374511893,
          -0.33393805746674426,
          -0.37877404971548045,
          -0.17680937755928686,
          -0.37636634880456155,
          -0.3153830922051239,
          -0.33914392891159345,
          -0.33758078462498364,
          -0.24132568641278532,
          -0.21717153943474737,
          -0.3292029392238435,
          -0.2157023508935,
          -0.37951301854647235,
          -0.3383472705398332,
          0.2907307438533246,
          -0.3052142315749753,
          -0.14253261947158502,
          -0.3800286654462105,
          -0.33933314972683765,
          -0.1023886325742079,
          -0.3394898897861615,
          -0.17397331830555537,
          -0.29928169937006477,
          -0.14249118420193765,
          -0.2744323299505833,
          -0.17647251798726835,
          0.048044927844156926,
          -0.3395195414039195,
          -0.3391033488323172,
          -0.3661842104002641,
          -0.13721006236962713,
          -0.3388465533326417,
          -0.2427564782701686,
          -0.42884727471359024,
          -0.3385982103609306,
          -0.26689808451677266,
          -0.15728556733986296,
          -0.14170104686078205,
          3.6912940146647633,
          -0.3796207995808748,
          -0.10352277281215974,
          -0.20373601494047802,
          0.8534007774864911,
          -0.37998350406733017,
          -0.33998383848966635,
          -0.3390312410990014,
          -0.33918588834634716,
          -0.2149981779030008,
          -0.34056369265078557,
          -0.37955832307467735,
          -0.30507664400937945,
          -0.33903191094359814,
          -0.3528600583479651,
          -0.339179507392274,
          -0.33476713018782595,
          -0.3800125643090181,
          0.2907249631899619,
          -0.33839019296614364,
          0.3429950939093508,
          -0.339378961581717,
          -0.33944954269374644,
          -0.3533598641010718,
          -0.33958690255213214,
          -0.17679110747535395,
          0.2908558703770285,
          -0.15238985212294137,
          -0.3356755200855778,
          -0.3051906026137325,
          -0.3799224058839337,
          -0.33922715516741847,
          0.4981669589974772,
          -0.3393543613886253,
          -0.15044224488865393,
          -0.30093169640972395,
          -0.32944081869685116,
          -0.17675934425584408,
          -0.24252405866126306,
          -0.20990415363840947,
          -0.1417133955737767,
          -0.32018515979140594,
          -0.17489036185820836,
          -0.1521078493104477,
          -0.3006721088311889,
          -0.18695464657281258,
          -0.37918792530618906,
          -0.41608434670652567,
          -0.3779241358293237,
          -0.14767840750053082,
          -0.3388081726130586,
          -0.37908562584779365,
          -0.17243913689648574,
          -0.3332014769394842,
          -0.3750241330083705,
          -0.3392975365922091,
          -0.3392968149270229,
          -0.33241790688765244,
          0.26573681600511284,
          -0.37956424051345444,
          -0.17632131046254462,
          -0.2835660595983555,
          -0.10882631185360961,
          -0.3405981704708578,
          -0.3385078161885645,
          0.9080755073265993,
          -0.2656690570070119,
          -0.1761434939643244,
          -0.3751432989030022,
          -0.1502987427588394,
          0.6169624526628928,
          -0.16967299290034857,
          -0.007696630783032348,
          -0.15258833968270663,
          0.3268891479565044,
          -0.33547551126397757,
          -0.21622662193890563,
          -0.33397636799064573,
          -0.4007626328495165,
          -0.1764626978964059,
          -0.28048805397626925,
          -0.17622632443565286,
          -0.21662153836254536,
          -0.21719954901892063,
          0.12566634614414898,
          0.2911202732023518,
          -0.28055881932714855,
          -0.14978527947952924,
          3.236709384261221,
          -0.13910306733221556,
          -0.3786701184383974,
          -0.20806811466474806,
          -0.4002666229147306,
          -0.14230893405972844,
          -0.37983674665879424,
          -0.30100557568752484,
          4.411867505064273,
          -0.10237449625595962,
          -0.3404645871742696,
          1.5734182512411896,
          -0.17656073397222657,
          -0.17601215158516395,
          -0.17571277302233215,
          -0.17569967994488458,
          -0.3389324017741786,
          -0.3394324522461579,
          0.29130379413009627,
          -0.3630110173175385,
          0.6537967231368949,
          -0.37977768006819723,
          0.07074658833438066,
          -0.3297758615613135,
          -0.17152446402103524,
          -0.33938812740202945,
          -0.17191224542387146,
          -0.31995182793860005,
          -0.141559212948628,
          0.43081552132125583,
          -0.3035348426607835,
          -0.32022927526630696,
          -0.39435565405903017,
          -0.16167311803022016,
          -0.3393384403685388,
          -0.3899573757648643,
          -0.17488856772387334,
          -0.33576811004976764,
          -0.3392085297815578,
          -0.09325791481947185,
          -0.21273983827481022,
          -0.17175759330136608,
          -0.15565086735234926,
          -0.1718578212131484,
          -0.37856957228927784,
          3.6961542478698672,
          0.22466411387458146,
          -0.27722597388994075,
          -0.1125600499705405,
          -0.3366665822591348,
          1.1291682169765855,
          0.29070780505642674,
          -0.08052090031793338,
          -0.29708259585445074,
          -0.35324562234673307,
          -0.21248338134777578,
          -0.13940174155972654,
          0.07507783981812566,
          -0.33834714706128,
          -0.09285593504426237,
          -0.3791506215337598,
          1.0888787423908786,
          -0.21717351086336417,
          -0.1719097262846882,
          -0.35241006399967706,
          -0.16494066160721224,
          -0.175810896834493,
          -0.32589953834301993,
          -0.3394546213340174,
          -0.3416989238677017,
          -0.21709882040057793,
          -0.14228828342809616,
          -0.1964175107849119,
          -0.3766486717986372,
          -0.28229690789971246,
          -0.295514127260885,
          8.030540968467205,
          -0.1104880074546739,
          -0.33499459124904374,
          0.2945853991358719,
          0.016463427815870152,
          -0.1611747330583698,
          -0.18020171133767277,
          -0.2343145196357896,
          -0.1667623486688186,
          -0.3918333760277554,
          -0.17638538218015828,
          0.1310305244742058,
          -0.211234797365187,
          -0.35914393565720487,
          -0.40798033720130916,
          -0.37985421110196055,
          -0.3118733907007812,
          -0.300165335133997,
          -0.3754981024616822,
          -0.10867914880365188,
          0.298633425637487,
          -0.1766225960583115,
          -0.13230265892517812,
          -0.33507423231868944,
          -0.33948201336385975,
          -0.3394637155822717,
          -0.14054904952095407,
          -0.2945411708569427,
          -0.1349929087086637,
          -0.35113534136566243,
          -0.3400586321802301,
          -0.3391800175137078,
          3.88910204759754,
          -0.21626746932500582,
          -0.3886229960621744,
          -0.34024754509428323,
          0.2908905870902574,
          -0.3277997064359004,
          -0.2860157216592603,
          -0.17249837440279028,
          -0.15223500530011871,
          -0.27652070431406095,
          -0.15870179642493396,
          -0.30069933697683165,
          -0.13729446064023051,
          0.29481890880173917,
          0.5629344893200379,
          2.1004496424112227,
          -0.14236321704816554,
          -0.3009520690007267,
          -0.17279992633262672,
          -0.33224134927281596,
          0.3045085328125286,
          -0.3386537535306787,
          -0.1884443610090479,
          2.2274085261708114,
          -0.34895344621614405,
          -0.2657958024268826,
          0.9968339923560741,
          -0.20338057518477565,
          -0.150661820966686,
          -0.21715565296274758,
          -0.36529175411809756,
          -0.3533593716313414,
          -0.39164220503110164,
          -0.18167210017193203,
          -0.3580365684806989,
          -0.3520775486576351,
          -0.17664723661271903,
          -0.33235788990341786,
          -0.1392905803144303,
          -0.1545336638795873,
          -0.14794226585895967,
          3.087873390131353,
          -0.34127598008918175,
          -0.3793268990070175,
          -0.298195189166703,
          -0.3393472914161743,
          -0.10208827011685216,
          -0.362018864122297,
          -0.34113765312609107,
          -0.21712701487434524,
          -0.19892809617051313,
          -0.3972487078296857,
          -0.2028081991270754,
          -0.3297443963589585,
          -0.03620466577133812,
          -0.27371011043135646,
          -0.1366920051396104,
          -0.14230897169424295,
          0.5165185564285132,
          -0.1312717858582969,
          0.370698757988596,
          -0.3909361516086634,
          -0.16058199003510462,
          -0.16097375760491092,
          -0.26554539513875275,
          -0.18907946383684915,
          -0.17553869495225805,
          -0.33918388965838353,
          -0.13961870894415412,
          -0.3913926706760788,
          -0.14139184537861402,
          -0.35347646721921433,
          0.5680606105223179,
          -0.17695626957194885,
          -0.3417533212634559,
          -0.3386666387497017,
          -0.3063243183362729,
          -0.2869386352814837,
          -0.3768916224805407,
          -0.14158430935589783,
          -0.1182394889840567,
          -0.1404514392323425,
          -0.3795543040159808,
          3.708412015149307,
          0.09610837530938866,
          0.5193490613113078,
          -0.37708915088884126,
          -0.09698642008321859,
          -0.3380524200204103,
          -0.11143346655885566,
          -0.33887714391983226,
          -0.2670115250547563,
          -0.33939575685748014,
          -0.37117270646248735,
          -0.16018279242722325,
          -0.2530697194735082,
          -0.08446147521424273,
          -0.3669194319334135,
          -0.14209896400687322,
          -0.33867295575432704,
          0.5397334795663761,
          -0.33172941424571234,
          -0.18200976316284329,
          -0.3761188739133795,
          -0.33711108063552103,
          -0.34083968792535474,
          -0.1767240069721427,
          -0.1746781256055022,
          -0.3237980626217886,
          -0.303712041696521,
          3.691686114044818,
          -0.10800703807751486,
          -0.3343024877115284,
          -0.33440671011047207,
          -0.12307438362402359,
          -0.28095846576803385,
          -0.09700820521370743,
          3.7015738513173018,
          -0.15731876582561907,
          3.7028202300732524,
          -0.24788569099555316,
          -0.3754927454438773,
          -0.34077543436351143,
          34.10137133168561,
          -0.27267607644972724,
          2.4640432100048515,
          -0.33755849137073246,
          0.3124879495256114,
          -0.14168044900139862,
          -0.3013487340123905
         ],
         "y": [
          1.084533309793534,
          1.0845898724496215,
          1.607080300023974,
          -1.3489635098220598,
          -2.0507343042648474,
          -1.043714543182383,
          1.1290974676337027,
          -2.246435457095463,
          -2.05084305450282,
          -2.1747122491705073,
          1.6852943580043052,
          -1.7810882245005526,
          0.7792543962344927,
          0.6306584341174822,
          -1.043699646841097,
          1.7633896909907005,
          -0.9991245444207566,
          -1.0437202316738847,
          1.0845302673600024,
          1.0847360379946551,
          -1.7741855480195607,
          -1.245859054611317,
          -1.3489932647068283,
          -1.0437809134481142,
          -1.0437407317079357,
          1.0845725722524382,
          -0.5328139614773727,
          -1.2863406978609555,
          -1.043705119777754,
          1.0845330601465764,
          -1.0436991837019225,
          1.0845331148454025,
          -1.0436958483022587,
          -0.9991254544565356,
          0.5068779000702088,
          0.8419102075285958,
          -1.777304881914862,
          -1.354024583006119,
          -1.0467974240090845,
          -1.0436948158227624,
          -1.0437784362908784,
          -1.0437010581415884,
          1.6323804256740935,
          0.5268472011510831,
          -1.043695981947137,
          -1.6885628055169415,
          -1.0441562797160304,
          -1.0437063322561866,
          -1.0437151761202001,
          1.0844986121883322,
          0.9810373110994128,
          -1.0624855579048447,
          1.1291002176717497,
          -1.3489625009493658,
          -1.0437818515755932,
          -1.043694794758631,
          -1.0436907895039305,
          2.0501633692992307,
          -1.0437003711152155,
          -2.313934095405992,
          0.9427226297551641,
          -1.0436938441003525,
          0.7785067900290317,
          0.9359255739546016,
          1.7631587778896998,
          -1.0508327636522818,
          -1.3489645278197222,
          -1.0437610681410916,
          1.7631425287445046,
          0.4397703009806765,
          1.0843832317065176,
          1.0845053109487135,
          1.093886266059787,
          -1.0437011349110632,
          -1.0438143255780974,
          -1.0437092213770935,
          0.9805179672860623,
          1.1291061686797086,
          -1.3492459590732615,
          0.20592110605929684,
          -1.3489690340259426,
          1.5600409609381651,
          1.129101360846262,
          -1.3489729680757185,
          -1.3489995649164648,
          -1.348958240803841,
          -0.9991171868758199,
          1.0840415547851119,
          1.084496688966662,
          -1.0436951539938686,
          0.6439365160015883,
          -1.2933986526291272,
          -1.0437920101631752,
          1.1291054908073892,
          0.20598005191925534,
          -1.3489693597528554,
          1.7631482515522066,
          1.0840540444114846,
          -2.3532432621861092,
          -2.3179114207600056,
          0.6875824999065845,
          1.6169941445223375,
          -1.0437240176470908,
          0.7792422484567574,
          0.8419284304108453,
          -1.0444425052075963,
          0.935937603330592,
          -1.0437341559374622,
          1.7631320206830052,
          -1.0436917566405517,
          0.9357214096838077,
          -1.0437260869714444,
          1.0845337781081306,
          1.7631346925916827,
          -1.0439640576133382,
          -2.3684073535605497,
          0.9804921178626667,
          -1.7736504398438584,
          -1.6684192290723008,
          -1.0436889709129555,
          1.0845264826035363,
          -1.0474843374047138,
          -2.1060107393263774,
          -1.0436905595917987,
          -1.3489652532556242,
          -1.0921266356709982,
          1.1291066517688766,
          2.383417712500465,
          -0.9991246658263294,
          -2.2210384016620264,
          -1.348981771884744,
          1.9451857672765593,
          -0.9991235668950379,
          0.711028002768159,
          -1.0437907286466057,
          -1.0437979269332165,
          0.9359081866040968,
          -2.0507742127092454,
          1.7631187207625492,
          -2.2256701991778933,
          0.7787528247875094,
          1.7635562815254804,
          -0.9991209332603732,
          -1.3489625302606205,
          0.9392207558359392,
          -1.0437339928120914,
          -2.4153130083104353,
          0.779255155824006,
          1.1186364133217706,
          -1.0437123746859316,
          0.7792616759410962,
          -1.3534079863386146,
          1.4074981625175518,
          1.084514068604219,
          0.9358254642751928,
          -0.9991474042683555,
          -2.1864157447818138,
          -1.0437788617552144,
          -2.335601027614608,
          1.1289073205842648,
          0.8956027836179578,
          0.7792459048582476,
          0.5147299048606777,
          1.6323744648626992,
          -1.0436988643282323,
          -0.999126377827308,
          1.1291096117200778,
          0.7791486885992093,
          0.7789944813661632,
          1.4042648061480356,
          1.1290407687583424,
          -1.0436905589632652,
          1.640821774088084,
          1.0837397604656833,
          1.0845114132506244,
          1.084512566124715,
          1.614429612738532,
          -0.99913029446444,
          0.9803655033486882,
          -1.98219806907711,
          1.1290848103516837,
          1.0844996982255382,
          -2.314852887405174,
          0.7792547014796345,
          -1.3489613070405404,
          1.129104799203243,
          1.0845230774677197,
          -1.7739839467865637,
          1.0845339287122198,
          -1.0437584484766813,
          0.9359830397050476,
          -1.3489608687002883,
          0.7051483539361117,
          -1.0437026779987812,
          1.8523981010437973,
          1.6323632740626879,
          1.0845440051010469,
          1.1284008917230017,
          -2.249671495522113,
          1.6324050016303906,
          1.6145327950588941,
          1.8238811493870364,
          1.6322258278241688,
          1.8530750336967088,
          -2.0507740962641274,
          -2.1747128137208858,
          1.9978477336559084,
          1.1290962265716693,
          -1.0488926113013874,
          -0.9991179201875713,
          1.7921037528595813,
          1.1291053695089937,
          1.6323682417594403,
          1.0845184715671805,
          1.0845119791320579,
          -0.9992180316047512,
          1.6323744648626992,
          1.1290765164151773,
          0.7792589994196094,
          1.0845223946707443,
          0.6111182416302824,
          1.0845221035782688,
          1.084194232078765,
          1.129103796342629,
          -2.3148608623229068,
          1.0844601694786538,
          0.9295983323017968,
          1.084527573586409,
          1.0845326219856668,
          1.4468480889093045,
          0.45977061977745487,
          -1.0436915748750744,
          -2.3148602949944506,
          -2.2210128157370472,
          1.0842777154155057,
          0.7792553174417948,
          1.1291030496303758,
          1.084526551838002,
          -1.051594330193378,
          1.084521860646414,
          -2.246534844268054,
          0.9359009062806428,
          0.6075326583137396,
          -1.0436912061603156,
          1.6145303006882021,
          -0.999634358526659,
          -2.1747102904550037,
          1.084325873026951,
          -1.043711224726449,
          -2.2210132886866263,
          0.9359223070844299,
          -2.1736063664306857,
          1.1290577202479446,
          2.019418680916916,
          1.1290835519068632,
          -1.0457759047894717,
          1.6323560052396606,
          1.129060387000611,
          -0.7239603498287153,
          1.6322960923775687,
          1.1288817450696307,
          1.0845238549542726,
          1.0845186188175355,
          1.0840069885337567,
          0.5912072073186228,
          1.1290905880257145,
          -1.0437026629294661,
          0.9349701299048524,
          -1.349853955806164,
          1.6323664531579198,
          1.0844848437050685,
          1.7291545559246717,
          0.6305591475080776,
          -1.0437239752877063,
          1.640806355669534,
          -2.2464741999722353,
          1.618592073963628,
          -2.1360232166152997,
          -2.236366652657039,
          -2.296640325874078,
          -2.3153257802159253,
          1.4042816311140944,
          -0.9991590092602253,
          1.4042424686650112,
          1.805555664080107,
          -1.0436947946668411,
          1.7631286842309253,
          -1.0437282684008815,
          -0.9991408522477844,
          -0.9991266857317095,
          1.0610950013628446,
          -2.3148740300218087,
          1.7631347361578547,
          -2.148925600200093,
          -1.0969648361827835,
          -1.1493676818161584,
          1.5668642003555258,
          -0.9996576258109582,
          1.8055685941174426,
          -1.3489634879947718,
          1.1291051735831106,
          0.9359257208275924,
          2.494216463066525,
          -1.0492183245848559,
          1.632347458575998,
          -0.9980650089742609,
          -1.0436978646885666,
          -1.0437290869613916,
          -1.0437326634241682,
          -1.0437323221124961,
          1.0845141400397524,
          1.084532438567788,
          -2.3148940622135386,
          1.6862751692835223,
          1.743010204784494,
          1.129094270875239,
          -2.184096930317339,
          0.43961893566717547,
          -0.9992029075586393,
          1.0845253904492973,
          -1.6884653684509374,
          0.6862436279752542,
          -2.174709116380065,
          1.0868319947061498,
          0.7792422877859608,
          1.403832632459426,
          1.7093097137799131,
          -2.1864732187120213,
          1.0845229395507345,
          1.59536151218763,
          -1.0437111779567732,
          1.5568128313603202,
          1.0845307444310637,
          0.6287942571067275,
          -0.9992459387663408,
          -1.688474140243947,
          -2.050912005050414,
          -1.6884673639231513,
          1.129042542629914,
          1.9977076957035351,
          1.3975517202633625,
          1.763085687663396,
          -1.7738649979206962,
          1.084458155376671,
          -2.3534492357655328,
          -2.3148552636094264,
          -2.0558672807715963,
          1.2556708199747655,
          1.4468475105082224,
          -0.9993815120904551,
          -2.246826374589701,
          1.0597762550441068,
          1.0844570238435922,
          -1.0450580803577212,
          1.1290942573538028,
          -1.226778577388532,
          -0.9991266471304387,
          -1.6884610350216818,
          1.4467981625933783,
          -1.6886200742491897,
          -1.0437096147651868,
          1.084248039361396,
          1.0845320029204246,
          0.9804921393208301,
          -0.9991269762305814,
          -1.3489623564533584,
          -1.2052943294687044,
          1.6408204604570586,
          -0.07114963454026406,
          0.6018491645814867,
          -2.8243769623989374,
          -2.4372979386429146,
          1.0844860925544397,
          -2.314984285490936,
          -1.0457647988422138,
          -2.186420176157632,
          -1.2937444845500006,
          1.6141856045378877,
          2.161875857236891,
          3.6606686619010023,
          -1.0437075194671817,
          -1.0487580809608483,
          -0.9993133992091076,
          0.9229311257870578,
          3.129741409377763,
          1.1290936984431743,
          1.3732602107229375,
          0.9358718046232639,
          1.80593639846345,
          -2.054111786138621,
          -2.315351059907286,
          -1.0437001886090538,
          -2.3465247715232467,
          1.4042636399605142,
          1.084532000155556,
          1.0845310545572908,
          -2.1747176367112635,
          0.9357509696102835,
          -2.249811864861758,
          1.642048218284536,
          1.6323392628827496,
          1.084520667693678,
          2.150148821834252,
          -0.9991600740740332,
          1.5953962969331885,
          1.6323400286284997,
          -2.314854695459558,
          0.6581768810974589,
          1.0822846889312363,
          -0.7239425098717618,
          -2.221020359030746,
          0.9552058177778668,
          -2.2860942184097452,
          0.9359275909569809,
          -2.2496659425273213,
          -2.3151659801492177,
          -2.2987728042908113,
          -2.3985478142766574,
          1.0824174546942522,
          0.9359081994326852,
          -2.2769664153193676,
          1.8566394973623654,
          -2.3151979070169952,
          1.084495976555898,
          1.6149237092741056,
          0.32460512762644755,
          1.446511284582972,
          0.6306268462164951,
          1.7812769624136,
          -1.3214292235672929,
          -2.195300694509263,
          -0.9991270351608884,
          0.8067718681680038,
          1.446843833986976,
          1.5954561866845665,
          0.9270422669859055,
          0.8348295994289396,
          1.446821056504005,
          -1.0437016171077458,
          1.084008553062595,
          -2.2473573156312585,
          -2.173228334519968,
          -0.7550379313825691,
          -2.364058030337591,
          0.980478980688401,
          1.1290896621347333,
          0.9358264266932117,
          1.632271028397716,
          -1.3493937905114641,
          0.9805822812390261,
          0.9804505784091199,
          -0.9991291337936793,
          1.075394827579084,
          1.9422920165933097,
          -1.3214697298462421,
          3.035751357389058,
          -2.1773536156225166,
          1.2246631277239246,
          -2.249702517717145,
          -1.3489634889758313,
          0.8844904819778098,
          0.9859925124776573,
          -2.318508410401439,
          1.595439846188173,
          -2.063630046046419,
          -2.063583432603165,
          -0.19513516829428781,
          -2.1512066443954474,
          -1.0437423514062971,
          1.084526968394337,
          -2.174830521855886,
          1.5954528152640604,
          -2.1747117852712825,
          1.4468462086955391,
          1.0549873049630663,
          -1.6684697840613585,
          0.9804916459653457,
          1.0844956406626995,
          1.3730918954321738,
          1.8543351157114567,
          1.1288899666322092,
          -1.3489751840183317,
          -0.3650867799291932,
          -1.3490196267529886,
          1.1290979599848057,
          1.9976715857520948,
          1.0709938813776654,
          -1.0953204689317728,
          1.129183560647189,
          -1.6893381628954867,
          1.0844291421506835,
          -2.0672531196155264,
          1.084511309817212,
          0.6306515333146643,
          1.0845363825789611,
          1.1289821444478325,
          -1.0439679903253438,
          1.0793181583459304,
          0.7848890981680605,
          1.128737372566745,
          -1.3489729516343967,
          1.0845445552312987,
          -1.0605758758747639,
          1.0844517122378163,
          -1.2863441767838322,
          1.1290609049097924,
          1.0844821328152003,
          1.6323750944166746,
          -1.043691451505505,
          -1.0437640181846901,
          0.23902364246563704,
          0.7792341120767745,
          1.99783311771676,
          0.9338499887995493,
          1.0844557664321486,
          0.4397399383744957,
          -1.773671624650409,
          1.7631376749337773,
          -2.183342892074455,
          1.9982046211497198,
          -2.050773739971729,
          1.9982371118776658,
          0.6304537513122649,
          2.2263597134255737,
          1.6323770296188318,
          1.5557835072053627,
          1.7472429221491157,
          0.846844659911182,
          1.0844064532655369,
          -2.315274574451696,
          -2.174712276773796,
          0.9359284447427959
         ],
         "z": [
          -0.5001741710012674,
          -0.5003062487534778,
          -0.6090892117039265,
          0.18097665884165248,
          0.3504986116881897,
          0.007717045019434351,
          -0.48673460547809816,
          0.36388425867329377,
          0.3504874778578045,
          0.18944283897271308,
          0.14570947739933793,
          0.3298999596817508,
          -0.32692346525301386,
          -0.03772083277948906,
          0.00772593085788725,
          -0.655888385244652,
          0.02116701801420291,
          0.007723124594776748,
          -0.5001768246821904,
          -0.5002375860037374,
          0.33182590795724753,
          -0.01159571918488905,
          0.1809539740967255,
          0.007702114765755539,
          0.007721796865250502,
          -0.5001864526050924,
          0.041647133008688955,
          0.10540193072998708,
          0.007721801916307592,
          -0.5001742004048861,
          0.007725785984229068,
          -0.5001743250193553,
          0.007726432610990249,
          0.02116773269765831,
          -0.3313488482599611,
          -0.40249118183831395,
          0.3296722123599996,
          0.17804914047807388,
          0.005796841259844388,
          0.0077244196765043445,
          0.007690634090695207,
          0.00772400723082726,
          -0.122927880397993,
          -0.2718807990680499,
          0.007726883832521831,
          0.2083282458691421,
          0.007567841367314528,
          0.007717486694313762,
          0.0077197702815659346,
          -0.5001891183190537,
          -0.19769688969351942,
          -0.005872937565904948,
          -0.486735465712115,
          0.18097634325816211,
          0.007699092616915284,
          0.007724628095947524,
          0.007727385128089322,
          -0.22703631665535287,
          0.0077216422387240856,
          0.3808839624932362,
          -0.21309607189596982,
          0.007726480807122515,
          -0.32720502633147536,
          -0.21097337702139143,
          -0.5903649107601392,
          0.006736615240297775,
          0.18097697727950846,
          0.007677201256992984,
          -0.5903598278968578,
          -0.29953626657642435,
          -0.5002175289184052,
          -0.5001864835587635,
          -0.5030998509223595,
          0.007726396338138575,
          0.0077125663486914495,
          0.007722432593856745,
          -0.19753443477249724,
          -0.48673259726386275,
          0.18087859889267743,
          0.11338348363333553,
          0.18097279406353273,
          -0.2667859707933254,
          -0.48673324320462,
          0.18097510228152366,
          0.1809752516652117,
          0.18097947207619763,
          0.021169016684440555,
          -0.5003643596278948,
          -0.5001842165503917,
          0.007724095442199939,
          -0.22041246487326502,
          0.21517392552551046,
          0.00770227030479945,
          -0.48673356755154285,
          0.11338654574162967,
          0.18097332854369755,
          -0.5903616180371257,
          -0.5002392613997098,
          0.34652644233691227,
          0.37298633622978056,
          -0.3902101193166326,
          0.035067154154758945,
          0.007715467729233817,
          -0.32692955572020804,
          -0.402495940365306,
          0.007601603871923095,
          -0.21097366106984156,
          0.0077054663588857755,
          -0.5903591209923971,
          0.007727412875373225,
          -0.21101353819510282,
          0.0077043153655383095,
          -0.5001743174847973,
          -0.5903595267699712,
          0.007598147378672654,
          0.37720542977846505,
          -0.19753064903445428,
          0.33208853876274025,
          0.18613589455439883,
          0.007726381653626918,
          -0.500176335561753,
          0.006764242948876174,
          0.3703585048443705,
          0.007727470278145434,
          0.18097720420169175,
          0.0030980180504587484,
          -0.4867327481630308,
          0.43037803170364863,
          0.021164260880694376,
          0.3417809722528994,
          0.1809753276841395,
          -0.601041838040524,
          0.021166497227824526,
          -0.5244237511951156,
          0.007713733775653552,
          0.007707436720705991,
          -0.21098596012853602,
          0.35050746035190816,
          -0.5903631309923002,
          0.37757849065050875,
          -0.3269768479576125,
          -0.655870897430839,
          0.021166748448087972,
          0.18097635242695823,
          -0.42898249662295146,
          0.007696037952420465,
          0.26295938702886956,
          -0.3269237028587214,
          -0.4891660483381321,
          0.007716366696306415,
          -0.32692326980633934,
          0.17772160857581606,
          -0.5507866327848687,
          -0.5001771825493458,
          -0.21098611126040692,
          0.02116040821608857,
          0.31770773210685477,
          0.007719028142020313,
          0.33795557665436055,
          -0.48675295901919824,
          -0.21964244393713442,
          -0.32692467923475493,
          -0.3256664067619018,
          -0.12293031597771457,
          0.0077259010900432865,
          0.021166516476150567,
          -0.4867497996950367,
          -0.3269335566303943,
          -0.3269503110540184,
          -0.5497945636746149,
          -0.4867420256052845,
          0.007727470733010807,
          -0.08667681602149166,
          -0.50035595932712,
          -0.5001768536197537,
          -0.5001891830531038,
          -0.3011656555814776,
          0.02116774163174032,
          -0.19762800339357997,
          -0.27598970795799177,
          -0.48673666641574476,
          -0.5001830077860374,
          0.3741775370461589,
          -0.3269233457276758,
          0.18097839164931978,
          -0.4867328136910224,
          -0.5001754854163606,
          0.33193485224875746,
          -0.5001743645949671,
          0.007705837965688673,
          -0.21098787393313936,
          0.18097806053124935,
          -0.15531496461180078,
          0.00772494395212904,
          -0.6527872337133607,
          -0.12293842586301976,
          -0.5001775165704199,
          -0.48683449345481206,
          0.3843239270911227,
          -0.12294416827173131,
          -0.3011554676942695,
          -0.691608550472391,
          -0.12294423849771356,
          -0.6503126678300523,
          0.3505054245326182,
          0.18944301556861134,
          0.28377636365021564,
          -0.48673593733169956,
          0.007204762348127015,
          0.02106174183379695,
          -0.5996018888883011,
          -0.48673317555973433,
          -0.12293481959516066,
          -0.5001778159022495,
          -0.5001765289456516,
          0.02115153979475025,
          -0.12293031597771457,
          -0.4867362220904405,
          -0.3269244751493881,
          -0.5001778519336509,
          -0.2639330698463832,
          -0.5001766858352195,
          -0.5002080021334946,
          -0.4867329300051036,
          0.374177666571352,
          -0.5001822533336859,
          -0.2159816687450812,
          -0.500175171770658,
          -0.5001746687631231,
          -0.17701484983792995,
          -0.3217721882478559,
          0.007727337465449211,
          0.3741766290725572,
          0.3417849638992325,
          -0.50020172325192,
          -0.3269235384055927,
          -0.48673363257439745,
          -0.5001763572188506,
          0.01608344180808205,
          -0.5001753054593744,
          0.3638755712125942,
          -0.2109740074035352,
          -0.29188021931440494,
          0.007727083294526763,
          -0.3011572728533522,
          0.021115783662649927,
          0.1894430863046444,
          -0.5003242915764866,
          0.007712566844166389,
          0.34178274674824727,
          -0.2109762782536773,
          0.26930482168685077,
          -0.48673894283710073,
          -0.5803867518225952,
          -0.48674917327246003,
          0.007519882326260843,
          -0.12294395478065807,
          -0.48673977701877924,
          -0.04188341058135675,
          -0.12298750365385501,
          -0.48676989977541774,
          -0.5001757742282188,
          -0.5001757247791239,
          -0.5002245419427656,
          -0.041503119659650804,
          -0.48673632363391267,
          0.007723752305552318,
          -0.21110104454833814,
          0.1807221915014864,
          -0.12292995993676349,
          -0.5001815862996783,
          -0.6644548692971474,
          -0.037730107322057095,
          0.007722575559500521,
          -0.0866862910796333,
          0.3638738018670355,
          -0.6728995710906872,
          0.48898992122826573,
          0.38085126372022965,
          0.30959229767438695,
          0.37389759485894564,
          -0.5497826259814601,
          0.02116059821529819,
          -0.5497940265844895,
          -0.7187489937900124,
          0.007724783561362411,
          -0.5903619474758696,
          0.00772327345440521,
          0.021163518894716956,
          0.02116792434280796,
          -0.503592903285945,
          0.37417469025384853,
          -0.5903614535835521,
          0.40115665751698937,
          -0.018609468998500443,
          0.08558366790106521,
          -0.023088001221840918,
          0.021101561008986976,
          -0.7187530384096656,
          0.18097665201390226,
          -0.4867343299184557,
          -0.21097368654143847,
          -3.474964280239293,
          0.007199143845902342,
          -0.12293081253901637,
          -0.006544435651340727,
          0.00772558839471755,
          0.007721594430458863,
          0.007719273041208148,
          0.0077191662761725705,
          -0.5001785491279276,
          -0.5001748015013925,
          0.3741734550779762,
          0.14615717551171672,
          -0.07853651874835765,
          -0.486734680548711,
          0.18786777994737386,
          -0.2995741110964074,
          0.020808815552091093,
          -0.5001750765575687,
          0.20836420438950426,
          -0.0035188546315722616,
          0.18944185901067084,
          -0.5062684299401451,
          -0.32693644829383245,
          -0.5498980356745066,
          -0.5557153960558525,
          0.3176985533966708,
          -0.5001754422748189,
          -0.4662293974859892,
          0.007712552214235633,
          -0.05740726780033191,
          -0.500176548130854,
          -0.039070091870393536,
          0.02113403834561044,
          0.20836307812438165,
          0.350493995550443,
          0.20836379654858875,
          -0.4867436555289412,
          0.28373954047046634,
          -0.5541255598526711,
          -0.5903871993289215,
          0.3320137486623813,
          -0.5001958138656023,
          0.36797721506578335,
          0.37417774282077426,
          0.34995416328624496,
          -0.2605812003109634,
          -0.17701574395178482,
          0.02113344507699846,
          0.36379164381452167,
          -0.5031803888329917,
          -0.5001825594045815,
          0.007080332599060955,
          -0.4867396215139738,
          0.07138949930947598,
          0.021167718760394548,
          0.20836413890882413,
          -0.17702180837449058,
          0.2083108985995476,
          0.007719803540362229,
          -0.5002784437327251,
          -0.5001746222256995,
          -0.19753087075521275,
          0.021167133678452212,
          0.18097647737571557,
          0.12659717026860023,
          -0.08667457753512348,
          0.13181060427839156,
          -0.2503154337556359,
          0.3185544421192489,
          0.32365136977149206,
          -0.5002092830258638,
          0.37414854666182906,
          0.006226357459178062,
          0.3176940676837406,
          0.2150636559228238,
          -0.30121833293791705,
          10.596684058002245,
          15.308731734910843,
          0.007724308317647053,
          0.005355108278602607,
          0.02112288924364158,
          -0.38130431346451643,
          12.00070820379259,
          -0.4867340714704122,
          -0.7874350887062671,
          -0.21097973975572262,
          0.0244960582088502,
          0.35015756010376137,
          0.37412051102259725,
          0.007726100327260497,
          0.3275436032097201,
          -0.549785598542864,
          -0.5001744063523534,
          -0.5001745405785583,
          0.18943398882361182,
          -0.21102278477780512,
          0.384307934388764,
          -0.011139716191862045,
          -0.12293392509147452,
          -0.500176666695919,
          0.3031893549477736,
          0.021160931297619787,
          -0.4662402784341147,
          -0.12293244455511884,
          0.37417629654893647,
          -0.033767785714797736,
          -0.5005720472147779,
          -0.0418831316524448,
          0.3417838231640051,
          -0.8251252938971634,
          0.26561921436544494,
          -0.21097611933915938,
          0.38432453366205294,
          0.37414861986377995,
          0.2783998130629386,
          0.36079857425753475,
          -0.5017054009266226,
          -0.2109739236669386,
          0.3923566414662878,
          -0.6498353079772495,
          0.37407260356696376,
          -0.5001805535670091,
          -0.36667255206312543,
          -0.20059885561011545,
          -0.17704602511660317,
          -0.03772982144772867,
          0.08352032923116554,
          0.1849315077445769,
          0.3066295662220495,
          0.02116758212927211,
          -0.3229761434348436,
          -0.17701480891484794,
          -0.466217118244,
          -0.21182047135379886,
          -0.292722447106256,
          -0.17702466960437335,
          0.007726309532228556,
          -0.500225031339967,
          0.36379635860864656,
          0.3831819483528979,
          -0.27954233240969334,
          0.25919119502211696,
          -0.19753406491725561,
          -0.48673818409249736,
          -0.21099478632662008,
          -0.12293881182955592,
          0.1806642514861362,
          -0.4218616932788378,
          -0.19753485583718589,
          0.021167378564593088,
          -0.5011857327825704,
          0.5802312910447384,
          0.1849274240496101,
          17.979874521040408,
          0.18863953042275378,
          -0.49823199810760177,
          0.38432017155278336,
          0.18097665232078575,
          -1.229757055128486,
          -0.1992469165309604,
          0.37358589565819356,
          -0.46622250975422236,
          0.3912759943793432,
          0.39127859060468023,
          -0.029260507405208584,
          0.2837388495273318,
          0.0077180033504640165,
          -0.5001767025294949,
          0.18942784657101694,
          -0.466219049028986,
          0.18944056828754188,
          -0.17701391122813315,
          -0.5070145768664204,
          0.18613020771421349,
          -0.19753043691863523,
          -0.5001804484969159,
          -0.7874770420579217,
          -0.6501680203838608,
          -0.4867552708684713,
          0.18097106525978804,
          -0.08245680349812157,
          0.18096260642338363,
          -0.4867364795572673,
          0.2836433317171909,
          -0.5034642254608895,
          0.0027855230922771606,
          -0.48675680587861525,
          0.20778299284729176,
          -0.5001845882104796,
          0.39092686330662435,
          -0.5001789547480157,
          -0.03772050172489588,
          -0.5001751321842164,
          -0.4868013055082619,
          0.007599377562612258,
          -0.5008004186483288,
          -0.32872216675168575,
          -0.48683224313202667,
          0.18097509713854576,
          -0.5001809137826803,
          0.0022590425389750913,
          -0.5002346500098105,
          0.10539850378710669,
          -0.48676315994001024,
          -0.5001925637775386,
          -0.12292814781405874,
          0.0077268074265791084,
          0.007711450367653984,
          -0.3072259301098514,
          -0.32693496590862003,
          0.2837734278816531,
          -0.21247262292288105,
          -0.5002144173471075,
          -0.2995388949880874,
          0.33209456351685834,
          -0.590358335386848,
          0.28290984234603345,
          0.28369160243142144,
          0.3505056823789686,
          0.2836814390704532,
          -0.037869127219099595,
          13.370670523261861,
          -0.1229286744978548,
          0.0363900492118612,
          -0.2714805098337269,
          0.16225114952584355,
          -0.5001882413684031,
          0.37401053450484384,
          0.18944284760724395,
          -0.21097101119840458
         ]
        }
       ],
       "layout": {
        "coloraxis": {
         "colorbar": {
          "title": {
           "text": "Class"
          }
         },
         "colorscale": [
          [
           0,
           "#0d0887"
          ],
          [
           0.1111111111111111,
           "#46039f"
          ],
          [
           0.2222222222222222,
           "#7201a8"
          ],
          [
           0.3333333333333333,
           "#9c179e"
          ],
          [
           0.4444444444444444,
           "#bd3786"
          ],
          [
           0.5555555555555556,
           "#d8576b"
          ],
          [
           0.6666666666666666,
           "#ed7953"
          ],
          [
           0.7777777777777778,
           "#fb9f3a"
          ],
          [
           0.8888888888888888,
           "#fdca26"
          ],
          [
           1,
           "#f0f921"
          ]
         ]
        },
        "legend": {
         "tracegroupgap": 0
        },
        "margin": {
         "t": 60
        },
        "scene": {
         "domain": {
          "x": [
           0,
           1
          ],
          "y": [
           0,
           1
          ]
         },
         "xaxis": {
          "title": {
           "text": "PC1"
          }
         },
         "yaxis": {
          "title": {
           "text": "PC2"
          }
         },
         "zaxis": {
          "title": {
           "text": "PC3"
          }
         }
        },
        "template": {
         "data": {
          "bar": [
           {
            "error_x": {
             "color": "#2a3f5f"
            },
            "error_y": {
             "color": "#2a3f5f"
            },
            "marker": {
             "line": {
              "color": "#E5ECF6",
              "width": 0.5
             },
             "pattern": {
              "fillmode": "overlay",
              "size": 10,
              "solidity": 0.2
             }
            },
            "type": "bar"
           }
          ],
          "barpolar": [
           {
            "marker": {
             "line": {
              "color": "#E5ECF6",
              "width": 0.5
             },
             "pattern": {
              "fillmode": "overlay",
              "size": 10,
              "solidity": 0.2
             }
            },
            "type": "barpolar"
           }
          ],
          "carpet": [
           {
            "aaxis": {
             "endlinecolor": "#2a3f5f",
             "gridcolor": "white",
             "linecolor": "white",
             "minorgridcolor": "white",
             "startlinecolor": "#2a3f5f"
            },
            "baxis": {
             "endlinecolor": "#2a3f5f",
             "gridcolor": "white",
             "linecolor": "white",
             "minorgridcolor": "white",
             "startlinecolor": "#2a3f5f"
            },
            "type": "carpet"
           }
          ],
          "choropleth": [
           {
            "colorbar": {
             "outlinewidth": 0,
             "ticks": ""
            },
            "type": "choropleth"
           }
          ],
          "contour": [
           {
            "colorbar": {
             "outlinewidth": 0,
             "ticks": ""
            },
            "colorscale": [
             [
              0,
              "#0d0887"
             ],
             [
              0.1111111111111111,
              "#46039f"
             ],
             [
              0.2222222222222222,
              "#7201a8"
             ],
             [
              0.3333333333333333,
              "#9c179e"
             ],
             [
              0.4444444444444444,
              "#bd3786"
             ],
             [
              0.5555555555555556,
              "#d8576b"
             ],
             [
              0.6666666666666666,
              "#ed7953"
             ],
             [
              0.7777777777777778,
              "#fb9f3a"
             ],
             [
              0.8888888888888888,
              "#fdca26"
             ],
             [
              1,
              "#f0f921"
             ]
            ],
            "type": "contour"
           }
          ],
          "contourcarpet": [
           {
            "colorbar": {
             "outlinewidth": 0,
             "ticks": ""
            },
            "type": "contourcarpet"
           }
          ],
          "heatmap": [
           {
            "colorbar": {
             "outlinewidth": 0,
             "ticks": ""
            },
            "colorscale": [
             [
              0,
              "#0d0887"
             ],
             [
              0.1111111111111111,
              "#46039f"
             ],
             [
              0.2222222222222222,
              "#7201a8"
             ],
             [
              0.3333333333333333,
              "#9c179e"
             ],
             [
              0.4444444444444444,
              "#bd3786"
             ],
             [
              0.5555555555555556,
              "#d8576b"
             ],
             [
              0.6666666666666666,
              "#ed7953"
             ],
             [
              0.7777777777777778,
              "#fb9f3a"
             ],
             [
              0.8888888888888888,
              "#fdca26"
             ],
             [
              1,
              "#f0f921"
             ]
            ],
            "type": "heatmap"
           }
          ],
          "heatmapgl": [
           {
            "colorbar": {
             "outlinewidth": 0,
             "ticks": ""
            },
            "colorscale": [
             [
              0,
              "#0d0887"
             ],
             [
              0.1111111111111111,
              "#46039f"
             ],
             [
              0.2222222222222222,
              "#7201a8"
             ],
             [
              0.3333333333333333,
              "#9c179e"
             ],
             [
              0.4444444444444444,
              "#bd3786"
             ],
             [
              0.5555555555555556,
              "#d8576b"
             ],
             [
              0.6666666666666666,
              "#ed7953"
             ],
             [
              0.7777777777777778,
              "#fb9f3a"
             ],
             [
              0.8888888888888888,
              "#fdca26"
             ],
             [
              1,
              "#f0f921"
             ]
            ],
            "type": "heatmapgl"
           }
          ],
          "histogram": [
           {
            "marker": {
             "pattern": {
              "fillmode": "overlay",
              "size": 10,
              "solidity": 0.2
             }
            },
            "type": "histogram"
           }
          ],
          "histogram2d": [
           {
            "colorbar": {
             "outlinewidth": 0,
             "ticks": ""
            },
            "colorscale": [
             [
              0,
              "#0d0887"
             ],
             [
              0.1111111111111111,
              "#46039f"
             ],
             [
              0.2222222222222222,
              "#7201a8"
             ],
             [
              0.3333333333333333,
              "#9c179e"
             ],
             [
              0.4444444444444444,
              "#bd3786"
             ],
             [
              0.5555555555555556,
              "#d8576b"
             ],
             [
              0.6666666666666666,
              "#ed7953"
             ],
             [
              0.7777777777777778,
              "#fb9f3a"
             ],
             [
              0.8888888888888888,
              "#fdca26"
             ],
             [
              1,
              "#f0f921"
             ]
            ],
            "type": "histogram2d"
           }
          ],
          "histogram2dcontour": [
           {
            "colorbar": {
             "outlinewidth": 0,
             "ticks": ""
            },
            "colorscale": [
             [
              0,
              "#0d0887"
             ],
             [
              0.1111111111111111,
              "#46039f"
             ],
             [
              0.2222222222222222,
              "#7201a8"
             ],
             [
              0.3333333333333333,
              "#9c179e"
             ],
             [
              0.4444444444444444,
              "#bd3786"
             ],
             [
              0.5555555555555556,
              "#d8576b"
             ],
             [
              0.6666666666666666,
              "#ed7953"
             ],
             [
              0.7777777777777778,
              "#fb9f3a"
             ],
             [
              0.8888888888888888,
              "#fdca26"
             ],
             [
              1,
              "#f0f921"
             ]
            ],
            "type": "histogram2dcontour"
           }
          ],
          "mesh3d": [
           {
            "colorbar": {
             "outlinewidth": 0,
             "ticks": ""
            },
            "type": "mesh3d"
           }
          ],
          "parcoords": [
           {
            "line": {
             "colorbar": {
              "outlinewidth": 0,
              "ticks": ""
             }
            },
            "type": "parcoords"
           }
          ],
          "pie": [
           {
            "automargin": true,
            "type": "pie"
           }
          ],
          "scatter": [
           {
            "fillpattern": {
             "fillmode": "overlay",
             "size": 10,
             "solidity": 0.2
            },
            "type": "scatter"
           }
          ],
          "scatter3d": [
           {
            "line": {
             "colorbar": {
              "outlinewidth": 0,
              "ticks": ""
             }
            },
            "marker": {
             "colorbar": {
              "outlinewidth": 0,
              "ticks": ""
             }
            },
            "type": "scatter3d"
           }
          ],
          "scattercarpet": [
           {
            "marker": {
             "colorbar": {
              "outlinewidth": 0,
              "ticks": ""
             }
            },
            "type": "scattercarpet"
           }
          ],
          "scattergeo": [
           {
            "marker": {
             "colorbar": {
              "outlinewidth": 0,
              "ticks": ""
             }
            },
            "type": "scattergeo"
           }
          ],
          "scattergl": [
           {
            "marker": {
             "colorbar": {
              "outlinewidth": 0,
              "ticks": ""
             }
            },
            "type": "scattergl"
           }
          ],
          "scattermapbox": [
           {
            "marker": {
             "colorbar": {
              "outlinewidth": 0,
              "ticks": ""
             }
            },
            "type": "scattermapbox"
           }
          ],
          "scatterpolar": [
           {
            "marker": {
             "colorbar": {
              "outlinewidth": 0,
              "ticks": ""
             }
            },
            "type": "scatterpolar"
           }
          ],
          "scatterpolargl": [
           {
            "marker": {
             "colorbar": {
              "outlinewidth": 0,
              "ticks": ""
             }
            },
            "type": "scatterpolargl"
           }
          ],
          "scatterternary": [
           {
            "marker": {
             "colorbar": {
              "outlinewidth": 0,
              "ticks": ""
             }
            },
            "type": "scatterternary"
           }
          ],
          "surface": [
           {
            "colorbar": {
             "outlinewidth": 0,
             "ticks": ""
            },
            "colorscale": [
             [
              0,
              "#0d0887"
             ],
             [
              0.1111111111111111,
              "#46039f"
             ],
             [
              0.2222222222222222,
              "#7201a8"
             ],
             [
              0.3333333333333333,
              "#9c179e"
             ],
             [
              0.4444444444444444,
              "#bd3786"
             ],
             [
              0.5555555555555556,
              "#d8576b"
             ],
             [
              0.6666666666666666,
              "#ed7953"
             ],
             [
              0.7777777777777778,
              "#fb9f3a"
             ],
             [
              0.8888888888888888,
              "#fdca26"
             ],
             [
              1,
              "#f0f921"
             ]
            ],
            "type": "surface"
           }
          ],
          "table": [
           {
            "cells": {
             "fill": {
              "color": "#EBF0F8"
             },
             "line": {
              "color": "white"
             }
            },
            "header": {
             "fill": {
              "color": "#C8D4E3"
             },
             "line": {
              "color": "white"
             }
            },
            "type": "table"
           }
          ]
         },
         "layout": {
          "annotationdefaults": {
           "arrowcolor": "#2a3f5f",
           "arrowhead": 0,
           "arrowwidth": 1
          },
          "autotypenumbers": "strict",
          "coloraxis": {
           "colorbar": {
            "outlinewidth": 0,
            "ticks": ""
           }
          },
          "colorscale": {
           "diverging": [
            [
             0,
             "#8e0152"
            ],
            [
             0.1,
             "#c51b7d"
            ],
            [
             0.2,
             "#de77ae"
            ],
            [
             0.3,
             "#f1b6da"
            ],
            [
             0.4,
             "#fde0ef"
            ],
            [
             0.5,
             "#f7f7f7"
            ],
            [
             0.6,
             "#e6f5d0"
            ],
            [
             0.7,
             "#b8e186"
            ],
            [
             0.8,
             "#7fbc41"
            ],
            [
             0.9,
             "#4d9221"
            ],
            [
             1,
             "#276419"
            ]
           ],
           "sequential": [
            [
             0,
             "#0d0887"
            ],
            [
             0.1111111111111111,
             "#46039f"
            ],
            [
             0.2222222222222222,
             "#7201a8"
            ],
            [
             0.3333333333333333,
             "#9c179e"
            ],
            [
             0.4444444444444444,
             "#bd3786"
            ],
            [
             0.5555555555555556,
             "#d8576b"
            ],
            [
             0.6666666666666666,
             "#ed7953"
            ],
            [
             0.7777777777777778,
             "#fb9f3a"
            ],
            [
             0.8888888888888888,
             "#fdca26"
            ],
            [
             1,
             "#f0f921"
            ]
           ],
           "sequentialminus": [
            [
             0,
             "#0d0887"
            ],
            [
             0.1111111111111111,
             "#46039f"
            ],
            [
             0.2222222222222222,
             "#7201a8"
            ],
            [
             0.3333333333333333,
             "#9c179e"
            ],
            [
             0.4444444444444444,
             "#bd3786"
            ],
            [
             0.5555555555555556,
             "#d8576b"
            ],
            [
             0.6666666666666666,
             "#ed7953"
            ],
            [
             0.7777777777777778,
             "#fb9f3a"
            ],
            [
             0.8888888888888888,
             "#fdca26"
            ],
            [
             1,
             "#f0f921"
            ]
           ]
          },
          "colorway": [
           "#636efa",
           "#EF553B",
           "#00cc96",
           "#ab63fa",
           "#FFA15A",
           "#19d3f3",
           "#FF6692",
           "#B6E880",
           "#FF97FF",
           "#FECB52"
          ],
          "font": {
           "color": "#2a3f5f"
          },
          "geo": {
           "bgcolor": "white",
           "lakecolor": "white",
           "landcolor": "#E5ECF6",
           "showlakes": true,
           "showland": true,
           "subunitcolor": "white"
          },
          "hoverlabel": {
           "align": "left"
          },
          "hovermode": "closest",
          "mapbox": {
           "style": "light"
          },
          "paper_bgcolor": "white",
          "plot_bgcolor": "#E5ECF6",
          "polar": {
           "angularaxis": {
            "gridcolor": "white",
            "linecolor": "white",
            "ticks": ""
           },
           "bgcolor": "#E5ECF6",
           "radialaxis": {
            "gridcolor": "white",
            "linecolor": "white",
            "ticks": ""
           }
          },
          "scene": {
           "xaxis": {
            "backgroundcolor": "#E5ECF6",
            "gridcolor": "white",
            "gridwidth": 2,
            "linecolor": "white",
            "showbackground": true,
            "ticks": "",
            "zerolinecolor": "white"
           },
           "yaxis": {
            "backgroundcolor": "#E5ECF6",
            "gridcolor": "white",
            "gridwidth": 2,
            "linecolor": "white",
            "showbackground": true,
            "ticks": "",
            "zerolinecolor": "white"
           },
           "zaxis": {
            "backgroundcolor": "#E5ECF6",
            "gridcolor": "white",
            "gridwidth": 2,
            "linecolor": "white",
            "showbackground": true,
            "ticks": "",
            "zerolinecolor": "white"
           }
          },
          "shapedefaults": {
           "line": {
            "color": "#2a3f5f"
           }
          },
          "ternary": {
           "aaxis": {
            "gridcolor": "white",
            "linecolor": "white",
            "ticks": ""
           },
           "baxis": {
            "gridcolor": "white",
            "linecolor": "white",
            "ticks": ""
           },
           "bgcolor": "#E5ECF6",
           "caxis": {
            "gridcolor": "white",
            "linecolor": "white",
            "ticks": ""
           }
          },
          "title": {
           "x": 0.05
          },
          "xaxis": {
           "automargin": true,
           "gridcolor": "white",
           "linecolor": "white",
           "ticks": "",
           "title": {
            "standoff": 15
           },
           "zerolinecolor": "white",
           "zerolinewidth": 2
          },
          "yaxis": {
           "automargin": true,
           "gridcolor": "white",
           "linecolor": "white",
           "ticks": "",
           "title": {
            "standoff": 15
           },
           "zerolinecolor": "white",
           "zerolinewidth": 2
          }
         }
        }
       }
      },
      "text/html": [
       "<div>                            <div id=\"87792bc4-e308-4022-8310-8f1810a0da3e\" class=\"plotly-graph-div\" style=\"height:525px; width:100%;\"></div>            <script type=\"text/javascript\">                require([\"plotly\"], function(Plotly) {                    window.PLOTLYENV=window.PLOTLYENV || {};                                    if (document.getElementById(\"87792bc4-e308-4022-8310-8f1810a0da3e\")) {                    Plotly.newPlot(                        \"87792bc4-e308-4022-8310-8f1810a0da3e\",                        [{\"customdata\":[[\"Scrypt\"],[\"Scrypt\"],[\"X13\"],[\"SHA-256\"],[\"Ethash\"],[\"Scrypt\"],[\"X11\"],[\"CryptoNight-V7\"],[\"Ethash\"],[\"Equihash\"],[\"SHA-512\"],[\"Multiple\"],[\"SHA-256\"],[\"SHA-256\"],[\"Scrypt\"],[\"X15\"],[\"X11\"],[\"Scrypt\"],[\"Scrypt\"],[\"Scrypt\"],[\"Multiple\"],[\"Scrypt\"],[\"SHA-256\"],[\"Scrypt\"],[\"Scrypt\"],[\"Scrypt\"],[\"Quark\"],[\"Groestl\"],[\"Scrypt\"],[\"Scrypt\"],[\"Scrypt\"],[\"Scrypt\"],[\"Scrypt\"],[\"X11\"],[\"Scrypt\"],[\"Groestl\"],[\"Multiple\"],[\"SHA-256\"],[\"Scrypt\"],[\"Scrypt\"],[\"Scrypt\"],[\"Scrypt\"],[\"PoS\"],[\"Scrypt\"],[\"Scrypt\"],[\"NeoScrypt\"],[\"Scrypt\"],[\"Scrypt\"],[\"Scrypt\"],[\"Scrypt\"],[\"X11\"],[\"Scrypt\"],[\"X11\"],[\"SHA-256\"],[\"Scrypt\"],[\"Scrypt\"],[\"Scrypt\"],[\"SHA3\"],[\"Scrypt\"],[\"HybridScryptHash256\"],[\"Scrypt\"],[\"Scrypt\"],[\"SHA-256\"],[\"Scrypt\"],[\"X13\"],[\"Scrypt\"],[\"SHA-256\"],[\"Scrypt\"],[\"X13\"],[\"NeoScrypt\"],[\"Scrypt\"],[\"Scrypt\"],[\"Scrypt\"],[\"Scrypt\"],[\"Scrypt\"],[\"Scrypt\"],[\"X11\"],[\"X11\"],[\"SHA-256\"],[\"Multiple\"],[\"SHA-256\"],[\"PHI1612\"],[\"X11\"],[\"SHA-256\"],[\"SHA-256\"],[\"SHA-256\"],[\"X11\"],[\"Scrypt\"],[\"Scrypt\"],[\"Scrypt\"],[\"Scrypt\"],[\"Lyra2REv2\"],[\"Scrypt\"],[\"X11\"],[\"Multiple\"],[\"SHA-256\"],[\"X13\"],[\"Scrypt\"],[\"CryptoNight\"],[\"CryptoNight\"],[\"Shabal256\"],[\"Counterparty\"],[\"Scrypt\"],[\"SHA-256\"],[\"Groestl\"],[\"Scrypt\"],[\"Scrypt\"],[\"Scrypt\"],[\"X13\"],[\"Scrypt\"],[\"Scrypt\"],[\"Scrypt\"],[\"Scrypt\"],[\"X13\"],[\"Scrypt\"],[\"Stanford Folding\"],[\"X11\"],[\"Multiple\"],[\"QuBit\"],[\"Scrypt\"],[\"Scrypt\"],[\"Scrypt\"],[\"M7 POW\"],[\"Scrypt\"],[\"SHA-256\"],[\"Scrypt\"],[\"X11\"],[\"SHA3\"],[\"X11\"],[\"Lyra2RE\"],[\"SHA-256\"],[\"QUAIT\"],[\"X11\"],[\"X11\"],[\"Scrypt\"],[\"Scrypt\"],[\"Scrypt\"],[\"Ethash\"],[\"X13\"],[\"Blake2b\"],[\"SHA-256\"],[\"X15\"],[\"X11\"],[\"SHA-256\"],[\"BLAKE256\"],[\"Scrypt\"],[\"1GB AES Pattern Search\"],[\"SHA-256\"],[\"X11\"],[\"Scrypt\"],[\"SHA-256\"],[\"SHA-256\"],[\"NIST5\"],[\"Scrypt\"],[\"Scrypt\"],[\"X11\"],[\"Dagger\"],[\"Scrypt\"],[\"X11GOST\"],[\"X11\"],[\"Scrypt\"],[\"SHA-256\"],[\"Scrypt\"],[\"PoS\"],[\"Scrypt\"],[\"X11\"],[\"X11\"],[\"SHA-256\"],[\"SHA-256\"],[\"NIST5\"],[\"X11\"],[\"Scrypt\"],[\"POS 3.0\"],[\"Scrypt\"],[\"Scrypt\"],[\"Scrypt\"],[\"X13\"],[\"X11\"],[\"X11\"],[\"Equihash\"],[\"X11\"],[\"Scrypt\"],[\"CryptoNight\"],[\"SHA-256\"],[\"SHA-256\"],[\"X11\"],[\"Scrypt\"],[\"Multiple\"],[\"Scrypt\"],[\"Scrypt\"],[\"Scrypt\"],[\"SHA-256\"],[\"Scrypt\"],[\"Scrypt\"],[\"SHA-256D\"],[\"PoS\"],[\"Scrypt\"],[\"X11\"],[\"Lyra2Z\"],[\"PoS\"],[\"X13\"],[\"X14\"],[\"PoS\"],[\"SHA-256D\"],[\"Ethash\"],[\"Equihash\"],[\"DPoS\"],[\"X11\"],[\"Scrypt\"],[\"X11\"],[\"X13\"],[\"X11\"],[\"PoS\"],[\"Scrypt\"],[\"Scrypt\"],[\"X11\"],[\"PoS\"],[\"X11\"],[\"SHA-256\"],[\"Scrypt\"],[\"X11\"],[\"Scrypt\"],[\"Scrypt\"],[\"X11\"],[\"CryptoNight\"],[\"Scrypt\"],[\"Scrypt\"],[\"Scrypt\"],[\"Scrypt\"],[\"Quark\"],[\"QuBit\"],[\"Scrypt\"],[\"CryptoNight\"],[\"Lyra2RE\"],[\"Scrypt\"],[\"SHA-256\"],[\"X11\"],[\"Scrypt\"],[\"X11\"],[\"Scrypt\"],[\"CryptoNight-V7\"],[\"Scrypt\"],[\"Scrypt\"],[\"Scrypt\"],[\"X13\"],[\"X11\"],[\"Equihash\"],[\"Scrypt\"],[\"Scrypt\"],[\"Lyra2RE\"],[\"Scrypt\"],[\"Dagger-Hashimoto\"],[\"X11\"],[\"Blake2S\"],[\"X11\"],[\"Scrypt\"],[\"PoS\"],[\"X11\"],[\"NIST5\"],[\"PoS\"],[\"X11\"],[\"Scrypt\"],[\"Scrypt\"],[\"Scrypt\"],[\"SHA-256\"],[\"X11\"],[\"Scrypt\"],[\"Scrypt\"],[\"SHA-256\"],[\"PoS\"],[\"Scrypt\"],[\"X15\"],[\"SHA-256\"],[\"Scrypt\"],[\"POS 3.0\"],[\"CryptoNight-V7\"],[\"536\"],[\"Argon2d\"],[\"Blake2b\"],[\"Cloverhash\"],[\"CryptoNight\"],[\"NIST5\"],[\"X11\"],[\"NIST5\"],[\"Skein\"],[\"Scrypt\"],[\"X13\"],[\"Scrypt\"],[\"X11\"],[\"X11\"],[\"Scrypt\"],[\"CryptoNight\"],[\"X13\"],[\"Time Travel\"],[\"Scrypt\"],[\"Keccak\"],[\"SkunkHash v2 Raptor\"],[\"X11\"],[\"Skein\"],[\"SHA-256\"],[\"X11\"],[\"Scrypt\"],[\"VeChainThor Authority\"],[\"Scrypt\"],[\"PoS\"],[\"Scrypt\"],[\"Scrypt\"],[\"Scrypt\"],[\"Scrypt\"],[\"Scrypt\"],[\"Scrypt\"],[\"Scrypt\"],[\"CryptoNight\"],[\"SHA-512\"],[\"Ouroboros\"],[\"X11\"],[\"Equihash\"],[\"NeoScrypt\"],[\"X11\"],[\"Scrypt\"],[\"NeoScrypt\"],[\"Lyra2REv2\"],[\"Equihash\"],[\"Scrypt\"],[\"SHA-256\"],[\"NIST5\"],[\"PHI1612\"],[\"Dagger\"],[\"Scrypt\"],[\"Quark\"],[\"Scrypt\"],[\"POS 2.0\"],[\"Scrypt\"],[\"SHA-256\"],[\"X11\"],[\"NeoScrypt\"],[\"Ethash\"],[\"NeoScrypt\"],[\"X11\"],[\"DPoS\"],[\"NIST5\"],[\"X13\"],[\"Multiple\"],[\"Scrypt\"],[\"CryptoNight\"],[\"CryptoNight\"],[\"Ethash\"],[\"NIST5\"],[\"Quark\"],[\"X11\"],[\"CryptoNight-V7\"],[\"Scrypt\"],[\"Scrypt\"],[\"Scrypt\"],[\"X11\"],[\"BLAKE256\"],[\"X11\"],[\"NeoScrypt\"],[\"Quark\"],[\"NeoScrypt\"],[\"Scrypt\"],[\"Scrypt\"],[\"Scrypt\"],[\"X11\"],[\"X11\"],[\"SHA-256\"],[\"C11\"],[\"POS 3.0\"],[\"Ethash\"],[\"Scrypt\"],[\"CryptoNight\"],[\"SkunkHash\"],[\"Scrypt\"],[\"CryptoNight\"],[\"Scrypt\"],[\"Dagger\"],[\"Lyra2REv2\"],[\"X13\"],[\"Proof-of-BibleHash\"],[\"SHA-256 + Hive\"],[\"Scrypt\"],[\"Scrypt\"],[\"X11\"],[\"C11\"],[\"Proof-of-Authority\"],[\"X11\"],[\"XEVAN\"],[\"Scrypt\"],[\"VBFT\"],[\"Ethash\"],[\"CryptoNight\"],[\"Scrypt\"],[\"IMesh\"],[\"NIST5\"],[\"Scrypt\"],[\"Scrypt\"],[\"Equihash\"],[\"Scrypt\"],[\"Lyra2Z\"],[\"Green Protocol\"],[\"PoS\"],[\"Scrypt\"],[\"Semux BFT consensus\"],[\"X11\"],[\"Quark\"],[\"PoS\"],[\"CryptoNight\"],[\"X16R\"],[\"Scrypt\"],[\"NIST5\"],[\"Lyra2RE\"],[\"XEVAN\"],[\"Tribus\"],[\"Scrypt\"],[\"Lyra2Z\"],[\"CryptoNight\"],[\"CryptoNight Heavy\"],[\"CryptoNight\"],[\"Scrypt\"],[\"Scrypt\"],[\"Jump Consistent Hash\"],[\"SHA-256D\"],[\"CryptoNight\"],[\"Scrypt\"],[\"X15\"],[\"Scrypt\"],[\"Quark\"],[\"SHA-256\"],[\"DPoS\"],[\"X16R\"],[\"HMQ1725\"],[\"X11\"],[\"X16R\"],[\"Quark\"],[\"Quark\"],[\"Scrypt\"],[\"Lyra2REv2\"],[\"Quark\"],[\"Scrypt\"],[\"Scrypt\"],[\"CryptoNight-V7\"],[\"Cryptonight-GPU\"],[\"XEVAN\"],[\"CryptoNight Heavy\"],[\"X11\"],[\"X11\"],[\"Scrypt\"],[\"PoS\"],[\"SHA-256\"],[\"Keccak\"],[\"X11\"],[\"X11\"],[\"Scrypt\"],[\"SHA-512\"],[\"X16R\"],[\"ECC 256K1\"],[\"Equihash\"],[\"XEVAN\"],[\"Lyra2Z\"],[\"SHA-256\"],[\"XEVAN\"],[\"X11\"],[\"CryptoNight\"],[\"Quark\"],[\"Blake\"],[\"Blake\"],[\"Equihash\"],[\"Exosis\"],[\"Scrypt\"],[\"Scrypt\"],[\"Equihash\"],[\"Quark\"],[\"Equihash\"],[\"Quark\"],[\"Scrypt\"],[\"QuBit\"],[\"X11\"],[\"Scrypt\"],[\"XEVAN\"],[\"SHA-256D\"],[\"X11\"],[\"SHA-256\"],[\"X13\"],[\"SHA-256\"],[\"X11\"],[\"DPoS\"],[\"Scrypt\"],[\"Scrypt\"],[\"X11\"],[\"NeoScrypt\"],[\"Scrypt\"],[\"Blake\"],[\"Scrypt\"],[\"SHA-256\"],[\"Scrypt\"],[\"X11\"],[\"Scrypt\"],[\"Scrypt\"],[\"SHA-256\"],[\"X11\"],[\"SHA-256\"],[\"Scrypt\"],[\"Scrypt\"],[\"Scrypt\"],[\"Groestl\"],[\"X11\"],[\"Scrypt\"],[\"PoS\"],[\"Scrypt\"],[\"Scrypt\"],[\"X11\"],[\"SHA-256\"],[\"DPoS\"],[\"Scrypt\"],[\"Scrypt\"],[\"NeoScrypt\"],[\"Multiple\"],[\"X13\"],[\"Equihash+Scrypt\"],[\"DPoS\"],[\"Ethash\"],[\"DPoS\"],[\"SHA-256\"],[\"Leased POS\"],[\"PoS\"],[\"TRC10\"],[\"PoS\"],[\"SHA-256\"],[\"Scrypt\"],[\"CryptoNight\"],[\"Equihash\"],[\"Scrypt\"]],\"hovertemplate\":\"<b>%{hovertext}</b><br><br>PC1=%{x}<br>PC2=%{y}<br>PC3=%{z}<br>Algorithm=%{customdata[0]}<br>Class=%{marker.color}<extra></extra>\",\"hovertext\":[\"42 Coin\",\"404Coin\",\"EliteCoin\",\"Bitcoin\",\"Ethereum\",\"Litecoin\",\"Dash\",\"Monero\",\"Ethereum Classic\",\"ZCash\",\"Bitshares\",\"DigiByte\",\"BitcoinDark\",\"PayCoin\",\"ProsperCoin\",\"KoboCoin\",\"Spreadcoin\",\"Argentum\",\"Aurora Coin\",\"BlueCoin\",\"MyriadCoin\",\"MoonCoin\",\"ZetaCoin\",\"SexCoin\",\"Quatloo\",\"EnergyCoin\",\"QuarkCoin\",\"Riecoin\",\"Digitalcoin \",\"BitBar\",\"Catcoin\",\"CryptoBullion\",\"CannaCoin\",\"CryptCoin\",\"CasinoCoin\",\"Diamond\",\"Verge\",\"DevCoin\",\"EarthCoin\",\"E-Gulden\",\"Einsteinium\",\"Emerald\",\"Exclusive Coin\",\"FlutterCoin\",\"Franko\",\"FeatherCoin\",\"GrandCoin\",\"GlobalCoin\",\"GoldCoin\",\"HoboNickels\",\"HyperStake\",\"Infinite Coin\",\"IOCoin\",\"IXcoin\",\"KrugerCoin\",\"LuckyCoin\",\"Litebar \",\"MaxCoin\",\"MegaCoin\",\"MediterraneanCoin\",\"MintCoin\",\"MinCoin\",\"MazaCoin\",\"Nautilus Coin\",\"NavCoin\",\"NobleCoin\",\"Namecoin\",\"NyanCoin\",\"OpalCoin\",\"Orbitcoin\",\"PotCoin\",\"PhoenixCoin\",\"Reddcoin\",\"RonPaulCoin\",\"StableCoin\",\"SmartCoin\",\"SuperCoin\",\"SyncCoin\",\"SysCoin\",\"TeslaCoin\",\"TigerCoin\",\"TittieCoin\",\"TorCoin\",\"TerraCoin\",\"UnbreakableCoin\",\"Unobtanium\",\"UroCoin\",\"UnitaryStatus Dollar\",\"UltraCoin\",\"ViaCoin\",\"VeriCoin\",\"Vertcoin\",\"WorldCoin\",\"X11 Coin\",\"Crypti\",\"JouleCoin\",\"StealthCoin\",\"ZCC Coin\",\"ByteCoin\",\"DigitalNote \",\"BurstCoin\",\"StorjCoin\",\"MonaCoin\",\"Neutron\",\"FairCoin\",\"Gulden\",\"RubyCoin\",\"PesetaCoin\",\"Kore\",\"Wild Beast Coin\",\"Dnotes\",\"Flo\",\"8BIT Coin\",\"Sativa Coin\",\"ArtByte\",\"Folding Coin\",\"Ucoin\",\"Unitus\",\"CypherPunkCoin\",\"OmniCron\",\"Vtorrent\",\"GreenCoin\",\"Cryptonite\",\"MasterCoin\",\"SoonCoin\",\"1Credit\",\"IslaCoin\",\"Nexus\",\"MarsCoin \",\"Crypto\",\"Anarchists Prime\",\"Droidz\",\"BowsCoin\",\"Squall Coin\",\"Song Coin\",\"BitZeny\",\"Diggits\",\"Expanse\",\"Paycon\",\"Siacoin\",\"Emercoin\",\"EverGreenCoin\",\"MindCoin\",\"I0coin\",\"Decred\",\"Revolution VR\",\"HOdlcoin\",\"EDRCoin\",\"Hitcoin\",\"Gamecredits\",\"DubaiCoin\",\"CarpeDiemCoin\",\"PWR Coin\",\"BillaryCoin\",\"GPU Coin\",\"Adzcoin\",\"SoilCoin\",\"YoCoin\",\"SibCoin\",\"EuropeCoin\",\"ZeitCoin\",\"SwingCoin\",\"SafeExchangeCoin\",\"Nebuchadnezzar\",\"Francs\",\"BolivarCoin\",\"Ratecoin\",\"Revenu\",\"Clockcoin\",\"VIP Tokens\",\"BitSend\",\"Omni\",\"Let it Ride\",\"PutinCoin\",\"iBankCoin\",\"Frankywillcoin\",\"MudraCoin\",\"PizzaCoin\",\"Lutetium Coin\",\"Komodo\",\"GoldBlocks\",\"CarterCoin\",\"Karbo\",\"BitTokens\",\"ZayedCoin\",\"MustangCoin\",\"ZoneCoin\",\"Circuits of Value\",\"RootCoin\",\"DopeCoin\",\"BitCurrency\",\"DollarCoin\",\"Swiscoin\",\"Shilling\",\"BuzzCoin\",\"Opair\",\"PesoBit\",\"Halloween Coin\",\"ZCoin\",\"CoffeeCoin\",\"RoyalCoin\",\"GanjaCoin V2\",\"TeamUP\",\"LanaCoin\",\"Elementrem\",\"ZClassic\",\"ARK\",\"InsaneCoin\",\"KiloCoin\",\"ArtexCoin\",\"EmberCoin\",\"XenixCoin\",\"FreeCoin\",\"PLNCoin\",\"AquariusCoin\",\"Kurrent\",\"Creatio\",\"Eternity\",\"Eurocoin\",\"BitcoinFast\",\"Stakenet\",\"BitConnect Coin\",\"MoneyCoin\",\"Enigma\",\"Cannabis Industry Coin\",\"Russiacoin\",\"PandaCoin\",\"GameUnits\",\"GAKHcoin\",\"Allsafe\",\"LiteCreed\",\"OsmiumCoin\",\"Bikercoins\",\"HexxCoin\",\"Klingon Empire Darsek\",\"Internet of People\",\"KushCoin\",\"Printerium\",\"PacCoin\",\"Impeach\",\"Citadel\",\"Zilbercoin\",\"FirstCoin\",\"BeaverCoin\",\"FindCoin\",\"VaultCoin\",\"Zero\",\"OpenChat\",\"Canada eCoin\",\"Zoin\",\"RenosCoin\",\"DubaiCoin\",\"VirtacoinPlus\",\"TajCoin\",\"Impact\",\"EB3coin\",\"Atmos\",\"HappyCoin\",\"Coinonat\",\"MacronCoin\",\"Condensate\",\"Independent Money System\",\"ArgusCoin\",\"LomoCoin\",\"ProCurrency\",\"GoldReserve\",\"BenjiRolls\",\"GrowthCoin\",\"ILCoin\",\"Phreak\",\"Degas Coin\",\"HTML5 Coin\",\"Ultimate Secure Cash\",\"EquiTrader\",\"QTUM\",\"Quantum Resistant Ledger\",\"Espers\",\"Dynamic\",\"Nano\",\"ChanCoin\",\"Dinastycoin\",\"Denarius\",\"DigitalPrice\",\"Virta Unique Coin\",\"Bitcoin Planet\",\"Unify\",\"BritCoin\",\"SocialCoin\",\"ArcticCoin\",\"DAS\",\"Linda\",\"LeviarCoin\",\"DeepOnion\",\"Bitcore\",\"gCn Coin\",\"SmartCash\",\"Signatum\",\"Onix\",\"Cream\",\"Bitcoin Cash\",\"Monoeci\",\"Draftcoin\",\"Vechain\",\"Sojourn Coin\",\"Stakecoin\",\"NewYorkCoin\",\"FrazCoin\",\"Kronecoin\",\"AdCoin\",\"Linx\",\"CoinonatX\",\"Ethereum Dark\",\"Sumokoin\",\"Obsidian\",\"Cardano\",\"Regalcoin\",\"BitcoinZ\",\"TrezarCoin\",\"Elements\",\"TerraNovaCoin\",\"VIVO Coin\",\"Rupee\",\"Bitcoin Gold\",\"WomenCoin\",\"Theresa May Coin\",\"NamoCoin\",\"LUXCoin\",\"Pirl\",\"Xios\",\"Bitcloud 2.0\",\"eBoost\",\"KekCoin\",\"BlackholeCoin\",\"Infinity Economics\",\"Pura\",\"Innova\",\"Ellaism\",\"GoByte\",\"Magnet\",\"Lamden Tau\",\"Electra\",\"Bitcoin Diamond\",\"SHIELD\",\"Cash & Back Coin\",\"UltraNote\",\"BitCoal\",\"DaxxCoin\",\"Bulwark\",\"Kalkulus\",\"AC3\",\"Lethean\",\"GermanCoin\",\"LiteCoin Ultra\",\"PopularCoin\",\"PhantomX\",\"Photon\",\"Sucre\",\"SparksPay\",\"Digiwage\",\"GunCoin\",\"IrishCoin\",\"Trollcoin\",\"Litecoin Plus\",\"Monkey Project\",\"Pioneer Coin\",\"UnitedBitcoin\",\"Interzone\",\"TokenPay\",\"1717 Masonic Commemorative Token\",\"My Big Coin\",\"TurtleCoin\",\"MUNcoin\",\"Unified Society USDEX\",\"Niobio Cash\",\"ShareChain\",\"Travelflex\",\"KREDS\",\"Tokyo Coin\",\"BiblePay\",\"LitecoinCash\",\"BitFlip\",\"LottoCoin\",\"Crypto Improvement Fund\",\"Stipend\",\"Poa Network\",\"Pushi\",\"Ellerium\",\"Velox\",\"Ontology\",\"Callisto Network\",\"BitTube\",\"Poseidon\",\"Aidos Kuneen\",\"Bitspace\",\"Briacoin\",\"Ignition\",\"Bitrolium\",\"MedicCoin\",\"Alpenschillling\",\"Bitcoin Green\",\"Deviant Coin\",\"Abjcoin\",\"Semux\",\"FuturoCoin\",\"Carebit\",\"Zealium\",\"Monero Classic\",\"Proton\",\"iDealCash\",\"Jumpcoin\",\"Infinex\",\"Bitcoin Incognito\",\"KEYCO\",\"HollyWoodCoin\",\"GINcoin\",\"PlatinCoin\",\"Loki\",\"Newton Coin\",\"Swisscoin\",\"Xt3ch\",\"MassGrid\",\"TheVig\",\"PluraCoin\",\"EmaratCoin\",\"Dekado\",\"Lynx\",\"Poseidon Quark\",\"BitcoinWSpectrum\",\"Muse\",\"Motion\",\"PlusOneCoin\",\"Axe\",\"Trivechain\",\"Dystem\",\"Giant\",\"Peony Coin\",\"Absolute Coin\",\"Vitae\",\"HexCoin\",\"TPCash\",\"Webchain\",\"Ryo\",\"Urals Coin\",\"Qwertycoin\",\"ARENON\",\"EUNO\",\"MMOCoin\",\"Ketan\",\"Project Pai\",\"XDNA\",\"PAXEX\",\"Azart\",\"ThunderStake\",\"Kcash\",\"Xchange\",\"Acute Angle Cloud\",\"CrypticCoin\",\"Bettex coin\",\"Actinium\",\"Bitcoin SV\",\"BitMoney\",\"Junson Ming Chan Coin\",\"FREDEnergy\",\"HerbCoin\",\"Universal Molecule\",\"Lithium\",\"PirateCash\",\"Exosis\",\"Block-Logic\",\"Oduwa\",\"Beam\",\"Galilel\",\"Bithereum\",\"Crypto Sports\",\"Credit\",\"SLICE\",\"Dash Platinum\",\"Nasdacoin\",\"Beetle Coin\",\"Titan Coin\",\"Award\",\"BLAST\",\"Bitcoin Rhodium\",\"GlobalToken\",\"Insane Coin\",\"ALAX\",\"LiteDoge\",\"SolarCoin\",\"TruckCoin\",\"UFO Coin\",\"OrangeCoin\",\"BlakeCoin\",\"BitstarCoin\",\"NeosCoin\",\"HyperCoin\",\"PinkCoin\",\"Crypto Escudo\",\"AudioCoin\",\"IncaKoin\",\"Piggy Coin\",\"Crown Coin\",\"Genstake\",\"SmileyCoin\",\"XiaoMiCoin\",\"Groestlcoin\",\"CapriCoin\",\" ClubCoin\",\"Radium\",\"Bata\",\"Pakcoin\",\"Creditbit \",\"OKCash\",\"Lisk\",\"HiCoin\",\"WhiteCoin\",\"FriendshipCoin\",\"JoinCoin\",\"Triangles Coin\",\"Vollar\",\"EOS\",\"Reality Clash\",\"Oxycoin\",\"TigerCash\",\"Waves\",\"Particl\",\"BitTorrent\",\"Nxt\",\"ZEPHYR\",\"Gapcoin\",\"Beldex\",\"Horizen\",\"BitcoinPlus\"],\"legendgroup\":\"\",\"marker\":{\"color\":[0,0,0,1,1,1,0,1,1,1,0,1,0,0,1,0,1,1,0,0,1,1,1,1,1,0,1,1,1,0,1,0,1,1,0,0,1,1,1,1,1,1,0,0,1,1,1,1,1,0,0,1,0,1,1,1,1,0,1,1,0,1,0,0,0,1,1,1,0,0,0,0,0,1,1,1,0,0,1,0,1,0,0,1,1,1,1,0,0,1,0,1,1,0,0,1,0,0,1,1,0,0,1,0,0,1,0,1,0,1,0,1,0,0,1,1,0,1,1,1,0,1,1,1,1,1,0,0,1,1,1,0,1,0,1,1,0,1,0,1,0,0,1,1,0,1,1,0,0,1,0,1,0,0,0,1,1,1,1,0,0,0,0,0,1,1,0,0,0,0,0,1,0,0,0,0,0,1,0,1,0,0,1,0,1,0,0,1,0,1,0,1,0,1,0,0,0,0,1,0,0,0,0,0,1,1,0,0,1,1,0,0,0,0,0,1,0,0,0,0,0,0,0,0,1,0,0,0,0,0,0,1,1,1,0,0,0,0,1,0,1,0,0,1,0,1,1,0,1,1,0,1,0,0,0,1,0,0,1,0,0,0,0,0,0,0,1,0,1,0,0,0,0,1,0,1,0,1,1,1,1,0,1,0,0,1,0,1,1,1,0,1,0,1,1,1,0,1,0,1,0,0,0,1,0,1,1,1,1,1,0,0,1,0,0,0,1,0,1,0,1,0,1,0,0,0,0,1,0,0,1,0,0,0,1,1,1,1,0,0,0,0,1,0,1,1,1,0,0,1,1,0,0,1,0,1,1,1,0,1,1,0,0,0,1,1,1,0,0,0,1,1,0,1,1,1,1,0,3,3,1,1,1,0,3,0,0,0,0,1,1,1,1,0,0,0,1,0,1,0,0,0,0,1,0,0,1,0,0,1,1,0,1,0,1,1,1,1,0,0,1,0,1,0,0,0,0,0,0,1,1,1,0,0,0,0,0,0,1,0,1,1,1,1,0,0,0,0,1,0,0,1,0,0,1,3,1,0,1,1,0,0,1,0,1,1,1,1,1,0,1,0,1,0,0,1,0,0,0,0,0,1,1,1,0,0,0,1,0,1,0,1,0,0,0,0,1,0,0,0,1,0,1,0,1,0,0,0,1,1,0,0,0,0,0,0,1,0,1,0,1,0,0,3,0,2,0,0,0,1,1,0],\"coloraxis\":\"coloraxis\",\"symbol\":\"circle\"},\"mode\":\"markers\",\"name\":\"\",\"scene\":\"scene\",\"showlegend\":false,\"x\":[-0.33951363101691906,-0.32282769451854754,2.304651188549634,-0.14230977137746081,-0.15647414753885266,-0.1754542368096921,-0.3797914788585677,-0.1516775514378131,-0.15491586893616746,-0.14167939010996514,-0.30488456678218534,0.16534588362372601,-0.3051986551355334,-0.26697873366138336,-0.17660181326536267,-0.2248153337642829,-0.21708739149830172,-0.17621817270338094,-0.3391727961149172,-0.3317367635269531,-0.08829349626385125,2.5455872235140253,-0.13939116885036956,-0.1734708000885504,-0.17602228093802058,-0.33800748263095176,-0.22413101410417366,-0.18244931329246702,-0.17607051034763802,-0.33950956590142606,-0.17658404675581107,-0.3394938246132012,-0.17667056498725003,-0.21717687336833172,0.671148324067431,-0.3462721022902773,0.189192793205634,0.23597439045511032,0.07235171508107792,-0.17641649028237566,-0.17201713836745972,-0.1763558066155621,-0.3408807489401097,-0.29016798359427565,-0.17672764932923568,-0.1672186708649229,-0.15592903312739773,-0.17552126051119846,-0.17579924441191092,-0.33757035308091304,-0.32135856199430235,1.5742862957848316,-0.3796859844847641,-0.14227106995194366,-0.17308601621954292,-0.17644296820655422,-0.1767982056681557,-0.41782078514832977,-0.17605659189014025,-0.09771179538168827,-0.04074388277807785,-0.17667935961320566,-0.2684677023938274,-0.30104465951731485,-0.2801522083310194,-0.0415192402240259,-0.14234882284681127,-0.17033563398868304,-0.2807755427607131,-0.33478084625964755,-0.33381068066708997,-0.33791367279819556,0.019275681990686085,-0.17665889720624173,-0.1747525248031477,-0.17614506642242517,-0.34128114104818147,-0.38005796149144,-0.12948789096410956,-0.24597986969673127,-0.14181192400361328,-0.32056491597919434,-0.37996956269783405,-0.1420995947134276,-0.14208301098079254,-0.14267383006122294,-0.2173508676087443,-0.3147203289131469,-0.3381898492336869,-0.17637489095125494,-0.3366656723794412,-0.19465777439156934,-0.17347571040475113,-0.3799339198618325,-0.24644724069778648,-0.14187931772477155,-0.28055600979254247,-0.33061279355062984,3.851134844297299,0.445988969104024,0.0522256513399195,-0.36456892457286993,-0.17524140770246588,-0.30440950230089336,-0.34569256574908747,-0.1598312289103174,-0.3010246868453001,-0.17395862123737277,-0.28085121153692283,-0.17680043458860117,-0.29567512096263576,-0.17382333533238023,-0.33949566711862905,-0.28080328622164247,-0.16003192942700395,-0.09727196693686299,-0.3417270329921421,-0.12233811270060242,-0.1777455232729632,-0.17667328845731178,-0.3392298110748886,-0.04949989371980838,-0.09648000170148605,-0.1768093189940165,-0.14237665133674884,0.4754234937872821,-0.3800394569649703,-0.4333326431967781,-0.2167373311793319,-0.15184909577499753,-0.14211643519061484,-0.43559957510707914,-0.21702260660922196,-0.34455310588198673,-0.1749322115350644,-0.17412345540707203,-0.2994245469911477,-0.15754377037572667,-0.28032454385059036,0.39334572693626685,-0.29775379207749664,-0.2272572662561861,-0.21705800742533335,-0.14227219436272928,-0.0798658282197035,-0.17276231342938236,-0.13041297131334012,-0.3051695164768317,-0.05724648722445886,-0.17537105098772066,-0.3052331864910921,0.2767163472003223,-0.21235881757914796,-0.33910573397992494,-0.29929482512299094,-0.21621801761750004,-0.16291475844565714,-0.17561995867317154,-0.10839497517702355,-0.3772082012853231,0.8529995744849997,-0.305033245928778,-0.060482946756608445,-0.34056369265078557,-0.17659908120915885,-0.21702129308371337,-0.37787946260747096,-0.3037767364090661,-0.30144442374511893,-0.33393805746674426,-0.37877404971548045,-0.17680937755928686,-0.37636634880456155,-0.3153830922051239,-0.33914392891159345,-0.33758078462498364,-0.24132568641278532,-0.21717153943474737,-0.3292029392238435,-0.2157023508935,-0.37951301854647235,-0.3383472705398332,0.2907307438533246,-0.3052142315749753,-0.14253261947158502,-0.3800286654462105,-0.33933314972683765,-0.1023886325742079,-0.3394898897861615,-0.17397331830555537,-0.29928169937006477,-0.14249118420193765,-0.2744323299505833,-0.17647251798726835,0.048044927844156926,-0.3395195414039195,-0.3391033488323172,-0.3661842104002641,-0.13721006236962713,-0.3388465533326417,-0.2427564782701686,-0.42884727471359024,-0.3385982103609306,-0.26689808451677266,-0.15728556733986296,-0.14170104686078205,3.6912940146647633,-0.3796207995808748,-0.10352277281215974,-0.20373601494047802,0.8534007774864911,-0.37998350406733017,-0.33998383848966635,-0.3390312410990014,-0.33918588834634716,-0.2149981779030008,-0.34056369265078557,-0.37955832307467735,-0.30507664400937945,-0.33903191094359814,-0.3528600583479651,-0.339179507392274,-0.33476713018782595,-0.3800125643090181,0.2907249631899619,-0.33839019296614364,0.3429950939093508,-0.339378961581717,-0.33944954269374644,-0.3533598641010718,-0.33958690255213214,-0.17679110747535395,0.2908558703770285,-0.15238985212294137,-0.3356755200855778,-0.3051906026137325,-0.3799224058839337,-0.33922715516741847,0.4981669589974772,-0.3393543613886253,-0.15044224488865393,-0.30093169640972395,-0.32944081869685116,-0.17675934425584408,-0.24252405866126306,-0.20990415363840947,-0.1417133955737767,-0.32018515979140594,-0.17489036185820836,-0.1521078493104477,-0.3006721088311889,-0.18695464657281258,-0.37918792530618906,-0.41608434670652567,-0.3779241358293237,-0.14767840750053082,-0.3388081726130586,-0.37908562584779365,-0.17243913689648574,-0.3332014769394842,-0.3750241330083705,-0.3392975365922091,-0.3392968149270229,-0.33241790688765244,0.26573681600511284,-0.37956424051345444,-0.17632131046254462,-0.2835660595983555,-0.10882631185360961,-0.3405981704708578,-0.3385078161885645,0.9080755073265993,-0.2656690570070119,-0.1761434939643244,-0.3751432989030022,-0.1502987427588394,0.6169624526628928,-0.16967299290034857,-0.007696630783032348,-0.15258833968270663,0.3268891479565044,-0.33547551126397757,-0.21622662193890563,-0.33397636799064573,-0.4007626328495165,-0.1764626978964059,-0.28048805397626925,-0.17622632443565286,-0.21662153836254536,-0.21719954901892063,0.12566634614414898,0.2911202732023518,-0.28055881932714855,-0.14978527947952924,3.236709384261221,-0.13910306733221556,-0.3786701184383974,-0.20806811466474806,-0.4002666229147306,-0.14230893405972844,-0.37983674665879424,-0.30100557568752484,4.411867505064273,-0.10237449625595962,-0.3404645871742696,1.5734182512411896,-0.17656073397222657,-0.17601215158516395,-0.17571277302233215,-0.17569967994488458,-0.3389324017741786,-0.3394324522461579,0.29130379413009627,-0.3630110173175385,0.6537967231368949,-0.37977768006819723,0.07074658833438066,-0.3297758615613135,-0.17152446402103524,-0.33938812740202945,-0.17191224542387146,-0.31995182793860005,-0.141559212948628,0.43081552132125583,-0.3035348426607835,-0.32022927526630696,-0.39435565405903017,-0.16167311803022016,-0.3393384403685388,-0.3899573757648643,-0.17488856772387334,-0.33576811004976764,-0.3392085297815578,-0.09325791481947185,-0.21273983827481022,-0.17175759330136608,-0.15565086735234926,-0.1718578212131484,-0.37856957228927784,3.6961542478698672,0.22466411387458146,-0.27722597388994075,-0.1125600499705405,-0.3366665822591348,1.1291682169765855,0.29070780505642674,-0.08052090031793338,-0.29708259585445074,-0.35324562234673307,-0.21248338134777578,-0.13940174155972654,0.07507783981812566,-0.33834714706128,-0.09285593504426237,-0.3791506215337598,1.0888787423908786,-0.21717351086336417,-0.1719097262846882,-0.35241006399967706,-0.16494066160721224,-0.175810896834493,-0.32589953834301993,-0.3394546213340174,-0.3416989238677017,-0.21709882040057793,-0.14228828342809616,-0.1964175107849119,-0.3766486717986372,-0.28229690789971246,-0.295514127260885,8.030540968467205,-0.1104880074546739,-0.33499459124904374,0.2945853991358719,0.016463427815870152,-0.1611747330583698,-0.18020171133767277,-0.2343145196357896,-0.1667623486688186,-0.3918333760277554,-0.17638538218015828,0.1310305244742058,-0.211234797365187,-0.35914393565720487,-0.40798033720130916,-0.37985421110196055,-0.3118733907007812,-0.300165335133997,-0.3754981024616822,-0.10867914880365188,0.298633425637487,-0.1766225960583115,-0.13230265892517812,-0.33507423231868944,-0.33948201336385975,-0.3394637155822717,-0.14054904952095407,-0.2945411708569427,-0.1349929087086637,-0.35113534136566243,-0.3400586321802301,-0.3391800175137078,3.88910204759754,-0.21626746932500582,-0.3886229960621744,-0.34024754509428323,0.2908905870902574,-0.3277997064359004,-0.2860157216592603,-0.17249837440279028,-0.15223500530011871,-0.27652070431406095,-0.15870179642493396,-0.30069933697683165,-0.13729446064023051,0.29481890880173917,0.5629344893200379,2.1004496424112227,-0.14236321704816554,-0.3009520690007267,-0.17279992633262672,-0.33224134927281596,0.3045085328125286,-0.3386537535306787,-0.1884443610090479,2.2274085261708114,-0.34895344621614405,-0.2657958024268826,0.9968339923560741,-0.20338057518477565,-0.150661820966686,-0.21715565296274758,-0.36529175411809756,-0.3533593716313414,-0.39164220503110164,-0.18167210017193203,-0.3580365684806989,-0.3520775486576351,-0.17664723661271903,-0.33235788990341786,-0.1392905803144303,-0.1545336638795873,-0.14794226585895967,3.087873390131353,-0.34127598008918175,-0.3793268990070175,-0.298195189166703,-0.3393472914161743,-0.10208827011685216,-0.362018864122297,-0.34113765312609107,-0.21712701487434524,-0.19892809617051313,-0.3972487078296857,-0.2028081991270754,-0.3297443963589585,-0.03620466577133812,-0.27371011043135646,-0.1366920051396104,-0.14230897169424295,0.5165185564285132,-0.1312717858582969,0.370698757988596,-0.3909361516086634,-0.16058199003510462,-0.16097375760491092,-0.26554539513875275,-0.18907946383684915,-0.17553869495225805,-0.33918388965838353,-0.13961870894415412,-0.3913926706760788,-0.14139184537861402,-0.35347646721921433,0.5680606105223179,-0.17695626957194885,-0.3417533212634559,-0.3386666387497017,-0.3063243183362729,-0.2869386352814837,-0.3768916224805407,-0.14158430935589783,-0.1182394889840567,-0.1404514392323425,-0.3795543040159808,3.708412015149307,0.09610837530938866,0.5193490613113078,-0.37708915088884126,-0.09698642008321859,-0.3380524200204103,-0.11143346655885566,-0.33887714391983226,-0.2670115250547563,-0.33939575685748014,-0.37117270646248735,-0.16018279242722325,-0.2530697194735082,-0.08446147521424273,-0.3669194319334135,-0.14209896400687322,-0.33867295575432704,0.5397334795663761,-0.33172941424571234,-0.18200976316284329,-0.3761188739133795,-0.33711108063552103,-0.34083968792535474,-0.1767240069721427,-0.1746781256055022,-0.3237980626217886,-0.303712041696521,3.691686114044818,-0.10800703807751486,-0.3343024877115284,-0.33440671011047207,-0.12307438362402359,-0.28095846576803385,-0.09700820521370743,3.7015738513173018,-0.15731876582561907,3.7028202300732524,-0.24788569099555316,-0.3754927454438773,-0.34077543436351143,34.10137133168561,-0.27267607644972724,2.4640432100048515,-0.33755849137073246,0.3124879495256114,-0.14168044900139862,-0.3013487340123905],\"y\":[1.084533309793534,1.0845898724496215,1.607080300023974,-1.3489635098220598,-2.0507343042648474,-1.043714543182383,1.1290974676337027,-2.246435457095463,-2.05084305450282,-2.1747122491705073,1.6852943580043052,-1.7810882245005526,0.7792543962344927,0.6306584341174822,-1.043699646841097,1.7633896909907005,-0.9991245444207566,-1.0437202316738847,1.0845302673600024,1.0847360379946551,-1.7741855480195607,-1.245859054611317,-1.3489932647068283,-1.0437809134481142,-1.0437407317079357,1.0845725722524382,-0.5328139614773727,-1.2863406978609555,-1.043705119777754,1.0845330601465764,-1.0436991837019225,1.0845331148454025,-1.0436958483022587,-0.9991254544565356,0.5068779000702088,0.8419102075285958,-1.777304881914862,-1.354024583006119,-1.0467974240090845,-1.0436948158227624,-1.0437784362908784,-1.0437010581415884,1.6323804256740935,0.5268472011510831,-1.043695981947137,-1.6885628055169415,-1.0441562797160304,-1.0437063322561866,-1.0437151761202001,1.0844986121883322,0.9810373110994128,-1.0624855579048447,1.1291002176717497,-1.3489625009493658,-1.0437818515755932,-1.043694794758631,-1.0436907895039305,2.0501633692992307,-1.0437003711152155,-2.313934095405992,0.9427226297551641,-1.0436938441003525,0.7785067900290317,0.9359255739546016,1.7631587778896998,-1.0508327636522818,-1.3489645278197222,-1.0437610681410916,1.7631425287445046,0.4397703009806765,1.0843832317065176,1.0845053109487135,1.093886266059787,-1.0437011349110632,-1.0438143255780974,-1.0437092213770935,0.9805179672860623,1.1291061686797086,-1.3492459590732615,0.20592110605929684,-1.3489690340259426,1.5600409609381651,1.129101360846262,-1.3489729680757185,-1.3489995649164648,-1.348958240803841,-0.9991171868758199,1.0840415547851119,1.084496688966662,-1.0436951539938686,0.6439365160015883,-1.2933986526291272,-1.0437920101631752,1.1291054908073892,0.20598005191925534,-1.3489693597528554,1.7631482515522066,1.0840540444114846,-2.3532432621861092,-2.3179114207600056,0.6875824999065845,1.6169941445223375,-1.0437240176470908,0.7792422484567574,0.8419284304108453,-1.0444425052075963,0.935937603330592,-1.0437341559374622,1.7631320206830052,-1.0436917566405517,0.9357214096838077,-1.0437260869714444,1.0845337781081306,1.7631346925916827,-1.0439640576133382,-2.3684073535605497,0.9804921178626667,-1.7736504398438584,-1.6684192290723008,-1.0436889709129555,1.0845264826035363,-1.0474843374047138,-2.1060107393263774,-1.0436905595917987,-1.3489652532556242,-1.0921266356709982,1.1291066517688766,2.383417712500465,-0.9991246658263294,-2.2210384016620264,-1.348981771884744,1.9451857672765593,-0.9991235668950379,0.711028002768159,-1.0437907286466057,-1.0437979269332165,0.9359081866040968,-2.0507742127092454,1.7631187207625492,-2.2256701991778933,0.7787528247875094,1.7635562815254804,-0.9991209332603732,-1.3489625302606205,0.9392207558359392,-1.0437339928120914,-2.4153130083104353,0.779255155824006,1.1186364133217706,-1.0437123746859316,0.7792616759410962,-1.3534079863386146,1.4074981625175518,1.084514068604219,0.9358254642751928,-0.9991474042683555,-2.1864157447818138,-1.0437788617552144,-2.335601027614608,1.1289073205842648,0.8956027836179578,0.7792459048582476,0.5147299048606777,1.6323744648626992,-1.0436988643282323,-0.999126377827308,1.1291096117200778,0.7791486885992093,0.7789944813661632,1.4042648061480356,1.1290407687583424,-1.0436905589632652,1.640821774088084,1.0837397604656833,1.0845114132506244,1.084512566124715,1.614429612738532,-0.99913029446444,0.9803655033486882,-1.98219806907711,1.1290848103516837,1.0844996982255382,-2.314852887405174,0.7792547014796345,-1.3489613070405404,1.129104799203243,1.0845230774677197,-1.7739839467865637,1.0845339287122198,-1.0437584484766813,0.9359830397050476,-1.3489608687002883,0.7051483539361117,-1.0437026779987812,1.8523981010437973,1.6323632740626879,1.0845440051010469,1.1284008917230017,-2.249671495522113,1.6324050016303906,1.6145327950588941,1.8238811493870364,1.6322258278241688,1.8530750336967088,-2.0507740962641274,-2.1747128137208858,1.9978477336559084,1.1290962265716693,-1.0488926113013874,-0.9991179201875713,1.7921037528595813,1.1291053695089937,1.6323682417594403,1.0845184715671805,1.0845119791320579,-0.9992180316047512,1.6323744648626992,1.1290765164151773,0.7792589994196094,1.0845223946707443,0.6111182416302824,1.0845221035782688,1.084194232078765,1.129103796342629,-2.3148608623229068,1.0844601694786538,0.9295983323017968,1.084527573586409,1.0845326219856668,1.4468480889093045,0.45977061977745487,-1.0436915748750744,-2.3148602949944506,-2.2210128157370472,1.0842777154155057,0.7792553174417948,1.1291030496303758,1.084526551838002,-1.051594330193378,1.084521860646414,-2.246534844268054,0.9359009062806428,0.6075326583137396,-1.0436912061603156,1.6145303006882021,-0.999634358526659,-2.1747102904550037,1.084325873026951,-1.043711224726449,-2.2210132886866263,0.9359223070844299,-2.1736063664306857,1.1290577202479446,2.019418680916916,1.1290835519068632,-1.0457759047894717,1.6323560052396606,1.129060387000611,-0.7239603498287153,1.6322960923775687,1.1288817450696307,1.0845238549542726,1.0845186188175355,1.0840069885337567,0.5912072073186228,1.1290905880257145,-1.0437026629294661,0.9349701299048524,-1.349853955806164,1.6323664531579198,1.0844848437050685,1.7291545559246717,0.6305591475080776,-1.0437239752877063,1.640806355669534,-2.2464741999722353,1.618592073963628,-2.1360232166152997,-2.236366652657039,-2.296640325874078,-2.3153257802159253,1.4042816311140944,-0.9991590092602253,1.4042424686650112,1.805555664080107,-1.0436947946668411,1.7631286842309253,-1.0437282684008815,-0.9991408522477844,-0.9991266857317095,1.0610950013628446,-2.3148740300218087,1.7631347361578547,-2.148925600200093,-1.0969648361827835,-1.1493676818161584,1.5668642003555258,-0.9996576258109582,1.8055685941174426,-1.3489634879947718,1.1291051735831106,0.9359257208275924,2.494216463066525,-1.0492183245848559,1.632347458575998,-0.9980650089742609,-1.0436978646885666,-1.0437290869613916,-1.0437326634241682,-1.0437323221124961,1.0845141400397524,1.084532438567788,-2.3148940622135386,1.6862751692835223,1.743010204784494,1.129094270875239,-2.184096930317339,0.43961893566717547,-0.9992029075586393,1.0845253904492973,-1.6884653684509374,0.6862436279752542,-2.174709116380065,1.0868319947061498,0.7792422877859608,1.403832632459426,1.7093097137799131,-2.1864732187120213,1.0845229395507345,1.59536151218763,-1.0437111779567732,1.5568128313603202,1.0845307444310637,0.6287942571067275,-0.9992459387663408,-1.688474140243947,-2.050912005050414,-1.6884673639231513,1.129042542629914,1.9977076957035351,1.3975517202633625,1.763085687663396,-1.7738649979206962,1.084458155376671,-2.3534492357655328,-2.3148552636094264,-2.0558672807715963,1.2556708199747655,1.4468475105082224,-0.9993815120904551,-2.246826374589701,1.0597762550441068,1.0844570238435922,-1.0450580803577212,1.1290942573538028,-1.226778577388532,-0.9991266471304387,-1.6884610350216818,1.4467981625933783,-1.6886200742491897,-1.0437096147651868,1.084248039361396,1.0845320029204246,0.9804921393208301,-0.9991269762305814,-1.3489623564533584,-1.2052943294687044,1.6408204604570586,-0.07114963454026406,0.6018491645814867,-2.8243769623989374,-2.4372979386429146,1.0844860925544397,-2.314984285490936,-1.0457647988422138,-2.186420176157632,-1.2937444845500006,1.6141856045378877,2.161875857236891,3.6606686619010023,-1.0437075194671817,-1.0487580809608483,-0.9993133992091076,0.9229311257870578,3.129741409377763,1.1290936984431743,1.3732602107229375,0.9358718046232639,1.80593639846345,-2.054111786138621,-2.315351059907286,-1.0437001886090538,-2.3465247715232467,1.4042636399605142,1.084532000155556,1.0845310545572908,-2.1747176367112635,0.9357509696102835,-2.249811864861758,1.642048218284536,1.6323392628827496,1.084520667693678,2.150148821834252,-0.9991600740740332,1.5953962969331885,1.6323400286284997,-2.314854695459558,0.6581768810974589,1.0822846889312363,-0.7239425098717618,-2.221020359030746,0.9552058177778668,-2.2860942184097452,0.9359275909569809,-2.2496659425273213,-2.3151659801492177,-2.2987728042908113,-2.3985478142766574,1.0824174546942522,0.9359081994326852,-2.2769664153193676,1.8566394973623654,-2.3151979070169952,1.084495976555898,1.6149237092741056,0.32460512762644755,1.446511284582972,0.6306268462164951,1.7812769624136,-1.3214292235672929,-2.195300694509263,-0.9991270351608884,0.8067718681680038,1.446843833986976,1.5954561866845665,0.9270422669859055,0.8348295994289396,1.446821056504005,-1.0437016171077458,1.084008553062595,-2.2473573156312585,-2.173228334519968,-0.7550379313825691,-2.364058030337591,0.980478980688401,1.1290896621347333,0.9358264266932117,1.632271028397716,-1.3493937905114641,0.9805822812390261,0.9804505784091199,-0.9991291337936793,1.075394827579084,1.9422920165933097,-1.3214697298462421,3.035751357389058,-2.1773536156225166,1.2246631277239246,-2.249702517717145,-1.3489634889758313,0.8844904819778098,0.9859925124776573,-2.318508410401439,1.595439846188173,-2.063630046046419,-2.063583432603165,-0.19513516829428781,-2.1512066443954474,-1.0437423514062971,1.084526968394337,-2.174830521855886,1.5954528152640604,-2.1747117852712825,1.4468462086955391,1.0549873049630663,-1.6684697840613585,0.9804916459653457,1.0844956406626995,1.3730918954321738,1.8543351157114567,1.1288899666322092,-1.3489751840183317,-0.3650867799291932,-1.3490196267529886,1.1290979599848057,1.9976715857520948,1.0709938813776654,-1.0953204689317728,1.129183560647189,-1.6893381628954867,1.0844291421506835,-2.0672531196155264,1.084511309817212,0.6306515333146643,1.0845363825789611,1.1289821444478325,-1.0439679903253438,1.0793181583459304,0.7848890981680605,1.128737372566745,-1.3489729516343967,1.0845445552312987,-1.0605758758747639,1.0844517122378163,-1.2863441767838322,1.1290609049097924,1.0844821328152003,1.6323750944166746,-1.043691451505505,-1.0437640181846901,0.23902364246563704,0.7792341120767745,1.99783311771676,0.9338499887995493,1.0844557664321486,0.4397399383744957,-1.773671624650409,1.7631376749337773,-2.183342892074455,1.9982046211497198,-2.050773739971729,1.9982371118776658,0.6304537513122649,2.2263597134255737,1.6323770296188318,1.5557835072053627,1.7472429221491157,0.846844659911182,1.0844064532655369,-2.315274574451696,-2.174712276773796,0.9359284447427959],\"z\":[-0.5001741710012674,-0.5003062487534778,-0.6090892117039265,0.18097665884165248,0.3504986116881897,0.007717045019434351,-0.48673460547809816,0.36388425867329377,0.3504874778578045,0.18944283897271308,0.14570947739933793,0.3298999596817508,-0.32692346525301386,-0.03772083277948906,0.00772593085788725,-0.655888385244652,0.02116701801420291,0.007723124594776748,-0.5001768246821904,-0.5002375860037374,0.33182590795724753,-0.01159571918488905,0.1809539740967255,0.007702114765755539,0.007721796865250502,-0.5001864526050924,0.041647133008688955,0.10540193072998708,0.007721801916307592,-0.5001742004048861,0.007725785984229068,-0.5001743250193553,0.007726432610990249,0.02116773269765831,-0.3313488482599611,-0.40249118183831395,0.3296722123599996,0.17804914047807388,0.005796841259844388,0.0077244196765043445,0.007690634090695207,0.00772400723082726,-0.122927880397993,-0.2718807990680499,0.007726883832521831,0.2083282458691421,0.007567841367314528,0.007717486694313762,0.0077197702815659346,-0.5001891183190537,-0.19769688969351942,-0.005872937565904948,-0.486735465712115,0.18097634325816211,0.007699092616915284,0.007724628095947524,0.007727385128089322,-0.22703631665535287,0.0077216422387240856,0.3808839624932362,-0.21309607189596982,0.007726480807122515,-0.32720502633147536,-0.21097337702139143,-0.5903649107601392,0.006736615240297775,0.18097697727950846,0.007677201256992984,-0.5903598278968578,-0.29953626657642435,-0.5002175289184052,-0.5001864835587635,-0.5030998509223595,0.007726396338138575,0.0077125663486914495,0.007722432593856745,-0.19753443477249724,-0.48673259726386275,0.18087859889267743,0.11338348363333553,0.18097279406353273,-0.2667859707933254,-0.48673324320462,0.18097510228152366,0.1809752516652117,0.18097947207619763,0.021169016684440555,-0.5003643596278948,-0.5001842165503917,0.007724095442199939,-0.22041246487326502,0.21517392552551046,0.00770227030479945,-0.48673356755154285,0.11338654574162967,0.18097332854369755,-0.5903616180371257,-0.5002392613997098,0.34652644233691227,0.37298633622978056,-0.3902101193166326,0.035067154154758945,0.007715467729233817,-0.32692955572020804,-0.402495940365306,0.007601603871923095,-0.21097366106984156,0.0077054663588857755,-0.5903591209923971,0.007727412875373225,-0.21101353819510282,0.0077043153655383095,-0.5001743174847973,-0.5903595267699712,0.007598147378672654,0.37720542977846505,-0.19753064903445428,0.33208853876274025,0.18613589455439883,0.007726381653626918,-0.500176335561753,0.006764242948876174,0.3703585048443705,0.007727470278145434,0.18097720420169175,0.0030980180504587484,-0.4867327481630308,0.43037803170364863,0.021164260880694376,0.3417809722528994,0.1809753276841395,-0.601041838040524,0.021166497227824526,-0.5244237511951156,0.007713733775653552,0.007707436720705991,-0.21098596012853602,0.35050746035190816,-0.5903631309923002,0.37757849065050875,-0.3269768479576125,-0.655870897430839,0.021166748448087972,0.18097635242695823,-0.42898249662295146,0.007696037952420465,0.26295938702886956,-0.3269237028587214,-0.4891660483381321,0.007716366696306415,-0.32692326980633934,0.17772160857581606,-0.5507866327848687,-0.5001771825493458,-0.21098611126040692,0.02116040821608857,0.31770773210685477,0.007719028142020313,0.33795557665436055,-0.48675295901919824,-0.21964244393713442,-0.32692467923475493,-0.3256664067619018,-0.12293031597771457,0.0077259010900432865,0.021166516476150567,-0.4867497996950367,-0.3269335566303943,-0.3269503110540184,-0.5497945636746149,-0.4867420256052845,0.007727470733010807,-0.08667681602149166,-0.50035595932712,-0.5001768536197537,-0.5001891830531038,-0.3011656555814776,0.02116774163174032,-0.19762800339357997,-0.27598970795799177,-0.48673666641574476,-0.5001830077860374,0.3741775370461589,-0.3269233457276758,0.18097839164931978,-0.4867328136910224,-0.5001754854163606,0.33193485224875746,-0.5001743645949671,0.007705837965688673,-0.21098787393313936,0.18097806053124935,-0.15531496461180078,0.00772494395212904,-0.6527872337133607,-0.12293842586301976,-0.5001775165704199,-0.48683449345481206,0.3843239270911227,-0.12294416827173131,-0.3011554676942695,-0.691608550472391,-0.12294423849771356,-0.6503126678300523,0.3505054245326182,0.18944301556861134,0.28377636365021564,-0.48673593733169956,0.007204762348127015,0.02106174183379695,-0.5996018888883011,-0.48673317555973433,-0.12293481959516066,-0.5001778159022495,-0.5001765289456516,0.02115153979475025,-0.12293031597771457,-0.4867362220904405,-0.3269244751493881,-0.5001778519336509,-0.2639330698463832,-0.5001766858352195,-0.5002080021334946,-0.4867329300051036,0.374177666571352,-0.5001822533336859,-0.2159816687450812,-0.500175171770658,-0.5001746687631231,-0.17701484983792995,-0.3217721882478559,0.007727337465449211,0.3741766290725572,0.3417849638992325,-0.50020172325192,-0.3269235384055927,-0.48673363257439745,-0.5001763572188506,0.01608344180808205,-0.5001753054593744,0.3638755712125942,-0.2109740074035352,-0.29188021931440494,0.007727083294526763,-0.3011572728533522,0.021115783662649927,0.1894430863046444,-0.5003242915764866,0.007712566844166389,0.34178274674824727,-0.2109762782536773,0.26930482168685077,-0.48673894283710073,-0.5803867518225952,-0.48674917327246003,0.007519882326260843,-0.12294395478065807,-0.48673977701877924,-0.04188341058135675,-0.12298750365385501,-0.48676989977541774,-0.5001757742282188,-0.5001757247791239,-0.5002245419427656,-0.041503119659650804,-0.48673632363391267,0.007723752305552318,-0.21110104454833814,0.1807221915014864,-0.12292995993676349,-0.5001815862996783,-0.6644548692971474,-0.037730107322057095,0.007722575559500521,-0.0866862910796333,0.3638738018670355,-0.6728995710906872,0.48898992122826573,0.38085126372022965,0.30959229767438695,0.37389759485894564,-0.5497826259814601,0.02116059821529819,-0.5497940265844895,-0.7187489937900124,0.007724783561362411,-0.5903619474758696,0.00772327345440521,0.021163518894716956,0.02116792434280796,-0.503592903285945,0.37417469025384853,-0.5903614535835521,0.40115665751698937,-0.018609468998500443,0.08558366790106521,-0.023088001221840918,0.021101561008986976,-0.7187530384096656,0.18097665201390226,-0.4867343299184557,-0.21097368654143847,-3.474964280239293,0.007199143845902342,-0.12293081253901637,-0.006544435651340727,0.00772558839471755,0.007721594430458863,0.007719273041208148,0.0077191662761725705,-0.5001785491279276,-0.5001748015013925,0.3741734550779762,0.14615717551171672,-0.07853651874835765,-0.486734680548711,0.18786777994737386,-0.2995741110964074,0.020808815552091093,-0.5001750765575687,0.20836420438950426,-0.0035188546315722616,0.18944185901067084,-0.5062684299401451,-0.32693644829383245,-0.5498980356745066,-0.5557153960558525,0.3176985533966708,-0.5001754422748189,-0.4662293974859892,0.007712552214235633,-0.05740726780033191,-0.500176548130854,-0.039070091870393536,0.02113403834561044,0.20836307812438165,0.350493995550443,0.20836379654858875,-0.4867436555289412,0.28373954047046634,-0.5541255598526711,-0.5903871993289215,0.3320137486623813,-0.5001958138656023,0.36797721506578335,0.37417774282077426,0.34995416328624496,-0.2605812003109634,-0.17701574395178482,0.02113344507699846,0.36379164381452167,-0.5031803888329917,-0.5001825594045815,0.007080332599060955,-0.4867396215139738,0.07138949930947598,0.021167718760394548,0.20836413890882413,-0.17702180837449058,0.2083108985995476,0.007719803540362229,-0.5002784437327251,-0.5001746222256995,-0.19753087075521275,0.021167133678452212,0.18097647737571557,0.12659717026860023,-0.08667457753512348,0.13181060427839156,-0.2503154337556359,0.3185544421192489,0.32365136977149206,-0.5002092830258638,0.37414854666182906,0.006226357459178062,0.3176940676837406,0.2150636559228238,-0.30121833293791705,10.596684058002245,15.308731734910843,0.007724308317647053,0.005355108278602607,0.02112288924364158,-0.38130431346451643,12.00070820379259,-0.4867340714704122,-0.7874350887062671,-0.21097973975572262,0.0244960582088502,0.35015756010376137,0.37412051102259725,0.007726100327260497,0.3275436032097201,-0.549785598542864,-0.5001744063523534,-0.5001745405785583,0.18943398882361182,-0.21102278477780512,0.384307934388764,-0.011139716191862045,-0.12293392509147452,-0.500176666695919,0.3031893549477736,0.021160931297619787,-0.4662402784341147,-0.12293244455511884,0.37417629654893647,-0.033767785714797736,-0.5005720472147779,-0.0418831316524448,0.3417838231640051,-0.8251252938971634,0.26561921436544494,-0.21097611933915938,0.38432453366205294,0.37414861986377995,0.2783998130629386,0.36079857425753475,-0.5017054009266226,-0.2109739236669386,0.3923566414662878,-0.6498353079772495,0.37407260356696376,-0.5001805535670091,-0.36667255206312543,-0.20059885561011545,-0.17704602511660317,-0.03772982144772867,0.08352032923116554,0.1849315077445769,0.3066295662220495,0.02116758212927211,-0.3229761434348436,-0.17701480891484794,-0.466217118244,-0.21182047135379886,-0.292722447106256,-0.17702466960437335,0.007726309532228556,-0.500225031339967,0.36379635860864656,0.3831819483528979,-0.27954233240969334,0.25919119502211696,-0.19753406491725561,-0.48673818409249736,-0.21099478632662008,-0.12293881182955592,0.1806642514861362,-0.4218616932788378,-0.19753485583718589,0.021167378564593088,-0.5011857327825704,0.5802312910447384,0.1849274240496101,17.979874521040408,0.18863953042275378,-0.49823199810760177,0.38432017155278336,0.18097665232078575,-1.229757055128486,-0.1992469165309604,0.37358589565819356,-0.46622250975422236,0.3912759943793432,0.39127859060468023,-0.029260507405208584,0.2837388495273318,0.0077180033504640165,-0.5001767025294949,0.18942784657101694,-0.466219049028986,0.18944056828754188,-0.17701391122813315,-0.5070145768664204,0.18613020771421349,-0.19753043691863523,-0.5001804484969159,-0.7874770420579217,-0.6501680203838608,-0.4867552708684713,0.18097106525978804,-0.08245680349812157,0.18096260642338363,-0.4867364795572673,0.2836433317171909,-0.5034642254608895,0.0027855230922771606,-0.48675680587861525,0.20778299284729176,-0.5001845882104796,0.39092686330662435,-0.5001789547480157,-0.03772050172489588,-0.5001751321842164,-0.4868013055082619,0.007599377562612258,-0.5008004186483288,-0.32872216675168575,-0.48683224313202667,0.18097509713854576,-0.5001809137826803,0.0022590425389750913,-0.5002346500098105,0.10539850378710669,-0.48676315994001024,-0.5001925637775386,-0.12292814781405874,0.0077268074265791084,0.007711450367653984,-0.3072259301098514,-0.32693496590862003,0.2837734278816531,-0.21247262292288105,-0.5002144173471075,-0.2995388949880874,0.33209456351685834,-0.590358335386848,0.28290984234603345,0.28369160243142144,0.3505056823789686,0.2836814390704532,-0.037869127219099595,13.370670523261861,-0.1229286744978548,0.0363900492118612,-0.2714805098337269,0.16225114952584355,-0.5001882413684031,0.37401053450484384,0.18944284760724395,-0.21097101119840458],\"type\":\"scatter3d\"}],                        {\"template\":{\"data\":{\"histogram2dcontour\":[{\"type\":\"histogram2dcontour\",\"colorbar\":{\"outlinewidth\":0,\"ticks\":\"\"},\"colorscale\":[[0.0,\"#0d0887\"],[0.1111111111111111,\"#46039f\"],[0.2222222222222222,\"#7201a8\"],[0.3333333333333333,\"#9c179e\"],[0.4444444444444444,\"#bd3786\"],[0.5555555555555556,\"#d8576b\"],[0.6666666666666666,\"#ed7953\"],[0.7777777777777778,\"#fb9f3a\"],[0.8888888888888888,\"#fdca26\"],[1.0,\"#f0f921\"]]}],\"choropleth\":[{\"type\":\"choropleth\",\"colorbar\":{\"outlinewidth\":0,\"ticks\":\"\"}}],\"histogram2d\":[{\"type\":\"histogram2d\",\"colorbar\":{\"outlinewidth\":0,\"ticks\":\"\"},\"colorscale\":[[0.0,\"#0d0887\"],[0.1111111111111111,\"#46039f\"],[0.2222222222222222,\"#7201a8\"],[0.3333333333333333,\"#9c179e\"],[0.4444444444444444,\"#bd3786\"],[0.5555555555555556,\"#d8576b\"],[0.6666666666666666,\"#ed7953\"],[0.7777777777777778,\"#fb9f3a\"],[0.8888888888888888,\"#fdca26\"],[1.0,\"#f0f921\"]]}],\"heatmap\":[{\"type\":\"heatmap\",\"colorbar\":{\"outlinewidth\":0,\"ticks\":\"\"},\"colorscale\":[[0.0,\"#0d0887\"],[0.1111111111111111,\"#46039f\"],[0.2222222222222222,\"#7201a8\"],[0.3333333333333333,\"#9c179e\"],[0.4444444444444444,\"#bd3786\"],[0.5555555555555556,\"#d8576b\"],[0.6666666666666666,\"#ed7953\"],[0.7777777777777778,\"#fb9f3a\"],[0.8888888888888888,\"#fdca26\"],[1.0,\"#f0f921\"]]}],\"heatmapgl\":[{\"type\":\"heatmapgl\",\"colorbar\":{\"outlinewidth\":0,\"ticks\":\"\"},\"colorscale\":[[0.0,\"#0d0887\"],[0.1111111111111111,\"#46039f\"],[0.2222222222222222,\"#7201a8\"],[0.3333333333333333,\"#9c179e\"],[0.4444444444444444,\"#bd3786\"],[0.5555555555555556,\"#d8576b\"],[0.6666666666666666,\"#ed7953\"],[0.7777777777777778,\"#fb9f3a\"],[0.8888888888888888,\"#fdca26\"],[1.0,\"#f0f921\"]]}],\"contourcarpet\":[{\"type\":\"contourcarpet\",\"colorbar\":{\"outlinewidth\":0,\"ticks\":\"\"}}],\"contour\":[{\"type\":\"contour\",\"colorbar\":{\"outlinewidth\":0,\"ticks\":\"\"},\"colorscale\":[[0.0,\"#0d0887\"],[0.1111111111111111,\"#46039f\"],[0.2222222222222222,\"#7201a8\"],[0.3333333333333333,\"#9c179e\"],[0.4444444444444444,\"#bd3786\"],[0.5555555555555556,\"#d8576b\"],[0.6666666666666666,\"#ed7953\"],[0.7777777777777778,\"#fb9f3a\"],[0.8888888888888888,\"#fdca26\"],[1.0,\"#f0f921\"]]}],\"surface\":[{\"type\":\"surface\",\"colorbar\":{\"outlinewidth\":0,\"ticks\":\"\"},\"colorscale\":[[0.0,\"#0d0887\"],[0.1111111111111111,\"#46039f\"],[0.2222222222222222,\"#7201a8\"],[0.3333333333333333,\"#9c179e\"],[0.4444444444444444,\"#bd3786\"],[0.5555555555555556,\"#d8576b\"],[0.6666666666666666,\"#ed7953\"],[0.7777777777777778,\"#fb9f3a\"],[0.8888888888888888,\"#fdca26\"],[1.0,\"#f0f921\"]]}],\"mesh3d\":[{\"type\":\"mesh3d\",\"colorbar\":{\"outlinewidth\":0,\"ticks\":\"\"}}],\"scatter\":[{\"fillpattern\":{\"fillmode\":\"overlay\",\"size\":10,\"solidity\":0.2},\"type\":\"scatter\"}],\"parcoords\":[{\"type\":\"parcoords\",\"line\":{\"colorbar\":{\"outlinewidth\":0,\"ticks\":\"\"}}}],\"scatterpolargl\":[{\"type\":\"scatterpolargl\",\"marker\":{\"colorbar\":{\"outlinewidth\":0,\"ticks\":\"\"}}}],\"bar\":[{\"error_x\":{\"color\":\"#2a3f5f\"},\"error_y\":{\"color\":\"#2a3f5f\"},\"marker\":{\"line\":{\"color\":\"#E5ECF6\",\"width\":0.5},\"pattern\":{\"fillmode\":\"overlay\",\"size\":10,\"solidity\":0.2}},\"type\":\"bar\"}],\"scattergeo\":[{\"type\":\"scattergeo\",\"marker\":{\"colorbar\":{\"outlinewidth\":0,\"ticks\":\"\"}}}],\"scatterpolar\":[{\"type\":\"scatterpolar\",\"marker\":{\"colorbar\":{\"outlinewidth\":0,\"ticks\":\"\"}}}],\"histogram\":[{\"marker\":{\"pattern\":{\"fillmode\":\"overlay\",\"size\":10,\"solidity\":0.2}},\"type\":\"histogram\"}],\"scattergl\":[{\"type\":\"scattergl\",\"marker\":{\"colorbar\":{\"outlinewidth\":0,\"ticks\":\"\"}}}],\"scatter3d\":[{\"type\":\"scatter3d\",\"line\":{\"colorbar\":{\"outlinewidth\":0,\"ticks\":\"\"}},\"marker\":{\"colorbar\":{\"outlinewidth\":0,\"ticks\":\"\"}}}],\"scattermapbox\":[{\"type\":\"scattermapbox\",\"marker\":{\"colorbar\":{\"outlinewidth\":0,\"ticks\":\"\"}}}],\"scatterternary\":[{\"type\":\"scatterternary\",\"marker\":{\"colorbar\":{\"outlinewidth\":0,\"ticks\":\"\"}}}],\"scattercarpet\":[{\"type\":\"scattercarpet\",\"marker\":{\"colorbar\":{\"outlinewidth\":0,\"ticks\":\"\"}}}],\"carpet\":[{\"aaxis\":{\"endlinecolor\":\"#2a3f5f\",\"gridcolor\":\"white\",\"linecolor\":\"white\",\"minorgridcolor\":\"white\",\"startlinecolor\":\"#2a3f5f\"},\"baxis\":{\"endlinecolor\":\"#2a3f5f\",\"gridcolor\":\"white\",\"linecolor\":\"white\",\"minorgridcolor\":\"white\",\"startlinecolor\":\"#2a3f5f\"},\"type\":\"carpet\"}],\"table\":[{\"cells\":{\"fill\":{\"color\":\"#EBF0F8\"},\"line\":{\"color\":\"white\"}},\"header\":{\"fill\":{\"color\":\"#C8D4E3\"},\"line\":{\"color\":\"white\"}},\"type\":\"table\"}],\"barpolar\":[{\"marker\":{\"line\":{\"color\":\"#E5ECF6\",\"width\":0.5},\"pattern\":{\"fillmode\":\"overlay\",\"size\":10,\"solidity\":0.2}},\"type\":\"barpolar\"}],\"pie\":[{\"automargin\":true,\"type\":\"pie\"}]},\"layout\":{\"autotypenumbers\":\"strict\",\"colorway\":[\"#636efa\",\"#EF553B\",\"#00cc96\",\"#ab63fa\",\"#FFA15A\",\"#19d3f3\",\"#FF6692\",\"#B6E880\",\"#FF97FF\",\"#FECB52\"],\"font\":{\"color\":\"#2a3f5f\"},\"hovermode\":\"closest\",\"hoverlabel\":{\"align\":\"left\"},\"paper_bgcolor\":\"white\",\"plot_bgcolor\":\"#E5ECF6\",\"polar\":{\"bgcolor\":\"#E5ECF6\",\"angularaxis\":{\"gridcolor\":\"white\",\"linecolor\":\"white\",\"ticks\":\"\"},\"radialaxis\":{\"gridcolor\":\"white\",\"linecolor\":\"white\",\"ticks\":\"\"}},\"ternary\":{\"bgcolor\":\"#E5ECF6\",\"aaxis\":{\"gridcolor\":\"white\",\"linecolor\":\"white\",\"ticks\":\"\"},\"baxis\":{\"gridcolor\":\"white\",\"linecolor\":\"white\",\"ticks\":\"\"},\"caxis\":{\"gridcolor\":\"white\",\"linecolor\":\"white\",\"ticks\":\"\"}},\"coloraxis\":{\"colorbar\":{\"outlinewidth\":0,\"ticks\":\"\"}},\"colorscale\":{\"sequential\":[[0.0,\"#0d0887\"],[0.1111111111111111,\"#46039f\"],[0.2222222222222222,\"#7201a8\"],[0.3333333333333333,\"#9c179e\"],[0.4444444444444444,\"#bd3786\"],[0.5555555555555556,\"#d8576b\"],[0.6666666666666666,\"#ed7953\"],[0.7777777777777778,\"#fb9f3a\"],[0.8888888888888888,\"#fdca26\"],[1.0,\"#f0f921\"]],\"sequentialminus\":[[0.0,\"#0d0887\"],[0.1111111111111111,\"#46039f\"],[0.2222222222222222,\"#7201a8\"],[0.3333333333333333,\"#9c179e\"],[0.4444444444444444,\"#bd3786\"],[0.5555555555555556,\"#d8576b\"],[0.6666666666666666,\"#ed7953\"],[0.7777777777777778,\"#fb9f3a\"],[0.8888888888888888,\"#fdca26\"],[1.0,\"#f0f921\"]],\"diverging\":[[0,\"#8e0152\"],[0.1,\"#c51b7d\"],[0.2,\"#de77ae\"],[0.3,\"#f1b6da\"],[0.4,\"#fde0ef\"],[0.5,\"#f7f7f7\"],[0.6,\"#e6f5d0\"],[0.7,\"#b8e186\"],[0.8,\"#7fbc41\"],[0.9,\"#4d9221\"],[1,\"#276419\"]]},\"xaxis\":{\"gridcolor\":\"white\",\"linecolor\":\"white\",\"ticks\":\"\",\"title\":{\"standoff\":15},\"zerolinecolor\":\"white\",\"automargin\":true,\"zerolinewidth\":2},\"yaxis\":{\"gridcolor\":\"white\",\"linecolor\":\"white\",\"ticks\":\"\",\"title\":{\"standoff\":15},\"zerolinecolor\":\"white\",\"automargin\":true,\"zerolinewidth\":2},\"scene\":{\"xaxis\":{\"backgroundcolor\":\"#E5ECF6\",\"gridcolor\":\"white\",\"linecolor\":\"white\",\"showbackground\":true,\"ticks\":\"\",\"zerolinecolor\":\"white\",\"gridwidth\":2},\"yaxis\":{\"backgroundcolor\":\"#E5ECF6\",\"gridcolor\":\"white\",\"linecolor\":\"white\",\"showbackground\":true,\"ticks\":\"\",\"zerolinecolor\":\"white\",\"gridwidth\":2},\"zaxis\":{\"backgroundcolor\":\"#E5ECF6\",\"gridcolor\":\"white\",\"linecolor\":\"white\",\"showbackground\":true,\"ticks\":\"\",\"zerolinecolor\":\"white\",\"gridwidth\":2}},\"shapedefaults\":{\"line\":{\"color\":\"#2a3f5f\"}},\"annotationdefaults\":{\"arrowcolor\":\"#2a3f5f\",\"arrowhead\":0,\"arrowwidth\":1},\"geo\":{\"bgcolor\":\"white\",\"landcolor\":\"#E5ECF6\",\"subunitcolor\":\"white\",\"showland\":true,\"showlakes\":true,\"lakecolor\":\"white\"},\"title\":{\"x\":0.05},\"mapbox\":{\"style\":\"light\"}}},\"scene\":{\"domain\":{\"x\":[0.0,1.0],\"y\":[0.0,1.0]},\"xaxis\":{\"title\":{\"text\":\"PC1\"}},\"yaxis\":{\"title\":{\"text\":\"PC2\"}},\"zaxis\":{\"title\":{\"text\":\"PC3\"}}},\"coloraxis\":{\"colorbar\":{\"title\":{\"text\":\"Class\"}},\"colorscale\":[[0.0,\"#0d0887\"],[0.1111111111111111,\"#46039f\"],[0.2222222222222222,\"#7201a8\"],[0.3333333333333333,\"#9c179e\"],[0.4444444444444444,\"#bd3786\"],[0.5555555555555556,\"#d8576b\"],[0.6666666666666666,\"#ed7953\"],[0.7777777777777778,\"#fb9f3a\"],[0.8888888888888888,\"#fdca26\"],[1.0,\"#f0f921\"]]},\"legend\":{\"tracegroupgap\":0},\"margin\":{\"t\":60}},                        {\"responsive\": true}                    ).then(function(){\n",
       "                            \n",
       "var gd = document.getElementById('87792bc4-e308-4022-8310-8f1810a0da3e');\n",
       "var x = new MutationObserver(function (mutations, observer) {{\n",
       "        var display = window.getComputedStyle(gd).display;\n",
       "        if (!display || display === 'none') {{\n",
       "            console.log([gd, 'removed!']);\n",
       "            Plotly.purge(gd);\n",
       "            observer.disconnect();\n",
       "        }}\n",
       "}});\n",
       "\n",
       "// Listen for the removal of the full notebook cells\n",
       "var notebookContainer = gd.closest('#notebook-container');\n",
       "if (notebookContainer) {{\n",
       "    x.observe(notebookContainer, {childList: true});\n",
       "}}\n",
       "\n",
       "// Listen for the clearing of the current output cell\n",
       "var outputEl = gd.closest('.output');\n",
       "if (outputEl) {{\n",
       "    x.observe(outputEl, {childList: true});\n",
       "}}\n",
       "\n",
       "                        })                };                });            </script>        </div>"
      ]
     },
     "metadata": {},
     "output_type": "display_data"
    }
   ],
   "source": [
    "# Creating a 3D-Scatter with the PCA data and the clusters\n",
    "px.scatter_3d(\n",
    "    data_frame = clustered_df,\n",
    "    x=\"PC1\",\n",
    "    y=\"PC2\",\n",
    "    z=\"PC3\",\n",
    "    hover_name=\"CoinName\",\n",
    "    hover_data=[\"Algorithm\"],\n",
    "    color=\"Class\"\n",
    ")\n"
   ]
  },
  {
   "cell_type": "code",
   "execution_count": 155,
   "metadata": {},
   "outputs": [
    {
     "data": {},
     "metadata": {},
     "output_type": "display_data"
    },
    {
     "data": {
      "application/vnd.holoviews_exec.v0+json": "",
      "text/html": [
       "<div id='1739'>\n",
       "  <div class=\"bk-root\" id=\"8ba25a84-f11f-4652-8174-ebcada042b76\" data-root-id=\"1739\"></div>\n",
       "</div>\n",
       "<script type=\"application/javascript\">(function(root) {\n",
       "  function embed_document(root) {\n",
       "    var docs_json = {\"afb726fd-1944-4d98-b58c-d907cb6e2796\":{\"defs\":[{\"extends\":null,\"module\":null,\"name\":\"ReactiveHTML1\",\"overrides\":[],\"properties\":[]},{\"extends\":null,\"module\":null,\"name\":\"FlexBox1\",\"overrides\":[],\"properties\":[{\"default\":\"flex-start\",\"kind\":null,\"name\":\"align_content\"},{\"default\":\"flex-start\",\"kind\":null,\"name\":\"align_items\"},{\"default\":\"row\",\"kind\":null,\"name\":\"flex_direction\"},{\"default\":\"wrap\",\"kind\":null,\"name\":\"flex_wrap\"},{\"default\":\"flex-start\",\"kind\":null,\"name\":\"justify_content\"}]},{\"extends\":null,\"module\":null,\"name\":\"GridStack1\",\"overrides\":[],\"properties\":[{\"default\":\"warn\",\"kind\":null,\"name\":\"mode\"},{\"default\":null,\"kind\":null,\"name\":\"ncols\"},{\"default\":null,\"kind\":null,\"name\":\"nrows\"},{\"default\":true,\"kind\":null,\"name\":\"allow_resize\"},{\"default\":true,\"kind\":null,\"name\":\"allow_drag\"},{\"default\":[],\"kind\":null,\"name\":\"state\"}]},{\"extends\":null,\"module\":null,\"name\":\"click1\",\"overrides\":[],\"properties\":[{\"default\":\"\",\"kind\":null,\"name\":\"terminal_output\"},{\"default\":\"\",\"kind\":null,\"name\":\"debug_name\"},{\"default\":0,\"kind\":null,\"name\":\"clears\"}]},{\"extends\":null,\"module\":null,\"name\":\"NotificationAreaBase1\",\"overrides\":[],\"properties\":[{\"default\":\"bottom-right\",\"kind\":null,\"name\":\"position\"},{\"default\":0,\"kind\":null,\"name\":\"_clear\"}]},{\"extends\":null,\"module\":null,\"name\":\"NotificationArea1\",\"overrides\":[],\"properties\":[{\"default\":[],\"kind\":null,\"name\":\"notifications\"},{\"default\":\"bottom-right\",\"kind\":null,\"name\":\"position\"},{\"default\":0,\"kind\":null,\"name\":\"_clear\"},{\"default\":[{\"background\":\"#ffc107\",\"icon\":{\"className\":\"fas fa-exclamation-triangle\",\"color\":\"white\",\"tagName\":\"i\"},\"type\":\"warning\"},{\"background\":\"#007bff\",\"icon\":{\"className\":\"fas fa-info-circle\",\"color\":\"white\",\"tagName\":\"i\"},\"type\":\"info\"}],\"kind\":null,\"name\":\"types\"}]},{\"extends\":null,\"module\":null,\"name\":\"Notification\",\"overrides\":[],\"properties\":[{\"default\":null,\"kind\":null,\"name\":\"background\"},{\"default\":3000,\"kind\":null,\"name\":\"duration\"},{\"default\":null,\"kind\":null,\"name\":\"icon\"},{\"default\":\"\",\"kind\":null,\"name\":\"message\"},{\"default\":null,\"kind\":null,\"name\":\"notification_type\"},{\"default\":false,\"kind\":null,\"name\":\"_destroyed\"}]},{\"extends\":null,\"module\":null,\"name\":\"TemplateActions1\",\"overrides\":[],\"properties\":[{\"default\":0,\"kind\":null,\"name\":\"open_modal\"},{\"default\":0,\"kind\":null,\"name\":\"close_modal\"}]},{\"extends\":null,\"module\":null,\"name\":\"MaterialTemplateActions1\",\"overrides\":[],\"properties\":[{\"default\":0,\"kind\":null,\"name\":\"open_modal\"},{\"default\":0,\"kind\":null,\"name\":\"close_modal\"}]}],\"roots\":{\"references\":[{\"attributes\":{\"editor\":{\"id\":\"1744\"},\"field\":\"Algorithm\",\"formatter\":{\"id\":\"1743\"},\"title\":\"Algorithm\"},\"id\":\"1745\",\"type\":\"TableColumn\"},{\"attributes\":{\"editor\":{\"id\":\"1754\"},\"field\":\"TotalCoinsMined\",\"formatter\":{\"id\":\"1753\"},\"title\":\"TotalCoinsMined\"},\"id\":\"1755\",\"type\":\"TableColumn\"},{\"attributes\":{\"data\":{\"Algorithm\":[\"Scrypt\",\"Scrypt\",\"X13\",\"SHA-256\",\"Ethash\",\"Scrypt\",\"X11\",\"CryptoNight-V7\",\"Ethash\",\"Equihash\",\"SHA-512\",\"Multiple\",\"SHA-256\",\"SHA-256\",\"Scrypt\",\"X15\",\"X11\",\"Scrypt\",\"Scrypt\",\"Scrypt\",\"Multiple\",\"Scrypt\",\"SHA-256\",\"Scrypt\",\"Scrypt\",\"Scrypt\",\"Quark\",\"Groestl\",\"Scrypt\",\"Scrypt\",\"Scrypt\",\"Scrypt\",\"Scrypt\",\"X11\",\"Scrypt\",\"Groestl\",\"Multiple\",\"SHA-256\",\"Scrypt\",\"Scrypt\",\"Scrypt\",\"Scrypt\",\"PoS\",\"Scrypt\",\"Scrypt\",\"NeoScrypt\",\"Scrypt\",\"Scrypt\",\"Scrypt\",\"Scrypt\",\"X11\",\"Scrypt\",\"X11\",\"SHA-256\",\"Scrypt\",\"Scrypt\",\"Scrypt\",\"SHA3\",\"Scrypt\",\"HybridScryptHash256\",\"Scrypt\",\"Scrypt\",\"SHA-256\",\"Scrypt\",\"X13\",\"Scrypt\",\"SHA-256\",\"Scrypt\",\"X13\",\"NeoScrypt\",\"Scrypt\",\"Scrypt\",\"Scrypt\",\"Scrypt\",\"Scrypt\",\"Scrypt\",\"X11\",\"X11\",\"SHA-256\",\"Multiple\",\"SHA-256\",\"PHI1612\",\"X11\",\"SHA-256\",\"SHA-256\",\"SHA-256\",\"X11\",\"Scrypt\",\"Scrypt\",\"Scrypt\",\"Scrypt\",\"Lyra2REv2\",\"Scrypt\",\"X11\",\"Multiple\",\"SHA-256\",\"X13\",\"Scrypt\",\"CryptoNight\",\"CryptoNight\",\"Shabal256\",\"Counterparty\",\"Scrypt\",\"SHA-256\",\"Groestl\",\"Scrypt\",\"Scrypt\",\"Scrypt\",\"X13\",\"Scrypt\",\"Scrypt\",\"Scrypt\",\"Scrypt\",\"X13\",\"Scrypt\",\"Stanford Folding\",\"X11\",\"Multiple\",\"QuBit\",\"Scrypt\",\"Scrypt\",\"Scrypt\",\"M7 POW\",\"Scrypt\",\"SHA-256\",\"Scrypt\",\"X11\",\"SHA3\",\"X11\",\"Lyra2RE\",\"SHA-256\",\"QUAIT\",\"X11\",\"X11\",\"Scrypt\",\"Scrypt\",\"Scrypt\",\"Ethash\",\"X13\",\"Blake2b\",\"SHA-256\",\"X15\",\"X11\",\"SHA-256\",\"BLAKE256\",\"Scrypt\",\"1GB AES Pattern Search\",\"SHA-256\",\"X11\",\"Scrypt\",\"SHA-256\",\"SHA-256\",\"NIST5\",\"Scrypt\",\"Scrypt\",\"X11\",\"Dagger\",\"Scrypt\",\"X11GOST\",\"X11\",\"Scrypt\",\"SHA-256\",\"Scrypt\",\"PoS\",\"Scrypt\",\"X11\",\"X11\",\"SHA-256\",\"SHA-256\",\"NIST5\",\"X11\",\"Scrypt\",\"POS 3.0\",\"Scrypt\",\"Scrypt\",\"Scrypt\",\"X13\",\"X11\",\"X11\",\"Equihash\",\"X11\",\"Scrypt\",\"CryptoNight\",\"SHA-256\",\"SHA-256\",\"X11\",\"Scrypt\",\"Multiple\",\"Scrypt\",\"Scrypt\",\"Scrypt\",\"SHA-256\",\"Scrypt\",\"Scrypt\",\"SHA-256D\",\"PoS\",\"Scrypt\",\"X11\",\"Lyra2Z\",\"PoS\",\"X13\",\"X14\",\"PoS\",\"SHA-256D\",\"Ethash\",\"Equihash\",\"DPoS\",\"X11\",\"Scrypt\",\"X11\",\"X13\",\"X11\",\"PoS\",\"Scrypt\",\"Scrypt\",\"X11\",\"PoS\",\"X11\",\"SHA-256\",\"Scrypt\",\"X11\",\"Scrypt\",\"Scrypt\",\"X11\",\"CryptoNight\",\"Scrypt\",\"Scrypt\",\"Scrypt\",\"Scrypt\",\"Quark\",\"QuBit\",\"Scrypt\",\"CryptoNight\",\"Lyra2RE\",\"Scrypt\",\"SHA-256\",\"X11\",\"Scrypt\",\"X11\",\"Scrypt\",\"CryptoNight-V7\",\"Scrypt\",\"Scrypt\",\"Scrypt\",\"X13\",\"X11\",\"Equihash\",\"Scrypt\",\"Scrypt\",\"Lyra2RE\",\"Scrypt\",\"Dagger-Hashimoto\",\"X11\",\"Blake2S\",\"X11\",\"Scrypt\",\"PoS\",\"X11\",\"NIST5\",\"PoS\",\"X11\",\"Scrypt\",\"Scrypt\",\"Scrypt\",\"SHA-256\",\"X11\",\"Scrypt\",\"Scrypt\",\"SHA-256\",\"PoS\",\"Scrypt\",\"X15\",\"SHA-256\",\"Scrypt\",\"POS 3.0\",\"CryptoNight-V7\",\"536\",\"Argon2d\",\"Blake2b\",\"Cloverhash\",\"CryptoNight\",\"NIST5\",\"X11\",\"NIST5\",\"Skein\",\"Scrypt\",\"X13\",\"Scrypt\",\"X11\",\"X11\",\"Scrypt\",\"CryptoNight\",\"X13\",\"Time Travel\",\"Scrypt\",\"Keccak\",\"SkunkHash v2 Raptor\",\"X11\",\"Skein\",\"SHA-256\",\"X11\",\"Scrypt\",\"VeChainThor Authority\",\"Scrypt\",\"PoS\",\"Scrypt\",\"Scrypt\",\"Scrypt\",\"Scrypt\",\"Scrypt\",\"Scrypt\",\"Scrypt\",\"CryptoNight\",\"SHA-512\",\"Ouroboros\",\"X11\",\"Equihash\",\"NeoScrypt\",\"X11\",\"Scrypt\",\"NeoScrypt\",\"Lyra2REv2\",\"Equihash\",\"Scrypt\",\"SHA-256\",\"NIST5\",\"PHI1612\",\"Dagger\",\"Scrypt\",\"Quark\",\"Scrypt\",\"POS 2.0\",\"Scrypt\",\"SHA-256\",\"X11\",\"NeoScrypt\",\"Ethash\",\"NeoScrypt\",\"X11\",\"DPoS\",\"NIST5\",\"X13\",\"Multiple\",\"Scrypt\",\"CryptoNight\",\"CryptoNight\",\"Ethash\",\"NIST5\",\"Quark\",\"X11\",\"CryptoNight-V7\",\"Scrypt\",\"Scrypt\",\"Scrypt\",\"X11\",\"BLAKE256\",\"X11\",\"NeoScrypt\",\"Quark\",\"NeoScrypt\",\"Scrypt\",\"Scrypt\",\"Scrypt\",\"X11\",\"X11\",\"SHA-256\",\"C11\",\"POS 3.0\",\"Ethash\",\"Scrypt\",\"CryptoNight\",\"SkunkHash\",\"Scrypt\",\"CryptoNight\",\"Scrypt\",\"Dagger\",\"Lyra2REv2\",\"X13\",\"Proof-of-BibleHash\",\"SHA-256 + Hive\",\"Scrypt\",\"Scrypt\",\"X11\",\"C11\",\"Proof-of-Authority\",\"X11\",\"XEVAN\",\"Scrypt\",\"VBFT\",\"Ethash\",\"CryptoNight\",\"Scrypt\",\"IMesh\",\"NIST5\",\"Scrypt\",\"Scrypt\",\"Equihash\",\"Scrypt\",\"Lyra2Z\",\"Green Protocol\",\"PoS\",\"Scrypt\",\"Semux BFT consensus\",\"X11\",\"Quark\",\"PoS\",\"CryptoNight\",\"X16R\",\"Scrypt\",\"NIST5\",\"Lyra2RE\",\"XEVAN\",\"Tribus\",\"Scrypt\",\"Lyra2Z\",\"CryptoNight\",\"CryptoNight Heavy\",\"CryptoNight\",\"Scrypt\",\"Scrypt\",\"Jump Consistent Hash\",\"SHA-256D\",\"CryptoNight\",\"Scrypt\",\"X15\",\"Scrypt\",\"Quark\",\"SHA-256\",\"DPoS\",\"X16R\",\"HMQ1725\",\"X11\",\"X16R\",\"Quark\",\"Quark\",\"Scrypt\",\"Lyra2REv2\",\"Quark\",\"Scrypt\",\"Scrypt\",\"CryptoNight-V7\",\"Cryptonight-GPU\",\"XEVAN\",\"CryptoNight Heavy\",\"X11\",\"X11\",\"Scrypt\",\"PoS\",\"SHA-256\",\"Keccak\",\"X11\",\"X11\",\"Scrypt\",\"SHA-512\",\"X16R\",\"ECC 256K1\",\"Equihash\",\"XEVAN\",\"Lyra2Z\",\"SHA-256\",\"XEVAN\",\"X11\",\"CryptoNight\",\"Quark\",\"Blake\",\"Blake\",\"Equihash\",\"Exosis\",\"Scrypt\",\"Scrypt\",\"Equihash\",\"Quark\",\"Equihash\",\"Quark\",\"Scrypt\",\"QuBit\",\"X11\",\"Scrypt\",\"XEVAN\",\"SHA-256D\",\"X11\",\"SHA-256\",\"X13\",\"SHA-256\",\"X11\",\"DPoS\",\"Scrypt\",\"Scrypt\",\"X11\",\"NeoScrypt\",\"Scrypt\",\"Blake\",\"Scrypt\",\"SHA-256\",\"Scrypt\",\"X11\",\"Scrypt\",\"Scrypt\",\"SHA-256\",\"X11\",\"SHA-256\",\"Scrypt\",\"Scrypt\",\"Scrypt\",\"Groestl\",\"X11\",\"Scrypt\",\"PoS\",\"Scrypt\",\"Scrypt\",\"X11\",\"SHA-256\",\"DPoS\",\"Scrypt\",\"Scrypt\",\"NeoScrypt\",\"Multiple\",\"X13\",\"Equihash+Scrypt\",\"DPoS\",\"Ethash\",\"DPoS\",\"SHA-256\",\"Leased POS\",\"PoS\",\"TRC10\",\"PoS\",\"SHA-256\",\"Scrypt\",\"CryptoNight\",\"Equihash\",\"Scrypt\"],\"Class\":{\"__ndarray__\":\"AAAAAAAAAAAAAAAAAQAAAAEAAAABAAAAAAAAAAEAAAABAAAAAQAAAAAAAAABAAAAAAAAAAAAAAABAAAAAAAAAAEAAAABAAAAAAAAAAAAAAABAAAAAQAAAAEAAAABAAAAAQAAAAAAAAABAAAAAQAAAAEAAAAAAAAAAQAAAAAAAAABAAAAAQAAAAAAAAAAAAAAAQAAAAEAAAABAAAAAQAAAAEAAAABAAAAAAAAAAAAAAABAAAAAQAAAAEAAAABAAAAAQAAAAAAAAAAAAAAAQAAAAAAAAABAAAAAQAAAAEAAAABAAAAAAAAAAEAAAABAAAAAAAAAAEAAAAAAAAAAAAAAAAAAAABAAAAAQAAAAEAAAAAAAAAAAAAAAAAAAAAAAAAAAAAAAEAAAABAAAAAQAAAAAAAAAAAAAAAQAAAAAAAAABAAAAAAAAAAAAAAABAAAAAQAAAAEAAAABAAAAAAAAAAAAAAABAAAAAAAAAAEAAAABAAAAAAAAAAAAAAABAAAAAAAAAAAAAAABAAAAAQAAAAAAAAAAAAAAAQAAAAAAAAAAAAAAAQAAAAAAAAABAAAAAAAAAAEAAAAAAAAAAQAAAAAAAAAAAAAAAQAAAAEAAAAAAAAAAQAAAAEAAAABAAAAAAAAAAEAAAABAAAAAQAAAAEAAAABAAAAAAAAAAAAAAABAAAAAQAAAAEAAAAAAAAAAQAAAAAAAAABAAAAAQAAAAAAAAABAAAAAAAAAAEAAAAAAAAAAAAAAAEAAAABAAAAAAAAAAEAAAABAAAAAAAAAAAAAAABAAAAAAAAAAEAAAAAAAAAAAAAAAAAAAABAAAAAQAAAAEAAAABAAAAAAAAAAAAAAAAAAAAAAAAAAAAAAABAAAAAQAAAAAAAAAAAAAAAAAAAAAAAAAAAAAAAQAAAAAAAAAAAAAAAAAAAAAAAAAAAAAAAQAAAAAAAAABAAAAAAAAAAAAAAABAAAAAAAAAAEAAAAAAAAAAAAAAAEAAAAAAAAAAQAAAAAAAAABAAAAAAAAAAEAAAAAAAAAAAAAAAAAAAAAAAAAAQAAAAAAAAAAAAAAAAAAAAAAAAAAAAAAAQAAAAEAAAAAAAAAAAAAAAEAAAABAAAAAAAAAAAAAAAAAAAAAAAAAAAAAAABAAAAAAAAAAAAAAAAAAAAAAAAAAAAAAAAAAAAAAAAAAAAAAABAAAAAAAAAAAAAAAAAAAAAAAAAAAAAAAAAAAAAQAAAAEAAAABAAAAAAAAAAAAAAAAAAAAAAAAAAEAAAAAAAAAAQAAAAAAAAAAAAAAAQAAAAAAAAABAAAAAQAAAAAAAAABAAAAAQAAAAAAAAABAAAAAAAAAAAAAAAAAAAAAQAAAAAAAAAAAAAAAQAAAAAAAAAAAAAAAAAAAAAAAAAAAAAAAAAAAAAAAAABAAAAAAAAAAEAAAAAAAAAAAAAAAAAAAAAAAAAAQAAAAAAAAABAAAAAAAAAAEAAAABAAAAAQAAAAEAAAAAAAAAAQAAAAAAAAAAAAAAAQAAAAAAAAABAAAAAQAAAAEAAAAAAAAAAQAAAAAAAAABAAAAAQAAAAEAAAAAAAAAAQAAAAAAAAABAAAAAAAAAAAAAAAAAAAAAQAAAAAAAAABAAAAAQAAAAEAAAABAAAAAQAAAAAAAAAAAAAAAQAAAAAAAAAAAAAAAAAAAAEAAAAAAAAAAQAAAAAAAAABAAAAAAAAAAEAAAAAAAAAAAAAAAAAAAAAAAAAAQAAAAAAAAAAAAAAAQAAAAAAAAAAAAAAAAAAAAEAAAABAAAAAQAAAAEAAAAAAAAAAAAAAAAAAAAAAAAAAQAAAAAAAAABAAAAAQAAAAEAAAAAAAAAAAAAAAEAAAABAAAAAAAAAAAAAAABAAAAAAAAAAEAAAABAAAAAQAAAAAAAAABAAAAAQAAAAAAAAAAAAAAAAAAAAEAAAABAAAAAQAAAAAAAAAAAAAAAAAAAAEAAAABAAAAAAAAAAEAAAABAAAAAQAAAAEAAAAAAAAAAwAAAAMAAAABAAAAAQAAAAEAAAAAAAAAAwAAAAAAAAAAAAAAAAAAAAAAAAABAAAAAQAAAAEAAAABAAAAAAAAAAAAAAAAAAAAAQAAAAAAAAABAAAAAAAAAAAAAAAAAAAAAAAAAAEAAAAAAAAAAAAAAAEAAAAAAAAAAAAAAAEAAAABAAAAAAAAAAEAAAAAAAAAAQAAAAEAAAABAAAAAQAAAAAAAAAAAAAAAQAAAAAAAAABAAAAAAAAAAAAAAAAAAAAAAAAAAAAAAAAAAAAAQAAAAEAAAABAAAAAAAAAAAAAAAAAAAAAAAAAAAAAAAAAAAAAQAAAAAAAAABAAAAAQAAAAEAAAABAAAAAAAAAAAAAAAAAAAAAAAAAAEAAAAAAAAAAAAAAAEAAAAAAAAAAAAAAAEAAAADAAAAAQAAAAAAAAABAAAAAQAAAAAAAAAAAAAAAQAAAAAAAAABAAAAAQAAAAEAAAABAAAAAQAAAAAAAAABAAAAAAAAAAEAAAAAAAAAAAAAAAEAAAAAAAAAAAAAAAAAAAAAAAAAAAAAAAEAAAABAAAAAQAAAAAAAAAAAAAAAAAAAAEAAAAAAAAAAQAAAAAAAAABAAAAAAAAAAAAAAAAAAAAAAAAAAEAAAAAAAAAAAAAAAAAAAABAAAAAAAAAAEAAAAAAAAAAQAAAAAAAAAAAAAAAAAAAAEAAAABAAAAAAAAAAAAAAAAAAAAAAAAAAAAAAAAAAAAAQAAAAAAAAABAAAAAAAAAAEAAAAAAAAAAAAAAAMAAAAAAAAAAgAAAAAAAAAAAAAAAAAAAAEAAAABAAAAAAAAAA==\",\"dtype\":\"int32\",\"order\":\"little\",\"shape\":[532]},\"CoinName\":[\"42 Coin\",\"404Coin\",\"EliteCoin\",\"Bitcoin\",\"Ethereum\",\"Litecoin\",\"Dash\",\"Monero\",\"Ethereum Classic\",\"ZCash\",\"Bitshares\",\"DigiByte\",\"BitcoinDark\",\"PayCoin\",\"ProsperCoin\",\"KoboCoin\",\"Spreadcoin\",\"Argentum\",\"Aurora Coin\",\"BlueCoin\",\"MyriadCoin\",\"MoonCoin\",\"ZetaCoin\",\"SexCoin\",\"Quatloo\",\"EnergyCoin\",\"QuarkCoin\",\"Riecoin\",\"Digitalcoin \",\"BitBar\",\"Catcoin\",\"CryptoBullion\",\"CannaCoin\",\"CryptCoin\",\"CasinoCoin\",\"Diamond\",\"Verge\",\"DevCoin\",\"EarthCoin\",\"E-Gulden\",\"Einsteinium\",\"Emerald\",\"Exclusive Coin\",\"FlutterCoin\",\"Franko\",\"FeatherCoin\",\"GrandCoin\",\"GlobalCoin\",\"GoldCoin\",\"HoboNickels\",\"HyperStake\",\"Infinite Coin\",\"IOCoin\",\"IXcoin\",\"KrugerCoin\",\"LuckyCoin\",\"Litebar \",\"MaxCoin\",\"MegaCoin\",\"MediterraneanCoin\",\"MintCoin\",\"MinCoin\",\"MazaCoin\",\"Nautilus Coin\",\"NavCoin\",\"NobleCoin\",\"Namecoin\",\"NyanCoin\",\"OpalCoin\",\"Orbitcoin\",\"PotCoin\",\"PhoenixCoin\",\"Reddcoin\",\"RonPaulCoin\",\"StableCoin\",\"SmartCoin\",\"SuperCoin\",\"SyncCoin\",\"SysCoin\",\"TeslaCoin\",\"TigerCoin\",\"TittieCoin\",\"TorCoin\",\"TerraCoin\",\"UnbreakableCoin\",\"Unobtanium\",\"UroCoin\",\"UnitaryStatus Dollar\",\"UltraCoin\",\"ViaCoin\",\"VeriCoin\",\"Vertcoin\",\"WorldCoin\",\"X11 Coin\",\"Crypti\",\"JouleCoin\",\"StealthCoin\",\"ZCC Coin\",\"ByteCoin\",\"DigitalNote \",\"BurstCoin\",\"StorjCoin\",\"MonaCoin\",\"Neutron\",\"FairCoin\",\"Gulden\",\"RubyCoin\",\"PesetaCoin\",\"Kore\",\"Wild Beast Coin\",\"Dnotes\",\"Flo\",\"8BIT Coin\",\"Sativa Coin\",\"ArtByte\",\"Folding Coin\",\"Ucoin\",\"Unitus\",\"CypherPunkCoin\",\"OmniCron\",\"Vtorrent\",\"GreenCoin\",\"Cryptonite\",\"MasterCoin\",\"SoonCoin\",\"1Credit\",\"IslaCoin\",\"Nexus\",\"MarsCoin \",\"Crypto\",\"Anarchists Prime\",\"Droidz\",\"BowsCoin\",\"Squall Coin\",\"Song Coin\",\"BitZeny\",\"Diggits\",\"Expanse\",\"Paycon\",\"Siacoin\",\"Emercoin\",\"EverGreenCoin\",\"MindCoin\",\"I0coin\",\"Decred\",\"Revolution VR\",\"HOdlcoin\",\"EDRCoin\",\"Hitcoin\",\"Gamecredits\",\"DubaiCoin\",\"CarpeDiemCoin\",\"PWR Coin\",\"BillaryCoin\",\"GPU Coin\",\"Adzcoin\",\"SoilCoin\",\"YoCoin\",\"SibCoin\",\"EuropeCoin\",\"ZeitCoin\",\"SwingCoin\",\"SafeExchangeCoin\",\"Nebuchadnezzar\",\"Francs\",\"BolivarCoin\",\"Ratecoin\",\"Revenu\",\"Clockcoin\",\"VIP Tokens\",\"BitSend\",\"Omni\",\"Let it Ride\",\"PutinCoin\",\"iBankCoin\",\"Frankywillcoin\",\"MudraCoin\",\"PizzaCoin\",\"Lutetium Coin\",\"Komodo\",\"GoldBlocks\",\"CarterCoin\",\"Karbo\",\"BitTokens\",\"ZayedCoin\",\"MustangCoin\",\"ZoneCoin\",\"Circuits of Value\",\"RootCoin\",\"DopeCoin\",\"BitCurrency\",\"DollarCoin\",\"Swiscoin\",\"Shilling\",\"BuzzCoin\",\"Opair\",\"PesoBit\",\"Halloween Coin\",\"ZCoin\",\"CoffeeCoin\",\"RoyalCoin\",\"GanjaCoin V2\",\"TeamUP\",\"LanaCoin\",\"Elementrem\",\"ZClassic\",\"ARK\",\"InsaneCoin\",\"KiloCoin\",\"ArtexCoin\",\"EmberCoin\",\"XenixCoin\",\"FreeCoin\",\"PLNCoin\",\"AquariusCoin\",\"Kurrent\",\"Creatio\",\"Eternity\",\"Eurocoin\",\"BitcoinFast\",\"Stakenet\",\"BitConnect Coin\",\"MoneyCoin\",\"Enigma\",\"Cannabis Industry Coin\",\"Russiacoin\",\"PandaCoin\",\"GameUnits\",\"GAKHcoin\",\"Allsafe\",\"LiteCreed\",\"OsmiumCoin\",\"Bikercoins\",\"HexxCoin\",\"Klingon Empire Darsek\",\"Internet of People\",\"KushCoin\",\"Printerium\",\"PacCoin\",\"Impeach\",\"Citadel\",\"Zilbercoin\",\"FirstCoin\",\"BeaverCoin\",\"FindCoin\",\"VaultCoin\",\"Zero\",\"OpenChat\",\"Canada eCoin\",\"Zoin\",\"RenosCoin\",\"DubaiCoin\",\"VirtacoinPlus\",\"TajCoin\",\"Impact\",\"EB3coin\",\"Atmos\",\"HappyCoin\",\"Coinonat\",\"MacronCoin\",\"Condensate\",\"Independent Money System\",\"ArgusCoin\",\"LomoCoin\",\"ProCurrency\",\"GoldReserve\",\"BenjiRolls\",\"GrowthCoin\",\"ILCoin\",\"Phreak\",\"Degas Coin\",\"HTML5 Coin\",\"Ultimate Secure Cash\",\"EquiTrader\",\"QTUM\",\"Quantum Resistant Ledger\",\"Espers\",\"Dynamic\",\"Nano\",\"ChanCoin\",\"Dinastycoin\",\"Denarius\",\"DigitalPrice\",\"Virta Unique Coin\",\"Bitcoin Planet\",\"Unify\",\"BritCoin\",\"SocialCoin\",\"ArcticCoin\",\"DAS\",\"Linda\",\"LeviarCoin\",\"DeepOnion\",\"Bitcore\",\"gCn Coin\",\"SmartCash\",\"Signatum\",\"Onix\",\"Cream\",\"Bitcoin Cash\",\"Monoeci\",\"Draftcoin\",\"Vechain\",\"Sojourn Coin\",\"Stakecoin\",\"NewYorkCoin\",\"FrazCoin\",\"Kronecoin\",\"AdCoin\",\"Linx\",\"CoinonatX\",\"Ethereum Dark\",\"Sumokoin\",\"Obsidian\",\"Cardano\",\"Regalcoin\",\"BitcoinZ\",\"TrezarCoin\",\"Elements\",\"TerraNovaCoin\",\"VIVO Coin\",\"Rupee\",\"Bitcoin Gold\",\"WomenCoin\",\"Theresa May Coin\",\"NamoCoin\",\"LUXCoin\",\"Pirl\",\"Xios\",\"Bitcloud 2.0\",\"eBoost\",\"KekCoin\",\"BlackholeCoin\",\"Infinity Economics\",\"Pura\",\"Innova\",\"Ellaism\",\"GoByte\",\"Magnet\",\"Lamden Tau\",\"Electra\",\"Bitcoin Diamond\",\"SHIELD\",\"Cash & Back Coin\",\"UltraNote\",\"BitCoal\",\"DaxxCoin\",\"Bulwark\",\"Kalkulus\",\"AC3\",\"Lethean\",\"GermanCoin\",\"LiteCoin Ultra\",\"PopularCoin\",\"PhantomX\",\"Photon\",\"Sucre\",\"SparksPay\",\"Digiwage\",\"GunCoin\",\"IrishCoin\",\"Trollcoin\",\"Litecoin Plus\",\"Monkey Project\",\"Pioneer Coin\",\"UnitedBitcoin\",\"Interzone\",\"TokenPay\",\"1717 Masonic Commemorative Token\",\"My Big Coin\",\"TurtleCoin\",\"MUNcoin\",\"Unified Society USDEX\",\"Niobio Cash\",\"ShareChain\",\"Travelflex\",\"KREDS\",\"Tokyo Coin\",\"BiblePay\",\"LitecoinCash\",\"BitFlip\",\"LottoCoin\",\"Crypto Improvement Fund\",\"Stipend\",\"Poa Network\",\"Pushi\",\"Ellerium\",\"Velox\",\"Ontology\",\"Callisto Network\",\"BitTube\",\"Poseidon\",\"Aidos Kuneen\",\"Bitspace\",\"Briacoin\",\"Ignition\",\"Bitrolium\",\"MedicCoin\",\"Alpenschillling\",\"Bitcoin Green\",\"Deviant Coin\",\"Abjcoin\",\"Semux\",\"FuturoCoin\",\"Carebit\",\"Zealium\",\"Monero Classic\",\"Proton\",\"iDealCash\",\"Jumpcoin\",\"Infinex\",\"Bitcoin Incognito\",\"KEYCO\",\"HollyWoodCoin\",\"GINcoin\",\"PlatinCoin\",\"Loki\",\"Newton Coin\",\"Swisscoin\",\"Xt3ch\",\"MassGrid\",\"TheVig\",\"PluraCoin\",\"EmaratCoin\",\"Dekado\",\"Lynx\",\"Poseidon Quark\",\"BitcoinWSpectrum\",\"Muse\",\"Motion\",\"PlusOneCoin\",\"Axe\",\"Trivechain\",\"Dystem\",\"Giant\",\"Peony Coin\",\"Absolute Coin\",\"Vitae\",\"HexCoin\",\"TPCash\",\"Webchain\",\"Ryo\",\"Urals Coin\",\"Qwertycoin\",\"ARENON\",\"EUNO\",\"MMOCoin\",\"Ketan\",\"Project Pai\",\"XDNA\",\"PAXEX\",\"Azart\",\"ThunderStake\",\"Kcash\",\"Xchange\",\"Acute Angle Cloud\",\"CrypticCoin\",\"Bettex coin\",\"Actinium\",\"Bitcoin SV\",\"BitMoney\",\"Junson Ming Chan Coin\",\"FREDEnergy\",\"HerbCoin\",\"Universal Molecule\",\"Lithium\",\"PirateCash\",\"Exosis\",\"Block-Logic\",\"Oduwa\",\"Beam\",\"Galilel\",\"Bithereum\",\"Crypto Sports\",\"Credit\",\"SLICE\",\"Dash Platinum\",\"Nasdacoin\",\"Beetle Coin\",\"Titan Coin\",\"Award\",\"BLAST\",\"Bitcoin Rhodium\",\"GlobalToken\",\"Insane Coin\",\"ALAX\",\"LiteDoge\",\"SolarCoin\",\"TruckCoin\",\"UFO Coin\",\"OrangeCoin\",\"BlakeCoin\",\"BitstarCoin\",\"NeosCoin\",\"HyperCoin\",\"PinkCoin\",\"Crypto Escudo\",\"AudioCoin\",\"IncaKoin\",\"Piggy Coin\",\"Crown Coin\",\"Genstake\",\"SmileyCoin\",\"XiaoMiCoin\",\"Groestlcoin\",\"CapriCoin\",\" ClubCoin\",\"Radium\",\"Bata\",\"Pakcoin\",\"Creditbit \",\"OKCash\",\"Lisk\",\"HiCoin\",\"WhiteCoin\",\"FriendshipCoin\",\"JoinCoin\",\"Triangles Coin\",\"Vollar\",\"EOS\",\"Reality Clash\",\"Oxycoin\",\"TigerCash\",\"Waves\",\"Particl\",\"BitTorrent\",\"Nxt\",\"ZEPHYR\",\"Gapcoin\",\"Beldex\",\"Horizen\",\"BitcoinPlus\"],\"PC1\":{\"__ndarray__\":\"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\",\"dtype\":\"float64\",\"order\":\"little\",\"shape\":[532]},\"PC2\":{\"__ndarray__\":\"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\",\"dtype\":\"float64\",\"order\":\"little\",\"shape\":[532]},\"PC3\":{\"__ndarray__\":\"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\",\"dtype\":\"float64\",\"order\":\"little\",\"shape\":[532]},\"ProofType\":[\"PoW/PoS\",\"PoW/PoS\",\"PoW/PoS\",\"PoW\",\"PoW\",\"PoW\",\"PoW/PoS\",\"PoW\",\"PoW\",\"PoW\",\"PoS\",\"PoW\",\"PoW/PoS\",\"PoS\",\"PoW\",\"PoW/PoS\",\"PoW\",\"PoW\",\"PoW/PoS\",\"PoW/PoS\",\"PoW\",\"PoW\",\"PoW\",\"PoW\",\"PoW\",\"PoW/PoS\",\"PoW\",\"PoW\",\"PoW\",\"PoW/PoS\",\"PoW\",\"PoW/PoS\",\"PoW\",\"PoW\",\"PoC\",\"PoW/PoS\",\"PoW\",\"PoW\",\"PoW\",\"PoW\",\"PoW\",\"PoW\",\"PoS\",\"PoS/PoW/PoT\",\"PoW\",\"PoW\",\"PoW\",\"PoW\",\"PoW\",\"PoW/PoS\",\"PoS\",\"PoW\",\"PoW/PoS\",\"PoW\",\"PoW\",\"PoW\",\"PoW\",\"PoW/PoS\",\"PoW\",\"PoW\",\"PoS\",\"PoW\",\"PoW/PoS\",\"PoS\",\"PoW/PoS\",\"PoW\",\"PoW\",\"PoW\",\"PoW/PoS\",\"PoW/PoS\",\"PoW/PoS\",\"PoW/PoS\",\"PoW/PoS\",\"PoW\",\"PoW\",\"PoW\",\"PoS\",\"PoW/PoS\",\"PoW\",\"PoS\",\"PoW\",\"PoS\",\"PoW/PoS\",\"PoW\",\"PoW\",\"PoW\",\"PoW\",\"PoW/PoS\",\"PoW/PoS\",\"PoW\",\"PoST\",\"PoW\",\"PoW\",\"PoW/PoS\",\"PoS\",\"PoW\",\"PoW/PoS\",\"PoW/PoS\",\"PoW\",\"PoW\",\"PoC\",\"PoS\",\"PoW\",\"PoW/PoS\",\"PoW/PoS\",\"PoW\",\"PoS\",\"PoW\",\"PoW/PoS\",\"PoW\",\"PoS\",\"PoW\",\"PoW/PoS\",\"PoW/PoS\",\"PoW\",\"PoW\",\"PoS\",\"PoW\",\"PoW\",\"PoW\",\"PoW/PoS\",\"PoW\",\"PoW\",\"PoW\",\"PoW\",\"PoW\",\"PoW/PoS\",\"PoW/nPoS\",\"PoW\",\"PoW\",\"PoW\",\"PoW/PoS\",\"PoW\",\"PoS/PoW\",\"PoW\",\"PoW\",\"PoS\",\"PoW\",\"PoW/PoS\",\"PoW\",\"PoW/PoS\",\"PoW/PoS\",\"PoW\",\"PoW\",\"PoW/PoS\",\"PoW\",\"PoW\",\"PoW/PoS\",\"PoW/PoS\",\"PoW\",\"PoW/PoS\",\"PoW\",\"PoW/PoS\",\"PoW/PoS\",\"PoS\",\"PoW\",\"PoW\",\"PoW\",\"PoW\",\"PoW/PoS\",\"PoS\",\"PoW/PoS\",\"PoC\",\"PoS\",\"PoW\",\"PoW\",\"PoW/PoS\",\"PoW/PoS\",\"PoW/PoS\",\"PoW/PoS\",\"PoW/PoS\",\"PoW\",\"PoS\",\"PoW/PoS\",\"PoW/PoS\",\"PoW/PoS\",\"PoS\",\"PoW\",\"PoS\",\"dPoW/PoW\",\"PoW/PoS\",\"PoW/PoS\",\"PoW\",\"PoW/PoS\",\"PoW\",\"PoW/PoS\",\"PoW/PoS\",\"PoW\",\"PoW/PoS\",\"PoW\",\"PoS\",\"PoW\",\"PoW/PoW\",\"PoW\",\"PoW/PoS\",\"PoS\",\"PoW/PoS\",\"PoW/PoS\",\"PoW\",\"PoS\",\"PoS\",\"PoW/PoS\",\"PoS\",\"PoW/PoS\",\"PoW\",\"PoW\",\"DPoS\",\"PoW/PoS\",\"PoW\",\"PoW\",\"PoW/PoS\",\"PoW/PoS\",\"PoS\",\"PoW/PoS\",\"PoW/PoS\",\"PoW\",\"PoS\",\"PoW/PoS\",\"PoW/PoS\",\"PoW/PoS\",\"TPoS\",\"PoW/PoS\",\"PoW/PoS\",\"PoW/PoS\",\"PoW\",\"PoW/PoS\",\"PoS\",\"PoW/PoS\",\"PoW/PoS\",\"PoS\",\"PoW/PoS\",\"PoW\",\"PoW\",\"PoW\",\"PoW/PoS\",\"PoW/PoS\",\"PoW/PoS\",\"PoW/PoS\",\"PoW\",\"PoW/PoS\",\"PoW\",\"PoS\",\"PoW/PoS \",\"PoW\",\"PoS\",\"PoW\",\"PoW\",\"PoW/PoS\",\"PoW\",\"PoW\",\"PoS\",\"PoW\",\"PoW/PoS\",\"PoW/PoS\",\"PoW/PoS\",\"PoW\",\"PoS\",\"PoW/PoS\",\"PoW\",\"PoS\",\"PoW/PoS\",\"PoW/PoS\",\"PoW/PoS\",\"PoW/PoS\",\"PoS\",\"PoW/PoS\",\"PoW\",\"PoS\",\"PoW\",\"PoS\",\"PoW/PoS\",\"PoW/PoS\",\"PoS\",\"PoW\",\"PoS\",\"PoW\",\"PoW/PoS\",\"PoW\",\"PoW\",\"PoW\",\"PoW\",\"PoW/PoS\",\"PoW\",\"PoW/PoS\",\"PoW/PoS\",\"PoW\",\"PoW/PoS\",\"PoW\",\"PoW\",\"PoW\",\"PoW/PoS\",\"PoW\",\"PoW/PoS\",\"PoW\",\"PoW\",\"PoW\",\"PoS\",\"PoW\",\"PoW/PoS\",\"PoW\",\"PoW/PoS\",\"PoS\",\"Proof of Authority\",\"PoW\",\"PoS\",\"PoW\",\"PoW\",\"PoW\",\"PoW\",\"PoW\",\"PoW/PoS\",\"PoW/PoS\",\"PoW\",\"PoS\",\"PoS\",\"PoW/PoS\",\"PoW\",\"PoW/PoS\",\"PoW\",\"PoW/PoS\",\"PoW\",\"PoS\",\"PoW\",\"PoW/PoS\",\"PoW/PoS\",\"PoW/PoS\",\"PoW/PoS\",\"PoW\",\"PoW/PoS\",\"PoW/PoS\",\"PoW\",\"PoS\",\"PoW/PoS\",\"PoS\",\"PoW\",\"PoW\",\"PoW\",\"PoW\",\"PoW/PoS\",\"DPoS\",\"PoW/PoS\",\"PoW/PoS\",\"PoW\",\"PoW/PoS\",\"PoW\",\"PoW\",\"PoW\",\"PoS\",\"PoS\",\"PoW\",\"PoW\",\"PoW/PoS\",\"PoW/PoS\",\"PoW\",\"PoW/PoS\",\"PoW\",\"PoW\",\"PoW\",\"PoS\",\"PoW\",\"PoW\",\"PoW/PoS\",\"PoW/PoS\",\"PoS\",\"PoW\",\"PoW\",\"PoW\",\"PoS\",\"PoS\",\"PoW and PoS\",\"PoW\",\"PoW\",\"PoW/PoS\",\"PoW\",\"PoW\",\"PoW\",\"PoW\",\"PoS\",\"POBh\",\"PoW + Hive\",\"PoW\",\"PoW\",\"PoW\",\"PoW/PoS\",\"PoA\",\"PoW/PoS\",\"PoW/PoS\",\"PoS\",\"PoS\",\"PoW\",\"PoW\",\"PoW\",\"PoW\",\"PoW/PoS\",\"PoW/PoS\",\"PoW/PoS\",\"PoW\",\"PoS\",\"PoW\",\"PoS\",\"PoS\",\"PoW/PoS\",\"DPoS\",\"PoW\",\"PoW/PoS\",\"PoS\",\"PoW\",\"PoS\",\"PoW/PoS\",\"PoW\",\"PoW\",\"PoS/PoW\",\"PoW\",\"PoS\",\"PoW\",\"PoW\",\"PoW\",\"PoW\",\"PoW/PoS\",\"PoS\",\"PoW\",\"PoW/PoS\",\"PoW\",\"PoW/PoS\",\"PoS\",\"HPoW\",\"PoS\",\"PoS\",\"PoS\",\"PoW\",\"PoW\",\"PoW\",\"PoW/PoS\",\"PoS\",\"PoW/PoS\",\"PoS\",\"PoW/PoS\",\"PoS\",\"PoW\",\"PoW/PoS\",\"PoW\",\"PoW\",\"PoW\",\"PoW\",\"PoS\",\"PoW/PoS\",\"PoS\",\"PoS\",\"PoW\",\"PoW/PoS\",\"PoS\",\"PoW\",\"PoW/PoS\",\"Zero-Knowledge Proof\",\"PoW\",\"DPOS\",\"PoW\",\"PoS\",\"PoW\",\"PoW\",\"Pos\",\"PoS\",\"PoW\",\"PoW/PoS\",\"PoW\",\"PoW\",\"PoS\",\"PoW\",\"PoW\",\"PoW/PoS\",\"PoW\",\"PoW/PoS\",\"PoW\",\"PoS\",\"PoW/PoS\",\"PoW\",\"PoS\",\"PoW/PoS\",\"PoW/PoS\",\"PoW/PoS\",\"PoW/PoS\",\"PoW\",\"PoW\",\"PoW\",\"PoW/PoS\",\"DPoS\",\"PoW/PoS\",\"PoW\",\"PoW/PoS\",\"PoW\",\"PoW/PoS\",\"PoW\",\"PoW/PoS\",\"PoS\",\"PoW/PoS\",\"PoW/PoS\",\"PoW\",\"PoW/PoS\",\"PoW/PoS\",\"PoW/PoS\",\"PoW\",\"PoW/PoS\",\"PoW\",\"PoW/PoS\",\"PoW\",\"PoW/PoS\",\"PoW/PoS\",\"PoS\",\"PoW\",\"PoW\",\"Proof of Trust\",\"PoW/PoS\",\"DPoS\",\"PoS\",\"PoW/PoS\",\"PoW/PoS\",\"PoW\",\"PoW/PoS\",\"PoW\",\"DPoS\",\"PoW\",\"DPoS\",\"PoS\",\"LPoS\",\"PoS\",\"DPoS\",\"PoS/LPoS\",\"DPoS\",\"PoW/PoS\",\"PoW\",\"PoW\",\"PoS\"],\"TotalCoinSupply\":[\"42\",\"532000000\",\"314159265359\",\"21000000\",\"0\",\"84000000\",\"22000000\",\"0\",\"210000000\",\"21000000\",\"3600570502\",\"21000000000\",\"22000000\",\"12500000\",\"21000000\",\"350000000\",\"20000000\",\"64000000\",\"16768584\",\"0\",\"2000000000\",\"384000000000\",\"169795588\",\"250000000\",\"100000000\",\"0\",\"247000000\",\"84000000\",\"48166000\",\"500000\",\"21000000 \",\"1000000\",\"13140000\",\"18000000\",\"40000000000\",\"4380000\",\"16555000000\",\"21000000000\",\"13500000000\",\"21000000 \",\"299792458\",\"32000000\",\"0\",\"0\",\"11235813\",\"336000000\",\"1420609614\",\"70000000\",\"72245700\",\"120000000\",\"0\",\"90600000000\",\"22000000\",\"21000000\",\"265420800\",\"20000000\",\"1350000\",\"100000000\",\"42000000\",\"200000000\",\"0\",\"10000000\",\"2419200000\",\"16180000\",\"0\",\"15000000000\",\"21000000\",\"337000000\",\"0\",\"3770000\",\"420000000\",\"98000000\",\"0\",\"21000000\",\"250000000\",\"51200000\",\"0\",\"1000\",\"888000000\",\"100000000\",\"47011968\",\"2300000000\",\"10000000\",\"42000000\",\"80000000\",\"250000\",\"0\",\"1600000000\",\"100000000\",\"23000000\",\"0\",\"84000000\",\"265420800\",\"5500000\",\"0\",\"45000000\",\"0\",\"1000000000\",\"184467440735\",\"10000000000\",\"2158812800\",\"500000000\",\"105120000\",\"68000000\",\"0\",\"1680000000\",\"0\",\"166386000\",\"12000000\",\"2628000\",\"500000000\",\"160000000\",\"0\",\"10000000\",\"1000000000\",\"1000000000\",\"20000000\",\"0\",\"0\",\"3371337\",\"20000000\",\"10000000000\",\"1840000000\",\"619478\",\"21000000\",\"92000000000\",\"0\",\"78000000\",\"33000000\",\"65789100\",\"53760000\",\"5060000\",\"21000000\",\"0\",\"210240000\",\"250000000\",\"100000000\",\"16906397\",\"50000000\",\"0\",\"1000000000\",\"26298000\",\"16000000\",\"21000000\",\"21000000\",\"210000000\",\"81962100\",\"22000000\",\"26550000000\",\"84000000\",\"10500000\",\"21626280000 \",\"0\",\"42000000\",\"221052632\",\"84000000\",\"30000000\",\"168351300\",\"24000000\",\"384000000\",\" 99000000000\",\"40000000\",\"2147483647\",\"20000000\",\"20000000\",\"25000000\",\"75000000\",\"222725000\",\"525000000\",\"90000000\",\"139000000\",\"616448\",\"33500000\",\"2000000000\",\"44333333\",\"100000000\",\"200000000\",\"25000000\",\"657000000\",\"200000000\",\"50000000\",\"90000000\",\"10000000\",\"21000000\",\"9736000\",\"3000000\",\"21000000\",\"1200000000\",\"0\",\"200000000\",\"0\",\"10638298\",\"3100000000\",\"30000000\",\"20000000000\",\"74000000\",\"0\",\"1500000000\",\"21400000\",\"39999898\",\"2500124\",\"100000000\",\"301000000\",\"7506000000\",\"26205539\",\"21000000\",\"125000000\",\"30000000\",\"10000000000\",\"500000000\",\"850000000\",\"3853326.77707314\",\"50000000\",\"38540000 \",\"42000000\",\"228000000\",\"20000000\",\"60000000\",\"20000000\",\"33000000\",\"76500000\",\"28000000\",\"650659833\",\"5000000\",\"21000000\",\"144000000\",\"32514916898\",\"13000000\",\"3315789\",\"15000000\",\"78835200\",\"2714286\",\"25000000\",\"9999999\",\"500000000\",\"21000000\",\"9354000\",\"20000000\",\"100000000000\",\"21933333\",\"185000000\",\"55000000\",\"110000000\",\"3360000\",\"14524851.4827\",\"1000000000\",\"17000000\",\"1000000000\",\"100000000 \",\"21000000\",\"34426423\",\"2232901\",\"100000000\",\"36900000\",\"110000000\",\"4000000000\",\"110290030\",\"100000000\",\"48252000\",\"400000000\",\"500000000\",\"21212121\",\"28600000\",\"1000000000\",\"75000000000\",\"40000000\",\"35520400\",\"2000000000\",\"2500000000\",\"30000000\",\"105000000\",\"90000000000\",\"200084200\",\"72000000\",\"100000000\",\"105000000\",\"50000000000\",\"0\",\"340282367\",\"30000000\",\"2000000000\",\"10000000\",\"100000000\",\"120000000\",\"100000000\",\"19276800\",\"30000000\",\" 75000000\",\"60000000\",\"18900000\",\"50000000000\",\"54000000\",\"18898187.6216583\",\"21000000\",\"200000000000\",\"5000000000\",\"137500000\",\"1100000000\",\"100000000\",\"21000000\",\"9507271\",\"17405891.19707116\",\"86712634466\",\"10500000000\",\"61599965\",\"0\",\"20000000\",\"84000000\",\"100000000\",\"100000000\",\"48252000\",\"4200000\",\"88888888\",\"91388946\",\"45000000000\",\"27000000\",\"21000000000\",\"400000000\",\"1800000000\",\"15733333\",\"27000000\",\"24000000\",\"21000000\",\"25000000000\",\"100000000\",\"1200000000\",\"60000000\",\"156306732.71\",\"21000000\",\"200000000\",\"100000000\",\"21000000\",\"14788275.991\",\"9000000000\",\"350000000\",\"45000000\",\"280000000\",\"31800000\",\"144000000\",\"500000000\",\"30000000000\",\"210000000\",\"660000000\",\"210000000\",\"85000000000\",\"12500000\",\"10000000000\",\"27716121\",\"20000000\",\"550000000\",\"999481516\",\"50000000000\",\"150000000\",\"4999999999\",\"50000000\",\" 90000000000\",\"19800000\",\"21000000\",\"120000000\",\"500000000\",\"64000000\",\"900000000\",\"4000000\",\"21000000\",\"23000000\",\"20166000\",\"23000000\",\"25000000\",\"1618033\",\"30000000\",\"1000000000000\",\"16600000\",\"232000000\",\"336000000\",\"10000000000\",\"100000000\",\"1100000000\",\"800000000\",\"5200000000\",\"840000000\",\"40000000\",\"18406979840\",\"500000000\",\"19340594\",\"252460800\",\"25000000\",\"60000000\",\"124000000\",\"1000000000\",\"6500000000\",\"1000000000\",\"21000000\",\"25000000\",\"50000000\",\"3000000\",\"5000000\",\"70000000\",\"500000000\",\"300000000\",\"21000000\",\"88000000\",\"30000000\",\"100000000\",\"100000000\",\"200000000\",\"80000000\",\"18400000\",\"45000000\",\"5121951220\",\"21000000\",\"26280000\",\"21000000\",\"18000000\",\"26000000\",\"10500000\",\"600000518\",\"150000000\",\"184000000000\",\"10200000000\",\"44000000\",\"168000000\",\"100000000\",\"1000000000\",\"84000000\",\"90000000\",\"92000000000\",\"650000000 \",\"100262205\",\"18081806 \",\"22075700\",\"21000000\",\"21000000\",\"82546564\",\"21000000\",\"5151000\",\"16880000000\",\"52500000\",\"100000000\",\"22105263\",\"1000000000\",\"1750000000\",\"88188888\",\"210000000\",\"184470000000\",\"55000000\",\"50000000\",\"260000000\",\"210000000\",\"2100000000\",\"366000000\",\"100000000\",\"25000000\",\"18000000000\",\"1000000000\",\"100000000\",\"1000000000\",\"7600000000\",\"50000000\",\"84000000\",\"21000000\",\"70000000000\",\"0\",\"8080000000\",\"54000000\",\"105120001.44\",\"25228800\",\"105000000\",\"21000000\",\"120000000\",\"21000000\",\"262800000\",\"19035999\",\"30886000\",\"13370000\",\"74800000000\",\"100000000\",\"19700000\",\"84000000\",\"500000000\",\"5000000000\",\"420000000\",\"64000000\",\"2100000\",\"168000000\",\"30000000\",\"1000000000\",\"35000000000\",\"98100000000\",\"0\",\"4000000000\",\"200000000\",\"7000000000\",\"54256119\",\"21000000\",\"0\",\"500000000\",\"1000000000\",\"10500000000\",\"190000000\",\"1000000000\",\"42000000\",\"15000000\",\"50000000000\",\"400000000\",\"105000000\",\"208000000\",\"160000000\",\"9000000\",\"5000000\",\"182000000\",\"16504333\",\"105000000\",\"159918400\",\"10008835635\",\"300000000\",\"60168145\",\"2800000\",\"120000\",\"2100000000\",\"0\",\"24487944\",\"0\",\"1000000000\",\"100000000\",\"8634140\",\"990000000000\",\"1000000000\",\"2000000000\",\"250000000\",\"1400222610\",\"21000000\",\"1000000\"],\"TotalCoinsMined\":{\"__ndarray__\":\"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\",\"dtype\":\"float64\",\"order\":\"little\",\"shape\":[532]}},\"selected\":{\"id\":\"1742\"},\"selection_policy\":{\"id\":\"1791\"}},\"id\":\"1741\",\"type\":\"ColumnDataSource\"},{\"attributes\":{},\"id\":\"1758\",\"type\":\"StringFormatter\"},{\"attributes\":{\"format\":\"0,0.0[00000]\"},\"id\":\"1753\",\"type\":\"NumberFormatter\"},{\"attributes\":{},\"id\":\"1779\",\"type\":\"StringEditor\"},{\"attributes\":{},\"id\":\"1791\",\"type\":\"UnionRenderers\"},{\"attributes\":{},\"id\":\"1774\",\"type\":\"NumberEditor\"},{\"attributes\":{\"format\":\"0,0.0[00000]\"},\"id\":\"1768\",\"type\":\"NumberFormatter\"},{\"attributes\":{},\"id\":\"1778\",\"type\":\"StringFormatter\"},{\"attributes\":{\"editor\":{\"id\":\"1779\"},\"field\":\"CoinName\",\"formatter\":{\"id\":\"1778\"},\"title\":\"CoinName\"},\"id\":\"1780\",\"type\":\"TableColumn\"},{\"attributes\":{},\"id\":\"1759\",\"type\":\"StringEditor\"},{\"attributes\":{},\"id\":\"1784\",\"type\":\"IntEditor\"},{\"attributes\":{},\"id\":\"1754\",\"type\":\"NumberEditor\"},{\"attributes\":{},\"id\":\"1783\",\"type\":\"NumberFormatter\"},{\"attributes\":{\"editor\":{\"id\":\"1764\"},\"field\":\"PC1\",\"formatter\":{\"id\":\"1763\"},\"title\":\"PC1\"},\"id\":\"1765\",\"type\":\"TableColumn\"},{\"attributes\":{\"margin\":[5,5,5,5],\"name\":\"HSpacer01630\",\"sizing_mode\":\"stretch_width\"},\"id\":\"1793\",\"type\":\"Spacer\"},{\"attributes\":{\"editor\":{\"id\":\"1749\"},\"field\":\"ProofType\",\"formatter\":{\"id\":\"1748\"},\"title\":\"ProofType\"},\"id\":\"1750\",\"type\":\"TableColumn\"},{\"attributes\":{\"editor\":{\"id\":\"1784\"},\"field\":\"Class\",\"formatter\":{\"id\":\"1783\"},\"title\":\"Class\"},\"id\":\"1785\",\"type\":\"TableColumn\"},{\"attributes\":{\"format\":\"0,0.0[00000]\"},\"id\":\"1763\",\"type\":\"NumberFormatter\"},{\"attributes\":{\"editor\":{\"id\":\"1774\"},\"field\":\"PC3\",\"formatter\":{\"id\":\"1773\"},\"title\":\"PC3\"},\"id\":\"1775\",\"type\":\"TableColumn\"},{\"attributes\":{},\"id\":\"1742\",\"type\":\"Selection\"},{\"attributes\":{\"columns\":[{\"id\":\"1745\"},{\"id\":\"1750\"},{\"id\":\"1755\"},{\"id\":\"1760\"},{\"id\":\"1765\"},{\"id\":\"1770\"},{\"id\":\"1775\"},{\"id\":\"1780\"},{\"id\":\"1785\"}],\"height\":300,\"reorderable\":false,\"source\":{\"id\":\"1741\"},\"view\":{\"id\":\"1790\"},\"width\":700},\"id\":\"1788\",\"type\":\"DataTable\"},{\"attributes\":{},\"id\":\"1764\",\"type\":\"NumberEditor\"},{\"attributes\":{},\"id\":\"1744\",\"type\":\"StringEditor\"},{\"attributes\":{\"source\":{\"id\":\"1741\"}},\"id\":\"1790\",\"type\":\"CDSView\"},{\"attributes\":{},\"id\":\"1743\",\"type\":\"StringFormatter\"},{\"attributes\":{\"children\":[{\"id\":\"1740\"},{\"id\":\"1788\"},{\"id\":\"1793\"}],\"margin\":[0,0,0,0],\"name\":\"Row01625\",\"tags\":[\"embedded\"]},\"id\":\"1739\",\"type\":\"Row\"},{\"attributes\":{},\"id\":\"1749\",\"type\":\"StringEditor\"},{\"attributes\":{\"format\":\"0,0.0[00000]\"},\"id\":\"1773\",\"type\":\"NumberFormatter\"},{\"attributes\":{\"editor\":{\"id\":\"1759\"},\"field\":\"TotalCoinSupply\",\"formatter\":{\"id\":\"1758\"},\"title\":\"TotalCoinSupply\"},\"id\":\"1760\",\"type\":\"TableColumn\"},{\"attributes\":{},\"id\":\"1748\",\"type\":\"StringFormatter\"},{\"attributes\":{\"editor\":{\"id\":\"1769\"},\"field\":\"PC2\",\"formatter\":{\"id\":\"1768\"},\"title\":\"PC2\"},\"id\":\"1770\",\"type\":\"TableColumn\"},{\"attributes\":{},\"id\":\"1769\",\"type\":\"NumberEditor\"},{\"attributes\":{\"margin\":[5,5,5,5],\"name\":\"HSpacer01629\",\"sizing_mode\":\"stretch_width\"},\"id\":\"1740\",\"type\":\"Spacer\"}],\"root_ids\":[\"1739\"]},\"title\":\"Bokeh Application\",\"version\":\"2.4.3\"}};\n",
       "    var render_items = [{\"docid\":\"afb726fd-1944-4d98-b58c-d907cb6e2796\",\"root_ids\":[\"1739\"],\"roots\":{\"1739\":\"8ba25a84-f11f-4652-8174-ebcada042b76\"}}];\n",
       "    root.Bokeh.embed.embed_items_notebook(docs_json, render_items);\n",
       "    for (const render_item of render_items) {\n",
       "      for (const root_id of render_item.root_ids) {\n",
       "\tconst id_el = document.getElementById(root_id)\n",
       "\tif (id_el.children.length && (id_el.children[0].className === 'bk-root')) {\n",
       "\t  const root_el = id_el.children[0]\n",
       "\t  root_el.id = root_el.id + '-rendered'\n",
       "\t}\n",
       "      }\n",
       "    }\n",
       "  }\n",
       "  if (root.Bokeh !== undefined && root.Bokeh.Panel !== undefined) {\n",
       "    embed_document(root);\n",
       "  } else {\n",
       "    var attempts = 0;\n",
       "    var timer = setInterval(function(root) {\n",
       "      if (root.Bokeh !== undefined && root.Bokeh.Panel !== undefined) {\n",
       "        clearInterval(timer);\n",
       "        embed_document(root);\n",
       "      } else if (document.readyState == \"complete\") {\n",
       "        attempts++;\n",
       "        if (attempts > 200) {\n",
       "          clearInterval(timer);\n",
       "          console.log(\"Bokeh: ERROR: Unable to run BokehJS code because BokehJS library is missing\");\n",
       "        }\n",
       "      }\n",
       "    }, 25, root)\n",
       "  }\n",
       "})(window);</script>"
      ],
      "text/plain": [
       ":Table   [Algorithm,ProofType,TotalCoinsMined,TotalCoinSupply,PC1,PC2,PC3,CoinName,Class]"
      ]
     },
     "execution_count": 155,
     "metadata": {
      "application/vnd.holoviews_exec.v0+json": {
       "id": "1739"
      }
     },
     "output_type": "execute_result"
    }
   ],
   "source": [
    "# Create a table with tradable cryptocurrencies.\n",
    "clustered_df.hvplot.table()"
   ]
  },
  {
   "cell_type": "code",
   "execution_count": 156,
   "metadata": {},
   "outputs": [
    {
     "name": "stdout",
     "output_type": "stream",
     "text": [
      "There are 532 tradable cryptocurrencies\n"
     ]
    }
   ],
   "source": [
    "# Print the total number of tradable cryptocurrencies.\n",
    "number = len(clustered_df.index)\n",
    "print(\"There are \" + str(number) + \" tradable cryptocurrencies\")"
   ]
  },
  {
   "cell_type": "code",
   "execution_count": 157,
   "metadata": {},
   "outputs": [
    {
     "data": {
      "text/plain": [
       "array([[4.20000000e-11, 0.00000000e+00],\n",
       "       [5.32000000e-04, 1.06585544e-03],\n",
       "       [3.14159265e-01, 2.95755135e-02],\n",
       "       ...,\n",
       "       [1.40022261e-03, 9.90135079e-04],\n",
       "       [2.10000000e-05, 7.37028150e-06],\n",
       "       [1.00000000e-06, 1.29582282e-07]])"
      ]
     },
     "execution_count": 157,
     "metadata": {},
     "output_type": "execute_result"
    }
   ],
   "source": [
    "# Scaling data to create the scatter plot with tradable cryptocurrencies.\n",
    "new_crypto_scaled = MinMaxScaler().fit_transform(clustered_df[[\"TotalCoinSupply\", \"TotalCoinsMined\"]])\n",
    "new_crypto_scaled"
   ]
  },
  {
   "cell_type": "code",
   "execution_count": 158,
   "metadata": {},
   "outputs": [
    {
     "data": {
      "text/html": [
       "<div>\n",
       "<style scoped>\n",
       "    .dataframe tbody tr th:only-of-type {\n",
       "        vertical-align: middle;\n",
       "    }\n",
       "\n",
       "    .dataframe tbody tr th {\n",
       "        vertical-align: top;\n",
       "    }\n",
       "\n",
       "    .dataframe thead th {\n",
       "        text-align: right;\n",
       "    }\n",
       "</style>\n",
       "<table border=\"1\" class=\"dataframe\">\n",
       "  <thead>\n",
       "    <tr style=\"text-align: right;\">\n",
       "      <th></th>\n",
       "      <th>TotalCoinSupply</th>\n",
       "      <th>TotalCoinsMined</th>\n",
       "      <th>CoinName</th>\n",
       "      <th>Class</th>\n",
       "    </tr>\n",
       "  </thead>\n",
       "  <tbody>\n",
       "    <tr>\n",
       "      <th>42</th>\n",
       "      <td>4.200000e-11</td>\n",
       "      <td>0.000000</td>\n",
       "      <td>42 Coin</td>\n",
       "      <td>0</td>\n",
       "    </tr>\n",
       "    <tr>\n",
       "      <th>404</th>\n",
       "      <td>5.320000e-04</td>\n",
       "      <td>0.001066</td>\n",
       "      <td>404Coin</td>\n",
       "      <td>0</td>\n",
       "    </tr>\n",
       "    <tr>\n",
       "      <th>1337</th>\n",
       "      <td>3.141593e-01</td>\n",
       "      <td>0.029576</td>\n",
       "      <td>EliteCoin</td>\n",
       "      <td>0</td>\n",
       "    </tr>\n",
       "    <tr>\n",
       "      <th>BTC</th>\n",
       "      <td>2.100000e-05</td>\n",
       "      <td>0.000018</td>\n",
       "      <td>Bitcoin</td>\n",
       "      <td>1</td>\n",
       "    </tr>\n",
       "    <tr>\n",
       "      <th>ETH</th>\n",
       "      <td>0.000000e+00</td>\n",
       "      <td>0.000109</td>\n",
       "      <td>Ethereum</td>\n",
       "      <td>1</td>\n",
       "    </tr>\n",
       "    <tr>\n",
       "      <th>LTC</th>\n",
       "      <td>8.400000e-05</td>\n",
       "      <td>0.000064</td>\n",
       "      <td>Litecoin</td>\n",
       "      <td>1</td>\n",
       "    </tr>\n",
       "    <tr>\n",
       "      <th>DASH</th>\n",
       "      <td>2.200000e-05</td>\n",
       "      <td>0.000009</td>\n",
       "      <td>Dash</td>\n",
       "      <td>0</td>\n",
       "    </tr>\n",
       "    <tr>\n",
       "      <th>XMR</th>\n",
       "      <td>0.000000e+00</td>\n",
       "      <td>0.000017</td>\n",
       "      <td>Monero</td>\n",
       "      <td>1</td>\n",
       "    </tr>\n",
       "    <tr>\n",
       "      <th>ETC</th>\n",
       "      <td>2.100000e-04</td>\n",
       "      <td>0.000115</td>\n",
       "      <td>Ethereum Classic</td>\n",
       "      <td>1</td>\n",
       "    </tr>\n",
       "    <tr>\n",
       "      <th>ZEC</th>\n",
       "      <td>2.100000e-05</td>\n",
       "      <td>0.000007</td>\n",
       "      <td>ZCash</td>\n",
       "      <td>1</td>\n",
       "    </tr>\n",
       "  </tbody>\n",
       "</table>\n",
       "</div>"
      ],
      "text/plain": [
       "      TotalCoinSupply  TotalCoinsMined          CoinName  Class\n",
       "42       4.200000e-11         0.000000           42 Coin      0\n",
       "404      5.320000e-04         0.001066           404Coin      0\n",
       "1337     3.141593e-01         0.029576         EliteCoin      0\n",
       "BTC      2.100000e-05         0.000018           Bitcoin      1\n",
       "ETH      0.000000e+00         0.000109          Ethereum      1\n",
       "LTC      8.400000e-05         0.000064          Litecoin      1\n",
       "DASH     2.200000e-05         0.000009              Dash      0\n",
       "XMR      0.000000e+00         0.000017            Monero      1\n",
       "ETC      2.100000e-04         0.000115  Ethereum Classic      1\n",
       "ZEC      2.100000e-05         0.000007             ZCash      1"
      ]
     },
     "execution_count": 158,
     "metadata": {},
     "output_type": "execute_result"
    }
   ],
   "source": [
    "# Create a new DataFrame that has the scaled data with the clustered_df DataFrame index.\n",
    "new_df = pd.DataFrame(new_crypto_scaled, columns = [\"TotalCoinSupply\", \"TotalCoinsMined\"], index= clustered_df.index)\n",
    "\n",
    "# Add the \"CoinName\" column from the clustered_df DataFrame to the new DataFrame.\n",
    "new_df[\"CoinName\"] = cryptonames_df[\"CoinName\"]\n",
    "\n",
    "# Add the \"Class\" column from the clustered_df DataFrame to the new DataFrame. \n",
    "new_df[\"Class\"] = km_model.labels_\n",
    "new_df.head(10)\n",
    "\n",
    "new_df.head(10)"
   ]
  },
  {
   "cell_type": "code",
   "execution_count": 159,
   "metadata": {},
   "outputs": [
    {
     "data": {},
     "metadata": {},
     "output_type": "display_data"
    },
    {
     "data": {
      "application/vnd.holoviews_exec.v0+json": "",
      "text/html": [
       "<div id='1805'>\n",
       "  <div class=\"bk-root\" id=\"abf83ca3-554d-48b5-b8ac-9770980b48ab\" data-root-id=\"1805\"></div>\n",
       "</div>\n",
       "<script type=\"application/javascript\">(function(root) {\n",
       "  function embed_document(root) {\n",
       "    var docs_json = {\"a664e6b3-22e4-4e7d-82d1-b0339c0cd624\":{\"defs\":[{\"extends\":null,\"module\":null,\"name\":\"ReactiveHTML1\",\"overrides\":[],\"properties\":[]},{\"extends\":null,\"module\":null,\"name\":\"FlexBox1\",\"overrides\":[],\"properties\":[{\"default\":\"flex-start\",\"kind\":null,\"name\":\"align_content\"},{\"default\":\"flex-start\",\"kind\":null,\"name\":\"align_items\"},{\"default\":\"row\",\"kind\":null,\"name\":\"flex_direction\"},{\"default\":\"wrap\",\"kind\":null,\"name\":\"flex_wrap\"},{\"default\":\"flex-start\",\"kind\":null,\"name\":\"justify_content\"}]},{\"extends\":null,\"module\":null,\"name\":\"GridStack1\",\"overrides\":[],\"properties\":[{\"default\":\"warn\",\"kind\":null,\"name\":\"mode\"},{\"default\":null,\"kind\":null,\"name\":\"ncols\"},{\"default\":null,\"kind\":null,\"name\":\"nrows\"},{\"default\":true,\"kind\":null,\"name\":\"allow_resize\"},{\"default\":true,\"kind\":null,\"name\":\"allow_drag\"},{\"default\":[],\"kind\":null,\"name\":\"state\"}]},{\"extends\":null,\"module\":null,\"name\":\"click1\",\"overrides\":[],\"properties\":[{\"default\":\"\",\"kind\":null,\"name\":\"terminal_output\"},{\"default\":\"\",\"kind\":null,\"name\":\"debug_name\"},{\"default\":0,\"kind\":null,\"name\":\"clears\"}]},{\"extends\":null,\"module\":null,\"name\":\"NotificationAreaBase1\",\"overrides\":[],\"properties\":[{\"default\":\"bottom-right\",\"kind\":null,\"name\":\"position\"},{\"default\":0,\"kind\":null,\"name\":\"_clear\"}]},{\"extends\":null,\"module\":null,\"name\":\"NotificationArea1\",\"overrides\":[],\"properties\":[{\"default\":[],\"kind\":null,\"name\":\"notifications\"},{\"default\":\"bottom-right\",\"kind\":null,\"name\":\"position\"},{\"default\":0,\"kind\":null,\"name\":\"_clear\"},{\"default\":[{\"background\":\"#ffc107\",\"icon\":{\"className\":\"fas fa-exclamation-triangle\",\"color\":\"white\",\"tagName\":\"i\"},\"type\":\"warning\"},{\"background\":\"#007bff\",\"icon\":{\"className\":\"fas fa-info-circle\",\"color\":\"white\",\"tagName\":\"i\"},\"type\":\"info\"}],\"kind\":null,\"name\":\"types\"}]},{\"extends\":null,\"module\":null,\"name\":\"Notification\",\"overrides\":[],\"properties\":[{\"default\":null,\"kind\":null,\"name\":\"background\"},{\"default\":3000,\"kind\":null,\"name\":\"duration\"},{\"default\":null,\"kind\":null,\"name\":\"icon\"},{\"default\":\"\",\"kind\":null,\"name\":\"message\"},{\"default\":null,\"kind\":null,\"name\":\"notification_type\"},{\"default\":false,\"kind\":null,\"name\":\"_destroyed\"}]},{\"extends\":null,\"module\":null,\"name\":\"TemplateActions1\",\"overrides\":[],\"properties\":[{\"default\":0,\"kind\":null,\"name\":\"open_modal\"},{\"default\":0,\"kind\":null,\"name\":\"close_modal\"}]},{\"extends\":null,\"module\":null,\"name\":\"MaterialTemplateActions1\",\"overrides\":[],\"properties\":[{\"default\":0,\"kind\":null,\"name\":\"open_modal\"},{\"default\":0,\"kind\":null,\"name\":\"close_modal\"}]}],\"roots\":{\"references\":[{\"attributes\":{\"data\":{\"Class\":{\"__ndarray__\":\"AwAAAAMAAAADAAAAAwAAAAMAAAA=\",\"dtype\":\"int32\",\"order\":\"little\",\"shape\":[5]},\"CoinName\":[\"BiblePay\",\"LitecoinCash\",\"Poa Network\",\"Acute Angle Cloud\",\"Waves\"],\"TotalCoinSupply\":{\"__ndarray__\":\"lPYGX5hMdT+8eapDboZLP4RaKOGWizA//Knx0k1iUD8sQxzr4jYaPw==\",\"dtype\":\"float64\",\"order\":\"little\",\"shape\":[5]},\"TotalCoinsMined\":{\"__ndarray__\":\"j1gNkdpTXT+QpMXySiFFP5wZJXiPEis/ekNDBbiMUD/7RX5gv3oaPw==\",\"dtype\":\"float64\",\"order\":\"little\",\"shape\":[5]},\"index\":[\"BBP\",\"LCC\",\"POA\",\"AAC\",\"WAVES\"]},\"selected\":{\"id\":\"1917\"},\"selection_policy\":{\"id\":\"1937\"}},\"id\":\"1916\",\"type\":\"ColumnDataSource\"},{\"attributes\":{\"fill_color\":{\"value\":\"#6d904f\"},\"hatch_color\":{\"value\":\"#6d904f\"},\"line_color\":{\"value\":\"#6d904f\"},\"size\":{\"value\":5.477225575051661},\"x\":{\"field\":\"TotalCoinsMined\"},\"y\":{\"field\":\"TotalCoinSupply\"}},\"id\":\"1919\",\"type\":\"Scatter\"},{\"attributes\":{},\"id\":\"1871\",\"type\":\"Selection\"},{\"attributes\":{\"coordinates\":null,\"data_source\":{\"id\":\"1892\"},\"glyph\":{\"id\":\"1895\"},\"group\":null,\"hover_glyph\":null,\"muted_glyph\":{\"id\":\"1897\"},\"nonselection_glyph\":{\"id\":\"1896\"},\"selection_glyph\":{\"id\":\"1915\"},\"view\":{\"id\":\"1899\"}},\"id\":\"1898\",\"type\":\"GlyphRenderer\"},{\"attributes\":{\"tools\":[{\"id\":\"1809\"},{\"id\":\"1830\"},{\"id\":\"1831\"},{\"id\":\"1832\"},{\"id\":\"1833\"},{\"id\":\"1834\"}]},\"id\":\"1836\",\"type\":\"Toolbar\"},{\"attributes\":{\"bottom_units\":\"screen\",\"coordinates\":null,\"fill_alpha\":0.5,\"fill_color\":\"lightgrey\",\"group\":null,\"left_units\":\"screen\",\"level\":\"overlay\",\"line_alpha\":1.0,\"line_color\":\"black\",\"line_dash\":[4,4],\"line_width\":2,\"right_units\":\"screen\",\"syncable\":false,\"top_units\":\"screen\"},\"id\":\"1835\",\"type\":\"BoxAnnotation\"},{\"attributes\":{},\"id\":\"1893\",\"type\":\"Selection\"},{\"attributes\":{},\"id\":\"1830\",\"type\":\"SaveTool\"},{\"attributes\":{},\"id\":\"1831\",\"type\":\"PanTool\"},{\"attributes\":{},\"id\":\"1864\",\"type\":\"UnionRenderers\"},{\"attributes\":{\"margin\":[5,5,5,5],\"name\":\"HSpacer01807\",\"sizing_mode\":\"stretch_width\"},\"id\":\"1958\",\"type\":\"Spacer\"},{\"attributes\":{\"coordinates\":null,\"data_source\":{\"id\":\"1870\"},\"glyph\":{\"id\":\"1873\"},\"group\":null,\"hover_glyph\":null,\"muted_glyph\":{\"id\":\"1875\"},\"nonselection_glyph\":{\"id\":\"1874\"},\"selection_glyph\":{\"id\":\"1891\"},\"view\":{\"id\":\"1877\"}},\"id\":\"1876\",\"type\":\"GlyphRenderer\"},{\"attributes\":{\"angle\":{\"value\":0.0},\"fill_alpha\":{\"value\":1.0},\"fill_color\":{\"value\":\"#e5ae38\"},\"hatch_alpha\":{\"value\":1.0},\"hatch_color\":{\"value\":\"#e5ae38\"},\"hatch_scale\":{\"value\":12.0},\"hatch_weight\":{\"value\":1.0},\"line_alpha\":{\"value\":1.0},\"line_cap\":{\"value\":\"butt\"},\"line_color\":{\"value\":\"#e5ae38\"},\"line_dash\":{\"value\":[]},\"line_dash_offset\":{\"value\":0},\"line_join\":{\"value\":\"bevel\"},\"line_width\":{\"value\":1},\"marker\":{\"value\":\"circle\"},\"size\":{\"value\":5.477225575051661},\"x\":{\"field\":\"TotalCoinsMined\"},\"y\":{\"field\":\"TotalCoinSupply\"}},\"id\":\"1915\",\"type\":\"Scatter\"},{\"attributes\":{},\"id\":\"1834\",\"type\":\"ResetTool\"},{\"attributes\":{\"source\":{\"id\":\"1849\"}},\"id\":\"1856\",\"type\":\"CDSView\"},{\"attributes\":{\"overlay\":{\"id\":\"1835\"}},\"id\":\"1833\",\"type\":\"BoxZoomTool\"},{\"attributes\":{},\"id\":\"1832\",\"type\":\"WheelZoomTool\"},{\"attributes\":{\"fill_alpha\":{\"value\":0.1},\"fill_color\":{\"value\":\"#6d904f\"},\"hatch_alpha\":{\"value\":0.1},\"hatch_color\":{\"value\":\"#6d904f\"},\"line_alpha\":{\"value\":0.1},\"line_color\":{\"value\":\"#6d904f\"},\"size\":{\"value\":5.477225575051661},\"x\":{\"field\":\"TotalCoinsMined\"},\"y\":{\"field\":\"TotalCoinSupply\"}},\"id\":\"1920\",\"type\":\"Scatter\"},{\"attributes\":{},\"id\":\"1844\",\"type\":\"BasicTickFormatter\"},{\"attributes\":{\"fill_alpha\":{\"value\":0.2},\"fill_color\":{\"value\":\"#e5ae38\"},\"hatch_alpha\":{\"value\":0.2},\"hatch_color\":{\"value\":\"#e5ae38\"},\"line_alpha\":{\"value\":0.2},\"line_color\":{\"value\":\"#e5ae38\"},\"size\":{\"value\":5.477225575051661},\"x\":{\"field\":\"TotalCoinsMined\"},\"y\":{\"field\":\"TotalCoinSupply\"}},\"id\":\"1897\",\"type\":\"Scatter\"},{\"attributes\":{\"fill_alpha\":{\"value\":0.1},\"fill_color\":{\"value\":\"#fc4f30\"},\"hatch_alpha\":{\"value\":0.1},\"hatch_color\":{\"value\":\"#fc4f30\"},\"line_alpha\":{\"value\":0.1},\"line_color\":{\"value\":\"#fc4f30\"},\"size\":{\"value\":5.477225575051661},\"x\":{\"field\":\"TotalCoinsMined\"},\"y\":{\"field\":\"TotalCoinSupply\"}},\"id\":\"1874\",\"type\":\"Scatter\"},{\"attributes\":{\"data\":{\"Class\":{\"__ndarray__\":\"AgAAAA==\",\"dtype\":\"int32\",\"order\":\"little\",\"shape\":[1]},\"CoinName\":[\"BitTorrent\"],\"TotalCoinSupply\":{\"__ndarray__\":\"rkfhehSu7z8=\",\"dtype\":\"float64\",\"order\":\"little\",\"shape\":[1]},\"TotalCoinsMined\":{\"__ndarray__\":\"AAAAAAAA8D8=\",\"dtype\":\"float64\",\"order\":\"little\",\"shape\":[1]},\"index\":[\"BTT\"]},\"selected\":{\"id\":\"1893\"},\"selection_policy\":{\"id\":\"1911\"}},\"id\":\"1892\",\"type\":\"ColumnDataSource\"},{\"attributes\":{},\"id\":\"1937\",\"type\":\"UnionRenderers\"},{\"attributes\":{\"margin\":[5,5,5,5],\"name\":\"HSpacer01806\",\"sizing_mode\":\"stretch_width\"},\"id\":\"1806\",\"type\":\"Spacer\"},{\"attributes\":{},\"id\":\"1917\",\"type\":\"Selection\"},{\"attributes\":{\"source\":{\"id\":\"1916\"}},\"id\":\"1923\",\"type\":\"CDSView\"},{\"attributes\":{\"label\":{\"value\":\"1\"},\"renderers\":[{\"id\":\"1876\"}]},\"id\":\"1890\",\"type\":\"LegendItem\"},{\"attributes\":{},\"id\":\"1823\",\"type\":\"BasicTicker\"},{\"attributes\":{\"angle\":{\"value\":0.0},\"fill_alpha\":{\"value\":1.0},\"fill_color\":{\"value\":\"#fc4f30\"},\"hatch_alpha\":{\"value\":1.0},\"hatch_color\":{\"value\":\"#fc4f30\"},\"hatch_scale\":{\"value\":12.0},\"hatch_weight\":{\"value\":1.0},\"line_alpha\":{\"value\":1.0},\"line_cap\":{\"value\":\"butt\"},\"line_color\":{\"value\":\"#fc4f30\"},\"line_dash\":{\"value\":[]},\"line_dash_offset\":{\"value\":0},\"line_join\":{\"value\":\"bevel\"},\"line_width\":{\"value\":1},\"marker\":{\"value\":\"circle\"},\"size\":{\"value\":5.477225575051661},\"x\":{\"field\":\"TotalCoinsMined\"},\"y\":{\"field\":\"TotalCoinSupply\"}},\"id\":\"1891\",\"type\":\"Scatter\"},{\"attributes\":{\"coordinates\":null,\"data_source\":{\"id\":\"1916\"},\"glyph\":{\"id\":\"1919\"},\"group\":null,\"hover_glyph\":null,\"muted_glyph\":{\"id\":\"1921\"},\"nonselection_glyph\":{\"id\":\"1920\"},\"selection_glyph\":{\"id\":\"1941\"},\"view\":{\"id\":\"1923\"}},\"id\":\"1922\",\"type\":\"GlyphRenderer\"},{\"attributes\":{\"data\":{\"Class\":{\"__ndarray__\":\"AQAAAAEAAAABAAAAAQAAAAEAAAABAAAAAQAAAAEAAAABAAAAAQAAAAEAAAABAAAAAQAAAAEAAAABAAAAAQAAAAEAAAABAAAAAQAAAAEAAAABAAAAAQAAAAEAAAABAAAAAQAAAAEAAAABAAAAAQAAAAEAAAABAAAAAQAAAAEAAAABAAAAAQAAAAEAAAABAAAAAQAAAAEAAAABAAAAAQAAAAEAAAABAAAAAQAAAAEAAAABAAAAAQAAAAEAAAABAAAAAQAAAAEAAAABAAAAAQAAAAEAAAABAAAAAQAAAAEAAAABAAAAAQAAAAEAAAABAAAAAQAAAAEAAAABAAAAAQAAAAEAAAABAAAAAQAAAAEAAAABAAAAAQAAAAEAAAABAAAAAQAAAAEAAAABAAAAAQAAAAEAAAABAAAAAQAAAAEAAAABAAAAAQAAAAEAAAABAAAAAQAAAAEAAAABAAAAAQAAAAEAAAABAAAAAQAAAAEAAAABAAAAAQAAAAEAAAABAAAAAQAAAAEAAAABAAAAAQAAAAEAAAABAAAAAQAAAAEAAAABAAAAAQAAAAEAAAABAAAAAQAAAAEAAAABAAAAAQAAAAEAAAABAAAAAQAAAAEAAAABAAAAAQAAAAEAAAABAAAAAQAAAAEAAAABAAAAAQAAAAEAAAABAAAAAQAAAAEAAAABAAAAAQAAAAEAAAABAAAAAQAAAAEAAAABAAAAAQAAAAEAAAABAAAAAQAAAAEAAAABAAAAAQAAAAEAAAABAAAAAQAAAAEAAAABAAAAAQAAAAEAAAABAAAAAQAAAAEAAAABAAAAAQAAAAEAAAABAAAAAQAAAAEAAAABAAAAAQAAAAEAAAABAAAAAQAAAAEAAAABAAAAAQAAAAEAAAABAAAAAQAAAAEAAAABAAAAAQAAAAEAAAABAAAAAQAAAAEAAAABAAAAAQAAAAEAAAABAAAAAQAAAAEAAAABAAAAAQAAAAEAAAABAAAAAQAAAAEAAAABAAAAAQAAAAEAAAABAAAAAQAAAAEAAAABAAAAAQAAAAEAAAABAAAAAQAAAAEAAAABAAAAAQAAAAEAAAABAAAAAQAAAAEAAAABAAAAAQAAAAEAAAABAAAAAQAAAAEAAAABAAAAAQAAAAEAAAABAAAAAQAAAAEAAAABAAAAAQAAAAEAAAABAAAAAQAAAAEAAAABAAAAAQAAAAEAAAABAAAAAQAAAAEAAAABAAAAAQAAAAEAAAABAAAAAQAAAAEAAAABAAAAAQAAAAEAAAA=\",\"dtype\":\"int32\",\"order\":\"little\",\"shape\":[239]},\"CoinName\":[\"Bitcoin\",\"Ethereum\",\"Litecoin\",\"Monero\",\"Ethereum Classic\",\"ZCash\",\"DigiByte\",\"ProsperCoin\",\"Spreadcoin\",\"Argentum\",\"MyriadCoin\",\"MoonCoin\",\"ZetaCoin\",\"SexCoin\",\"Quatloo\",\"QuarkCoin\",\"Riecoin\",\"Digitalcoin \",\"Catcoin\",\"CannaCoin\",\"CryptCoin\",\"Verge\",\"DevCoin\",\"EarthCoin\",\"E-Gulden\",\"Einsteinium\",\"Emerald\",\"Franko\",\"FeatherCoin\",\"GrandCoin\",\"GlobalCoin\",\"GoldCoin\",\"Infinite Coin\",\"IXcoin\",\"KrugerCoin\",\"LuckyCoin\",\"Litebar \",\"MegaCoin\",\"MediterraneanCoin\",\"MinCoin\",\"NobleCoin\",\"Namecoin\",\"NyanCoin\",\"RonPaulCoin\",\"StableCoin\",\"SmartCoin\",\"SysCoin\",\"TigerCoin\",\"TerraCoin\",\"UnbreakableCoin\",\"Unobtanium\",\"UroCoin\",\"ViaCoin\",\"Vertcoin\",\"WorldCoin\",\"JouleCoin\",\"ByteCoin\",\"DigitalNote \",\"MonaCoin\",\"Gulden\",\"PesetaCoin\",\"Wild Beast Coin\",\"Flo\",\"ArtByte\",\"Folding Coin\",\"Unitus\",\"CypherPunkCoin\",\"OmniCron\",\"GreenCoin\",\"Cryptonite\",\"MasterCoin\",\"SoonCoin\",\"1Credit\",\"MarsCoin \",\"Crypto\",\"Anarchists Prime\",\"BowsCoin\",\"Song Coin\",\"BitZeny\",\"Expanse\",\"Siacoin\",\"MindCoin\",\"I0coin\",\"Revolution VR\",\"HOdlcoin\",\"Gamecredits\",\"CarpeDiemCoin\",\"Adzcoin\",\"SoilCoin\",\"YoCoin\",\"SibCoin\",\"Francs\",\"BolivarCoin\",\"Omni\",\"PizzaCoin\",\"Komodo\",\"Karbo\",\"ZayedCoin\",\"Circuits of Value\",\"DopeCoin\",\"DollarCoin\",\"Shilling\",\"ZCoin\",\"Elementrem\",\"ZClassic\",\"KiloCoin\",\"ArtexCoin\",\"Kurrent\",\"Cannabis Industry Coin\",\"OsmiumCoin\",\"Bikercoins\",\"HexxCoin\",\"PacCoin\",\"Citadel\",\"BeaverCoin\",\"VaultCoin\",\"Zero\",\"Canada eCoin\",\"Zoin\",\"DubaiCoin\",\"EB3coin\",\"Coinonat\",\"BenjiRolls\",\"ILCoin\",\"EquiTrader\",\"Quantum Resistant Ledger\",\"Dynamic\",\"Nano\",\"ChanCoin\",\"Dinastycoin\",\"DigitalPrice\",\"Unify\",\"SocialCoin\",\"ArcticCoin\",\"DAS\",\"LeviarCoin\",\"Bitcore\",\"gCn Coin\",\"SmartCash\",\"Onix\",\"Bitcoin Cash\",\"Sojourn Coin\",\"NewYorkCoin\",\"FrazCoin\",\"Kronecoin\",\"AdCoin\",\"Linx\",\"Sumokoin\",\"BitcoinZ\",\"Elements\",\"VIVO Coin\",\"Bitcoin Gold\",\"Pirl\",\"eBoost\",\"Pura\",\"Innova\",\"Ellaism\",\"GoByte\",\"SHIELD\",\"UltraNote\",\"BitCoal\",\"DaxxCoin\",\"AC3\",\"Lethean\",\"PopularCoin\",\"Photon\",\"Sucre\",\"SparksPay\",\"GunCoin\",\"IrishCoin\",\"Pioneer Coin\",\"UnitedBitcoin\",\"Interzone\",\"TurtleCoin\",\"MUNcoin\",\"Niobio Cash\",\"ShareChain\",\"Travelflex\",\"KREDS\",\"BitFlip\",\"LottoCoin\",\"Crypto Improvement Fund\",\"Callisto Network\",\"BitTube\",\"Poseidon\",\"Aidos Kuneen\",\"Bitrolium\",\"Alpenschillling\",\"FuturoCoin\",\"Monero Classic\",\"Jumpcoin\",\"Infinex\",\"KEYCO\",\"GINcoin\",\"PlatinCoin\",\"Loki\",\"Newton Coin\",\"MassGrid\",\"PluraCoin\",\"Motion\",\"PlusOneCoin\",\"Axe\",\"HexCoin\",\"Webchain\",\"Ryo\",\"Urals Coin\",\"Qwertycoin\",\"Project Pai\",\"Azart\",\"Xchange\",\"CrypticCoin\",\"Actinium\",\"Bitcoin SV\",\"FREDEnergy\",\"Universal Molecule\",\"Lithium\",\"PirateCash\",\"Exosis\",\"Block-Logic\",\"Beam\",\"Bithereum\",\"SLICE\",\"BLAST\",\"Bitcoin Rhodium\",\"GlobalToken\",\"SolarCoin\",\"UFO Coin\",\"BlakeCoin\",\"Crypto Escudo\",\"Crown Coin\",\"SmileyCoin\",\"Groestlcoin\",\"Bata\",\"Pakcoin\",\"JoinCoin\",\"Vollar\",\"Reality Clash\",\"Beldex\",\"Horizen\"],\"TotalCoinSupply\":{\"__ndarray__\":\"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\",\"dtype\":\"float64\",\"order\":\"little\",\"shape\":[239]},\"TotalCoinsMined\":{\"__ndarray__\":\"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\",\"dtype\":\"float64\",\"order\":\"little\",\"shape\":[239]},\"index\":[\"BTC\",\"ETH\",\"LTC\",\"XMR\",\"ETC\",\"ZEC\",\"DGB\",\"PRC\",\"SPR\",\"ARG\",\"XMY\",\"MOON\",\"ZET\",\"SXC\",\"QTL\",\"QRK\",\"RIC\",\"DGC\",\"CAT\",\"CCN\",\"CRYPT\",\"XVG\",\"DVC\",\"EAC\",\"EFL\",\"EMC2\",\"EMD\",\"FRK\",\"FTC\",\"GDC\",\"GLC\",\"GLD\",\"IFC\",\"IXC\",\"KGC\",\"LKY\",\"LTB\",\"MEC\",\"MED\",\"MINC\",\"NOBL\",\"NMC\",\"NYAN\",\"RPC\",\"SBC\",\"SMC\",\"SYS\",\"TGC\",\"TRC\",\"UNB\",\"UNO\",\"URO\",\"VIA\",\"VTC\",\"WDC\",\"XJO\",\"BCN\",\"XDN\",\"MONA\",\"NLG\",\"PTC\",\"WBB\",\"FLO\",\"ABY\",\"FLDC\",\"UIS\",\"CYP\",\"OMC\",\"GRE\",\"XCN\",\"MSC\",\"SOON\",\"1CR\",\"MARS\",\"CTO\",\"ACP\",\"BSC\",\"SONG\",\"ZNY\",\"EXP\",\"SC\",\"MND\",\"I0C\",\"RVR\",\"HODL\",\"GAME\",\"DIEM\",\"ADZ\",\"SOIL\",\"YOC\",\"SIB\",\"FRN\",\"BOLI\",\"OMNI\",\"PIZZA\",\"KMD\",\"KRB\",\"ZYD\",\"COVAL\",\"DOPE\",\"DLC\",\"SH\",\"XZC\",\"ELE\",\"ZCL\",\"KLC\",\"ATX\",\"KURT\",\"XCI\",\"OS76\",\"BIC\",\"HXX\",\"PAC\",\"CTL\",\"BVC\",\"VLTC\",\"ZER\",\"CDN\",\"ZOI\",\"DBIX\",\"EB3\",\"CXT\",\"BENJI\",\"ILC\",\"EQT\",\"QRL\",\"DYN\",\"NANO\",\"CHAN\",\"DCY\",\"DP\",\"UNIFY\",\"SOCC\",\"ARC\",\"DAS\",\"XLC\",\"BTX\",\"GCN\",\"SMART\",\"ONX\",\"BCH\",\"SOJ\",\"NYC\",\"FRAZ\",\"KRONE\",\"ACC\",\"LINX\",\"SUMO\",\"BTCZ\",\"ELM\",\"VIVO\",\"BTG\",\"PIRL\",\"EBST\",\"PURA\",\"INN\",\"ELLA\",\"GBX\",\"XSH\",\"XUN\",\"COAL\",\"DAXX\",\"AC3\",\"LTHN\",\"POP\",\"PHO\",\"SUCR\",\"SPK\",\"GUN\",\"IRL\",\"PCOIN\",\"UBTC\",\"ITZ\",\"TRTL\",\"MUN\",\"NBR\",\"SSS\",\"TRF\",\"KREDS\",\"FLIP\",\"LOT\",\"CIF\",\"CLO\",\"TUBE\",\"PSD\",\"ADK\",\"BTL\",\"ALPS\",\"FTO\",\"XMC\",\"JUMP\",\"INFX\",\"KEC\",\"GIN\",\"PLTC\",\"LOKI\",\"NCP\",\"MGD\",\"PLURA\",\"XMN\",\"PLUS1\",\"AXE\",\"HEX\",\"WEBC\",\"RYO\",\"URALS\",\"QWC\",\"PPAI\",\"AZART\",\"XCG\",\"CRYP\",\"ACM\",\"BSV\",\"FRED\",\"UMO\",\"LIT\",\"PIRATE\",\"EXO\",\"BLTG\",\"BEAM\",\"BTH\",\"SLC\",\"BLAST\",\"XRC\",\"GLT\",\"SLR\",\"UFO\",\"BLC\",\"CESC\",\"CRW\",\"SMLY\",\"GRS\",\"BTA\",\"PAK\",\"J\",\"VOLLAR\",\"RCC\",\"BDX\",\"ZEN\"]},\"selected\":{\"id\":\"1871\"},\"selection_policy\":{\"id\":\"1887\"}},\"id\":\"1870\",\"type\":\"ColumnDataSource\"},{\"attributes\":{\"fill_alpha\":{\"value\":0.1},\"fill_color\":{\"value\":\"#e5ae38\"},\"hatch_alpha\":{\"value\":0.1},\"hatch_color\":{\"value\":\"#e5ae38\"},\"line_alpha\":{\"value\":0.1},\"line_color\":{\"value\":\"#e5ae38\"},\"size\":{\"value\":5.477225575051661},\"x\":{\"field\":\"TotalCoinsMined\"},\"y\":{\"field\":\"TotalCoinSupply\"}},\"id\":\"1896\",\"type\":\"Scatter\"},{\"attributes\":{\"fill_alpha\":{\"value\":0.2},\"fill_color\":{\"value\":\"#fc4f30\"},\"hatch_alpha\":{\"value\":0.2},\"hatch_color\":{\"value\":\"#fc4f30\"},\"line_alpha\":{\"value\":0.2},\"line_color\":{\"value\":\"#fc4f30\"},\"size\":{\"value\":5.477225575051661},\"x\":{\"field\":\"TotalCoinsMined\"},\"y\":{\"field\":\"TotalCoinSupply\"}},\"id\":\"1875\",\"type\":\"Scatter\"},{\"attributes\":{\"fill_alpha\":{\"value\":0.1},\"fill_color\":{\"value\":\"#30a2da\"},\"hatch_alpha\":{\"value\":0.1},\"hatch_color\":{\"value\":\"#30a2da\"},\"line_alpha\":{\"value\":0.1},\"line_color\":{\"value\":\"#30a2da\"},\"size\":{\"value\":5.477225575051661},\"x\":{\"field\":\"TotalCoinsMined\"},\"y\":{\"field\":\"TotalCoinSupply\"}},\"id\":\"1853\",\"type\":\"Scatter\"},{\"attributes\":{\"source\":{\"id\":\"1870\"}},\"id\":\"1877\",\"type\":\"CDSView\"},{\"attributes\":{\"fill_color\":{\"value\":\"#e5ae38\"},\"hatch_color\":{\"value\":\"#e5ae38\"},\"line_color\":{\"value\":\"#e5ae38\"},\"size\":{\"value\":5.477225575051661},\"x\":{\"field\":\"TotalCoinsMined\"},\"y\":{\"field\":\"TotalCoinSupply\"}},\"id\":\"1895\",\"type\":\"Scatter\"},{\"attributes\":{\"data\":{\"Class\":{\"__ndarray__\":\"AAAAAAAAAAAAAAAAAAAAAAAAAAAAAAAAAAAAAAAAAAAAAAAAAAAAAAAAAAAAAAAAAAAAAAAAAAAAAAAAAAAAAAAAAAAAAAAAAAAAAAAAAAAAAAAAAAAAAAAAAAAAAAAAAAAAAAAAAAAAAAAAAAAAAAAAAAAAAAAAAAAAAAAAAAAAAAAAAAAAAAAAAAAAAAAAAAAAAAAAAAAAAAAAAAAAAAAAAAAAAAAAAAAAAAAAAAAAAAAAAAAAAAAAAAAAAAAAAAAAAAAAAAAAAAAAAAAAAAAAAAAAAAAAAAAAAAAAAAAAAAAAAAAAAAAAAAAAAAAAAAAAAAAAAAAAAAAAAAAAAAAAAAAAAAAAAAAAAAAAAAAAAAAAAAAAAAAAAAAAAAAAAAAAAAAAAAAAAAAAAAAAAAAAAAAAAAAAAAAAAAAAAAAAAAAAAAAAAAAAAAAAAAAAAAAAAAAAAAAAAAAAAAAAAAAAAAAAAAAAAAAAAAAAAAAAAAAAAAAAAAAAAAAAAAAAAAAAAAAAAAAAAAAAAAAAAAAAAAAAAAAAAAAAAAAAAAAAAAAAAAAAAAAAAAAAAAAAAAAAAAAAAAAAAAAAAAAAAAAAAAAAAAAAAAAAAAAAAAAAAAAAAAAAAAAAAAAAAAAAAAAAAAAAAAAAAAAAAAAAAAAAAAAAAAAAAAAAAAAAAAAAAAAAAAAAAAAAAAAAAAAAAAAAAAAAAAAAAAAAAAAAAAAAAAAAAAAAAAAAAAAAAAAAAAAAAAAAAAAAAAAAAAAAAAAAAAAAAAAAAAAAAAAAAAAAAAAAAAAAAAAAAAAAAAAAAAAAAAAAAAAAAAAAAAAAAAAAAAAAAAAAAAAAAAAAAAAAAAAAAAAAAAAAAAAAAAAAAAAAAAAAAAAAAAAAAAAAAAAAAAAAAAAAAAAAAAAAAAAAAAAAAAAAAAAAAAAAAAAAAAAAAAAAAAAAAAAAAAAAAAAAAAAAAAAAAAAAAAAAAAAAAAAAAAAAAAAAAAAAAAAAAAAAAAAAAAAAAAAAAAAAAAAAAAAAAAAAAAAAAAAAAAAAAAAAAAAAAAAAAAAAAAAAAAAAAAAAAAAAAAAAAAAAAAAAAAAAAAAAAAAAAAAAAAAAAAAAAAAAAAAAAAAAAAAAAAAAAAAAAAAAAAAAAAAAAAAAAAAAAAAAAAAAAAAAAAAAAAAAAAAAAAAAAAAAAAAAAAAAAAAAAAAAAAAAAAAAAAAAAAAAAAAAAAAAAAAAAAAAAAAAAAAAAAAAAAAAAAAAAAAAAAAAAAAAAAAAAAAAAAAAAAAAAAAAAAAAAAAAAAAAAAAAAAAAAAAAAAAAAAAAAAAAAAAAAAAAAAAAAAAAAAAAAAAAAAAAAAAAAAAAAAAAAAAAAAAAAAAAAAAAAAAAAAAAAAAAAAAAAAAAAAAAAAAAAAAAAAAAAAAAAAAAAAAAAAAAAAAAAAAAAAAAAAAAAAAAAAAAAAAAAAAAAAAAAAAAAAAAAAAAAAAAAAAAAAAAAAAAAAAAAAAAAAAAAAAAAAAAAAAAAAAAAAA=\",\"dtype\":\"int32\",\"order\":\"little\",\"shape\":[287]},\"CoinName\":[\"42 Coin\",\"404Coin\",\"EliteCoin\",\"Dash\",\"Bitshares\",\"BitcoinDark\",\"PayCoin\",\"KoboCoin\",\"Aurora Coin\",\"BlueCoin\",\"EnergyCoin\",\"BitBar\",\"CryptoBullion\",\"CasinoCoin\",\"Diamond\",\"Exclusive Coin\",\"FlutterCoin\",\"HoboNickels\",\"HyperStake\",\"IOCoin\",\"MaxCoin\",\"MintCoin\",\"MazaCoin\",\"Nautilus Coin\",\"NavCoin\",\"OpalCoin\",\"Orbitcoin\",\"PotCoin\",\"PhoenixCoin\",\"Reddcoin\",\"SuperCoin\",\"SyncCoin\",\"TeslaCoin\",\"TittieCoin\",\"TorCoin\",\"UnitaryStatus Dollar\",\"UltraCoin\",\"VeriCoin\",\"X11 Coin\",\"Crypti\",\"StealthCoin\",\"ZCC Coin\",\"BurstCoin\",\"StorjCoin\",\"Neutron\",\"FairCoin\",\"RubyCoin\",\"Kore\",\"Dnotes\",\"8BIT Coin\",\"Sativa Coin\",\"Ucoin\",\"Vtorrent\",\"IslaCoin\",\"Nexus\",\"Droidz\",\"Squall Coin\",\"Diggits\",\"Paycon\",\"Emercoin\",\"EverGreenCoin\",\"Decred\",\"EDRCoin\",\"Hitcoin\",\"DubaiCoin\",\"PWR Coin\",\"BillaryCoin\",\"GPU Coin\",\"EuropeCoin\",\"ZeitCoin\",\"SwingCoin\",\"SafeExchangeCoin\",\"Nebuchadnezzar\",\"Ratecoin\",\"Revenu\",\"Clockcoin\",\"VIP Tokens\",\"BitSend\",\"Let it Ride\",\"PutinCoin\",\"iBankCoin\",\"Frankywillcoin\",\"MudraCoin\",\"Lutetium Coin\",\"GoldBlocks\",\"CarterCoin\",\"BitTokens\",\"MustangCoin\",\"ZoneCoin\",\"RootCoin\",\"BitCurrency\",\"Swiscoin\",\"BuzzCoin\",\"Opair\",\"PesoBit\",\"Halloween Coin\",\"CoffeeCoin\",\"RoyalCoin\",\"GanjaCoin V2\",\"TeamUP\",\"LanaCoin\",\"ARK\",\"InsaneCoin\",\"EmberCoin\",\"XenixCoin\",\"FreeCoin\",\"PLNCoin\",\"AquariusCoin\",\"Creatio\",\"Eternity\",\"Eurocoin\",\"BitcoinFast\",\"Stakenet\",\"BitConnect Coin\",\"MoneyCoin\",\"Enigma\",\"Russiacoin\",\"PandaCoin\",\"GameUnits\",\"GAKHcoin\",\"Allsafe\",\"LiteCreed\",\"Klingon Empire Darsek\",\"Internet of People\",\"KushCoin\",\"Printerium\",\"Impeach\",\"Zilbercoin\",\"FirstCoin\",\"FindCoin\",\"OpenChat\",\"RenosCoin\",\"VirtacoinPlus\",\"TajCoin\",\"Impact\",\"Atmos\",\"HappyCoin\",\"MacronCoin\",\"Condensate\",\"Independent Money System\",\"ArgusCoin\",\"LomoCoin\",\"ProCurrency\",\"GoldReserve\",\"GrowthCoin\",\"Phreak\",\"Degas Coin\",\"HTML5 Coin\",\"Ultimate Secure Cash\",\"QTUM\",\"Espers\",\"Denarius\",\"Virta Unique Coin\",\"Bitcoin Planet\",\"BritCoin\",\"Linda\",\"DeepOnion\",\"Signatum\",\"Cream\",\"Monoeci\",\"Draftcoin\",\"Vechain\",\"Stakecoin\",\"CoinonatX\",\"Ethereum Dark\",\"Obsidian\",\"Cardano\",\"Regalcoin\",\"TrezarCoin\",\"TerraNovaCoin\",\"Rupee\",\"WomenCoin\",\"Theresa May Coin\",\"NamoCoin\",\"LUXCoin\",\"Xios\",\"Bitcloud 2.0\",\"KekCoin\",\"BlackholeCoin\",\"Infinity Economics\",\"Magnet\",\"Lamden Tau\",\"Electra\",\"Bitcoin Diamond\",\"Cash & Back Coin\",\"Bulwark\",\"Kalkulus\",\"GermanCoin\",\"LiteCoin Ultra\",\"PhantomX\",\"Digiwage\",\"Trollcoin\",\"Litecoin Plus\",\"Monkey Project\",\"TokenPay\",\"1717 Masonic Commemorative Token\",\"My Big Coin\",\"Unified Society USDEX\",\"Tokyo Coin\",\"Stipend\",\"Pushi\",\"Ellerium\",\"Velox\",\"Ontology\",\"Bitspace\",\"Briacoin\",\"Ignition\",\"MedicCoin\",\"Bitcoin Green\",\"Deviant Coin\",\"Abjcoin\",\"Semux\",\"Carebit\",\"Zealium\",\"Proton\",\"iDealCash\",\"Bitcoin Incognito\",\"HollyWoodCoin\",\"Swisscoin\",\"Xt3ch\",\"TheVig\",\"EmaratCoin\",\"Dekado\",\"Lynx\",\"Poseidon Quark\",\"BitcoinWSpectrum\",\"Muse\",\"Trivechain\",\"Dystem\",\"Giant\",\"Peony Coin\",\"Absolute Coin\",\"Vitae\",\"TPCash\",\"ARENON\",\"EUNO\",\"MMOCoin\",\"Ketan\",\"XDNA\",\"PAXEX\",\"ThunderStake\",\"Kcash\",\"Bettex coin\",\"BitMoney\",\"Junson Ming Chan Coin\",\"HerbCoin\",\"Oduwa\",\"Galilel\",\"Crypto Sports\",\"Credit\",\"Dash Platinum\",\"Nasdacoin\",\"Beetle Coin\",\"Titan Coin\",\"Award\",\"Insane Coin\",\"ALAX\",\"LiteDoge\",\"TruckCoin\",\"OrangeCoin\",\"BitstarCoin\",\"NeosCoin\",\"HyperCoin\",\"PinkCoin\",\"AudioCoin\",\"IncaKoin\",\"Piggy Coin\",\"Genstake\",\"XiaoMiCoin\",\"CapriCoin\",\" ClubCoin\",\"Radium\",\"Creditbit \",\"OKCash\",\"Lisk\",\"HiCoin\",\"WhiteCoin\",\"FriendshipCoin\",\"Triangles Coin\",\"EOS\",\"Oxycoin\",\"TigerCash\",\"Particl\",\"Nxt\",\"ZEPHYR\",\"Gapcoin\",\"BitcoinPlus\"],\"TotalCoinSupply\":{\"__ndarray__\":\"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\",\"dtype\":\"float64\",\"order\":\"little\",\"shape\":[287]},\"TotalCoinsMined\":{\"__ndarray__\":\"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\",\"dtype\":\"float64\",\"order\":\"little\",\"shape\":[287]},\"index\":[\"42\",\"404\",\"1337\",\"DASH\",\"BTS\",\"BTCD\",\"XPY\",\"KOBO\",\"AUR\",\"BLU\",\"ENRG\",\"BTB\",\"CBX\",\"CSC\",\"DMD\",\"EXCL\",\"FLT\",\"HBN\",\"HYP\",\"IOC\",\"MAX\",\"MINT\",\"MZC\",\"NAUT\",\"NAV\",\"OPAL\",\"ORB\",\"POT\",\"PXC\",\"RDD\",\"SUPER\",\"SYNC\",\"TES\",\"TIT\",\"TOR\",\"USDE\",\"UTC\",\"VRC\",\"XC\",\"XCR\",\"XST\",\"ZCC\",\"BURST\",\"SJCX\",\"NTRN\",\"FAIR\",\"RBY\",\"KORE\",\"NOTE\",\"8BIT\",\"STV\",\"U\",\"VTR\",\"ISL\",\"NXS\",\"DRZ\",\"SQL\",\"DIGS\",\"CON\",\"EMC\",\"EGC\",\"DCR\",\"EDRC\",\"HTC\",\"DBIC\",\"PWR\",\"BLRY\",\"GPU\",\"ERC\",\"ZEIT\",\"SWING\",\"SAFEX\",\"NEBU\",\"XRA\",\"REV\",\"CKC\",\"VIP\",\"BSD\",\"LIR\",\"PUT\",\"IBANK\",\"FRWC\",\"MUDRA\",\"LC\",\"GB\",\"CTC\",\"BXT\",\"MST\",\"ZNE\",\"ROOT\",\"BTCR\",\"SCN\",\"BUZZ\",\"XPO\",\"PSB\",\"HALLO\",\"CFC\",\"ROYAL\",\"GNJ\",\"TEAM\",\"LANA\",\"ARK\",\"INSANE\",\"EMB\",\"XEN\",\"FRE\",\"PLNC\",\"ARCO\",\"XCRE\",\"ENT\",\"EUC\",\"BCF\",\"XSN\",\"BCCOIN\",\"MONEY\",\"XNG\",\"RC\",\"PND\",\"UNITS\",\"GAKH\",\"ASAFE2\",\"LTCR\",\"KED\",\"IOP\",\"KUSH\",\"PRX\",\"IMPCH\",\"ZBC\",\"FRST\",\"FIND\",\"CHAT\",\"RNS\",\"XVP\",\"TAJ\",\"IMX\",\"ATMOS\",\"HPC\",\"MCRN\",\"RAIN\",\"IMS\",\"ARGUS\",\"LMC\",\"PROC\",\"XGR\",\"GRW\",\"PHR\",\"DEA\",\"HTML5\",\"USC\",\"QTUM\",\"ESP\",\"DNR\",\"VUC\",\"BTPL\",\"BRIT\",\"LINDA\",\"ONION\",\"SIGT\",\"CRM\",\"XMCC\",\"DFT\",\"VET\",\"STCN\",\"XCXT\",\"ETHD\",\"ODN\",\"ADA\",\"REC\",\"TZC\",\"TER\",\"RUP\",\"WOMEN\",\"MAY\",\"NAMO\",\"LUX\",\"XIOS\",\"BTDX\",\"KEK\",\"BLHC\",\"XIN\",\"MAG\",\"TAU\",\"ECA\",\"BCD\",\"CNBC\",\"BWK\",\"KLKS\",\"GER\",\"LTCU\",\"PNX\",\"WAGE\",\"TROLL\",\"LCP\",\"MONK\",\"TPAY\",\"MCT\",\"MBC\",\"USX\",\"TOKC\",\"SPD\",\"PUSHI\",\"ELP\",\"VLX\",\"ONT\",\"BSX\",\"BRIA\",\"IC\",\"MEDIC\",\"BITG\",\"DEV\",\"ABJ\",\"SEM\",\"CARE\",\"NZL\",\"PROTON\",\"DEAL\",\"XBI\",\"HWC\",\"SIC\",\"XT3\",\"VIG\",\"EMAR\",\"DKD\",\"LYNX\",\"POSQ\",\"BWS\",\"MUSE\",\"TRVC\",\"DTEM\",\"GIC\",\"PNY\",\"ABS\",\"VITAE\",\"TPC\",\"ARE\",\"EUNO\",\"MMO\",\"KETAN\",\"XDNA\",\"PAXEX\",\"TSC\",\"KCASH\",\"BTXC\",\"BITM\",\"JMC\",\"HERB\",\"OWC\",\"GALI\",\"CSPN\",\"CREDIT\",\"DASHP\",\"NSD\",\"BEET\",\"TTN\",\"AWR\",\"INSN\",\"ALX\",\"LDOGE\",\"TRK\",\"OC\",\"BITS\",\"NEOS\",\"HYPER\",\"PINK\",\"ADC\",\"NKA\",\"PIGGY\",\"GEN\",\"MI\",\"CPC\",\"CLUB\",\"RADS\",\"CRB\",\"OK\",\"LSK\",\"XHI\",\"XWC\",\"FSC\",\"TRI\",\"EOS\",\"OXY\",\"TCH\",\"PART\",\"NXT\",\"ZEPH\",\"GAP\",\"XBC\"]},\"selected\":{\"id\":\"1850\"},\"selection_policy\":{\"id\":\"1864\"}},\"id\":\"1849\",\"type\":\"ColumnDataSource\"},{\"attributes\":{},\"id\":\"1847\",\"type\":\"BasicTickFormatter\"},{\"attributes\":{},\"id\":\"1850\",\"type\":\"Selection\"},{\"attributes\":{\"end\":1.1,\"reset_end\":1.1,\"reset_start\":-0.1,\"start\":-0.1,\"tags\":[[[\"TotalCoinSupply\",\"TotalCoinSupply\",null]]]},\"id\":\"1808\",\"type\":\"Range1d\"},{\"attributes\":{\"below\":[{\"id\":\"1822\"}],\"center\":[{\"id\":\"1825\"},{\"id\":\"1829\"}],\"height\":300,\"left\":[{\"id\":\"1826\"}],\"margin\":[5,5,5,5],\"min_border_bottom\":10,\"min_border_left\":10,\"min_border_right\":10,\"min_border_top\":10,\"renderers\":[{\"id\":\"1855\"},{\"id\":\"1876\"},{\"id\":\"1898\"},{\"id\":\"1922\"}],\"right\":[{\"id\":\"1867\"}],\"sizing_mode\":\"fixed\",\"title\":{\"id\":\"1814\"},\"toolbar\":{\"id\":\"1836\"},\"width\":700,\"x_range\":{\"id\":\"1807\"},\"x_scale\":{\"id\":\"1818\"},\"y_range\":{\"id\":\"1808\"},\"y_scale\":{\"id\":\"1820\"}},\"id\":\"1813\",\"subtype\":\"Figure\",\"type\":\"Plot\"},{\"attributes\":{\"click_policy\":\"mute\",\"coordinates\":null,\"group\":null,\"items\":[{\"id\":\"1868\"},{\"id\":\"1890\"},{\"id\":\"1914\"},{\"id\":\"1940\"}],\"location\":[0,0],\"title\":\"Class\"},\"id\":\"1867\",\"type\":\"Legend\"},{\"attributes\":{\"label\":{\"value\":\"0\"},\"renderers\":[{\"id\":\"1855\"}]},\"id\":\"1868\",\"type\":\"LegendItem\"},{\"attributes\":{\"fill_alpha\":{\"value\":0.2},\"fill_color\":{\"value\":\"#6d904f\"},\"hatch_alpha\":{\"value\":0.2},\"hatch_color\":{\"value\":\"#6d904f\"},\"line_alpha\":{\"value\":0.2},\"line_color\":{\"value\":\"#6d904f\"},\"size\":{\"value\":5.477225575051661},\"x\":{\"field\":\"TotalCoinsMined\"},\"y\":{\"field\":\"TotalCoinSupply\"}},\"id\":\"1921\",\"type\":\"Scatter\"},{\"attributes\":{},\"id\":\"1911\",\"type\":\"UnionRenderers\"},{\"attributes\":{\"angle\":{\"value\":0.0},\"fill_alpha\":{\"value\":1.0},\"fill_color\":{\"value\":\"#30a2da\"},\"hatch_alpha\":{\"value\":1.0},\"hatch_color\":{\"value\":\"#30a2da\"},\"hatch_scale\":{\"value\":12.0},\"hatch_weight\":{\"value\":1.0},\"line_alpha\":{\"value\":1.0},\"line_cap\":{\"value\":\"butt\"},\"line_color\":{\"value\":\"#30a2da\"},\"line_dash\":{\"value\":[]},\"line_dash_offset\":{\"value\":0},\"line_join\":{\"value\":\"bevel\"},\"line_width\":{\"value\":1},\"marker\":{\"value\":\"circle\"},\"size\":{\"value\":5.477225575051661},\"x\":{\"field\":\"TotalCoinsMined\"},\"y\":{\"field\":\"TotalCoinSupply\"}},\"id\":\"1869\",\"type\":\"Scatter\"},{\"attributes\":{},\"id\":\"1827\",\"type\":\"BasicTicker\"},{\"attributes\":{},\"id\":\"1887\",\"type\":\"UnionRenderers\"},{\"attributes\":{},\"id\":\"1818\",\"type\":\"LinearScale\"},{\"attributes\":{},\"id\":\"1845\",\"type\":\"AllLabels\"},{\"attributes\":{\"coordinates\":null,\"group\":null,\"text_color\":\"black\",\"text_font_size\":\"12pt\"},\"id\":\"1814\",\"type\":\"Title\"},{\"attributes\":{\"axis\":{\"id\":\"1822\"},\"coordinates\":null,\"grid_line_color\":null,\"group\":null,\"ticker\":null},\"id\":\"1825\",\"type\":\"Grid\"},{\"attributes\":{},\"id\":\"1820\",\"type\":\"LinearScale\"},{\"attributes\":{\"fill_alpha\":{\"value\":0.2},\"fill_color\":{\"value\":\"#30a2da\"},\"hatch_alpha\":{\"value\":0.2},\"hatch_color\":{\"value\":\"#30a2da\"},\"line_alpha\":{\"value\":0.2},\"line_color\":{\"value\":\"#30a2da\"},\"size\":{\"value\":5.477225575051661},\"x\":{\"field\":\"TotalCoinsMined\"},\"y\":{\"field\":\"TotalCoinSupply\"}},\"id\":\"1854\",\"type\":\"Scatter\"},{\"attributes\":{\"axis_label\":\"TotalCoinSupply\",\"coordinates\":null,\"formatter\":{\"id\":\"1847\"},\"group\":null,\"major_label_policy\":{\"id\":\"1848\"},\"ticker\":{\"id\":\"1827\"}},\"id\":\"1826\",\"type\":\"LinearAxis\"},{\"attributes\":{\"axis_label\":\"TotalCoinsMined\",\"coordinates\":null,\"formatter\":{\"id\":\"1844\"},\"group\":null,\"major_label_policy\":{\"id\":\"1845\"},\"ticker\":{\"id\":\"1823\"}},\"id\":\"1822\",\"type\":\"LinearAxis\"},{\"attributes\":{\"label\":{\"value\":\"3\"},\"renderers\":[{\"id\":\"1922\"}]},\"id\":\"1940\",\"type\":\"LegendItem\"},{\"attributes\":{\"coordinates\":null,\"data_source\":{\"id\":\"1849\"},\"glyph\":{\"id\":\"1852\"},\"group\":null,\"hover_glyph\":null,\"muted_glyph\":{\"id\":\"1854\"},\"nonselection_glyph\":{\"id\":\"1853\"},\"selection_glyph\":{\"id\":\"1869\"},\"view\":{\"id\":\"1856\"}},\"id\":\"1855\",\"type\":\"GlyphRenderer\"},{\"attributes\":{\"fill_color\":{\"value\":\"#30a2da\"},\"hatch_color\":{\"value\":\"#30a2da\"},\"line_color\":{\"value\":\"#30a2da\"},\"size\":{\"value\":5.477225575051661},\"x\":{\"field\":\"TotalCoinsMined\"},\"y\":{\"field\":\"TotalCoinSupply\"}},\"id\":\"1852\",\"type\":\"Scatter\"},{\"attributes\":{\"angle\":{\"value\":0.0},\"fill_alpha\":{\"value\":1.0},\"fill_color\":{\"value\":\"#6d904f\"},\"hatch_alpha\":{\"value\":1.0},\"hatch_color\":{\"value\":\"#6d904f\"},\"hatch_scale\":{\"value\":12.0},\"hatch_weight\":{\"value\":1.0},\"line_alpha\":{\"value\":1.0},\"line_cap\":{\"value\":\"butt\"},\"line_color\":{\"value\":\"#6d904f\"},\"line_dash\":{\"value\":[]},\"line_dash_offset\":{\"value\":0},\"line_join\":{\"value\":\"bevel\"},\"line_width\":{\"value\":1},\"marker\":{\"value\":\"circle\"},\"size\":{\"value\":5.477225575051661},\"x\":{\"field\":\"TotalCoinsMined\"},\"y\":{\"field\":\"TotalCoinSupply\"}},\"id\":\"1941\",\"type\":\"Scatter\"},{\"attributes\":{\"axis\":{\"id\":\"1826\"},\"coordinates\":null,\"dimension\":1,\"grid_line_color\":null,\"group\":null,\"ticker\":null},\"id\":\"1829\",\"type\":\"Grid\"},{\"attributes\":{\"fill_color\":{\"value\":\"#fc4f30\"},\"hatch_color\":{\"value\":\"#fc4f30\"},\"line_color\":{\"value\":\"#fc4f30\"},\"size\":{\"value\":5.477225575051661},\"x\":{\"field\":\"TotalCoinsMined\"},\"y\":{\"field\":\"TotalCoinSupply\"}},\"id\":\"1873\",\"type\":\"Scatter\"},{\"attributes\":{\"end\":1.042857142857143,\"reset_end\":1.042857142857143,\"reset_start\":-0.04285714285714286,\"start\":-0.04285714285714286,\"tags\":[[[\"TotalCoinsMined\",\"TotalCoinsMined\",null]]]},\"id\":\"1807\",\"type\":\"Range1d\"},{\"attributes\":{},\"id\":\"1848\",\"type\":\"AllLabels\"},{\"attributes\":{\"children\":[{\"id\":\"1806\"},{\"id\":\"1813\"},{\"id\":\"1958\"}],\"margin\":[0,0,0,0],\"name\":\"Row01802\",\"tags\":[\"embedded\"]},\"id\":\"1805\",\"type\":\"Row\"},{\"attributes\":{\"label\":{\"value\":\"2\"},\"renderers\":[{\"id\":\"1898\"}]},\"id\":\"1914\",\"type\":\"LegendItem\"},{\"attributes\":{\"callback\":null,\"renderers\":[{\"id\":\"1855\"},{\"id\":\"1876\"},{\"id\":\"1898\"},{\"id\":\"1922\"}],\"tags\":[\"hv_created\"],\"tooltips\":[[\"Class\",\"@{Class}\"],[\"TotalCoinsMined\",\"@{TotalCoinsMined}\"],[\"TotalCoinSupply\",\"@{TotalCoinSupply}\"],[\"index\",\"@{index}\"],[\"CoinName\",\"@{CoinName}\"]]},\"id\":\"1809\",\"type\":\"HoverTool\"},{\"attributes\":{\"source\":{\"id\":\"1892\"}},\"id\":\"1899\",\"type\":\"CDSView\"}],\"root_ids\":[\"1805\"]},\"title\":\"Bokeh Application\",\"version\":\"2.4.3\"}};\n",
       "    var render_items = [{\"docid\":\"a664e6b3-22e4-4e7d-82d1-b0339c0cd624\",\"root_ids\":[\"1805\"],\"roots\":{\"1805\":\"abf83ca3-554d-48b5-b8ac-9770980b48ab\"}}];\n",
       "    root.Bokeh.embed.embed_items_notebook(docs_json, render_items);\n",
       "    for (const render_item of render_items) {\n",
       "      for (const root_id of render_item.root_ids) {\n",
       "\tconst id_el = document.getElementById(root_id)\n",
       "\tif (id_el.children.length && (id_el.children[0].className === 'bk-root')) {\n",
       "\t  const root_el = id_el.children[0]\n",
       "\t  root_el.id = root_el.id + '-rendered'\n",
       "\t}\n",
       "      }\n",
       "    }\n",
       "  }\n",
       "  if (root.Bokeh !== undefined && root.Bokeh.Panel !== undefined) {\n",
       "    embed_document(root);\n",
       "  } else {\n",
       "    var attempts = 0;\n",
       "    var timer = setInterval(function(root) {\n",
       "      if (root.Bokeh !== undefined && root.Bokeh.Panel !== undefined) {\n",
       "        clearInterval(timer);\n",
       "        embed_document(root);\n",
       "      } else if (document.readyState == \"complete\") {\n",
       "        attempts++;\n",
       "        if (attempts > 200) {\n",
       "          clearInterval(timer);\n",
       "          console.log(\"Bokeh: ERROR: Unable to run BokehJS code because BokehJS library is missing\");\n",
       "        }\n",
       "      }\n",
       "    }, 25, root)\n",
       "  }\n",
       "})(window);</script>"
      ],
      "text/plain": [
       ":NdOverlay   [Class]\n",
       "   :Scatter   [TotalCoinsMined]   (TotalCoinSupply,index,CoinName,Class)"
      ]
     },
     "execution_count": 159,
     "metadata": {
      "application/vnd.holoviews_exec.v0+json": {
       "id": "1805"
      }
     },
     "output_type": "execute_result"
    }
   ],
   "source": [
    "# Create a hvplot.scatter plot using x=\"TotalCoinsMined\" and y=\"TotalCoinSupply\".\n",
    "new_df.hvplot.scatter(\n",
    "    x=\"TotalCoinsMined\", \n",
    "    y=\"TotalCoinSupply\",\n",
    "    by=\"Class\",\n",
    "    hover_cols = \"all\")\n"
   ]
  },
  {
   "cell_type": "code",
   "execution_count": null,
   "metadata": {},
   "outputs": [],
   "source": []
  }
 ],
 "metadata": {
  "file_extension": ".py",
  "kernelspec": {
   "display_name": "mlenv",
   "language": "python",
   "name": "mlenv"
  },
  "language_info": {
   "codemirror_mode": {
    "name": "ipython",
    "version": 3
   },
   "file_extension": ".py",
   "mimetype": "text/x-python",
   "name": "python",
   "nbconvert_exporter": "python",
   "pygments_lexer": "ipython3",
   "version": "3.7.15"
  },
  "latex_envs": {
   "LaTeX_envs_menu_present": true,
   "autoclose": false,
   "autocomplete": true,
   "bibliofile": "biblio.bib",
   "cite_by": "apalike",
   "current_citInitial": 1,
   "eqLabelWithNumbers": true,
   "eqNumInitial": 1,
   "hotkeys": {
    "equation": "Ctrl-E",
    "itemize": "Ctrl-I"
   },
   "labels_anchors": false,
   "latex_user_defs": false,
   "report_style_numbering": false,
   "user_envs_cfg": false
  },
  "mimetype": "text/x-python",
  "name": "python",
  "npconvert_exporter": "python",
  "pygments_lexer": "ipython3",
  "version": 3
 },
 "nbformat": 4,
 "nbformat_minor": 2
}
